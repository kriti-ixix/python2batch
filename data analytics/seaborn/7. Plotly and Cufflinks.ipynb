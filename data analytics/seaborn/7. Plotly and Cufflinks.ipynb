{
 "cells": [
  {
   "cell_type": "markdown",
   "metadata": {},
   "source": [
    "# Plotly and Cufflinks"
   ]
  },
  {
   "cell_type": "markdown",
   "metadata": {},
   "source": [
    "Plotly is a library that allows you to create interactive plots that you can use in dashboards or websites (you can save them as html files or static images).\n",
    "\n",
    "## Installation\n",
    "\n",
    "In order for this all to work, you'll need to install plotly and cufflinks to call plots directly off of a pandas dataframe. These libraries are not currently available through **conda** but are available through **pip**. Install the libraries at your command line/terminal using:\n",
    "\n",
    "    pip install plotly\n",
    "    pip install cufflinks\n",
    "\n",
    "**NOTE: Make sure you only have one installation of Python on your computer when you do this, otherwise the installation may not work.**\n",
    "\n",
    "## Imports and Set-up"
   ]
  },
  {
   "cell_type": "code",
   "execution_count": 1,
   "metadata": {},
   "outputs": [],
   "source": [
    "import pandas as pd\n",
    "import numpy as np\n",
    "%matplotlib inline"
   ]
  },
  {
   "cell_type": "code",
   "execution_count": 2,
   "metadata": {},
   "outputs": [
    {
     "name": "stdout",
     "output_type": "stream",
     "text": [
      "4.14.3\n"
     ]
    }
   ],
   "source": [
    "from plotly import __version__\n",
    "from plotly.offline import download_plotlyjs, init_notebook_mode, plot, iplot\n",
    "\n",
    "print(__version__) # requires version >= 1.9.0"
   ]
  },
  {
   "cell_type": "code",
   "execution_count": 3,
   "metadata": {},
   "outputs": [],
   "source": [
    "import cufflinks as cf"
   ]
  },
  {
   "cell_type": "code",
   "execution_count": 4,
   "metadata": {},
   "outputs": [
    {
     "data": {
      "text/html": [
       "        <script type=\"text/javascript\">\n",
       "        window.PlotlyConfig = {MathJaxConfig: 'local'};\n",
       "        if (window.MathJax) {MathJax.Hub.Config({SVG: {font: \"STIX-Web\"}});}\n",
       "        if (typeof require !== 'undefined') {\n",
       "        require.undef(\"plotly\");\n",
       "        requirejs.config({\n",
       "            paths: {\n",
       "                'plotly': ['https://cdn.plot.ly/plotly-latest.min']\n",
       "            }\n",
       "        });\n",
       "        require(['plotly'], function(Plotly) {\n",
       "            window._Plotly = Plotly;\n",
       "        });\n",
       "        }\n",
       "        </script>\n",
       "        "
      ]
     },
     "metadata": {},
     "output_type": "display_data"
    }
   ],
   "source": [
    "# For offline use\n",
    "cf.go_offline()"
   ]
  },
  {
   "cell_type": "markdown",
   "metadata": {},
   "source": [
    "### Fake Data"
   ]
  },
  {
   "cell_type": "code",
   "execution_count": 7,
   "metadata": {},
   "outputs": [],
   "source": [
    "df = pd.DataFrame(np.random.randn(100,4),columns='A B C D'.split())"
   ]
  },
  {
   "cell_type": "code",
   "execution_count": 8,
   "metadata": {},
   "outputs": [
    {
     "data": {
      "text/html": [
       "<div>\n",
       "<style scoped>\n",
       "    .dataframe tbody tr th:only-of-type {\n",
       "        vertical-align: middle;\n",
       "    }\n",
       "\n",
       "    .dataframe tbody tr th {\n",
       "        vertical-align: top;\n",
       "    }\n",
       "\n",
       "    .dataframe thead th {\n",
       "        text-align: right;\n",
       "    }\n",
       "</style>\n",
       "<table border=\"1\" class=\"dataframe\">\n",
       "  <thead>\n",
       "    <tr style=\"text-align: right;\">\n",
       "      <th></th>\n",
       "      <th>A</th>\n",
       "      <th>B</th>\n",
       "      <th>C</th>\n",
       "      <th>D</th>\n",
       "    </tr>\n",
       "  </thead>\n",
       "  <tbody>\n",
       "    <tr>\n",
       "      <th>0</th>\n",
       "      <td>-1.354505</td>\n",
       "      <td>-0.637066</td>\n",
       "      <td>0.177275</td>\n",
       "      <td>1.416127</td>\n",
       "    </tr>\n",
       "    <tr>\n",
       "      <th>1</th>\n",
       "      <td>-0.277284</td>\n",
       "      <td>-0.187795</td>\n",
       "      <td>0.767579</td>\n",
       "      <td>0.909942</td>\n",
       "    </tr>\n",
       "    <tr>\n",
       "      <th>2</th>\n",
       "      <td>0.454966</td>\n",
       "      <td>-0.933272</td>\n",
       "      <td>0.742648</td>\n",
       "      <td>-0.152075</td>\n",
       "    </tr>\n",
       "    <tr>\n",
       "      <th>3</th>\n",
       "      <td>-0.231076</td>\n",
       "      <td>0.921207</td>\n",
       "      <td>0.169951</td>\n",
       "      <td>-0.615719</td>\n",
       "    </tr>\n",
       "    <tr>\n",
       "      <th>4</th>\n",
       "      <td>0.322538</td>\n",
       "      <td>0.893651</td>\n",
       "      <td>1.090905</td>\n",
       "      <td>0.235017</td>\n",
       "    </tr>\n",
       "  </tbody>\n",
       "</table>\n",
       "</div>"
      ],
      "text/plain": [
       "          A         B         C         D\n",
       "0 -1.354505 -0.637066  0.177275  1.416127\n",
       "1 -0.277284 -0.187795  0.767579  0.909942\n",
       "2  0.454966 -0.933272  0.742648 -0.152075\n",
       "3 -0.231076  0.921207  0.169951 -0.615719\n",
       "4  0.322538  0.893651  1.090905  0.235017"
      ]
     },
     "execution_count": 8,
     "metadata": {},
     "output_type": "execute_result"
    }
   ],
   "source": [
    "df.head()"
   ]
  },
  {
   "cell_type": "code",
   "execution_count": 9,
   "metadata": {},
   "outputs": [],
   "source": [
    "df2 = pd.DataFrame({'Category':['A','B','C'],'Values':[32,43,50]})"
   ]
  },
  {
   "cell_type": "code",
   "execution_count": 10,
   "metadata": {},
   "outputs": [
    {
     "data": {
      "text/html": [
       "<div>\n",
       "<style scoped>\n",
       "    .dataframe tbody tr th:only-of-type {\n",
       "        vertical-align: middle;\n",
       "    }\n",
       "\n",
       "    .dataframe tbody tr th {\n",
       "        vertical-align: top;\n",
       "    }\n",
       "\n",
       "    .dataframe thead th {\n",
       "        text-align: right;\n",
       "    }\n",
       "</style>\n",
       "<table border=\"1\" class=\"dataframe\">\n",
       "  <thead>\n",
       "    <tr style=\"text-align: right;\">\n",
       "      <th></th>\n",
       "      <th>Category</th>\n",
       "      <th>Values</th>\n",
       "    </tr>\n",
       "  </thead>\n",
       "  <tbody>\n",
       "    <tr>\n",
       "      <th>0</th>\n",
       "      <td>A</td>\n",
       "      <td>32</td>\n",
       "    </tr>\n",
       "    <tr>\n",
       "      <th>1</th>\n",
       "      <td>B</td>\n",
       "      <td>43</td>\n",
       "    </tr>\n",
       "    <tr>\n",
       "      <th>2</th>\n",
       "      <td>C</td>\n",
       "      <td>50</td>\n",
       "    </tr>\n",
       "  </tbody>\n",
       "</table>\n",
       "</div>"
      ],
      "text/plain": [
       "  Category  Values\n",
       "0        A      32\n",
       "1        B      43\n",
       "2        C      50"
      ]
     },
     "execution_count": 10,
     "metadata": {},
     "output_type": "execute_result"
    }
   ],
   "source": [
    "df2.head()"
   ]
  },
  {
   "cell_type": "markdown",
   "metadata": {},
   "source": [
    "## Using Cufflinks and iplot()\n",
    "\n",
    "* scatter\n",
    "* bar\n",
    "* box\n",
    "* spread\n",
    "* ratio\n",
    "* heatmap\n",
    "* surface\n",
    "* histogram\n",
    "* bubble"
   ]
  },
  {
   "cell_type": "markdown",
   "metadata": {},
   "source": [
    "## Scatter"
   ]
  },
  {
   "cell_type": "code",
   "execution_count": 11,
   "metadata": {},
   "outputs": [
    {
     "data": {
      "application/vnd.plotly.v1+json": {
       "config": {
        "linkText": "Export to plot.ly",
        "plotlyServerURL": "https://plot.ly",
        "showLink": true
       },
       "data": [
        {
         "line": {
          "color": "rgba(255, 153, 51, 1.0)",
          "dash": "solid",
          "shape": "linear",
          "width": 1.3
         },
         "marker": {
          "size": 10,
          "symbol": "circle"
         },
         "mode": "markers",
         "name": "B",
         "text": "",
         "type": "scatter",
         "x": [
          -1.3545048514202886,
          -0.27728378291500244,
          0.45496642739072185,
          -0.23107642156544375,
          0.3225381016251746,
          -1.0008187198265743,
          0.9845366396545454,
          -0.50321152657273,
          1.6157058505386503,
          -1.0755409628997235,
          -0.7266925458064639,
          -1.595502047740283,
          0.43015754731259187,
          -0.5023039509792152,
          1.1993891113951063,
          1.5027455883128777,
          -2.0111448778151333,
          0.27904655655280847,
          -0.36670722252928634,
          -1.045321731796316,
          0.10914045660460339,
          -0.6328966222259624,
          1.0225649219030128,
          0.23646366884558706,
          0.41548422719458417,
          -1.0976117676432184,
          -1.3390903914000774,
          -0.4528371511298527,
          -0.42733490165283505,
          0.5754120459853603,
          0.11281268381519279,
          -1.1504102405112058,
          -0.050574871926182784,
          0.6018645063084697,
          -1.4510472945569854,
          -0.21392389795359612,
          0.9380171050066473,
          -0.09438742292598681,
          -0.07053906033576715,
          2.2285687724394343,
          0.19845839839579424,
          1.2131263496243834,
          1.1792006659868235,
          -0.7568736002213788,
          -1.32459048528407,
          -0.6129471634329756,
          -0.4709172661057217,
          -0.7285462902748785,
          -0.25955121913034657,
          0.1555555496229885,
          -1.0067734814821243,
          1.4876681778759002,
          -0.19585676804199598,
          -1.3051812203656723,
          -0.7121109427231624,
          1.4370077967986707,
          0.4538113012220596,
          0.32118719474111324,
          1.9306937024550697,
          -1.0000186636360553,
          1.3538998887923899,
          1.0254565059989138,
          -0.6070225790196295,
          1.7505222400386586,
          1.7797158783195268,
          0.17570637331592434,
          0.1301137572005141,
          -0.4213331565359732,
          0.2879440028531558,
          2.138360358957446,
          1.0890958981482772,
          -0.26490401714714534,
          0.027728903643897698,
          0.40479261158660584,
          0.9083928456027764,
          -0.5899242333379505,
          -0.8616710639476087,
          1.235011144214475,
          1.2773603111730898,
          0.1646548821502208,
          0.19239963499647977,
          -1.3887769224713287,
          0.03482195209693308,
          1.5745439863348998,
          -0.6366925872900931,
          -0.41589432971818063,
          0.3427910975984431,
          0.8366529944437844,
          0.34780611914933296,
          -1.4700076557867081,
          0.38964290131019585,
          -0.7884288396387822,
          -0.9056465667023024,
          0.3399186743690349,
          -0.6477575326386299,
          1.5680595200598508,
          2.269928998581372,
          -1.0404746060192802,
          0.5237456598895535,
          0.9448421163357893
         ],
         "y": [
          -0.6370662306345296,
          -0.18779479970184382,
          -0.933271565970044,
          0.9212074612281883,
          0.8936514161808388,
          0.8342227138476731,
          0.8587196320328144,
          0.22881724899518655,
          -0.9180773570599018,
          -0.45142786836483606,
          -0.22248070393362662,
          0.44917113276718723,
          -0.5973156191937276,
          2.1898876198884047,
          -0.4902326025541706,
          -2.018799695983331,
          -1.3633094063854794,
          0.722171910193369,
          1.398112707247513,
          -0.08109011152174196,
          1.2230279514126137,
          -0.21409272975599575,
          0.38937698547166644,
          0.5838286529465544,
          0.8956700723977705,
          0.961281589148261,
          1.7492867643302497,
          -2.0349038968514983,
          0.9622336412524589,
          -1.6031314870782933,
          0.06891589583313582,
          -0.34008733689357995,
          1.4904754639563247,
          -0.6838384992536902,
          0.6019227388150992,
          1.0744944375979761,
          -0.4426583612634076,
          -1.238007017870152,
          -0.23516809680023168,
          0.17849613576372855,
          -1.9737195066421716,
          0.7900923082368406,
          0.12618231219509693,
          -0.6881342409954447,
          1.0740609598702087,
          -2.2292758320157007,
          0.33792269970410865,
          -0.046717796304047564,
          -1.3299347008261175,
          -0.832872352576968,
          -0.02629450649372879,
          -1.3973378150364184,
          2.0597015168262067,
          0.7158707733517314,
          1.538355947800245,
          0.8200805455889011,
          0.06197608346940097,
          -0.30465938188471225,
          -2.791129597868393,
          -0.6640117629558614,
          -0.7395309222045003,
          -1.1692089459454784,
          1.077217332302895,
          -0.687746618866074,
          1.4691428404927873,
          0.8768833279459809,
          0.3599051799630393,
          -0.447137575412363,
          -0.41913677028305696,
          0.5464024743534294,
          0.4307296648098181,
          -1.8466600072649433,
          0.10608219598356404,
          -1.4511218468659515,
          0.4246996885645433,
          1.284557483121074,
          0.12055153420288005,
          1.1349369472971491,
          -0.08792505531674043,
          -1.2616820293829447,
          0.021585833373038835,
          0.433630805405162,
          -0.41834366420211727,
          -1.3449157042759814,
          0.7473410766559658,
          -1.879342304593012,
          0.28080103709289456,
          -0.5157429018677484,
          1.140210489380863,
          1.7292730109199856,
          -0.9166642240809446,
          0.7944208063936056,
          2.302665781556202,
          -1.157887088105418,
          -0.2936987293432595,
          0.18816450281699626,
          0.1508502062472272,
          0.3179360880392077,
          -0.4593359983942544,
          0.27511528779754385
         ]
        }
       ],
       "layout": {
        "legend": {
         "bgcolor": "#F5F6F9",
         "font": {
          "color": "#4D5663"
         }
        },
        "paper_bgcolor": "#F5F6F9",
        "plot_bgcolor": "#F5F6F9",
        "template": {
         "data": {
          "bar": [
           {
            "error_x": {
             "color": "#2a3f5f"
            },
            "error_y": {
             "color": "#2a3f5f"
            },
            "marker": {
             "line": {
              "color": "#E5ECF6",
              "width": 0.5
             }
            },
            "type": "bar"
           }
          ],
          "barpolar": [
           {
            "marker": {
             "line": {
              "color": "#E5ECF6",
              "width": 0.5
             }
            },
            "type": "barpolar"
           }
          ],
          "carpet": [
           {
            "aaxis": {
             "endlinecolor": "#2a3f5f",
             "gridcolor": "white",
             "linecolor": "white",
             "minorgridcolor": "white",
             "startlinecolor": "#2a3f5f"
            },
            "baxis": {
             "endlinecolor": "#2a3f5f",
             "gridcolor": "white",
             "linecolor": "white",
             "minorgridcolor": "white",
             "startlinecolor": "#2a3f5f"
            },
            "type": "carpet"
           }
          ],
          "choropleth": [
           {
            "colorbar": {
             "outlinewidth": 0,
             "ticks": ""
            },
            "type": "choropleth"
           }
          ],
          "contour": [
           {
            "colorbar": {
             "outlinewidth": 0,
             "ticks": ""
            },
            "colorscale": [
             [
              0,
              "#0d0887"
             ],
             [
              0.1111111111111111,
              "#46039f"
             ],
             [
              0.2222222222222222,
              "#7201a8"
             ],
             [
              0.3333333333333333,
              "#9c179e"
             ],
             [
              0.4444444444444444,
              "#bd3786"
             ],
             [
              0.5555555555555556,
              "#d8576b"
             ],
             [
              0.6666666666666666,
              "#ed7953"
             ],
             [
              0.7777777777777778,
              "#fb9f3a"
             ],
             [
              0.8888888888888888,
              "#fdca26"
             ],
             [
              1,
              "#f0f921"
             ]
            ],
            "type": "contour"
           }
          ],
          "contourcarpet": [
           {
            "colorbar": {
             "outlinewidth": 0,
             "ticks": ""
            },
            "type": "contourcarpet"
           }
          ],
          "heatmap": [
           {
            "colorbar": {
             "outlinewidth": 0,
             "ticks": ""
            },
            "colorscale": [
             [
              0,
              "#0d0887"
             ],
             [
              0.1111111111111111,
              "#46039f"
             ],
             [
              0.2222222222222222,
              "#7201a8"
             ],
             [
              0.3333333333333333,
              "#9c179e"
             ],
             [
              0.4444444444444444,
              "#bd3786"
             ],
             [
              0.5555555555555556,
              "#d8576b"
             ],
             [
              0.6666666666666666,
              "#ed7953"
             ],
             [
              0.7777777777777778,
              "#fb9f3a"
             ],
             [
              0.8888888888888888,
              "#fdca26"
             ],
             [
              1,
              "#f0f921"
             ]
            ],
            "type": "heatmap"
           }
          ],
          "heatmapgl": [
           {
            "colorbar": {
             "outlinewidth": 0,
             "ticks": ""
            },
            "colorscale": [
             [
              0,
              "#0d0887"
             ],
             [
              0.1111111111111111,
              "#46039f"
             ],
             [
              0.2222222222222222,
              "#7201a8"
             ],
             [
              0.3333333333333333,
              "#9c179e"
             ],
             [
              0.4444444444444444,
              "#bd3786"
             ],
             [
              0.5555555555555556,
              "#d8576b"
             ],
             [
              0.6666666666666666,
              "#ed7953"
             ],
             [
              0.7777777777777778,
              "#fb9f3a"
             ],
             [
              0.8888888888888888,
              "#fdca26"
             ],
             [
              1,
              "#f0f921"
             ]
            ],
            "type": "heatmapgl"
           }
          ],
          "histogram": [
           {
            "marker": {
             "colorbar": {
              "outlinewidth": 0,
              "ticks": ""
             }
            },
            "type": "histogram"
           }
          ],
          "histogram2d": [
           {
            "colorbar": {
             "outlinewidth": 0,
             "ticks": ""
            },
            "colorscale": [
             [
              0,
              "#0d0887"
             ],
             [
              0.1111111111111111,
              "#46039f"
             ],
             [
              0.2222222222222222,
              "#7201a8"
             ],
             [
              0.3333333333333333,
              "#9c179e"
             ],
             [
              0.4444444444444444,
              "#bd3786"
             ],
             [
              0.5555555555555556,
              "#d8576b"
             ],
             [
              0.6666666666666666,
              "#ed7953"
             ],
             [
              0.7777777777777778,
              "#fb9f3a"
             ],
             [
              0.8888888888888888,
              "#fdca26"
             ],
             [
              1,
              "#f0f921"
             ]
            ],
            "type": "histogram2d"
           }
          ],
          "histogram2dcontour": [
           {
            "colorbar": {
             "outlinewidth": 0,
             "ticks": ""
            },
            "colorscale": [
             [
              0,
              "#0d0887"
             ],
             [
              0.1111111111111111,
              "#46039f"
             ],
             [
              0.2222222222222222,
              "#7201a8"
             ],
             [
              0.3333333333333333,
              "#9c179e"
             ],
             [
              0.4444444444444444,
              "#bd3786"
             ],
             [
              0.5555555555555556,
              "#d8576b"
             ],
             [
              0.6666666666666666,
              "#ed7953"
             ],
             [
              0.7777777777777778,
              "#fb9f3a"
             ],
             [
              0.8888888888888888,
              "#fdca26"
             ],
             [
              1,
              "#f0f921"
             ]
            ],
            "type": "histogram2dcontour"
           }
          ],
          "mesh3d": [
           {
            "colorbar": {
             "outlinewidth": 0,
             "ticks": ""
            },
            "type": "mesh3d"
           }
          ],
          "parcoords": [
           {
            "line": {
             "colorbar": {
              "outlinewidth": 0,
              "ticks": ""
             }
            },
            "type": "parcoords"
           }
          ],
          "pie": [
           {
            "automargin": true,
            "type": "pie"
           }
          ],
          "scatter": [
           {
            "marker": {
             "colorbar": {
              "outlinewidth": 0,
              "ticks": ""
             }
            },
            "type": "scatter"
           }
          ],
          "scatter3d": [
           {
            "line": {
             "colorbar": {
              "outlinewidth": 0,
              "ticks": ""
             }
            },
            "marker": {
             "colorbar": {
              "outlinewidth": 0,
              "ticks": ""
             }
            },
            "type": "scatter3d"
           }
          ],
          "scattercarpet": [
           {
            "marker": {
             "colorbar": {
              "outlinewidth": 0,
              "ticks": ""
             }
            },
            "type": "scattercarpet"
           }
          ],
          "scattergeo": [
           {
            "marker": {
             "colorbar": {
              "outlinewidth": 0,
              "ticks": ""
             }
            },
            "type": "scattergeo"
           }
          ],
          "scattergl": [
           {
            "marker": {
             "colorbar": {
              "outlinewidth": 0,
              "ticks": ""
             }
            },
            "type": "scattergl"
           }
          ],
          "scattermapbox": [
           {
            "marker": {
             "colorbar": {
              "outlinewidth": 0,
              "ticks": ""
             }
            },
            "type": "scattermapbox"
           }
          ],
          "scatterpolar": [
           {
            "marker": {
             "colorbar": {
              "outlinewidth": 0,
              "ticks": ""
             }
            },
            "type": "scatterpolar"
           }
          ],
          "scatterpolargl": [
           {
            "marker": {
             "colorbar": {
              "outlinewidth": 0,
              "ticks": ""
             }
            },
            "type": "scatterpolargl"
           }
          ],
          "scatterternary": [
           {
            "marker": {
             "colorbar": {
              "outlinewidth": 0,
              "ticks": ""
             }
            },
            "type": "scatterternary"
           }
          ],
          "surface": [
           {
            "colorbar": {
             "outlinewidth": 0,
             "ticks": ""
            },
            "colorscale": [
             [
              0,
              "#0d0887"
             ],
             [
              0.1111111111111111,
              "#46039f"
             ],
             [
              0.2222222222222222,
              "#7201a8"
             ],
             [
              0.3333333333333333,
              "#9c179e"
             ],
             [
              0.4444444444444444,
              "#bd3786"
             ],
             [
              0.5555555555555556,
              "#d8576b"
             ],
             [
              0.6666666666666666,
              "#ed7953"
             ],
             [
              0.7777777777777778,
              "#fb9f3a"
             ],
             [
              0.8888888888888888,
              "#fdca26"
             ],
             [
              1,
              "#f0f921"
             ]
            ],
            "type": "surface"
           }
          ],
          "table": [
           {
            "cells": {
             "fill": {
              "color": "#EBF0F8"
             },
             "line": {
              "color": "white"
             }
            },
            "header": {
             "fill": {
              "color": "#C8D4E3"
             },
             "line": {
              "color": "white"
             }
            },
            "type": "table"
           }
          ]
         },
         "layout": {
          "annotationdefaults": {
           "arrowcolor": "#2a3f5f",
           "arrowhead": 0,
           "arrowwidth": 1
          },
          "autotypenumbers": "strict",
          "coloraxis": {
           "colorbar": {
            "outlinewidth": 0,
            "ticks": ""
           }
          },
          "colorscale": {
           "diverging": [
            [
             0,
             "#8e0152"
            ],
            [
             0.1,
             "#c51b7d"
            ],
            [
             0.2,
             "#de77ae"
            ],
            [
             0.3,
             "#f1b6da"
            ],
            [
             0.4,
             "#fde0ef"
            ],
            [
             0.5,
             "#f7f7f7"
            ],
            [
             0.6,
             "#e6f5d0"
            ],
            [
             0.7,
             "#b8e186"
            ],
            [
             0.8,
             "#7fbc41"
            ],
            [
             0.9,
             "#4d9221"
            ],
            [
             1,
             "#276419"
            ]
           ],
           "sequential": [
            [
             0,
             "#0d0887"
            ],
            [
             0.1111111111111111,
             "#46039f"
            ],
            [
             0.2222222222222222,
             "#7201a8"
            ],
            [
             0.3333333333333333,
             "#9c179e"
            ],
            [
             0.4444444444444444,
             "#bd3786"
            ],
            [
             0.5555555555555556,
             "#d8576b"
            ],
            [
             0.6666666666666666,
             "#ed7953"
            ],
            [
             0.7777777777777778,
             "#fb9f3a"
            ],
            [
             0.8888888888888888,
             "#fdca26"
            ],
            [
             1,
             "#f0f921"
            ]
           ],
           "sequentialminus": [
            [
             0,
             "#0d0887"
            ],
            [
             0.1111111111111111,
             "#46039f"
            ],
            [
             0.2222222222222222,
             "#7201a8"
            ],
            [
             0.3333333333333333,
             "#9c179e"
            ],
            [
             0.4444444444444444,
             "#bd3786"
            ],
            [
             0.5555555555555556,
             "#d8576b"
            ],
            [
             0.6666666666666666,
             "#ed7953"
            ],
            [
             0.7777777777777778,
             "#fb9f3a"
            ],
            [
             0.8888888888888888,
             "#fdca26"
            ],
            [
             1,
             "#f0f921"
            ]
           ]
          },
          "colorway": [
           "#636efa",
           "#EF553B",
           "#00cc96",
           "#ab63fa",
           "#FFA15A",
           "#19d3f3",
           "#FF6692",
           "#B6E880",
           "#FF97FF",
           "#FECB52"
          ],
          "font": {
           "color": "#2a3f5f"
          },
          "geo": {
           "bgcolor": "white",
           "lakecolor": "white",
           "landcolor": "#E5ECF6",
           "showlakes": true,
           "showland": true,
           "subunitcolor": "white"
          },
          "hoverlabel": {
           "align": "left"
          },
          "hovermode": "closest",
          "mapbox": {
           "style": "light"
          },
          "paper_bgcolor": "white",
          "plot_bgcolor": "#E5ECF6",
          "polar": {
           "angularaxis": {
            "gridcolor": "white",
            "linecolor": "white",
            "ticks": ""
           },
           "bgcolor": "#E5ECF6",
           "radialaxis": {
            "gridcolor": "white",
            "linecolor": "white",
            "ticks": ""
           }
          },
          "scene": {
           "xaxis": {
            "backgroundcolor": "#E5ECF6",
            "gridcolor": "white",
            "gridwidth": 2,
            "linecolor": "white",
            "showbackground": true,
            "ticks": "",
            "zerolinecolor": "white"
           },
           "yaxis": {
            "backgroundcolor": "#E5ECF6",
            "gridcolor": "white",
            "gridwidth": 2,
            "linecolor": "white",
            "showbackground": true,
            "ticks": "",
            "zerolinecolor": "white"
           },
           "zaxis": {
            "backgroundcolor": "#E5ECF6",
            "gridcolor": "white",
            "gridwidth": 2,
            "linecolor": "white",
            "showbackground": true,
            "ticks": "",
            "zerolinecolor": "white"
           }
          },
          "shapedefaults": {
           "line": {
            "color": "#2a3f5f"
           }
          },
          "ternary": {
           "aaxis": {
            "gridcolor": "white",
            "linecolor": "white",
            "ticks": ""
           },
           "baxis": {
            "gridcolor": "white",
            "linecolor": "white",
            "ticks": ""
           },
           "bgcolor": "#E5ECF6",
           "caxis": {
            "gridcolor": "white",
            "linecolor": "white",
            "ticks": ""
           }
          },
          "title": {
           "x": 0.05
          },
          "xaxis": {
           "automargin": true,
           "gridcolor": "white",
           "linecolor": "white",
           "ticks": "",
           "title": {
            "standoff": 15
           },
           "zerolinecolor": "white",
           "zerolinewidth": 2
          },
          "yaxis": {
           "automargin": true,
           "gridcolor": "white",
           "linecolor": "white",
           "ticks": "",
           "title": {
            "standoff": 15
           },
           "zerolinecolor": "white",
           "zerolinewidth": 2
          }
         }
        },
        "title": {
         "font": {
          "color": "#4D5663"
         }
        },
        "xaxis": {
         "gridcolor": "#E1E5ED",
         "showgrid": true,
         "tickfont": {
          "color": "#4D5663"
         },
         "title": {
          "font": {
           "color": "#4D5663"
          },
          "text": ""
         },
         "zerolinecolor": "#E1E5ED"
        },
        "yaxis": {
         "gridcolor": "#E1E5ED",
         "showgrid": true,
         "tickfont": {
          "color": "#4D5663"
         },
         "title": {
          "font": {
           "color": "#4D5663"
          },
          "text": ""
         },
         "zerolinecolor": "#E1E5ED"
        }
       }
      },
      "text/html": [
       "<div>                            <div id=\"e608da2f-613a-47c8-9f4b-46ce4753f6b9\" class=\"plotly-graph-div\" style=\"height:525px; width:100%;\"></div>            <script type=\"text/javascript\">                require([\"plotly\"], function(Plotly) {                    window.PLOTLYENV=window.PLOTLYENV || {};\n",
       "                    window.PLOTLYENV.BASE_URL='https://plot.ly';                                    if (document.getElementById(\"e608da2f-613a-47c8-9f4b-46ce4753f6b9\")) {                    Plotly.newPlot(                        \"e608da2f-613a-47c8-9f4b-46ce4753f6b9\",                        [{\"line\": {\"color\": \"rgba(255, 153, 51, 1.0)\", \"dash\": \"solid\", \"shape\": \"linear\", \"width\": 1.3}, \"marker\": {\"size\": 10, \"symbol\": \"circle\"}, \"mode\": \"markers\", \"name\": \"B\", \"text\": \"\", \"type\": \"scatter\", \"x\": [-1.3545048514202886, -0.27728378291500244, 0.45496642739072185, -0.23107642156544375, 0.3225381016251746, -1.0008187198265743, 0.9845366396545454, -0.50321152657273, 1.6157058505386503, -1.0755409628997235, -0.7266925458064639, -1.595502047740283, 0.43015754731259187, -0.5023039509792152, 1.1993891113951063, 1.5027455883128777, -2.0111448778151333, 0.27904655655280847, -0.36670722252928634, -1.045321731796316, 0.10914045660460339, -0.6328966222259624, 1.0225649219030128, 0.23646366884558706, 0.41548422719458417, -1.0976117676432184, -1.3390903914000774, -0.4528371511298527, -0.42733490165283505, 0.5754120459853603, 0.11281268381519279, -1.1504102405112058, -0.050574871926182784, 0.6018645063084697, -1.4510472945569854, -0.21392389795359612, 0.9380171050066473, -0.09438742292598681, -0.07053906033576715, 2.2285687724394343, 0.19845839839579424, 1.2131263496243834, 1.1792006659868235, -0.7568736002213788, -1.32459048528407, -0.6129471634329756, -0.4709172661057217, -0.7285462902748785, -0.25955121913034657, 0.1555555496229885, -1.0067734814821243, 1.4876681778759002, -0.19585676804199598, -1.3051812203656723, -0.7121109427231624, 1.4370077967986707, 0.4538113012220596, 0.32118719474111324, 1.9306937024550697, -1.0000186636360553, 1.3538998887923899, 1.0254565059989138, -0.6070225790196295, 1.7505222400386586, 1.7797158783195268, 0.17570637331592434, 0.1301137572005141, -0.4213331565359732, 0.2879440028531558, 2.138360358957446, 1.0890958981482772, -0.26490401714714534, 0.027728903643897698, 0.40479261158660584, 0.9083928456027764, -0.5899242333379505, -0.8616710639476087, 1.235011144214475, 1.2773603111730898, 0.1646548821502208, 0.19239963499647977, -1.3887769224713287, 0.03482195209693308, 1.5745439863348998, -0.6366925872900931, -0.41589432971818063, 0.3427910975984431, 0.8366529944437844, 0.34780611914933296, -1.4700076557867081, 0.38964290131019585, -0.7884288396387822, -0.9056465667023024, 0.3399186743690349, -0.6477575326386299, 1.5680595200598508, 2.269928998581372, -1.0404746060192802, 0.5237456598895535, 0.9448421163357893], \"y\": [-0.6370662306345296, -0.18779479970184382, -0.933271565970044, 0.9212074612281883, 0.8936514161808388, 0.8342227138476731, 0.8587196320328144, 0.22881724899518655, -0.9180773570599018, -0.45142786836483606, -0.22248070393362662, 0.44917113276718723, -0.5973156191937276, 2.1898876198884047, -0.4902326025541706, -2.018799695983331, -1.3633094063854794, 0.722171910193369, 1.398112707247513, -0.08109011152174196, 1.2230279514126137, -0.21409272975599575, 0.38937698547166644, 0.5838286529465544, 0.8956700723977705, 0.961281589148261, 1.7492867643302497, -2.0349038968514983, 0.9622336412524589, -1.6031314870782933, 0.06891589583313582, -0.34008733689357995, 1.4904754639563247, -0.6838384992536902, 0.6019227388150992, 1.0744944375979761, -0.4426583612634076, -1.238007017870152, -0.23516809680023168, 0.17849613576372855, -1.9737195066421716, 0.7900923082368406, 0.12618231219509693, -0.6881342409954447, 1.0740609598702087, -2.2292758320157007, 0.33792269970410865, -0.046717796304047564, -1.3299347008261175, -0.832872352576968, -0.02629450649372879, -1.3973378150364184, 2.0597015168262067, 0.7158707733517314, 1.538355947800245, 0.8200805455889011, 0.06197608346940097, -0.30465938188471225, -2.791129597868393, -0.6640117629558614, -0.7395309222045003, -1.1692089459454784, 1.077217332302895, -0.687746618866074, 1.4691428404927873, 0.8768833279459809, 0.3599051799630393, -0.447137575412363, -0.41913677028305696, 0.5464024743534294, 0.4307296648098181, -1.8466600072649433, 0.10608219598356404, -1.4511218468659515, 0.4246996885645433, 1.284557483121074, 0.12055153420288005, 1.1349369472971491, -0.08792505531674043, -1.2616820293829447, 0.021585833373038835, 0.433630805405162, -0.41834366420211727, -1.3449157042759814, 0.7473410766559658, -1.879342304593012, 0.28080103709289456, -0.5157429018677484, 1.140210489380863, 1.7292730109199856, -0.9166642240809446, 0.7944208063936056, 2.302665781556202, -1.157887088105418, -0.2936987293432595, 0.18816450281699626, 0.1508502062472272, 0.3179360880392077, -0.4593359983942544, 0.27511528779754385]}],                        {\"legend\": {\"bgcolor\": \"#F5F6F9\", \"font\": {\"color\": \"#4D5663\"}}, \"paper_bgcolor\": \"#F5F6F9\", \"plot_bgcolor\": \"#F5F6F9\", \"template\": {\"data\": {\"bar\": [{\"error_x\": {\"color\": \"#2a3f5f\"}, \"error_y\": {\"color\": \"#2a3f5f\"}, \"marker\": {\"line\": {\"color\": \"#E5ECF6\", \"width\": 0.5}}, \"type\": \"bar\"}], \"barpolar\": [{\"marker\": {\"line\": {\"color\": \"#E5ECF6\", \"width\": 0.5}}, \"type\": \"barpolar\"}], \"carpet\": [{\"aaxis\": {\"endlinecolor\": \"#2a3f5f\", \"gridcolor\": \"white\", \"linecolor\": \"white\", \"minorgridcolor\": \"white\", \"startlinecolor\": \"#2a3f5f\"}, \"baxis\": {\"endlinecolor\": \"#2a3f5f\", \"gridcolor\": \"white\", \"linecolor\": \"white\", \"minorgridcolor\": \"white\", \"startlinecolor\": \"#2a3f5f\"}, \"type\": \"carpet\"}], \"choropleth\": [{\"colorbar\": {\"outlinewidth\": 0, \"ticks\": \"\"}, \"type\": \"choropleth\"}], \"contour\": [{\"colorbar\": {\"outlinewidth\": 0, \"ticks\": \"\"}, \"colorscale\": [[0.0, \"#0d0887\"], [0.1111111111111111, \"#46039f\"], [0.2222222222222222, \"#7201a8\"], [0.3333333333333333, \"#9c179e\"], [0.4444444444444444, \"#bd3786\"], [0.5555555555555556, \"#d8576b\"], [0.6666666666666666, \"#ed7953\"], [0.7777777777777778, \"#fb9f3a\"], [0.8888888888888888, \"#fdca26\"], [1.0, \"#f0f921\"]], \"type\": \"contour\"}], \"contourcarpet\": [{\"colorbar\": {\"outlinewidth\": 0, \"ticks\": \"\"}, \"type\": \"contourcarpet\"}], \"heatmap\": [{\"colorbar\": {\"outlinewidth\": 0, \"ticks\": \"\"}, \"colorscale\": [[0.0, \"#0d0887\"], [0.1111111111111111, \"#46039f\"], [0.2222222222222222, \"#7201a8\"], [0.3333333333333333, \"#9c179e\"], [0.4444444444444444, \"#bd3786\"], [0.5555555555555556, \"#d8576b\"], [0.6666666666666666, \"#ed7953\"], [0.7777777777777778, \"#fb9f3a\"], [0.8888888888888888, \"#fdca26\"], [1.0, \"#f0f921\"]], \"type\": \"heatmap\"}], \"heatmapgl\": [{\"colorbar\": {\"outlinewidth\": 0, \"ticks\": \"\"}, \"colorscale\": [[0.0, \"#0d0887\"], [0.1111111111111111, \"#46039f\"], [0.2222222222222222, \"#7201a8\"], [0.3333333333333333, \"#9c179e\"], [0.4444444444444444, \"#bd3786\"], [0.5555555555555556, \"#d8576b\"], [0.6666666666666666, \"#ed7953\"], [0.7777777777777778, \"#fb9f3a\"], [0.8888888888888888, \"#fdca26\"], [1.0, \"#f0f921\"]], \"type\": \"heatmapgl\"}], \"histogram\": [{\"marker\": {\"colorbar\": {\"outlinewidth\": 0, \"ticks\": \"\"}}, \"type\": \"histogram\"}], \"histogram2d\": [{\"colorbar\": {\"outlinewidth\": 0, \"ticks\": \"\"}, \"colorscale\": [[0.0, \"#0d0887\"], [0.1111111111111111, \"#46039f\"], [0.2222222222222222, \"#7201a8\"], [0.3333333333333333, \"#9c179e\"], [0.4444444444444444, \"#bd3786\"], [0.5555555555555556, \"#d8576b\"], [0.6666666666666666, \"#ed7953\"], [0.7777777777777778, \"#fb9f3a\"], [0.8888888888888888, \"#fdca26\"], [1.0, \"#f0f921\"]], \"type\": \"histogram2d\"}], \"histogram2dcontour\": [{\"colorbar\": {\"outlinewidth\": 0, \"ticks\": \"\"}, \"colorscale\": [[0.0, \"#0d0887\"], [0.1111111111111111, \"#46039f\"], [0.2222222222222222, \"#7201a8\"], [0.3333333333333333, \"#9c179e\"], [0.4444444444444444, \"#bd3786\"], [0.5555555555555556, \"#d8576b\"], [0.6666666666666666, \"#ed7953\"], [0.7777777777777778, \"#fb9f3a\"], [0.8888888888888888, \"#fdca26\"], [1.0, \"#f0f921\"]], \"type\": \"histogram2dcontour\"}], \"mesh3d\": [{\"colorbar\": {\"outlinewidth\": 0, \"ticks\": \"\"}, \"type\": \"mesh3d\"}], \"parcoords\": [{\"line\": {\"colorbar\": {\"outlinewidth\": 0, \"ticks\": \"\"}}, \"type\": \"parcoords\"}], \"pie\": [{\"automargin\": true, \"type\": \"pie\"}], \"scatter\": [{\"marker\": {\"colorbar\": {\"outlinewidth\": 0, \"ticks\": \"\"}}, \"type\": \"scatter\"}], \"scatter3d\": [{\"line\": {\"colorbar\": {\"outlinewidth\": 0, \"ticks\": \"\"}}, \"marker\": {\"colorbar\": {\"outlinewidth\": 0, \"ticks\": \"\"}}, \"type\": \"scatter3d\"}], \"scattercarpet\": [{\"marker\": {\"colorbar\": {\"outlinewidth\": 0, \"ticks\": \"\"}}, \"type\": \"scattercarpet\"}], \"scattergeo\": [{\"marker\": {\"colorbar\": {\"outlinewidth\": 0, \"ticks\": \"\"}}, \"type\": \"scattergeo\"}], \"scattergl\": [{\"marker\": {\"colorbar\": {\"outlinewidth\": 0, \"ticks\": \"\"}}, \"type\": \"scattergl\"}], \"scattermapbox\": [{\"marker\": {\"colorbar\": {\"outlinewidth\": 0, \"ticks\": \"\"}}, \"type\": \"scattermapbox\"}], \"scatterpolar\": [{\"marker\": {\"colorbar\": {\"outlinewidth\": 0, \"ticks\": \"\"}}, \"type\": \"scatterpolar\"}], \"scatterpolargl\": [{\"marker\": {\"colorbar\": {\"outlinewidth\": 0, \"ticks\": \"\"}}, \"type\": \"scatterpolargl\"}], \"scatterternary\": [{\"marker\": {\"colorbar\": {\"outlinewidth\": 0, \"ticks\": \"\"}}, \"type\": \"scatterternary\"}], \"surface\": [{\"colorbar\": {\"outlinewidth\": 0, \"ticks\": \"\"}, \"colorscale\": [[0.0, \"#0d0887\"], [0.1111111111111111, \"#46039f\"], [0.2222222222222222, \"#7201a8\"], [0.3333333333333333, \"#9c179e\"], [0.4444444444444444, \"#bd3786\"], [0.5555555555555556, \"#d8576b\"], [0.6666666666666666, \"#ed7953\"], [0.7777777777777778, \"#fb9f3a\"], [0.8888888888888888, \"#fdca26\"], [1.0, \"#f0f921\"]], \"type\": \"surface\"}], \"table\": [{\"cells\": {\"fill\": {\"color\": \"#EBF0F8\"}, \"line\": {\"color\": \"white\"}}, \"header\": {\"fill\": {\"color\": \"#C8D4E3\"}, \"line\": {\"color\": \"white\"}}, \"type\": \"table\"}]}, \"layout\": {\"annotationdefaults\": {\"arrowcolor\": \"#2a3f5f\", \"arrowhead\": 0, \"arrowwidth\": 1}, \"autotypenumbers\": \"strict\", \"coloraxis\": {\"colorbar\": {\"outlinewidth\": 0, \"ticks\": \"\"}}, \"colorscale\": {\"diverging\": [[0, \"#8e0152\"], [0.1, \"#c51b7d\"], [0.2, \"#de77ae\"], [0.3, \"#f1b6da\"], [0.4, \"#fde0ef\"], [0.5, \"#f7f7f7\"], [0.6, \"#e6f5d0\"], [0.7, \"#b8e186\"], [0.8, \"#7fbc41\"], [0.9, \"#4d9221\"], [1, \"#276419\"]], \"sequential\": [[0.0, \"#0d0887\"], [0.1111111111111111, \"#46039f\"], [0.2222222222222222, \"#7201a8\"], [0.3333333333333333, \"#9c179e\"], [0.4444444444444444, \"#bd3786\"], [0.5555555555555556, \"#d8576b\"], [0.6666666666666666, \"#ed7953\"], [0.7777777777777778, \"#fb9f3a\"], [0.8888888888888888, \"#fdca26\"], [1.0, \"#f0f921\"]], \"sequentialminus\": [[0.0, \"#0d0887\"], [0.1111111111111111, \"#46039f\"], [0.2222222222222222, \"#7201a8\"], [0.3333333333333333, \"#9c179e\"], [0.4444444444444444, \"#bd3786\"], [0.5555555555555556, \"#d8576b\"], [0.6666666666666666, \"#ed7953\"], [0.7777777777777778, \"#fb9f3a\"], [0.8888888888888888, \"#fdca26\"], [1.0, \"#f0f921\"]]}, \"colorway\": [\"#636efa\", \"#EF553B\", \"#00cc96\", \"#ab63fa\", \"#FFA15A\", \"#19d3f3\", \"#FF6692\", \"#B6E880\", \"#FF97FF\", \"#FECB52\"], \"font\": {\"color\": \"#2a3f5f\"}, \"geo\": {\"bgcolor\": \"white\", \"lakecolor\": \"white\", \"landcolor\": \"#E5ECF6\", \"showlakes\": true, \"showland\": true, \"subunitcolor\": \"white\"}, \"hoverlabel\": {\"align\": \"left\"}, \"hovermode\": \"closest\", \"mapbox\": {\"style\": \"light\"}, \"paper_bgcolor\": \"white\", \"plot_bgcolor\": \"#E5ECF6\", \"polar\": {\"angularaxis\": {\"gridcolor\": \"white\", \"linecolor\": \"white\", \"ticks\": \"\"}, \"bgcolor\": \"#E5ECF6\", \"radialaxis\": {\"gridcolor\": \"white\", \"linecolor\": \"white\", \"ticks\": \"\"}}, \"scene\": {\"xaxis\": {\"backgroundcolor\": \"#E5ECF6\", \"gridcolor\": \"white\", \"gridwidth\": 2, \"linecolor\": \"white\", \"showbackground\": true, \"ticks\": \"\", \"zerolinecolor\": \"white\"}, \"yaxis\": {\"backgroundcolor\": \"#E5ECF6\", \"gridcolor\": \"white\", \"gridwidth\": 2, \"linecolor\": \"white\", \"showbackground\": true, \"ticks\": \"\", \"zerolinecolor\": \"white\"}, \"zaxis\": {\"backgroundcolor\": \"#E5ECF6\", \"gridcolor\": \"white\", \"gridwidth\": 2, \"linecolor\": \"white\", \"showbackground\": true, \"ticks\": \"\", \"zerolinecolor\": \"white\"}}, \"shapedefaults\": {\"line\": {\"color\": \"#2a3f5f\"}}, \"ternary\": {\"aaxis\": {\"gridcolor\": \"white\", \"linecolor\": \"white\", \"ticks\": \"\"}, \"baxis\": {\"gridcolor\": \"white\", \"linecolor\": \"white\", \"ticks\": \"\"}, \"bgcolor\": \"#E5ECF6\", \"caxis\": {\"gridcolor\": \"white\", \"linecolor\": \"white\", \"ticks\": \"\"}}, \"title\": {\"x\": 0.05}, \"xaxis\": {\"automargin\": true, \"gridcolor\": \"white\", \"linecolor\": \"white\", \"ticks\": \"\", \"title\": {\"standoff\": 15}, \"zerolinecolor\": \"white\", \"zerolinewidth\": 2}, \"yaxis\": {\"automargin\": true, \"gridcolor\": \"white\", \"linecolor\": \"white\", \"ticks\": \"\", \"title\": {\"standoff\": 15}, \"zerolinecolor\": \"white\", \"zerolinewidth\": 2}}}, \"title\": {\"font\": {\"color\": \"#4D5663\"}}, \"xaxis\": {\"gridcolor\": \"#E1E5ED\", \"showgrid\": true, \"tickfont\": {\"color\": \"#4D5663\"}, \"title\": {\"font\": {\"color\": \"#4D5663\"}, \"text\": \"\"}, \"zerolinecolor\": \"#E1E5ED\"}, \"yaxis\": {\"gridcolor\": \"#E1E5ED\", \"showgrid\": true, \"tickfont\": {\"color\": \"#4D5663\"}, \"title\": {\"font\": {\"color\": \"#4D5663\"}, \"text\": \"\"}, \"zerolinecolor\": \"#E1E5ED\"}},                        {\"showLink\": true, \"linkText\": \"Export to plot.ly\", \"plotlyServerURL\": \"https://plot.ly\", \"responsive\": true}                    ).then(function(){\n",
       "                            \n",
       "var gd = document.getElementById('e608da2f-613a-47c8-9f4b-46ce4753f6b9');\n",
       "var x = new MutationObserver(function (mutations, observer) {{\n",
       "        var display = window.getComputedStyle(gd).display;\n",
       "        if (!display || display === 'none') {{\n",
       "            console.log([gd, 'removed!']);\n",
       "            Plotly.purge(gd);\n",
       "            observer.disconnect();\n",
       "        }}\n",
       "}});\n",
       "\n",
       "// Listen for the removal of the full notebook cells\n",
       "var notebookContainer = gd.closest('#notebook-container');\n",
       "if (notebookContainer) {{\n",
       "    x.observe(notebookContainer, {childList: true});\n",
       "}}\n",
       "\n",
       "// Listen for the clearing of the current output cell\n",
       "var outputEl = gd.closest('.output');\n",
       "if (outputEl) {{\n",
       "    x.observe(outputEl, {childList: true});\n",
       "}}\n",
       "\n",
       "                        })                };                });            </script>        </div>"
      ]
     },
     "metadata": {},
     "output_type": "display_data"
    }
   ],
   "source": [
    "df.iplot(kind='scatter',x='A',y='B',mode='markers',size=10)"
   ]
  },
  {
   "cell_type": "markdown",
   "metadata": {},
   "source": [
    "## Bar Plots"
   ]
  },
  {
   "cell_type": "code",
   "execution_count": 12,
   "metadata": {},
   "outputs": [
    {
     "data": {
      "application/vnd.plotly.v1+json": {
       "config": {
        "linkText": "Export to plot.ly",
        "plotlyServerURL": "https://plot.ly",
        "showLink": true
       },
       "data": [
        {
         "marker": {
          "color": "rgba(255, 153, 51, 0.6)",
          "line": {
           "color": "rgba(255, 153, 51, 1.0)",
           "width": 1
          }
         },
         "name": "Values",
         "orientation": "v",
         "text": "",
         "type": "bar",
         "x": [
          "A",
          "B",
          "C"
         ],
         "y": [
          32,
          43,
          50
         ]
        }
       ],
       "layout": {
        "legend": {
         "bgcolor": "#F5F6F9",
         "font": {
          "color": "#4D5663"
         }
        },
        "paper_bgcolor": "#F5F6F9",
        "plot_bgcolor": "#F5F6F9",
        "template": {
         "data": {
          "bar": [
           {
            "error_x": {
             "color": "#2a3f5f"
            },
            "error_y": {
             "color": "#2a3f5f"
            },
            "marker": {
             "line": {
              "color": "#E5ECF6",
              "width": 0.5
             }
            },
            "type": "bar"
           }
          ],
          "barpolar": [
           {
            "marker": {
             "line": {
              "color": "#E5ECF6",
              "width": 0.5
             }
            },
            "type": "barpolar"
           }
          ],
          "carpet": [
           {
            "aaxis": {
             "endlinecolor": "#2a3f5f",
             "gridcolor": "white",
             "linecolor": "white",
             "minorgridcolor": "white",
             "startlinecolor": "#2a3f5f"
            },
            "baxis": {
             "endlinecolor": "#2a3f5f",
             "gridcolor": "white",
             "linecolor": "white",
             "minorgridcolor": "white",
             "startlinecolor": "#2a3f5f"
            },
            "type": "carpet"
           }
          ],
          "choropleth": [
           {
            "colorbar": {
             "outlinewidth": 0,
             "ticks": ""
            },
            "type": "choropleth"
           }
          ],
          "contour": [
           {
            "colorbar": {
             "outlinewidth": 0,
             "ticks": ""
            },
            "colorscale": [
             [
              0,
              "#0d0887"
             ],
             [
              0.1111111111111111,
              "#46039f"
             ],
             [
              0.2222222222222222,
              "#7201a8"
             ],
             [
              0.3333333333333333,
              "#9c179e"
             ],
             [
              0.4444444444444444,
              "#bd3786"
             ],
             [
              0.5555555555555556,
              "#d8576b"
             ],
             [
              0.6666666666666666,
              "#ed7953"
             ],
             [
              0.7777777777777778,
              "#fb9f3a"
             ],
             [
              0.8888888888888888,
              "#fdca26"
             ],
             [
              1,
              "#f0f921"
             ]
            ],
            "type": "contour"
           }
          ],
          "contourcarpet": [
           {
            "colorbar": {
             "outlinewidth": 0,
             "ticks": ""
            },
            "type": "contourcarpet"
           }
          ],
          "heatmap": [
           {
            "colorbar": {
             "outlinewidth": 0,
             "ticks": ""
            },
            "colorscale": [
             [
              0,
              "#0d0887"
             ],
             [
              0.1111111111111111,
              "#46039f"
             ],
             [
              0.2222222222222222,
              "#7201a8"
             ],
             [
              0.3333333333333333,
              "#9c179e"
             ],
             [
              0.4444444444444444,
              "#bd3786"
             ],
             [
              0.5555555555555556,
              "#d8576b"
             ],
             [
              0.6666666666666666,
              "#ed7953"
             ],
             [
              0.7777777777777778,
              "#fb9f3a"
             ],
             [
              0.8888888888888888,
              "#fdca26"
             ],
             [
              1,
              "#f0f921"
             ]
            ],
            "type": "heatmap"
           }
          ],
          "heatmapgl": [
           {
            "colorbar": {
             "outlinewidth": 0,
             "ticks": ""
            },
            "colorscale": [
             [
              0,
              "#0d0887"
             ],
             [
              0.1111111111111111,
              "#46039f"
             ],
             [
              0.2222222222222222,
              "#7201a8"
             ],
             [
              0.3333333333333333,
              "#9c179e"
             ],
             [
              0.4444444444444444,
              "#bd3786"
             ],
             [
              0.5555555555555556,
              "#d8576b"
             ],
             [
              0.6666666666666666,
              "#ed7953"
             ],
             [
              0.7777777777777778,
              "#fb9f3a"
             ],
             [
              0.8888888888888888,
              "#fdca26"
             ],
             [
              1,
              "#f0f921"
             ]
            ],
            "type": "heatmapgl"
           }
          ],
          "histogram": [
           {
            "marker": {
             "colorbar": {
              "outlinewidth": 0,
              "ticks": ""
             }
            },
            "type": "histogram"
           }
          ],
          "histogram2d": [
           {
            "colorbar": {
             "outlinewidth": 0,
             "ticks": ""
            },
            "colorscale": [
             [
              0,
              "#0d0887"
             ],
             [
              0.1111111111111111,
              "#46039f"
             ],
             [
              0.2222222222222222,
              "#7201a8"
             ],
             [
              0.3333333333333333,
              "#9c179e"
             ],
             [
              0.4444444444444444,
              "#bd3786"
             ],
             [
              0.5555555555555556,
              "#d8576b"
             ],
             [
              0.6666666666666666,
              "#ed7953"
             ],
             [
              0.7777777777777778,
              "#fb9f3a"
             ],
             [
              0.8888888888888888,
              "#fdca26"
             ],
             [
              1,
              "#f0f921"
             ]
            ],
            "type": "histogram2d"
           }
          ],
          "histogram2dcontour": [
           {
            "colorbar": {
             "outlinewidth": 0,
             "ticks": ""
            },
            "colorscale": [
             [
              0,
              "#0d0887"
             ],
             [
              0.1111111111111111,
              "#46039f"
             ],
             [
              0.2222222222222222,
              "#7201a8"
             ],
             [
              0.3333333333333333,
              "#9c179e"
             ],
             [
              0.4444444444444444,
              "#bd3786"
             ],
             [
              0.5555555555555556,
              "#d8576b"
             ],
             [
              0.6666666666666666,
              "#ed7953"
             ],
             [
              0.7777777777777778,
              "#fb9f3a"
             ],
             [
              0.8888888888888888,
              "#fdca26"
             ],
             [
              1,
              "#f0f921"
             ]
            ],
            "type": "histogram2dcontour"
           }
          ],
          "mesh3d": [
           {
            "colorbar": {
             "outlinewidth": 0,
             "ticks": ""
            },
            "type": "mesh3d"
           }
          ],
          "parcoords": [
           {
            "line": {
             "colorbar": {
              "outlinewidth": 0,
              "ticks": ""
             }
            },
            "type": "parcoords"
           }
          ],
          "pie": [
           {
            "automargin": true,
            "type": "pie"
           }
          ],
          "scatter": [
           {
            "marker": {
             "colorbar": {
              "outlinewidth": 0,
              "ticks": ""
             }
            },
            "type": "scatter"
           }
          ],
          "scatter3d": [
           {
            "line": {
             "colorbar": {
              "outlinewidth": 0,
              "ticks": ""
             }
            },
            "marker": {
             "colorbar": {
              "outlinewidth": 0,
              "ticks": ""
             }
            },
            "type": "scatter3d"
           }
          ],
          "scattercarpet": [
           {
            "marker": {
             "colorbar": {
              "outlinewidth": 0,
              "ticks": ""
             }
            },
            "type": "scattercarpet"
           }
          ],
          "scattergeo": [
           {
            "marker": {
             "colorbar": {
              "outlinewidth": 0,
              "ticks": ""
             }
            },
            "type": "scattergeo"
           }
          ],
          "scattergl": [
           {
            "marker": {
             "colorbar": {
              "outlinewidth": 0,
              "ticks": ""
             }
            },
            "type": "scattergl"
           }
          ],
          "scattermapbox": [
           {
            "marker": {
             "colorbar": {
              "outlinewidth": 0,
              "ticks": ""
             }
            },
            "type": "scattermapbox"
           }
          ],
          "scatterpolar": [
           {
            "marker": {
             "colorbar": {
              "outlinewidth": 0,
              "ticks": ""
             }
            },
            "type": "scatterpolar"
           }
          ],
          "scatterpolargl": [
           {
            "marker": {
             "colorbar": {
              "outlinewidth": 0,
              "ticks": ""
             }
            },
            "type": "scatterpolargl"
           }
          ],
          "scatterternary": [
           {
            "marker": {
             "colorbar": {
              "outlinewidth": 0,
              "ticks": ""
             }
            },
            "type": "scatterternary"
           }
          ],
          "surface": [
           {
            "colorbar": {
             "outlinewidth": 0,
             "ticks": ""
            },
            "colorscale": [
             [
              0,
              "#0d0887"
             ],
             [
              0.1111111111111111,
              "#46039f"
             ],
             [
              0.2222222222222222,
              "#7201a8"
             ],
             [
              0.3333333333333333,
              "#9c179e"
             ],
             [
              0.4444444444444444,
              "#bd3786"
             ],
             [
              0.5555555555555556,
              "#d8576b"
             ],
             [
              0.6666666666666666,
              "#ed7953"
             ],
             [
              0.7777777777777778,
              "#fb9f3a"
             ],
             [
              0.8888888888888888,
              "#fdca26"
             ],
             [
              1,
              "#f0f921"
             ]
            ],
            "type": "surface"
           }
          ],
          "table": [
           {
            "cells": {
             "fill": {
              "color": "#EBF0F8"
             },
             "line": {
              "color": "white"
             }
            },
            "header": {
             "fill": {
              "color": "#C8D4E3"
             },
             "line": {
              "color": "white"
             }
            },
            "type": "table"
           }
          ]
         },
         "layout": {
          "annotationdefaults": {
           "arrowcolor": "#2a3f5f",
           "arrowhead": 0,
           "arrowwidth": 1
          },
          "autotypenumbers": "strict",
          "coloraxis": {
           "colorbar": {
            "outlinewidth": 0,
            "ticks": ""
           }
          },
          "colorscale": {
           "diverging": [
            [
             0,
             "#8e0152"
            ],
            [
             0.1,
             "#c51b7d"
            ],
            [
             0.2,
             "#de77ae"
            ],
            [
             0.3,
             "#f1b6da"
            ],
            [
             0.4,
             "#fde0ef"
            ],
            [
             0.5,
             "#f7f7f7"
            ],
            [
             0.6,
             "#e6f5d0"
            ],
            [
             0.7,
             "#b8e186"
            ],
            [
             0.8,
             "#7fbc41"
            ],
            [
             0.9,
             "#4d9221"
            ],
            [
             1,
             "#276419"
            ]
           ],
           "sequential": [
            [
             0,
             "#0d0887"
            ],
            [
             0.1111111111111111,
             "#46039f"
            ],
            [
             0.2222222222222222,
             "#7201a8"
            ],
            [
             0.3333333333333333,
             "#9c179e"
            ],
            [
             0.4444444444444444,
             "#bd3786"
            ],
            [
             0.5555555555555556,
             "#d8576b"
            ],
            [
             0.6666666666666666,
             "#ed7953"
            ],
            [
             0.7777777777777778,
             "#fb9f3a"
            ],
            [
             0.8888888888888888,
             "#fdca26"
            ],
            [
             1,
             "#f0f921"
            ]
           ],
           "sequentialminus": [
            [
             0,
             "#0d0887"
            ],
            [
             0.1111111111111111,
             "#46039f"
            ],
            [
             0.2222222222222222,
             "#7201a8"
            ],
            [
             0.3333333333333333,
             "#9c179e"
            ],
            [
             0.4444444444444444,
             "#bd3786"
            ],
            [
             0.5555555555555556,
             "#d8576b"
            ],
            [
             0.6666666666666666,
             "#ed7953"
            ],
            [
             0.7777777777777778,
             "#fb9f3a"
            ],
            [
             0.8888888888888888,
             "#fdca26"
            ],
            [
             1,
             "#f0f921"
            ]
           ]
          },
          "colorway": [
           "#636efa",
           "#EF553B",
           "#00cc96",
           "#ab63fa",
           "#FFA15A",
           "#19d3f3",
           "#FF6692",
           "#B6E880",
           "#FF97FF",
           "#FECB52"
          ],
          "font": {
           "color": "#2a3f5f"
          },
          "geo": {
           "bgcolor": "white",
           "lakecolor": "white",
           "landcolor": "#E5ECF6",
           "showlakes": true,
           "showland": true,
           "subunitcolor": "white"
          },
          "hoverlabel": {
           "align": "left"
          },
          "hovermode": "closest",
          "mapbox": {
           "style": "light"
          },
          "paper_bgcolor": "white",
          "plot_bgcolor": "#E5ECF6",
          "polar": {
           "angularaxis": {
            "gridcolor": "white",
            "linecolor": "white",
            "ticks": ""
           },
           "bgcolor": "#E5ECF6",
           "radialaxis": {
            "gridcolor": "white",
            "linecolor": "white",
            "ticks": ""
           }
          },
          "scene": {
           "xaxis": {
            "backgroundcolor": "#E5ECF6",
            "gridcolor": "white",
            "gridwidth": 2,
            "linecolor": "white",
            "showbackground": true,
            "ticks": "",
            "zerolinecolor": "white"
           },
           "yaxis": {
            "backgroundcolor": "#E5ECF6",
            "gridcolor": "white",
            "gridwidth": 2,
            "linecolor": "white",
            "showbackground": true,
            "ticks": "",
            "zerolinecolor": "white"
           },
           "zaxis": {
            "backgroundcolor": "#E5ECF6",
            "gridcolor": "white",
            "gridwidth": 2,
            "linecolor": "white",
            "showbackground": true,
            "ticks": "",
            "zerolinecolor": "white"
           }
          },
          "shapedefaults": {
           "line": {
            "color": "#2a3f5f"
           }
          },
          "ternary": {
           "aaxis": {
            "gridcolor": "white",
            "linecolor": "white",
            "ticks": ""
           },
           "baxis": {
            "gridcolor": "white",
            "linecolor": "white",
            "ticks": ""
           },
           "bgcolor": "#E5ECF6",
           "caxis": {
            "gridcolor": "white",
            "linecolor": "white",
            "ticks": ""
           }
          },
          "title": {
           "x": 0.05
          },
          "xaxis": {
           "automargin": true,
           "gridcolor": "white",
           "linecolor": "white",
           "ticks": "",
           "title": {
            "standoff": 15
           },
           "zerolinecolor": "white",
           "zerolinewidth": 2
          },
          "yaxis": {
           "automargin": true,
           "gridcolor": "white",
           "linecolor": "white",
           "ticks": "",
           "title": {
            "standoff": 15
           },
           "zerolinecolor": "white",
           "zerolinewidth": 2
          }
         }
        },
        "title": {
         "font": {
          "color": "#4D5663"
         }
        },
        "xaxis": {
         "gridcolor": "#E1E5ED",
         "showgrid": true,
         "tickfont": {
          "color": "#4D5663"
         },
         "title": {
          "font": {
           "color": "#4D5663"
          },
          "text": ""
         },
         "zerolinecolor": "#E1E5ED"
        },
        "yaxis": {
         "gridcolor": "#E1E5ED",
         "showgrid": true,
         "tickfont": {
          "color": "#4D5663"
         },
         "title": {
          "font": {
           "color": "#4D5663"
          },
          "text": ""
         },
         "zerolinecolor": "#E1E5ED"
        }
       }
      },
      "text/html": [
       "<div>                            <div id=\"b8d61c1f-2499-4ec2-bbc6-87b555b8e7cd\" class=\"plotly-graph-div\" style=\"height:525px; width:100%;\"></div>            <script type=\"text/javascript\">                require([\"plotly\"], function(Plotly) {                    window.PLOTLYENV=window.PLOTLYENV || {};\n",
       "                    window.PLOTLYENV.BASE_URL='https://plot.ly';                                    if (document.getElementById(\"b8d61c1f-2499-4ec2-bbc6-87b555b8e7cd\")) {                    Plotly.newPlot(                        \"b8d61c1f-2499-4ec2-bbc6-87b555b8e7cd\",                        [{\"marker\": {\"color\": \"rgba(255, 153, 51, 0.6)\", \"line\": {\"color\": \"rgba(255, 153, 51, 1.0)\", \"width\": 1}}, \"name\": \"Values\", \"orientation\": \"v\", \"text\": \"\", \"type\": \"bar\", \"x\": [\"A\", \"B\", \"C\"], \"y\": [32, 43, 50]}],                        {\"legend\": {\"bgcolor\": \"#F5F6F9\", \"font\": {\"color\": \"#4D5663\"}}, \"paper_bgcolor\": \"#F5F6F9\", \"plot_bgcolor\": \"#F5F6F9\", \"template\": {\"data\": {\"bar\": [{\"error_x\": {\"color\": \"#2a3f5f\"}, \"error_y\": {\"color\": \"#2a3f5f\"}, \"marker\": {\"line\": {\"color\": \"#E5ECF6\", \"width\": 0.5}}, \"type\": \"bar\"}], \"barpolar\": [{\"marker\": {\"line\": {\"color\": \"#E5ECF6\", \"width\": 0.5}}, \"type\": \"barpolar\"}], \"carpet\": [{\"aaxis\": {\"endlinecolor\": \"#2a3f5f\", \"gridcolor\": \"white\", \"linecolor\": \"white\", \"minorgridcolor\": \"white\", \"startlinecolor\": \"#2a3f5f\"}, \"baxis\": {\"endlinecolor\": \"#2a3f5f\", \"gridcolor\": \"white\", \"linecolor\": \"white\", \"minorgridcolor\": \"white\", \"startlinecolor\": \"#2a3f5f\"}, \"type\": \"carpet\"}], \"choropleth\": [{\"colorbar\": {\"outlinewidth\": 0, \"ticks\": \"\"}, \"type\": \"choropleth\"}], \"contour\": [{\"colorbar\": {\"outlinewidth\": 0, \"ticks\": \"\"}, \"colorscale\": [[0.0, \"#0d0887\"], [0.1111111111111111, \"#46039f\"], [0.2222222222222222, \"#7201a8\"], [0.3333333333333333, \"#9c179e\"], [0.4444444444444444, \"#bd3786\"], [0.5555555555555556, \"#d8576b\"], [0.6666666666666666, \"#ed7953\"], [0.7777777777777778, \"#fb9f3a\"], [0.8888888888888888, \"#fdca26\"], [1.0, \"#f0f921\"]], \"type\": \"contour\"}], \"contourcarpet\": [{\"colorbar\": {\"outlinewidth\": 0, \"ticks\": \"\"}, \"type\": \"contourcarpet\"}], \"heatmap\": [{\"colorbar\": {\"outlinewidth\": 0, \"ticks\": \"\"}, \"colorscale\": [[0.0, \"#0d0887\"], [0.1111111111111111, \"#46039f\"], [0.2222222222222222, \"#7201a8\"], [0.3333333333333333, \"#9c179e\"], [0.4444444444444444, \"#bd3786\"], [0.5555555555555556, \"#d8576b\"], [0.6666666666666666, \"#ed7953\"], [0.7777777777777778, \"#fb9f3a\"], [0.8888888888888888, \"#fdca26\"], [1.0, \"#f0f921\"]], \"type\": \"heatmap\"}], \"heatmapgl\": [{\"colorbar\": {\"outlinewidth\": 0, \"ticks\": \"\"}, \"colorscale\": [[0.0, \"#0d0887\"], [0.1111111111111111, \"#46039f\"], [0.2222222222222222, \"#7201a8\"], [0.3333333333333333, \"#9c179e\"], [0.4444444444444444, \"#bd3786\"], [0.5555555555555556, \"#d8576b\"], [0.6666666666666666, \"#ed7953\"], [0.7777777777777778, \"#fb9f3a\"], [0.8888888888888888, \"#fdca26\"], [1.0, \"#f0f921\"]], \"type\": \"heatmapgl\"}], \"histogram\": [{\"marker\": {\"colorbar\": {\"outlinewidth\": 0, \"ticks\": \"\"}}, \"type\": \"histogram\"}], \"histogram2d\": [{\"colorbar\": {\"outlinewidth\": 0, \"ticks\": \"\"}, \"colorscale\": [[0.0, \"#0d0887\"], [0.1111111111111111, \"#46039f\"], [0.2222222222222222, \"#7201a8\"], [0.3333333333333333, \"#9c179e\"], [0.4444444444444444, \"#bd3786\"], [0.5555555555555556, \"#d8576b\"], [0.6666666666666666, \"#ed7953\"], [0.7777777777777778, \"#fb9f3a\"], [0.8888888888888888, \"#fdca26\"], [1.0, \"#f0f921\"]], \"type\": \"histogram2d\"}], \"histogram2dcontour\": [{\"colorbar\": {\"outlinewidth\": 0, \"ticks\": \"\"}, \"colorscale\": [[0.0, \"#0d0887\"], [0.1111111111111111, \"#46039f\"], [0.2222222222222222, \"#7201a8\"], [0.3333333333333333, \"#9c179e\"], [0.4444444444444444, \"#bd3786\"], [0.5555555555555556, \"#d8576b\"], [0.6666666666666666, \"#ed7953\"], [0.7777777777777778, \"#fb9f3a\"], [0.8888888888888888, \"#fdca26\"], [1.0, \"#f0f921\"]], \"type\": \"histogram2dcontour\"}], \"mesh3d\": [{\"colorbar\": {\"outlinewidth\": 0, \"ticks\": \"\"}, \"type\": \"mesh3d\"}], \"parcoords\": [{\"line\": {\"colorbar\": {\"outlinewidth\": 0, \"ticks\": \"\"}}, \"type\": \"parcoords\"}], \"pie\": [{\"automargin\": true, \"type\": \"pie\"}], \"scatter\": [{\"marker\": {\"colorbar\": {\"outlinewidth\": 0, \"ticks\": \"\"}}, \"type\": \"scatter\"}], \"scatter3d\": [{\"line\": {\"colorbar\": {\"outlinewidth\": 0, \"ticks\": \"\"}}, \"marker\": {\"colorbar\": {\"outlinewidth\": 0, \"ticks\": \"\"}}, \"type\": \"scatter3d\"}], \"scattercarpet\": [{\"marker\": {\"colorbar\": {\"outlinewidth\": 0, \"ticks\": \"\"}}, \"type\": \"scattercarpet\"}], \"scattergeo\": [{\"marker\": {\"colorbar\": {\"outlinewidth\": 0, \"ticks\": \"\"}}, \"type\": \"scattergeo\"}], \"scattergl\": [{\"marker\": {\"colorbar\": {\"outlinewidth\": 0, \"ticks\": \"\"}}, \"type\": \"scattergl\"}], \"scattermapbox\": [{\"marker\": {\"colorbar\": {\"outlinewidth\": 0, \"ticks\": \"\"}}, \"type\": \"scattermapbox\"}], \"scatterpolar\": [{\"marker\": {\"colorbar\": {\"outlinewidth\": 0, \"ticks\": \"\"}}, \"type\": \"scatterpolar\"}], \"scatterpolargl\": [{\"marker\": {\"colorbar\": {\"outlinewidth\": 0, \"ticks\": \"\"}}, \"type\": \"scatterpolargl\"}], \"scatterternary\": [{\"marker\": {\"colorbar\": {\"outlinewidth\": 0, \"ticks\": \"\"}}, \"type\": \"scatterternary\"}], \"surface\": [{\"colorbar\": {\"outlinewidth\": 0, \"ticks\": \"\"}, \"colorscale\": [[0.0, \"#0d0887\"], [0.1111111111111111, \"#46039f\"], [0.2222222222222222, \"#7201a8\"], [0.3333333333333333, \"#9c179e\"], [0.4444444444444444, \"#bd3786\"], [0.5555555555555556, \"#d8576b\"], [0.6666666666666666, \"#ed7953\"], [0.7777777777777778, \"#fb9f3a\"], [0.8888888888888888, \"#fdca26\"], [1.0, \"#f0f921\"]], \"type\": \"surface\"}], \"table\": [{\"cells\": {\"fill\": {\"color\": \"#EBF0F8\"}, \"line\": {\"color\": \"white\"}}, \"header\": {\"fill\": {\"color\": \"#C8D4E3\"}, \"line\": {\"color\": \"white\"}}, \"type\": \"table\"}]}, \"layout\": {\"annotationdefaults\": {\"arrowcolor\": \"#2a3f5f\", \"arrowhead\": 0, \"arrowwidth\": 1}, \"autotypenumbers\": \"strict\", \"coloraxis\": {\"colorbar\": {\"outlinewidth\": 0, \"ticks\": \"\"}}, \"colorscale\": {\"diverging\": [[0, \"#8e0152\"], [0.1, \"#c51b7d\"], [0.2, \"#de77ae\"], [0.3, \"#f1b6da\"], [0.4, \"#fde0ef\"], [0.5, \"#f7f7f7\"], [0.6, \"#e6f5d0\"], [0.7, \"#b8e186\"], [0.8, \"#7fbc41\"], [0.9, \"#4d9221\"], [1, \"#276419\"]], \"sequential\": [[0.0, \"#0d0887\"], [0.1111111111111111, \"#46039f\"], [0.2222222222222222, \"#7201a8\"], [0.3333333333333333, \"#9c179e\"], [0.4444444444444444, \"#bd3786\"], [0.5555555555555556, \"#d8576b\"], [0.6666666666666666, \"#ed7953\"], [0.7777777777777778, \"#fb9f3a\"], [0.8888888888888888, \"#fdca26\"], [1.0, \"#f0f921\"]], \"sequentialminus\": [[0.0, \"#0d0887\"], [0.1111111111111111, \"#46039f\"], [0.2222222222222222, \"#7201a8\"], [0.3333333333333333, \"#9c179e\"], [0.4444444444444444, \"#bd3786\"], [0.5555555555555556, \"#d8576b\"], [0.6666666666666666, \"#ed7953\"], [0.7777777777777778, \"#fb9f3a\"], [0.8888888888888888, \"#fdca26\"], [1.0, \"#f0f921\"]]}, \"colorway\": [\"#636efa\", \"#EF553B\", \"#00cc96\", \"#ab63fa\", \"#FFA15A\", \"#19d3f3\", \"#FF6692\", \"#B6E880\", \"#FF97FF\", \"#FECB52\"], \"font\": {\"color\": \"#2a3f5f\"}, \"geo\": {\"bgcolor\": \"white\", \"lakecolor\": \"white\", \"landcolor\": \"#E5ECF6\", \"showlakes\": true, \"showland\": true, \"subunitcolor\": \"white\"}, \"hoverlabel\": {\"align\": \"left\"}, \"hovermode\": \"closest\", \"mapbox\": {\"style\": \"light\"}, \"paper_bgcolor\": \"white\", \"plot_bgcolor\": \"#E5ECF6\", \"polar\": {\"angularaxis\": {\"gridcolor\": \"white\", \"linecolor\": \"white\", \"ticks\": \"\"}, \"bgcolor\": \"#E5ECF6\", \"radialaxis\": {\"gridcolor\": \"white\", \"linecolor\": \"white\", \"ticks\": \"\"}}, \"scene\": {\"xaxis\": {\"backgroundcolor\": \"#E5ECF6\", \"gridcolor\": \"white\", \"gridwidth\": 2, \"linecolor\": \"white\", \"showbackground\": true, \"ticks\": \"\", \"zerolinecolor\": \"white\"}, \"yaxis\": {\"backgroundcolor\": \"#E5ECF6\", \"gridcolor\": \"white\", \"gridwidth\": 2, \"linecolor\": \"white\", \"showbackground\": true, \"ticks\": \"\", \"zerolinecolor\": \"white\"}, \"zaxis\": {\"backgroundcolor\": \"#E5ECF6\", \"gridcolor\": \"white\", \"gridwidth\": 2, \"linecolor\": \"white\", \"showbackground\": true, \"ticks\": \"\", \"zerolinecolor\": \"white\"}}, \"shapedefaults\": {\"line\": {\"color\": \"#2a3f5f\"}}, \"ternary\": {\"aaxis\": {\"gridcolor\": \"white\", \"linecolor\": \"white\", \"ticks\": \"\"}, \"baxis\": {\"gridcolor\": \"white\", \"linecolor\": \"white\", \"ticks\": \"\"}, \"bgcolor\": \"#E5ECF6\", \"caxis\": {\"gridcolor\": \"white\", \"linecolor\": \"white\", \"ticks\": \"\"}}, \"title\": {\"x\": 0.05}, \"xaxis\": {\"automargin\": true, \"gridcolor\": \"white\", \"linecolor\": \"white\", \"ticks\": \"\", \"title\": {\"standoff\": 15}, \"zerolinecolor\": \"white\", \"zerolinewidth\": 2}, \"yaxis\": {\"automargin\": true, \"gridcolor\": \"white\", \"linecolor\": \"white\", \"ticks\": \"\", \"title\": {\"standoff\": 15}, \"zerolinecolor\": \"white\", \"zerolinewidth\": 2}}}, \"title\": {\"font\": {\"color\": \"#4D5663\"}}, \"xaxis\": {\"gridcolor\": \"#E1E5ED\", \"showgrid\": true, \"tickfont\": {\"color\": \"#4D5663\"}, \"title\": {\"font\": {\"color\": \"#4D5663\"}, \"text\": \"\"}, \"zerolinecolor\": \"#E1E5ED\"}, \"yaxis\": {\"gridcolor\": \"#E1E5ED\", \"showgrid\": true, \"tickfont\": {\"color\": \"#4D5663\"}, \"title\": {\"font\": {\"color\": \"#4D5663\"}, \"text\": \"\"}, \"zerolinecolor\": \"#E1E5ED\"}},                        {\"showLink\": true, \"linkText\": \"Export to plot.ly\", \"plotlyServerURL\": \"https://plot.ly\", \"responsive\": true}                    ).then(function(){\n",
       "                            \n",
       "var gd = document.getElementById('b8d61c1f-2499-4ec2-bbc6-87b555b8e7cd');\n",
       "var x = new MutationObserver(function (mutations, observer) {{\n",
       "        var display = window.getComputedStyle(gd).display;\n",
       "        if (!display || display === 'none') {{\n",
       "            console.log([gd, 'removed!']);\n",
       "            Plotly.purge(gd);\n",
       "            observer.disconnect();\n",
       "        }}\n",
       "}});\n",
       "\n",
       "// Listen for the removal of the full notebook cells\n",
       "var notebookContainer = gd.closest('#notebook-container');\n",
       "if (notebookContainer) {{\n",
       "    x.observe(notebookContainer, {childList: true});\n",
       "}}\n",
       "\n",
       "// Listen for the clearing of the current output cell\n",
       "var outputEl = gd.closest('.output');\n",
       "if (outputEl) {{\n",
       "    x.observe(outputEl, {childList: true});\n",
       "}}\n",
       "\n",
       "                        })                };                });            </script>        </div>"
      ]
     },
     "metadata": {},
     "output_type": "display_data"
    }
   ],
   "source": [
    "df2.iplot(kind='bar',x='Category',y='Values')"
   ]
  },
  {
   "cell_type": "code",
   "execution_count": 13,
   "metadata": {},
   "outputs": [
    {
     "data": {
      "application/vnd.plotly.v1+json": {
       "config": {
        "linkText": "Export to plot.ly",
        "plotlyServerURL": "https://plot.ly",
        "showLink": true
       },
       "data": [
        {
         "marker": {
          "color": "rgba(255, 153, 51, 0.6)",
          "line": {
           "color": "rgba(255, 153, 51, 1.0)",
           "width": 1
          }
         },
         "name": "None",
         "orientation": "v",
         "text": "",
         "type": "bar",
         "x": [
          "A",
          "B",
          "C",
          "D"
         ],
         "y": [
          100,
          100,
          100,
          100
         ]
        }
       ],
       "layout": {
        "legend": {
         "bgcolor": "#F5F6F9",
         "font": {
          "color": "#4D5663"
         }
        },
        "paper_bgcolor": "#F5F6F9",
        "plot_bgcolor": "#F5F6F9",
        "template": {
         "data": {
          "bar": [
           {
            "error_x": {
             "color": "#2a3f5f"
            },
            "error_y": {
             "color": "#2a3f5f"
            },
            "marker": {
             "line": {
              "color": "#E5ECF6",
              "width": 0.5
             }
            },
            "type": "bar"
           }
          ],
          "barpolar": [
           {
            "marker": {
             "line": {
              "color": "#E5ECF6",
              "width": 0.5
             }
            },
            "type": "barpolar"
           }
          ],
          "carpet": [
           {
            "aaxis": {
             "endlinecolor": "#2a3f5f",
             "gridcolor": "white",
             "linecolor": "white",
             "minorgridcolor": "white",
             "startlinecolor": "#2a3f5f"
            },
            "baxis": {
             "endlinecolor": "#2a3f5f",
             "gridcolor": "white",
             "linecolor": "white",
             "minorgridcolor": "white",
             "startlinecolor": "#2a3f5f"
            },
            "type": "carpet"
           }
          ],
          "choropleth": [
           {
            "colorbar": {
             "outlinewidth": 0,
             "ticks": ""
            },
            "type": "choropleth"
           }
          ],
          "contour": [
           {
            "colorbar": {
             "outlinewidth": 0,
             "ticks": ""
            },
            "colorscale": [
             [
              0,
              "#0d0887"
             ],
             [
              0.1111111111111111,
              "#46039f"
             ],
             [
              0.2222222222222222,
              "#7201a8"
             ],
             [
              0.3333333333333333,
              "#9c179e"
             ],
             [
              0.4444444444444444,
              "#bd3786"
             ],
             [
              0.5555555555555556,
              "#d8576b"
             ],
             [
              0.6666666666666666,
              "#ed7953"
             ],
             [
              0.7777777777777778,
              "#fb9f3a"
             ],
             [
              0.8888888888888888,
              "#fdca26"
             ],
             [
              1,
              "#f0f921"
             ]
            ],
            "type": "contour"
           }
          ],
          "contourcarpet": [
           {
            "colorbar": {
             "outlinewidth": 0,
             "ticks": ""
            },
            "type": "contourcarpet"
           }
          ],
          "heatmap": [
           {
            "colorbar": {
             "outlinewidth": 0,
             "ticks": ""
            },
            "colorscale": [
             [
              0,
              "#0d0887"
             ],
             [
              0.1111111111111111,
              "#46039f"
             ],
             [
              0.2222222222222222,
              "#7201a8"
             ],
             [
              0.3333333333333333,
              "#9c179e"
             ],
             [
              0.4444444444444444,
              "#bd3786"
             ],
             [
              0.5555555555555556,
              "#d8576b"
             ],
             [
              0.6666666666666666,
              "#ed7953"
             ],
             [
              0.7777777777777778,
              "#fb9f3a"
             ],
             [
              0.8888888888888888,
              "#fdca26"
             ],
             [
              1,
              "#f0f921"
             ]
            ],
            "type": "heatmap"
           }
          ],
          "heatmapgl": [
           {
            "colorbar": {
             "outlinewidth": 0,
             "ticks": ""
            },
            "colorscale": [
             [
              0,
              "#0d0887"
             ],
             [
              0.1111111111111111,
              "#46039f"
             ],
             [
              0.2222222222222222,
              "#7201a8"
             ],
             [
              0.3333333333333333,
              "#9c179e"
             ],
             [
              0.4444444444444444,
              "#bd3786"
             ],
             [
              0.5555555555555556,
              "#d8576b"
             ],
             [
              0.6666666666666666,
              "#ed7953"
             ],
             [
              0.7777777777777778,
              "#fb9f3a"
             ],
             [
              0.8888888888888888,
              "#fdca26"
             ],
             [
              1,
              "#f0f921"
             ]
            ],
            "type": "heatmapgl"
           }
          ],
          "histogram": [
           {
            "marker": {
             "colorbar": {
              "outlinewidth": 0,
              "ticks": ""
             }
            },
            "type": "histogram"
           }
          ],
          "histogram2d": [
           {
            "colorbar": {
             "outlinewidth": 0,
             "ticks": ""
            },
            "colorscale": [
             [
              0,
              "#0d0887"
             ],
             [
              0.1111111111111111,
              "#46039f"
             ],
             [
              0.2222222222222222,
              "#7201a8"
             ],
             [
              0.3333333333333333,
              "#9c179e"
             ],
             [
              0.4444444444444444,
              "#bd3786"
             ],
             [
              0.5555555555555556,
              "#d8576b"
             ],
             [
              0.6666666666666666,
              "#ed7953"
             ],
             [
              0.7777777777777778,
              "#fb9f3a"
             ],
             [
              0.8888888888888888,
              "#fdca26"
             ],
             [
              1,
              "#f0f921"
             ]
            ],
            "type": "histogram2d"
           }
          ],
          "histogram2dcontour": [
           {
            "colorbar": {
             "outlinewidth": 0,
             "ticks": ""
            },
            "colorscale": [
             [
              0,
              "#0d0887"
             ],
             [
              0.1111111111111111,
              "#46039f"
             ],
             [
              0.2222222222222222,
              "#7201a8"
             ],
             [
              0.3333333333333333,
              "#9c179e"
             ],
             [
              0.4444444444444444,
              "#bd3786"
             ],
             [
              0.5555555555555556,
              "#d8576b"
             ],
             [
              0.6666666666666666,
              "#ed7953"
             ],
             [
              0.7777777777777778,
              "#fb9f3a"
             ],
             [
              0.8888888888888888,
              "#fdca26"
             ],
             [
              1,
              "#f0f921"
             ]
            ],
            "type": "histogram2dcontour"
           }
          ],
          "mesh3d": [
           {
            "colorbar": {
             "outlinewidth": 0,
             "ticks": ""
            },
            "type": "mesh3d"
           }
          ],
          "parcoords": [
           {
            "line": {
             "colorbar": {
              "outlinewidth": 0,
              "ticks": ""
             }
            },
            "type": "parcoords"
           }
          ],
          "pie": [
           {
            "automargin": true,
            "type": "pie"
           }
          ],
          "scatter": [
           {
            "marker": {
             "colorbar": {
              "outlinewidth": 0,
              "ticks": ""
             }
            },
            "type": "scatter"
           }
          ],
          "scatter3d": [
           {
            "line": {
             "colorbar": {
              "outlinewidth": 0,
              "ticks": ""
             }
            },
            "marker": {
             "colorbar": {
              "outlinewidth": 0,
              "ticks": ""
             }
            },
            "type": "scatter3d"
           }
          ],
          "scattercarpet": [
           {
            "marker": {
             "colorbar": {
              "outlinewidth": 0,
              "ticks": ""
             }
            },
            "type": "scattercarpet"
           }
          ],
          "scattergeo": [
           {
            "marker": {
             "colorbar": {
              "outlinewidth": 0,
              "ticks": ""
             }
            },
            "type": "scattergeo"
           }
          ],
          "scattergl": [
           {
            "marker": {
             "colorbar": {
              "outlinewidth": 0,
              "ticks": ""
             }
            },
            "type": "scattergl"
           }
          ],
          "scattermapbox": [
           {
            "marker": {
             "colorbar": {
              "outlinewidth": 0,
              "ticks": ""
             }
            },
            "type": "scattermapbox"
           }
          ],
          "scatterpolar": [
           {
            "marker": {
             "colorbar": {
              "outlinewidth": 0,
              "ticks": ""
             }
            },
            "type": "scatterpolar"
           }
          ],
          "scatterpolargl": [
           {
            "marker": {
             "colorbar": {
              "outlinewidth": 0,
              "ticks": ""
             }
            },
            "type": "scatterpolargl"
           }
          ],
          "scatterternary": [
           {
            "marker": {
             "colorbar": {
              "outlinewidth": 0,
              "ticks": ""
             }
            },
            "type": "scatterternary"
           }
          ],
          "surface": [
           {
            "colorbar": {
             "outlinewidth": 0,
             "ticks": ""
            },
            "colorscale": [
             [
              0,
              "#0d0887"
             ],
             [
              0.1111111111111111,
              "#46039f"
             ],
             [
              0.2222222222222222,
              "#7201a8"
             ],
             [
              0.3333333333333333,
              "#9c179e"
             ],
             [
              0.4444444444444444,
              "#bd3786"
             ],
             [
              0.5555555555555556,
              "#d8576b"
             ],
             [
              0.6666666666666666,
              "#ed7953"
             ],
             [
              0.7777777777777778,
              "#fb9f3a"
             ],
             [
              0.8888888888888888,
              "#fdca26"
             ],
             [
              1,
              "#f0f921"
             ]
            ],
            "type": "surface"
           }
          ],
          "table": [
           {
            "cells": {
             "fill": {
              "color": "#EBF0F8"
             },
             "line": {
              "color": "white"
             }
            },
            "header": {
             "fill": {
              "color": "#C8D4E3"
             },
             "line": {
              "color": "white"
             }
            },
            "type": "table"
           }
          ]
         },
         "layout": {
          "annotationdefaults": {
           "arrowcolor": "#2a3f5f",
           "arrowhead": 0,
           "arrowwidth": 1
          },
          "autotypenumbers": "strict",
          "coloraxis": {
           "colorbar": {
            "outlinewidth": 0,
            "ticks": ""
           }
          },
          "colorscale": {
           "diverging": [
            [
             0,
             "#8e0152"
            ],
            [
             0.1,
             "#c51b7d"
            ],
            [
             0.2,
             "#de77ae"
            ],
            [
             0.3,
             "#f1b6da"
            ],
            [
             0.4,
             "#fde0ef"
            ],
            [
             0.5,
             "#f7f7f7"
            ],
            [
             0.6,
             "#e6f5d0"
            ],
            [
             0.7,
             "#b8e186"
            ],
            [
             0.8,
             "#7fbc41"
            ],
            [
             0.9,
             "#4d9221"
            ],
            [
             1,
             "#276419"
            ]
           ],
           "sequential": [
            [
             0,
             "#0d0887"
            ],
            [
             0.1111111111111111,
             "#46039f"
            ],
            [
             0.2222222222222222,
             "#7201a8"
            ],
            [
             0.3333333333333333,
             "#9c179e"
            ],
            [
             0.4444444444444444,
             "#bd3786"
            ],
            [
             0.5555555555555556,
             "#d8576b"
            ],
            [
             0.6666666666666666,
             "#ed7953"
            ],
            [
             0.7777777777777778,
             "#fb9f3a"
            ],
            [
             0.8888888888888888,
             "#fdca26"
            ],
            [
             1,
             "#f0f921"
            ]
           ],
           "sequentialminus": [
            [
             0,
             "#0d0887"
            ],
            [
             0.1111111111111111,
             "#46039f"
            ],
            [
             0.2222222222222222,
             "#7201a8"
            ],
            [
             0.3333333333333333,
             "#9c179e"
            ],
            [
             0.4444444444444444,
             "#bd3786"
            ],
            [
             0.5555555555555556,
             "#d8576b"
            ],
            [
             0.6666666666666666,
             "#ed7953"
            ],
            [
             0.7777777777777778,
             "#fb9f3a"
            ],
            [
             0.8888888888888888,
             "#fdca26"
            ],
            [
             1,
             "#f0f921"
            ]
           ]
          },
          "colorway": [
           "#636efa",
           "#EF553B",
           "#00cc96",
           "#ab63fa",
           "#FFA15A",
           "#19d3f3",
           "#FF6692",
           "#B6E880",
           "#FF97FF",
           "#FECB52"
          ],
          "font": {
           "color": "#2a3f5f"
          },
          "geo": {
           "bgcolor": "white",
           "lakecolor": "white",
           "landcolor": "#E5ECF6",
           "showlakes": true,
           "showland": true,
           "subunitcolor": "white"
          },
          "hoverlabel": {
           "align": "left"
          },
          "hovermode": "closest",
          "mapbox": {
           "style": "light"
          },
          "paper_bgcolor": "white",
          "plot_bgcolor": "#E5ECF6",
          "polar": {
           "angularaxis": {
            "gridcolor": "white",
            "linecolor": "white",
            "ticks": ""
           },
           "bgcolor": "#E5ECF6",
           "radialaxis": {
            "gridcolor": "white",
            "linecolor": "white",
            "ticks": ""
           }
          },
          "scene": {
           "xaxis": {
            "backgroundcolor": "#E5ECF6",
            "gridcolor": "white",
            "gridwidth": 2,
            "linecolor": "white",
            "showbackground": true,
            "ticks": "",
            "zerolinecolor": "white"
           },
           "yaxis": {
            "backgroundcolor": "#E5ECF6",
            "gridcolor": "white",
            "gridwidth": 2,
            "linecolor": "white",
            "showbackground": true,
            "ticks": "",
            "zerolinecolor": "white"
           },
           "zaxis": {
            "backgroundcolor": "#E5ECF6",
            "gridcolor": "white",
            "gridwidth": 2,
            "linecolor": "white",
            "showbackground": true,
            "ticks": "",
            "zerolinecolor": "white"
           }
          },
          "shapedefaults": {
           "line": {
            "color": "#2a3f5f"
           }
          },
          "ternary": {
           "aaxis": {
            "gridcolor": "white",
            "linecolor": "white",
            "ticks": ""
           },
           "baxis": {
            "gridcolor": "white",
            "linecolor": "white",
            "ticks": ""
           },
           "bgcolor": "#E5ECF6",
           "caxis": {
            "gridcolor": "white",
            "linecolor": "white",
            "ticks": ""
           }
          },
          "title": {
           "x": 0.05
          },
          "xaxis": {
           "automargin": true,
           "gridcolor": "white",
           "linecolor": "white",
           "ticks": "",
           "title": {
            "standoff": 15
           },
           "zerolinecolor": "white",
           "zerolinewidth": 2
          },
          "yaxis": {
           "automargin": true,
           "gridcolor": "white",
           "linecolor": "white",
           "ticks": "",
           "title": {
            "standoff": 15
           },
           "zerolinecolor": "white",
           "zerolinewidth": 2
          }
         }
        },
        "title": {
         "font": {
          "color": "#4D5663"
         }
        },
        "xaxis": {
         "gridcolor": "#E1E5ED",
         "showgrid": true,
         "tickfont": {
          "color": "#4D5663"
         },
         "title": {
          "font": {
           "color": "#4D5663"
          },
          "text": ""
         },
         "zerolinecolor": "#E1E5ED"
        },
        "yaxis": {
         "gridcolor": "#E1E5ED",
         "showgrid": true,
         "tickfont": {
          "color": "#4D5663"
         },
         "title": {
          "font": {
           "color": "#4D5663"
          },
          "text": ""
         },
         "zerolinecolor": "#E1E5ED"
        }
       }
      },
      "text/html": [
       "<div>                            <div id=\"732b17c0-b605-4d06-a8b8-a7aeb0e9e0f8\" class=\"plotly-graph-div\" style=\"height:525px; width:100%;\"></div>            <script type=\"text/javascript\">                require([\"plotly\"], function(Plotly) {                    window.PLOTLYENV=window.PLOTLYENV || {};\n",
       "                    window.PLOTLYENV.BASE_URL='https://plot.ly';                                    if (document.getElementById(\"732b17c0-b605-4d06-a8b8-a7aeb0e9e0f8\")) {                    Plotly.newPlot(                        \"732b17c0-b605-4d06-a8b8-a7aeb0e9e0f8\",                        [{\"marker\": {\"color\": \"rgba(255, 153, 51, 0.6)\", \"line\": {\"color\": \"rgba(255, 153, 51, 1.0)\", \"width\": 1}}, \"name\": \"None\", \"orientation\": \"v\", \"text\": \"\", \"type\": \"bar\", \"x\": [\"A\", \"B\", \"C\", \"D\"], \"y\": [100, 100, 100, 100]}],                        {\"legend\": {\"bgcolor\": \"#F5F6F9\", \"font\": {\"color\": \"#4D5663\"}}, \"paper_bgcolor\": \"#F5F6F9\", \"plot_bgcolor\": \"#F5F6F9\", \"template\": {\"data\": {\"bar\": [{\"error_x\": {\"color\": \"#2a3f5f\"}, \"error_y\": {\"color\": \"#2a3f5f\"}, \"marker\": {\"line\": {\"color\": \"#E5ECF6\", \"width\": 0.5}}, \"type\": \"bar\"}], \"barpolar\": [{\"marker\": {\"line\": {\"color\": \"#E5ECF6\", \"width\": 0.5}}, \"type\": \"barpolar\"}], \"carpet\": [{\"aaxis\": {\"endlinecolor\": \"#2a3f5f\", \"gridcolor\": \"white\", \"linecolor\": \"white\", \"minorgridcolor\": \"white\", \"startlinecolor\": \"#2a3f5f\"}, \"baxis\": {\"endlinecolor\": \"#2a3f5f\", \"gridcolor\": \"white\", \"linecolor\": \"white\", \"minorgridcolor\": \"white\", \"startlinecolor\": \"#2a3f5f\"}, \"type\": \"carpet\"}], \"choropleth\": [{\"colorbar\": {\"outlinewidth\": 0, \"ticks\": \"\"}, \"type\": \"choropleth\"}], \"contour\": [{\"colorbar\": {\"outlinewidth\": 0, \"ticks\": \"\"}, \"colorscale\": [[0.0, \"#0d0887\"], [0.1111111111111111, \"#46039f\"], [0.2222222222222222, \"#7201a8\"], [0.3333333333333333, \"#9c179e\"], [0.4444444444444444, \"#bd3786\"], [0.5555555555555556, \"#d8576b\"], [0.6666666666666666, \"#ed7953\"], [0.7777777777777778, \"#fb9f3a\"], [0.8888888888888888, \"#fdca26\"], [1.0, \"#f0f921\"]], \"type\": \"contour\"}], \"contourcarpet\": [{\"colorbar\": {\"outlinewidth\": 0, \"ticks\": \"\"}, \"type\": \"contourcarpet\"}], \"heatmap\": [{\"colorbar\": {\"outlinewidth\": 0, \"ticks\": \"\"}, \"colorscale\": [[0.0, \"#0d0887\"], [0.1111111111111111, \"#46039f\"], [0.2222222222222222, \"#7201a8\"], [0.3333333333333333, \"#9c179e\"], [0.4444444444444444, \"#bd3786\"], [0.5555555555555556, \"#d8576b\"], [0.6666666666666666, \"#ed7953\"], [0.7777777777777778, \"#fb9f3a\"], [0.8888888888888888, \"#fdca26\"], [1.0, \"#f0f921\"]], \"type\": \"heatmap\"}], \"heatmapgl\": [{\"colorbar\": {\"outlinewidth\": 0, \"ticks\": \"\"}, \"colorscale\": [[0.0, \"#0d0887\"], [0.1111111111111111, \"#46039f\"], [0.2222222222222222, \"#7201a8\"], [0.3333333333333333, \"#9c179e\"], [0.4444444444444444, \"#bd3786\"], [0.5555555555555556, \"#d8576b\"], [0.6666666666666666, \"#ed7953\"], [0.7777777777777778, \"#fb9f3a\"], [0.8888888888888888, \"#fdca26\"], [1.0, \"#f0f921\"]], \"type\": \"heatmapgl\"}], \"histogram\": [{\"marker\": {\"colorbar\": {\"outlinewidth\": 0, \"ticks\": \"\"}}, \"type\": \"histogram\"}], \"histogram2d\": [{\"colorbar\": {\"outlinewidth\": 0, \"ticks\": \"\"}, \"colorscale\": [[0.0, \"#0d0887\"], [0.1111111111111111, \"#46039f\"], [0.2222222222222222, \"#7201a8\"], [0.3333333333333333, \"#9c179e\"], [0.4444444444444444, \"#bd3786\"], [0.5555555555555556, \"#d8576b\"], [0.6666666666666666, \"#ed7953\"], [0.7777777777777778, \"#fb9f3a\"], [0.8888888888888888, \"#fdca26\"], [1.0, \"#f0f921\"]], \"type\": \"histogram2d\"}], \"histogram2dcontour\": [{\"colorbar\": {\"outlinewidth\": 0, \"ticks\": \"\"}, \"colorscale\": [[0.0, \"#0d0887\"], [0.1111111111111111, \"#46039f\"], [0.2222222222222222, \"#7201a8\"], [0.3333333333333333, \"#9c179e\"], [0.4444444444444444, \"#bd3786\"], [0.5555555555555556, \"#d8576b\"], [0.6666666666666666, \"#ed7953\"], [0.7777777777777778, \"#fb9f3a\"], [0.8888888888888888, \"#fdca26\"], [1.0, \"#f0f921\"]], \"type\": \"histogram2dcontour\"}], \"mesh3d\": [{\"colorbar\": {\"outlinewidth\": 0, \"ticks\": \"\"}, \"type\": \"mesh3d\"}], \"parcoords\": [{\"line\": {\"colorbar\": {\"outlinewidth\": 0, \"ticks\": \"\"}}, \"type\": \"parcoords\"}], \"pie\": [{\"automargin\": true, \"type\": \"pie\"}], \"scatter\": [{\"marker\": {\"colorbar\": {\"outlinewidth\": 0, \"ticks\": \"\"}}, \"type\": \"scatter\"}], \"scatter3d\": [{\"line\": {\"colorbar\": {\"outlinewidth\": 0, \"ticks\": \"\"}}, \"marker\": {\"colorbar\": {\"outlinewidth\": 0, \"ticks\": \"\"}}, \"type\": \"scatter3d\"}], \"scattercarpet\": [{\"marker\": {\"colorbar\": {\"outlinewidth\": 0, \"ticks\": \"\"}}, \"type\": \"scattercarpet\"}], \"scattergeo\": [{\"marker\": {\"colorbar\": {\"outlinewidth\": 0, \"ticks\": \"\"}}, \"type\": \"scattergeo\"}], \"scattergl\": [{\"marker\": {\"colorbar\": {\"outlinewidth\": 0, \"ticks\": \"\"}}, \"type\": \"scattergl\"}], \"scattermapbox\": [{\"marker\": {\"colorbar\": {\"outlinewidth\": 0, \"ticks\": \"\"}}, \"type\": \"scattermapbox\"}], \"scatterpolar\": [{\"marker\": {\"colorbar\": {\"outlinewidth\": 0, \"ticks\": \"\"}}, \"type\": \"scatterpolar\"}], \"scatterpolargl\": [{\"marker\": {\"colorbar\": {\"outlinewidth\": 0, \"ticks\": \"\"}}, \"type\": \"scatterpolargl\"}], \"scatterternary\": [{\"marker\": {\"colorbar\": {\"outlinewidth\": 0, \"ticks\": \"\"}}, \"type\": \"scatterternary\"}], \"surface\": [{\"colorbar\": {\"outlinewidth\": 0, \"ticks\": \"\"}, \"colorscale\": [[0.0, \"#0d0887\"], [0.1111111111111111, \"#46039f\"], [0.2222222222222222, \"#7201a8\"], [0.3333333333333333, \"#9c179e\"], [0.4444444444444444, \"#bd3786\"], [0.5555555555555556, \"#d8576b\"], [0.6666666666666666, \"#ed7953\"], [0.7777777777777778, \"#fb9f3a\"], [0.8888888888888888, \"#fdca26\"], [1.0, \"#f0f921\"]], \"type\": \"surface\"}], \"table\": [{\"cells\": {\"fill\": {\"color\": \"#EBF0F8\"}, \"line\": {\"color\": \"white\"}}, \"header\": {\"fill\": {\"color\": \"#C8D4E3\"}, \"line\": {\"color\": \"white\"}}, \"type\": \"table\"}]}, \"layout\": {\"annotationdefaults\": {\"arrowcolor\": \"#2a3f5f\", \"arrowhead\": 0, \"arrowwidth\": 1}, \"autotypenumbers\": \"strict\", \"coloraxis\": {\"colorbar\": {\"outlinewidth\": 0, \"ticks\": \"\"}}, \"colorscale\": {\"diverging\": [[0, \"#8e0152\"], [0.1, \"#c51b7d\"], [0.2, \"#de77ae\"], [0.3, \"#f1b6da\"], [0.4, \"#fde0ef\"], [0.5, \"#f7f7f7\"], [0.6, \"#e6f5d0\"], [0.7, \"#b8e186\"], [0.8, \"#7fbc41\"], [0.9, \"#4d9221\"], [1, \"#276419\"]], \"sequential\": [[0.0, \"#0d0887\"], [0.1111111111111111, \"#46039f\"], [0.2222222222222222, \"#7201a8\"], [0.3333333333333333, \"#9c179e\"], [0.4444444444444444, \"#bd3786\"], [0.5555555555555556, \"#d8576b\"], [0.6666666666666666, \"#ed7953\"], [0.7777777777777778, \"#fb9f3a\"], [0.8888888888888888, \"#fdca26\"], [1.0, \"#f0f921\"]], \"sequentialminus\": [[0.0, \"#0d0887\"], [0.1111111111111111, \"#46039f\"], [0.2222222222222222, \"#7201a8\"], [0.3333333333333333, \"#9c179e\"], [0.4444444444444444, \"#bd3786\"], [0.5555555555555556, \"#d8576b\"], [0.6666666666666666, \"#ed7953\"], [0.7777777777777778, \"#fb9f3a\"], [0.8888888888888888, \"#fdca26\"], [1.0, \"#f0f921\"]]}, \"colorway\": [\"#636efa\", \"#EF553B\", \"#00cc96\", \"#ab63fa\", \"#FFA15A\", \"#19d3f3\", \"#FF6692\", \"#B6E880\", \"#FF97FF\", \"#FECB52\"], \"font\": {\"color\": \"#2a3f5f\"}, \"geo\": {\"bgcolor\": \"white\", \"lakecolor\": \"white\", \"landcolor\": \"#E5ECF6\", \"showlakes\": true, \"showland\": true, \"subunitcolor\": \"white\"}, \"hoverlabel\": {\"align\": \"left\"}, \"hovermode\": \"closest\", \"mapbox\": {\"style\": \"light\"}, \"paper_bgcolor\": \"white\", \"plot_bgcolor\": \"#E5ECF6\", \"polar\": {\"angularaxis\": {\"gridcolor\": \"white\", \"linecolor\": \"white\", \"ticks\": \"\"}, \"bgcolor\": \"#E5ECF6\", \"radialaxis\": {\"gridcolor\": \"white\", \"linecolor\": \"white\", \"ticks\": \"\"}}, \"scene\": {\"xaxis\": {\"backgroundcolor\": \"#E5ECF6\", \"gridcolor\": \"white\", \"gridwidth\": 2, \"linecolor\": \"white\", \"showbackground\": true, \"ticks\": \"\", \"zerolinecolor\": \"white\"}, \"yaxis\": {\"backgroundcolor\": \"#E5ECF6\", \"gridcolor\": \"white\", \"gridwidth\": 2, \"linecolor\": \"white\", \"showbackground\": true, \"ticks\": \"\", \"zerolinecolor\": \"white\"}, \"zaxis\": {\"backgroundcolor\": \"#E5ECF6\", \"gridcolor\": \"white\", \"gridwidth\": 2, \"linecolor\": \"white\", \"showbackground\": true, \"ticks\": \"\", \"zerolinecolor\": \"white\"}}, \"shapedefaults\": {\"line\": {\"color\": \"#2a3f5f\"}}, \"ternary\": {\"aaxis\": {\"gridcolor\": \"white\", \"linecolor\": \"white\", \"ticks\": \"\"}, \"baxis\": {\"gridcolor\": \"white\", \"linecolor\": \"white\", \"ticks\": \"\"}, \"bgcolor\": \"#E5ECF6\", \"caxis\": {\"gridcolor\": \"white\", \"linecolor\": \"white\", \"ticks\": \"\"}}, \"title\": {\"x\": 0.05}, \"xaxis\": {\"automargin\": true, \"gridcolor\": \"white\", \"linecolor\": \"white\", \"ticks\": \"\", \"title\": {\"standoff\": 15}, \"zerolinecolor\": \"white\", \"zerolinewidth\": 2}, \"yaxis\": {\"automargin\": true, \"gridcolor\": \"white\", \"linecolor\": \"white\", \"ticks\": \"\", \"title\": {\"standoff\": 15}, \"zerolinecolor\": \"white\", \"zerolinewidth\": 2}}}, \"title\": {\"font\": {\"color\": \"#4D5663\"}}, \"xaxis\": {\"gridcolor\": \"#E1E5ED\", \"showgrid\": true, \"tickfont\": {\"color\": \"#4D5663\"}, \"title\": {\"font\": {\"color\": \"#4D5663\"}, \"text\": \"\"}, \"zerolinecolor\": \"#E1E5ED\"}, \"yaxis\": {\"gridcolor\": \"#E1E5ED\", \"showgrid\": true, \"tickfont\": {\"color\": \"#4D5663\"}, \"title\": {\"font\": {\"color\": \"#4D5663\"}, \"text\": \"\"}, \"zerolinecolor\": \"#E1E5ED\"}},                        {\"showLink\": true, \"linkText\": \"Export to plot.ly\", \"plotlyServerURL\": \"https://plot.ly\", \"responsive\": true}                    ).then(function(){\n",
       "                            \n",
       "var gd = document.getElementById('732b17c0-b605-4d06-a8b8-a7aeb0e9e0f8');\n",
       "var x = new MutationObserver(function (mutations, observer) {{\n",
       "        var display = window.getComputedStyle(gd).display;\n",
       "        if (!display || display === 'none') {{\n",
       "            console.log([gd, 'removed!']);\n",
       "            Plotly.purge(gd);\n",
       "            observer.disconnect();\n",
       "        }}\n",
       "}});\n",
       "\n",
       "// Listen for the removal of the full notebook cells\n",
       "var notebookContainer = gd.closest('#notebook-container');\n",
       "if (notebookContainer) {{\n",
       "    x.observe(notebookContainer, {childList: true});\n",
       "}}\n",
       "\n",
       "// Listen for the clearing of the current output cell\n",
       "var outputEl = gd.closest('.output');\n",
       "if (outputEl) {{\n",
       "    x.observe(outputEl, {childList: true});\n",
       "}}\n",
       "\n",
       "                        })                };                });            </script>        </div>"
      ]
     },
     "metadata": {},
     "output_type": "display_data"
    }
   ],
   "source": [
    "df.count().iplot(kind='bar')"
   ]
  },
  {
   "cell_type": "markdown",
   "metadata": {},
   "source": [
    "## Boxplots"
   ]
  },
  {
   "cell_type": "code",
   "execution_count": 14,
   "metadata": {},
   "outputs": [
    {
     "data": {
      "application/vnd.plotly.v1+json": {
       "config": {
        "linkText": "Export to plot.ly",
        "plotlyServerURL": "https://plot.ly",
        "showLink": true
       },
       "data": [
        {
         "boxpoints": false,
         "line": {
          "width": 1.3
         },
         "marker": {
          "color": "rgba(255, 153, 51, 1.0)"
         },
         "name": "A",
         "orientation": "v",
         "type": "box",
         "y": [
          -1.3545048514202886,
          -0.27728378291500244,
          0.45496642739072185,
          -0.23107642156544375,
          0.3225381016251746,
          -1.0008187198265743,
          0.9845366396545454,
          -0.50321152657273,
          1.6157058505386503,
          -1.0755409628997235,
          -0.7266925458064639,
          -1.595502047740283,
          0.43015754731259187,
          -0.5023039509792152,
          1.1993891113951063,
          1.5027455883128777,
          -2.0111448778151333,
          0.27904655655280847,
          -0.36670722252928634,
          -1.045321731796316,
          0.10914045660460339,
          -0.6328966222259624,
          1.0225649219030128,
          0.23646366884558706,
          0.41548422719458417,
          -1.0976117676432184,
          -1.3390903914000774,
          -0.4528371511298527,
          -0.42733490165283505,
          0.5754120459853603,
          0.11281268381519279,
          -1.1504102405112058,
          -0.050574871926182784,
          0.6018645063084697,
          -1.4510472945569854,
          -0.21392389795359612,
          0.9380171050066473,
          -0.09438742292598681,
          -0.07053906033576715,
          2.2285687724394343,
          0.19845839839579424,
          1.2131263496243834,
          1.1792006659868235,
          -0.7568736002213788,
          -1.32459048528407,
          -0.6129471634329756,
          -0.4709172661057217,
          -0.7285462902748785,
          -0.25955121913034657,
          0.1555555496229885,
          -1.0067734814821243,
          1.4876681778759002,
          -0.19585676804199598,
          -1.3051812203656723,
          -0.7121109427231624,
          1.4370077967986707,
          0.4538113012220596,
          0.32118719474111324,
          1.9306937024550697,
          -1.0000186636360553,
          1.3538998887923899,
          1.0254565059989138,
          -0.6070225790196295,
          1.7505222400386586,
          1.7797158783195268,
          0.17570637331592434,
          0.1301137572005141,
          -0.4213331565359732,
          0.2879440028531558,
          2.138360358957446,
          1.0890958981482772,
          -0.26490401714714534,
          0.027728903643897698,
          0.40479261158660584,
          0.9083928456027764,
          -0.5899242333379505,
          -0.8616710639476087,
          1.235011144214475,
          1.2773603111730898,
          0.1646548821502208,
          0.19239963499647977,
          -1.3887769224713287,
          0.03482195209693308,
          1.5745439863348998,
          -0.6366925872900931,
          -0.41589432971818063,
          0.3427910975984431,
          0.8366529944437844,
          0.34780611914933296,
          -1.4700076557867081,
          0.38964290131019585,
          -0.7884288396387822,
          -0.9056465667023024,
          0.3399186743690349,
          -0.6477575326386299,
          1.5680595200598508,
          2.269928998581372,
          -1.0404746060192802,
          0.5237456598895535,
          0.9448421163357893
         ]
        },
        {
         "boxpoints": false,
         "line": {
          "width": 1.3
         },
         "marker": {
          "color": "rgba(55, 128, 191, 1.0)"
         },
         "name": "B",
         "orientation": "v",
         "type": "box",
         "y": [
          -0.6370662306345296,
          -0.18779479970184382,
          -0.933271565970044,
          0.9212074612281883,
          0.8936514161808388,
          0.8342227138476731,
          0.8587196320328144,
          0.22881724899518655,
          -0.9180773570599018,
          -0.45142786836483606,
          -0.22248070393362662,
          0.44917113276718723,
          -0.5973156191937276,
          2.1898876198884047,
          -0.4902326025541706,
          -2.018799695983331,
          -1.3633094063854794,
          0.722171910193369,
          1.398112707247513,
          -0.08109011152174196,
          1.2230279514126137,
          -0.21409272975599575,
          0.38937698547166644,
          0.5838286529465544,
          0.8956700723977705,
          0.961281589148261,
          1.7492867643302497,
          -2.0349038968514983,
          0.9622336412524589,
          -1.6031314870782933,
          0.06891589583313582,
          -0.34008733689357995,
          1.4904754639563247,
          -0.6838384992536902,
          0.6019227388150992,
          1.0744944375979761,
          -0.4426583612634076,
          -1.238007017870152,
          -0.23516809680023168,
          0.17849613576372855,
          -1.9737195066421716,
          0.7900923082368406,
          0.12618231219509693,
          -0.6881342409954447,
          1.0740609598702087,
          -2.2292758320157007,
          0.33792269970410865,
          -0.046717796304047564,
          -1.3299347008261175,
          -0.832872352576968,
          -0.02629450649372879,
          -1.3973378150364184,
          2.0597015168262067,
          0.7158707733517314,
          1.538355947800245,
          0.8200805455889011,
          0.06197608346940097,
          -0.30465938188471225,
          -2.791129597868393,
          -0.6640117629558614,
          -0.7395309222045003,
          -1.1692089459454784,
          1.077217332302895,
          -0.687746618866074,
          1.4691428404927873,
          0.8768833279459809,
          0.3599051799630393,
          -0.447137575412363,
          -0.41913677028305696,
          0.5464024743534294,
          0.4307296648098181,
          -1.8466600072649433,
          0.10608219598356404,
          -1.4511218468659515,
          0.4246996885645433,
          1.284557483121074,
          0.12055153420288005,
          1.1349369472971491,
          -0.08792505531674043,
          -1.2616820293829447,
          0.021585833373038835,
          0.433630805405162,
          -0.41834366420211727,
          -1.3449157042759814,
          0.7473410766559658,
          -1.879342304593012,
          0.28080103709289456,
          -0.5157429018677484,
          1.140210489380863,
          1.7292730109199856,
          -0.9166642240809446,
          0.7944208063936056,
          2.302665781556202,
          -1.157887088105418,
          -0.2936987293432595,
          0.18816450281699626,
          0.1508502062472272,
          0.3179360880392077,
          -0.4593359983942544,
          0.27511528779754385
         ]
        },
        {
         "boxpoints": false,
         "line": {
          "width": 1.3
         },
         "marker": {
          "color": "rgba(50, 171, 96, 1.0)"
         },
         "name": "C",
         "orientation": "v",
         "type": "box",
         "y": [
          0.17727501358339443,
          0.7675790892931331,
          0.7426482326518081,
          0.16995055619755647,
          1.090904635132639,
          0.09387287470099513,
          0.4897155859030093,
          -0.3526003989599885,
          -1.5020324196059973,
          0.8568780172449583,
          1.1888527393378387,
          0.37337033645810563,
          -0.2843089155105719,
          -0.08903682859573299,
          0.659290481180818,
          -0.5702964489673472,
          0.20824190146825128,
          1.477544182228884,
          -2.2663861673596104,
          -0.918190628510219,
          0.9815430754475645,
          1.1963795048605528,
          -0.582471383118007,
          -0.43065020158821765,
          0.7292356248529095,
          -1.1126783561463256,
          -1.0737857923404885,
          1.1249641509208888,
          -1.177887298697572,
          -0.6421378823244043,
          0.36525819243608904,
          -0.8231168304200789,
          -0.15124396419267142,
          -1.059510922713966,
          0.4228394732232688,
          -1.6407190498232147,
          -0.11658503414311217,
          1.1847342796026734,
          1.7603820071727325,
          -1.0323223414552383,
          1.5241292355361828,
          -0.47167319631113175,
          0.41771472595017,
          -0.44257990041265177,
          -0.4457218004962936,
          -1.05606129272087,
          -0.6475117870595651,
          -0.1427949440036624,
          -0.084971064125444,
          -2.031346651843206,
          -1.3417316367420749,
          -0.8436810558824752,
          1.429751141931643,
          0.3073707295814666,
          1.2573071374952731,
          2.5304800624870674,
          -0.6472367543926753,
          1.43746648182174,
          0.3592379585375508,
          0.7179964889696346,
          -0.2634886822238987,
          0.22643012552675823,
          -0.3671468396701537,
          -1.9895520059061513,
          -0.7386934319014247,
          -0.5217806582087279,
          -0.7638054628786506,
          -0.6895070591300198,
          -1.60460561706749,
          0.9729484503670851,
          -1.3479986977665346,
          -0.6281809491935955,
          -0.7965079474327273,
          0.8411742348925145,
          1.613602523630258,
          -0.041787801903583915,
          0.6689088866173973,
          0.1263923177465286,
          -0.08421704177805359,
          -0.26850295575609995,
          -1.2121044098271738,
          -0.6236327447212068,
          0.5342625395512093,
          -0.022718493882598063,
          -0.06121209654978588,
          0.7842935269257469,
          -1.0318400097854954,
          1.1396452886065107,
          2.151607990246248,
          -0.7585179535047096,
          0.06889444726973967,
          0.6813644279190719,
          0.07260826563691085,
          0.5878992331877385,
          0.9942375387594256,
          -0.5811488124902294,
          0.9761751366879855,
          1.4695906294141075,
          0.208004152843283,
          2.549353450852832
         ]
        },
        {
         "boxpoints": false,
         "line": {
          "width": 1.3
         },
         "marker": {
          "color": "rgba(128, 0, 128, 1.0)"
         },
         "name": "D",
         "orientation": "v",
         "type": "box",
         "y": [
          1.4161269150082703,
          0.9099418545481454,
          -0.1520745902746288,
          -0.6157190447998693,
          0.23501709874065518,
          -0.08954496598170626,
          -1.1069220366777928,
          0.25546001939489116,
          1.123799547148625,
          -0.8427001303265524,
          -0.26936950688912814,
          0.6547787616846491,
          1.4079452260160858,
          -0.14159372719106786,
          1.463574108538233,
          0.30180653498512977,
          0.40996895881869916,
          -0.946143024850983,
          -0.6546722170665688,
          -0.8993130183111181,
          0.6350782269236444,
          1.3953119495101083,
          1.0838071028492255,
          0.8190850242746013,
          -0.7354835095964742,
          -0.008751000129040488,
          -1.4193479974669696,
          0.47861242828808254,
          -0.34913108616056626,
          1.2921485127366013,
          -1.5619203416202032,
          0.4185495336224118,
          2.5059538347855113,
          0.6806423555903528,
          -1.239722282909275,
          0.0027770038867789915,
          -1.2537859007482053,
          0.5298119911939558,
          -1.4569067757208616,
          0.0824867493121816,
          0.06026685610114835,
          -0.7378289996369067,
          0.221919332661049,
          -0.6984265965452328,
          -0.021345969455511298,
          -1.34169281577497,
          0.46093268999588155,
          -0.9878087568125531,
          0.6867087397846777,
          -1.5411316351648023,
          -1.4089701824411427,
          -1.2719090244721443,
          0.916052527276419,
          1.3280183024638061,
          -0.6881957682497584,
          -1.2581706095260712,
          0.4630271601922367,
          -1.0729861460506882,
          -1.8381937323069328,
          -0.32047346022717405,
          0.42593363105180476,
          0.8953812215371134,
          -0.6748231944099274,
          -1.8253583523000774,
          -0.5858419215157434,
          -0.9397708953133883,
          0.8396045753762226,
          -0.6237812963270523,
          0.29618974815684046,
          2.3920364170055954,
          3.2378305047808826,
          0.10932445828346436,
          2.9838926343686523,
          -0.4795835975537721,
          0.44292234405466624,
          2.1595304525086676,
          1.226050593080821,
          -1.612867475051631,
          -0.30812150700596197,
          -1.117804382940929,
          0.04619313208996349,
          -0.23434867295184955,
          -0.19147674398434888,
          -0.14776082711117045,
          -1.4186091957625286,
          -2.178284783117934,
          -0.6829236779712234,
          -0.051276625025758506,
          1.5081177227260016,
          0.6536599137486626,
          0.0028700408535427056,
          -0.4230631530286068,
          0.006696983399884731,
          -1.8938149909057822,
          0.9022364206146153,
          -0.5796345846331413,
          -0.29308018746907694,
          0.8282614923522763,
          0.5582747600276524,
          0.13813326582956842
         ]
        }
       ],
       "layout": {
        "legend": {
         "bgcolor": "#F5F6F9",
         "font": {
          "color": "#4D5663"
         }
        },
        "paper_bgcolor": "#F5F6F9",
        "plot_bgcolor": "#F5F6F9",
        "template": {
         "data": {
          "bar": [
           {
            "error_x": {
             "color": "#2a3f5f"
            },
            "error_y": {
             "color": "#2a3f5f"
            },
            "marker": {
             "line": {
              "color": "#E5ECF6",
              "width": 0.5
             }
            },
            "type": "bar"
           }
          ],
          "barpolar": [
           {
            "marker": {
             "line": {
              "color": "#E5ECF6",
              "width": 0.5
             }
            },
            "type": "barpolar"
           }
          ],
          "carpet": [
           {
            "aaxis": {
             "endlinecolor": "#2a3f5f",
             "gridcolor": "white",
             "linecolor": "white",
             "minorgridcolor": "white",
             "startlinecolor": "#2a3f5f"
            },
            "baxis": {
             "endlinecolor": "#2a3f5f",
             "gridcolor": "white",
             "linecolor": "white",
             "minorgridcolor": "white",
             "startlinecolor": "#2a3f5f"
            },
            "type": "carpet"
           }
          ],
          "choropleth": [
           {
            "colorbar": {
             "outlinewidth": 0,
             "ticks": ""
            },
            "type": "choropleth"
           }
          ],
          "contour": [
           {
            "colorbar": {
             "outlinewidth": 0,
             "ticks": ""
            },
            "colorscale": [
             [
              0,
              "#0d0887"
             ],
             [
              0.1111111111111111,
              "#46039f"
             ],
             [
              0.2222222222222222,
              "#7201a8"
             ],
             [
              0.3333333333333333,
              "#9c179e"
             ],
             [
              0.4444444444444444,
              "#bd3786"
             ],
             [
              0.5555555555555556,
              "#d8576b"
             ],
             [
              0.6666666666666666,
              "#ed7953"
             ],
             [
              0.7777777777777778,
              "#fb9f3a"
             ],
             [
              0.8888888888888888,
              "#fdca26"
             ],
             [
              1,
              "#f0f921"
             ]
            ],
            "type": "contour"
           }
          ],
          "contourcarpet": [
           {
            "colorbar": {
             "outlinewidth": 0,
             "ticks": ""
            },
            "type": "contourcarpet"
           }
          ],
          "heatmap": [
           {
            "colorbar": {
             "outlinewidth": 0,
             "ticks": ""
            },
            "colorscale": [
             [
              0,
              "#0d0887"
             ],
             [
              0.1111111111111111,
              "#46039f"
             ],
             [
              0.2222222222222222,
              "#7201a8"
             ],
             [
              0.3333333333333333,
              "#9c179e"
             ],
             [
              0.4444444444444444,
              "#bd3786"
             ],
             [
              0.5555555555555556,
              "#d8576b"
             ],
             [
              0.6666666666666666,
              "#ed7953"
             ],
             [
              0.7777777777777778,
              "#fb9f3a"
             ],
             [
              0.8888888888888888,
              "#fdca26"
             ],
             [
              1,
              "#f0f921"
             ]
            ],
            "type": "heatmap"
           }
          ],
          "heatmapgl": [
           {
            "colorbar": {
             "outlinewidth": 0,
             "ticks": ""
            },
            "colorscale": [
             [
              0,
              "#0d0887"
             ],
             [
              0.1111111111111111,
              "#46039f"
             ],
             [
              0.2222222222222222,
              "#7201a8"
             ],
             [
              0.3333333333333333,
              "#9c179e"
             ],
             [
              0.4444444444444444,
              "#bd3786"
             ],
             [
              0.5555555555555556,
              "#d8576b"
             ],
             [
              0.6666666666666666,
              "#ed7953"
             ],
             [
              0.7777777777777778,
              "#fb9f3a"
             ],
             [
              0.8888888888888888,
              "#fdca26"
             ],
             [
              1,
              "#f0f921"
             ]
            ],
            "type": "heatmapgl"
           }
          ],
          "histogram": [
           {
            "marker": {
             "colorbar": {
              "outlinewidth": 0,
              "ticks": ""
             }
            },
            "type": "histogram"
           }
          ],
          "histogram2d": [
           {
            "colorbar": {
             "outlinewidth": 0,
             "ticks": ""
            },
            "colorscale": [
             [
              0,
              "#0d0887"
             ],
             [
              0.1111111111111111,
              "#46039f"
             ],
             [
              0.2222222222222222,
              "#7201a8"
             ],
             [
              0.3333333333333333,
              "#9c179e"
             ],
             [
              0.4444444444444444,
              "#bd3786"
             ],
             [
              0.5555555555555556,
              "#d8576b"
             ],
             [
              0.6666666666666666,
              "#ed7953"
             ],
             [
              0.7777777777777778,
              "#fb9f3a"
             ],
             [
              0.8888888888888888,
              "#fdca26"
             ],
             [
              1,
              "#f0f921"
             ]
            ],
            "type": "histogram2d"
           }
          ],
          "histogram2dcontour": [
           {
            "colorbar": {
             "outlinewidth": 0,
             "ticks": ""
            },
            "colorscale": [
             [
              0,
              "#0d0887"
             ],
             [
              0.1111111111111111,
              "#46039f"
             ],
             [
              0.2222222222222222,
              "#7201a8"
             ],
             [
              0.3333333333333333,
              "#9c179e"
             ],
             [
              0.4444444444444444,
              "#bd3786"
             ],
             [
              0.5555555555555556,
              "#d8576b"
             ],
             [
              0.6666666666666666,
              "#ed7953"
             ],
             [
              0.7777777777777778,
              "#fb9f3a"
             ],
             [
              0.8888888888888888,
              "#fdca26"
             ],
             [
              1,
              "#f0f921"
             ]
            ],
            "type": "histogram2dcontour"
           }
          ],
          "mesh3d": [
           {
            "colorbar": {
             "outlinewidth": 0,
             "ticks": ""
            },
            "type": "mesh3d"
           }
          ],
          "parcoords": [
           {
            "line": {
             "colorbar": {
              "outlinewidth": 0,
              "ticks": ""
             }
            },
            "type": "parcoords"
           }
          ],
          "pie": [
           {
            "automargin": true,
            "type": "pie"
           }
          ],
          "scatter": [
           {
            "marker": {
             "colorbar": {
              "outlinewidth": 0,
              "ticks": ""
             }
            },
            "type": "scatter"
           }
          ],
          "scatter3d": [
           {
            "line": {
             "colorbar": {
              "outlinewidth": 0,
              "ticks": ""
             }
            },
            "marker": {
             "colorbar": {
              "outlinewidth": 0,
              "ticks": ""
             }
            },
            "type": "scatter3d"
           }
          ],
          "scattercarpet": [
           {
            "marker": {
             "colorbar": {
              "outlinewidth": 0,
              "ticks": ""
             }
            },
            "type": "scattercarpet"
           }
          ],
          "scattergeo": [
           {
            "marker": {
             "colorbar": {
              "outlinewidth": 0,
              "ticks": ""
             }
            },
            "type": "scattergeo"
           }
          ],
          "scattergl": [
           {
            "marker": {
             "colorbar": {
              "outlinewidth": 0,
              "ticks": ""
             }
            },
            "type": "scattergl"
           }
          ],
          "scattermapbox": [
           {
            "marker": {
             "colorbar": {
              "outlinewidth": 0,
              "ticks": ""
             }
            },
            "type": "scattermapbox"
           }
          ],
          "scatterpolar": [
           {
            "marker": {
             "colorbar": {
              "outlinewidth": 0,
              "ticks": ""
             }
            },
            "type": "scatterpolar"
           }
          ],
          "scatterpolargl": [
           {
            "marker": {
             "colorbar": {
              "outlinewidth": 0,
              "ticks": ""
             }
            },
            "type": "scatterpolargl"
           }
          ],
          "scatterternary": [
           {
            "marker": {
             "colorbar": {
              "outlinewidth": 0,
              "ticks": ""
             }
            },
            "type": "scatterternary"
           }
          ],
          "surface": [
           {
            "colorbar": {
             "outlinewidth": 0,
             "ticks": ""
            },
            "colorscale": [
             [
              0,
              "#0d0887"
             ],
             [
              0.1111111111111111,
              "#46039f"
             ],
             [
              0.2222222222222222,
              "#7201a8"
             ],
             [
              0.3333333333333333,
              "#9c179e"
             ],
             [
              0.4444444444444444,
              "#bd3786"
             ],
             [
              0.5555555555555556,
              "#d8576b"
             ],
             [
              0.6666666666666666,
              "#ed7953"
             ],
             [
              0.7777777777777778,
              "#fb9f3a"
             ],
             [
              0.8888888888888888,
              "#fdca26"
             ],
             [
              1,
              "#f0f921"
             ]
            ],
            "type": "surface"
           }
          ],
          "table": [
           {
            "cells": {
             "fill": {
              "color": "#EBF0F8"
             },
             "line": {
              "color": "white"
             }
            },
            "header": {
             "fill": {
              "color": "#C8D4E3"
             },
             "line": {
              "color": "white"
             }
            },
            "type": "table"
           }
          ]
         },
         "layout": {
          "annotationdefaults": {
           "arrowcolor": "#2a3f5f",
           "arrowhead": 0,
           "arrowwidth": 1
          },
          "autotypenumbers": "strict",
          "coloraxis": {
           "colorbar": {
            "outlinewidth": 0,
            "ticks": ""
           }
          },
          "colorscale": {
           "diverging": [
            [
             0,
             "#8e0152"
            ],
            [
             0.1,
             "#c51b7d"
            ],
            [
             0.2,
             "#de77ae"
            ],
            [
             0.3,
             "#f1b6da"
            ],
            [
             0.4,
             "#fde0ef"
            ],
            [
             0.5,
             "#f7f7f7"
            ],
            [
             0.6,
             "#e6f5d0"
            ],
            [
             0.7,
             "#b8e186"
            ],
            [
             0.8,
             "#7fbc41"
            ],
            [
             0.9,
             "#4d9221"
            ],
            [
             1,
             "#276419"
            ]
           ],
           "sequential": [
            [
             0,
             "#0d0887"
            ],
            [
             0.1111111111111111,
             "#46039f"
            ],
            [
             0.2222222222222222,
             "#7201a8"
            ],
            [
             0.3333333333333333,
             "#9c179e"
            ],
            [
             0.4444444444444444,
             "#bd3786"
            ],
            [
             0.5555555555555556,
             "#d8576b"
            ],
            [
             0.6666666666666666,
             "#ed7953"
            ],
            [
             0.7777777777777778,
             "#fb9f3a"
            ],
            [
             0.8888888888888888,
             "#fdca26"
            ],
            [
             1,
             "#f0f921"
            ]
           ],
           "sequentialminus": [
            [
             0,
             "#0d0887"
            ],
            [
             0.1111111111111111,
             "#46039f"
            ],
            [
             0.2222222222222222,
             "#7201a8"
            ],
            [
             0.3333333333333333,
             "#9c179e"
            ],
            [
             0.4444444444444444,
             "#bd3786"
            ],
            [
             0.5555555555555556,
             "#d8576b"
            ],
            [
             0.6666666666666666,
             "#ed7953"
            ],
            [
             0.7777777777777778,
             "#fb9f3a"
            ],
            [
             0.8888888888888888,
             "#fdca26"
            ],
            [
             1,
             "#f0f921"
            ]
           ]
          },
          "colorway": [
           "#636efa",
           "#EF553B",
           "#00cc96",
           "#ab63fa",
           "#FFA15A",
           "#19d3f3",
           "#FF6692",
           "#B6E880",
           "#FF97FF",
           "#FECB52"
          ],
          "font": {
           "color": "#2a3f5f"
          },
          "geo": {
           "bgcolor": "white",
           "lakecolor": "white",
           "landcolor": "#E5ECF6",
           "showlakes": true,
           "showland": true,
           "subunitcolor": "white"
          },
          "hoverlabel": {
           "align": "left"
          },
          "hovermode": "closest",
          "mapbox": {
           "style": "light"
          },
          "paper_bgcolor": "white",
          "plot_bgcolor": "#E5ECF6",
          "polar": {
           "angularaxis": {
            "gridcolor": "white",
            "linecolor": "white",
            "ticks": ""
           },
           "bgcolor": "#E5ECF6",
           "radialaxis": {
            "gridcolor": "white",
            "linecolor": "white",
            "ticks": ""
           }
          },
          "scene": {
           "xaxis": {
            "backgroundcolor": "#E5ECF6",
            "gridcolor": "white",
            "gridwidth": 2,
            "linecolor": "white",
            "showbackground": true,
            "ticks": "",
            "zerolinecolor": "white"
           },
           "yaxis": {
            "backgroundcolor": "#E5ECF6",
            "gridcolor": "white",
            "gridwidth": 2,
            "linecolor": "white",
            "showbackground": true,
            "ticks": "",
            "zerolinecolor": "white"
           },
           "zaxis": {
            "backgroundcolor": "#E5ECF6",
            "gridcolor": "white",
            "gridwidth": 2,
            "linecolor": "white",
            "showbackground": true,
            "ticks": "",
            "zerolinecolor": "white"
           }
          },
          "shapedefaults": {
           "line": {
            "color": "#2a3f5f"
           }
          },
          "ternary": {
           "aaxis": {
            "gridcolor": "white",
            "linecolor": "white",
            "ticks": ""
           },
           "baxis": {
            "gridcolor": "white",
            "linecolor": "white",
            "ticks": ""
           },
           "bgcolor": "#E5ECF6",
           "caxis": {
            "gridcolor": "white",
            "linecolor": "white",
            "ticks": ""
           }
          },
          "title": {
           "x": 0.05
          },
          "xaxis": {
           "automargin": true,
           "gridcolor": "white",
           "linecolor": "white",
           "ticks": "",
           "title": {
            "standoff": 15
           },
           "zerolinecolor": "white",
           "zerolinewidth": 2
          },
          "yaxis": {
           "automargin": true,
           "gridcolor": "white",
           "linecolor": "white",
           "ticks": "",
           "title": {
            "standoff": 15
           },
           "zerolinecolor": "white",
           "zerolinewidth": 2
          }
         }
        },
        "title": {
         "font": {
          "color": "#4D5663"
         }
        },
        "xaxis": {
         "gridcolor": "#E1E5ED",
         "showgrid": true,
         "tickfont": {
          "color": "#4D5663"
         },
         "title": {
          "font": {
           "color": "#4D5663"
          },
          "text": ""
         },
         "zerolinecolor": "#E1E5ED"
        },
        "yaxis": {
         "gridcolor": "#E1E5ED",
         "showgrid": true,
         "tickfont": {
          "color": "#4D5663"
         },
         "title": {
          "font": {
           "color": "#4D5663"
          },
          "text": ""
         },
         "zerolinecolor": "#E1E5ED"
        }
       }
      },
      "text/html": [
       "<div>                            <div id=\"2e77cc8e-73ea-4772-be39-e5bc720ba979\" class=\"plotly-graph-div\" style=\"height:525px; width:100%;\"></div>            <script type=\"text/javascript\">                require([\"plotly\"], function(Plotly) {                    window.PLOTLYENV=window.PLOTLYENV || {};\n",
       "                    window.PLOTLYENV.BASE_URL='https://plot.ly';                                    if (document.getElementById(\"2e77cc8e-73ea-4772-be39-e5bc720ba979\")) {                    Plotly.newPlot(                        \"2e77cc8e-73ea-4772-be39-e5bc720ba979\",                        [{\"boxpoints\": false, \"line\": {\"width\": 1.3}, \"marker\": {\"color\": \"rgba(255, 153, 51, 1.0)\"}, \"name\": \"A\", \"orientation\": \"v\", \"type\": \"box\", \"y\": [-1.3545048514202886, -0.27728378291500244, 0.45496642739072185, -0.23107642156544375, 0.3225381016251746, -1.0008187198265743, 0.9845366396545454, -0.50321152657273, 1.6157058505386503, -1.0755409628997235, -0.7266925458064639, -1.595502047740283, 0.43015754731259187, -0.5023039509792152, 1.1993891113951063, 1.5027455883128777, -2.0111448778151333, 0.27904655655280847, -0.36670722252928634, -1.045321731796316, 0.10914045660460339, -0.6328966222259624, 1.0225649219030128, 0.23646366884558706, 0.41548422719458417, -1.0976117676432184, -1.3390903914000774, -0.4528371511298527, -0.42733490165283505, 0.5754120459853603, 0.11281268381519279, -1.1504102405112058, -0.050574871926182784, 0.6018645063084697, -1.4510472945569854, -0.21392389795359612, 0.9380171050066473, -0.09438742292598681, -0.07053906033576715, 2.2285687724394343, 0.19845839839579424, 1.2131263496243834, 1.1792006659868235, -0.7568736002213788, -1.32459048528407, -0.6129471634329756, -0.4709172661057217, -0.7285462902748785, -0.25955121913034657, 0.1555555496229885, -1.0067734814821243, 1.4876681778759002, -0.19585676804199598, -1.3051812203656723, -0.7121109427231624, 1.4370077967986707, 0.4538113012220596, 0.32118719474111324, 1.9306937024550697, -1.0000186636360553, 1.3538998887923899, 1.0254565059989138, -0.6070225790196295, 1.7505222400386586, 1.7797158783195268, 0.17570637331592434, 0.1301137572005141, -0.4213331565359732, 0.2879440028531558, 2.138360358957446, 1.0890958981482772, -0.26490401714714534, 0.027728903643897698, 0.40479261158660584, 0.9083928456027764, -0.5899242333379505, -0.8616710639476087, 1.235011144214475, 1.2773603111730898, 0.1646548821502208, 0.19239963499647977, -1.3887769224713287, 0.03482195209693308, 1.5745439863348998, -0.6366925872900931, -0.41589432971818063, 0.3427910975984431, 0.8366529944437844, 0.34780611914933296, -1.4700076557867081, 0.38964290131019585, -0.7884288396387822, -0.9056465667023024, 0.3399186743690349, -0.6477575326386299, 1.5680595200598508, 2.269928998581372, -1.0404746060192802, 0.5237456598895535, 0.9448421163357893]}, {\"boxpoints\": false, \"line\": {\"width\": 1.3}, \"marker\": {\"color\": \"rgba(55, 128, 191, 1.0)\"}, \"name\": \"B\", \"orientation\": \"v\", \"type\": \"box\", \"y\": [-0.6370662306345296, -0.18779479970184382, -0.933271565970044, 0.9212074612281883, 0.8936514161808388, 0.8342227138476731, 0.8587196320328144, 0.22881724899518655, -0.9180773570599018, -0.45142786836483606, -0.22248070393362662, 0.44917113276718723, -0.5973156191937276, 2.1898876198884047, -0.4902326025541706, -2.018799695983331, -1.3633094063854794, 0.722171910193369, 1.398112707247513, -0.08109011152174196, 1.2230279514126137, -0.21409272975599575, 0.38937698547166644, 0.5838286529465544, 0.8956700723977705, 0.961281589148261, 1.7492867643302497, -2.0349038968514983, 0.9622336412524589, -1.6031314870782933, 0.06891589583313582, -0.34008733689357995, 1.4904754639563247, -0.6838384992536902, 0.6019227388150992, 1.0744944375979761, -0.4426583612634076, -1.238007017870152, -0.23516809680023168, 0.17849613576372855, -1.9737195066421716, 0.7900923082368406, 0.12618231219509693, -0.6881342409954447, 1.0740609598702087, -2.2292758320157007, 0.33792269970410865, -0.046717796304047564, -1.3299347008261175, -0.832872352576968, -0.02629450649372879, -1.3973378150364184, 2.0597015168262067, 0.7158707733517314, 1.538355947800245, 0.8200805455889011, 0.06197608346940097, -0.30465938188471225, -2.791129597868393, -0.6640117629558614, -0.7395309222045003, -1.1692089459454784, 1.077217332302895, -0.687746618866074, 1.4691428404927873, 0.8768833279459809, 0.3599051799630393, -0.447137575412363, -0.41913677028305696, 0.5464024743534294, 0.4307296648098181, -1.8466600072649433, 0.10608219598356404, -1.4511218468659515, 0.4246996885645433, 1.284557483121074, 0.12055153420288005, 1.1349369472971491, -0.08792505531674043, -1.2616820293829447, 0.021585833373038835, 0.433630805405162, -0.41834366420211727, -1.3449157042759814, 0.7473410766559658, -1.879342304593012, 0.28080103709289456, -0.5157429018677484, 1.140210489380863, 1.7292730109199856, -0.9166642240809446, 0.7944208063936056, 2.302665781556202, -1.157887088105418, -0.2936987293432595, 0.18816450281699626, 0.1508502062472272, 0.3179360880392077, -0.4593359983942544, 0.27511528779754385]}, {\"boxpoints\": false, \"line\": {\"width\": 1.3}, \"marker\": {\"color\": \"rgba(50, 171, 96, 1.0)\"}, \"name\": \"C\", \"orientation\": \"v\", \"type\": \"box\", \"y\": [0.17727501358339443, 0.7675790892931331, 0.7426482326518081, 0.16995055619755647, 1.090904635132639, 0.09387287470099513, 0.4897155859030093, -0.3526003989599885, -1.5020324196059973, 0.8568780172449583, 1.1888527393378387, 0.37337033645810563, -0.2843089155105719, -0.08903682859573299, 0.659290481180818, -0.5702964489673472, 0.20824190146825128, 1.477544182228884, -2.2663861673596104, -0.918190628510219, 0.9815430754475645, 1.1963795048605528, -0.582471383118007, -0.43065020158821765, 0.7292356248529095, -1.1126783561463256, -1.0737857923404885, 1.1249641509208888, -1.177887298697572, -0.6421378823244043, 0.36525819243608904, -0.8231168304200789, -0.15124396419267142, -1.059510922713966, 0.4228394732232688, -1.6407190498232147, -0.11658503414311217, 1.1847342796026734, 1.7603820071727325, -1.0323223414552383, 1.5241292355361828, -0.47167319631113175, 0.41771472595017, -0.44257990041265177, -0.4457218004962936, -1.05606129272087, -0.6475117870595651, -0.1427949440036624, -0.084971064125444, -2.031346651843206, -1.3417316367420749, -0.8436810558824752, 1.429751141931643, 0.3073707295814666, 1.2573071374952731, 2.5304800624870674, -0.6472367543926753, 1.43746648182174, 0.3592379585375508, 0.7179964889696346, -0.2634886822238987, 0.22643012552675823, -0.3671468396701537, -1.9895520059061513, -0.7386934319014247, -0.5217806582087279, -0.7638054628786506, -0.6895070591300198, -1.60460561706749, 0.9729484503670851, -1.3479986977665346, -0.6281809491935955, -0.7965079474327273, 0.8411742348925145, 1.613602523630258, -0.041787801903583915, 0.6689088866173973, 0.1263923177465286, -0.08421704177805359, -0.26850295575609995, -1.2121044098271738, -0.6236327447212068, 0.5342625395512093, -0.022718493882598063, -0.06121209654978588, 0.7842935269257469, -1.0318400097854954, 1.1396452886065107, 2.151607990246248, -0.7585179535047096, 0.06889444726973967, 0.6813644279190719, 0.07260826563691085, 0.5878992331877385, 0.9942375387594256, -0.5811488124902294, 0.9761751366879855, 1.4695906294141075, 0.208004152843283, 2.549353450852832]}, {\"boxpoints\": false, \"line\": {\"width\": 1.3}, \"marker\": {\"color\": \"rgba(128, 0, 128, 1.0)\"}, \"name\": \"D\", \"orientation\": \"v\", \"type\": \"box\", \"y\": [1.4161269150082703, 0.9099418545481454, -0.1520745902746288, -0.6157190447998693, 0.23501709874065518, -0.08954496598170626, -1.1069220366777928, 0.25546001939489116, 1.123799547148625, -0.8427001303265524, -0.26936950688912814, 0.6547787616846491, 1.4079452260160858, -0.14159372719106786, 1.463574108538233, 0.30180653498512977, 0.40996895881869916, -0.946143024850983, -0.6546722170665688, -0.8993130183111181, 0.6350782269236444, 1.3953119495101083, 1.0838071028492255, 0.8190850242746013, -0.7354835095964742, -0.008751000129040488, -1.4193479974669696, 0.47861242828808254, -0.34913108616056626, 1.2921485127366013, -1.5619203416202032, 0.4185495336224118, 2.5059538347855113, 0.6806423555903528, -1.239722282909275, 0.0027770038867789915, -1.2537859007482053, 0.5298119911939558, -1.4569067757208616, 0.0824867493121816, 0.06026685610114835, -0.7378289996369067, 0.221919332661049, -0.6984265965452328, -0.021345969455511298, -1.34169281577497, 0.46093268999588155, -0.9878087568125531, 0.6867087397846777, -1.5411316351648023, -1.4089701824411427, -1.2719090244721443, 0.916052527276419, 1.3280183024638061, -0.6881957682497584, -1.2581706095260712, 0.4630271601922367, -1.0729861460506882, -1.8381937323069328, -0.32047346022717405, 0.42593363105180476, 0.8953812215371134, -0.6748231944099274, -1.8253583523000774, -0.5858419215157434, -0.9397708953133883, 0.8396045753762226, -0.6237812963270523, 0.29618974815684046, 2.3920364170055954, 3.2378305047808826, 0.10932445828346436, 2.9838926343686523, -0.4795835975537721, 0.44292234405466624, 2.1595304525086676, 1.226050593080821, -1.612867475051631, -0.30812150700596197, -1.117804382940929, 0.04619313208996349, -0.23434867295184955, -0.19147674398434888, -0.14776082711117045, -1.4186091957625286, -2.178284783117934, -0.6829236779712234, -0.051276625025758506, 1.5081177227260016, 0.6536599137486626, 0.0028700408535427056, -0.4230631530286068, 0.006696983399884731, -1.8938149909057822, 0.9022364206146153, -0.5796345846331413, -0.29308018746907694, 0.8282614923522763, 0.5582747600276524, 0.13813326582956842]}],                        {\"legend\": {\"bgcolor\": \"#F5F6F9\", \"font\": {\"color\": \"#4D5663\"}}, \"paper_bgcolor\": \"#F5F6F9\", \"plot_bgcolor\": \"#F5F6F9\", \"template\": {\"data\": {\"bar\": [{\"error_x\": {\"color\": \"#2a3f5f\"}, \"error_y\": {\"color\": \"#2a3f5f\"}, \"marker\": {\"line\": {\"color\": \"#E5ECF6\", \"width\": 0.5}}, \"type\": \"bar\"}], \"barpolar\": [{\"marker\": {\"line\": {\"color\": \"#E5ECF6\", \"width\": 0.5}}, \"type\": \"barpolar\"}], \"carpet\": [{\"aaxis\": {\"endlinecolor\": \"#2a3f5f\", \"gridcolor\": \"white\", \"linecolor\": \"white\", \"minorgridcolor\": \"white\", \"startlinecolor\": \"#2a3f5f\"}, \"baxis\": {\"endlinecolor\": \"#2a3f5f\", \"gridcolor\": \"white\", \"linecolor\": \"white\", \"minorgridcolor\": \"white\", \"startlinecolor\": \"#2a3f5f\"}, \"type\": \"carpet\"}], \"choropleth\": [{\"colorbar\": {\"outlinewidth\": 0, \"ticks\": \"\"}, \"type\": \"choropleth\"}], \"contour\": [{\"colorbar\": {\"outlinewidth\": 0, \"ticks\": \"\"}, \"colorscale\": [[0.0, \"#0d0887\"], [0.1111111111111111, \"#46039f\"], [0.2222222222222222, \"#7201a8\"], [0.3333333333333333, \"#9c179e\"], [0.4444444444444444, \"#bd3786\"], [0.5555555555555556, \"#d8576b\"], [0.6666666666666666, \"#ed7953\"], [0.7777777777777778, \"#fb9f3a\"], [0.8888888888888888, \"#fdca26\"], [1.0, \"#f0f921\"]], \"type\": \"contour\"}], \"contourcarpet\": [{\"colorbar\": {\"outlinewidth\": 0, \"ticks\": \"\"}, \"type\": \"contourcarpet\"}], \"heatmap\": [{\"colorbar\": {\"outlinewidth\": 0, \"ticks\": \"\"}, \"colorscale\": [[0.0, \"#0d0887\"], [0.1111111111111111, \"#46039f\"], [0.2222222222222222, \"#7201a8\"], [0.3333333333333333, \"#9c179e\"], [0.4444444444444444, \"#bd3786\"], [0.5555555555555556, \"#d8576b\"], [0.6666666666666666, \"#ed7953\"], [0.7777777777777778, \"#fb9f3a\"], [0.8888888888888888, \"#fdca26\"], [1.0, \"#f0f921\"]], \"type\": \"heatmap\"}], \"heatmapgl\": [{\"colorbar\": {\"outlinewidth\": 0, \"ticks\": \"\"}, \"colorscale\": [[0.0, \"#0d0887\"], [0.1111111111111111, \"#46039f\"], [0.2222222222222222, \"#7201a8\"], [0.3333333333333333, \"#9c179e\"], [0.4444444444444444, \"#bd3786\"], [0.5555555555555556, \"#d8576b\"], [0.6666666666666666, \"#ed7953\"], [0.7777777777777778, \"#fb9f3a\"], [0.8888888888888888, \"#fdca26\"], [1.0, \"#f0f921\"]], \"type\": \"heatmapgl\"}], \"histogram\": [{\"marker\": {\"colorbar\": {\"outlinewidth\": 0, \"ticks\": \"\"}}, \"type\": \"histogram\"}], \"histogram2d\": [{\"colorbar\": {\"outlinewidth\": 0, \"ticks\": \"\"}, \"colorscale\": [[0.0, \"#0d0887\"], [0.1111111111111111, \"#46039f\"], [0.2222222222222222, \"#7201a8\"], [0.3333333333333333, \"#9c179e\"], [0.4444444444444444, \"#bd3786\"], [0.5555555555555556, \"#d8576b\"], [0.6666666666666666, \"#ed7953\"], [0.7777777777777778, \"#fb9f3a\"], [0.8888888888888888, \"#fdca26\"], [1.0, \"#f0f921\"]], \"type\": \"histogram2d\"}], \"histogram2dcontour\": [{\"colorbar\": {\"outlinewidth\": 0, \"ticks\": \"\"}, \"colorscale\": [[0.0, \"#0d0887\"], [0.1111111111111111, \"#46039f\"], [0.2222222222222222, \"#7201a8\"], [0.3333333333333333, \"#9c179e\"], [0.4444444444444444, \"#bd3786\"], [0.5555555555555556, \"#d8576b\"], [0.6666666666666666, \"#ed7953\"], [0.7777777777777778, \"#fb9f3a\"], [0.8888888888888888, \"#fdca26\"], [1.0, \"#f0f921\"]], \"type\": \"histogram2dcontour\"}], \"mesh3d\": [{\"colorbar\": {\"outlinewidth\": 0, \"ticks\": \"\"}, \"type\": \"mesh3d\"}], \"parcoords\": [{\"line\": {\"colorbar\": {\"outlinewidth\": 0, \"ticks\": \"\"}}, \"type\": \"parcoords\"}], \"pie\": [{\"automargin\": true, \"type\": \"pie\"}], \"scatter\": [{\"marker\": {\"colorbar\": {\"outlinewidth\": 0, \"ticks\": \"\"}}, \"type\": \"scatter\"}], \"scatter3d\": [{\"line\": {\"colorbar\": {\"outlinewidth\": 0, \"ticks\": \"\"}}, \"marker\": {\"colorbar\": {\"outlinewidth\": 0, \"ticks\": \"\"}}, \"type\": \"scatter3d\"}], \"scattercarpet\": [{\"marker\": {\"colorbar\": {\"outlinewidth\": 0, \"ticks\": \"\"}}, \"type\": \"scattercarpet\"}], \"scattergeo\": [{\"marker\": {\"colorbar\": {\"outlinewidth\": 0, \"ticks\": \"\"}}, \"type\": \"scattergeo\"}], \"scattergl\": [{\"marker\": {\"colorbar\": {\"outlinewidth\": 0, \"ticks\": \"\"}}, \"type\": \"scattergl\"}], \"scattermapbox\": [{\"marker\": {\"colorbar\": {\"outlinewidth\": 0, \"ticks\": \"\"}}, \"type\": \"scattermapbox\"}], \"scatterpolar\": [{\"marker\": {\"colorbar\": {\"outlinewidth\": 0, \"ticks\": \"\"}}, \"type\": \"scatterpolar\"}], \"scatterpolargl\": [{\"marker\": {\"colorbar\": {\"outlinewidth\": 0, \"ticks\": \"\"}}, \"type\": \"scatterpolargl\"}], \"scatterternary\": [{\"marker\": {\"colorbar\": {\"outlinewidth\": 0, \"ticks\": \"\"}}, \"type\": \"scatterternary\"}], \"surface\": [{\"colorbar\": {\"outlinewidth\": 0, \"ticks\": \"\"}, \"colorscale\": [[0.0, \"#0d0887\"], [0.1111111111111111, \"#46039f\"], [0.2222222222222222, \"#7201a8\"], [0.3333333333333333, \"#9c179e\"], [0.4444444444444444, \"#bd3786\"], [0.5555555555555556, \"#d8576b\"], [0.6666666666666666, \"#ed7953\"], [0.7777777777777778, \"#fb9f3a\"], [0.8888888888888888, \"#fdca26\"], [1.0, \"#f0f921\"]], \"type\": \"surface\"}], \"table\": [{\"cells\": {\"fill\": {\"color\": \"#EBF0F8\"}, \"line\": {\"color\": \"white\"}}, \"header\": {\"fill\": {\"color\": \"#C8D4E3\"}, \"line\": {\"color\": \"white\"}}, \"type\": \"table\"}]}, \"layout\": {\"annotationdefaults\": {\"arrowcolor\": \"#2a3f5f\", \"arrowhead\": 0, \"arrowwidth\": 1}, \"autotypenumbers\": \"strict\", \"coloraxis\": {\"colorbar\": {\"outlinewidth\": 0, \"ticks\": \"\"}}, \"colorscale\": {\"diverging\": [[0, \"#8e0152\"], [0.1, \"#c51b7d\"], [0.2, \"#de77ae\"], [0.3, \"#f1b6da\"], [0.4, \"#fde0ef\"], [0.5, \"#f7f7f7\"], [0.6, \"#e6f5d0\"], [0.7, \"#b8e186\"], [0.8, \"#7fbc41\"], [0.9, \"#4d9221\"], [1, \"#276419\"]], \"sequential\": [[0.0, \"#0d0887\"], [0.1111111111111111, \"#46039f\"], [0.2222222222222222, \"#7201a8\"], [0.3333333333333333, \"#9c179e\"], [0.4444444444444444, \"#bd3786\"], [0.5555555555555556, \"#d8576b\"], [0.6666666666666666, \"#ed7953\"], [0.7777777777777778, \"#fb9f3a\"], [0.8888888888888888, \"#fdca26\"], [1.0, \"#f0f921\"]], \"sequentialminus\": [[0.0, \"#0d0887\"], [0.1111111111111111, \"#46039f\"], [0.2222222222222222, \"#7201a8\"], [0.3333333333333333, \"#9c179e\"], [0.4444444444444444, \"#bd3786\"], [0.5555555555555556, \"#d8576b\"], [0.6666666666666666, \"#ed7953\"], [0.7777777777777778, \"#fb9f3a\"], [0.8888888888888888, \"#fdca26\"], [1.0, \"#f0f921\"]]}, \"colorway\": [\"#636efa\", \"#EF553B\", \"#00cc96\", \"#ab63fa\", \"#FFA15A\", \"#19d3f3\", \"#FF6692\", \"#B6E880\", \"#FF97FF\", \"#FECB52\"], \"font\": {\"color\": \"#2a3f5f\"}, \"geo\": {\"bgcolor\": \"white\", \"lakecolor\": \"white\", \"landcolor\": \"#E5ECF6\", \"showlakes\": true, \"showland\": true, \"subunitcolor\": \"white\"}, \"hoverlabel\": {\"align\": \"left\"}, \"hovermode\": \"closest\", \"mapbox\": {\"style\": \"light\"}, \"paper_bgcolor\": \"white\", \"plot_bgcolor\": \"#E5ECF6\", \"polar\": {\"angularaxis\": {\"gridcolor\": \"white\", \"linecolor\": \"white\", \"ticks\": \"\"}, \"bgcolor\": \"#E5ECF6\", \"radialaxis\": {\"gridcolor\": \"white\", \"linecolor\": \"white\", \"ticks\": \"\"}}, \"scene\": {\"xaxis\": {\"backgroundcolor\": \"#E5ECF6\", \"gridcolor\": \"white\", \"gridwidth\": 2, \"linecolor\": \"white\", \"showbackground\": true, \"ticks\": \"\", \"zerolinecolor\": \"white\"}, \"yaxis\": {\"backgroundcolor\": \"#E5ECF6\", \"gridcolor\": \"white\", \"gridwidth\": 2, \"linecolor\": \"white\", \"showbackground\": true, \"ticks\": \"\", \"zerolinecolor\": \"white\"}, \"zaxis\": {\"backgroundcolor\": \"#E5ECF6\", \"gridcolor\": \"white\", \"gridwidth\": 2, \"linecolor\": \"white\", \"showbackground\": true, \"ticks\": \"\", \"zerolinecolor\": \"white\"}}, \"shapedefaults\": {\"line\": {\"color\": \"#2a3f5f\"}}, \"ternary\": {\"aaxis\": {\"gridcolor\": \"white\", \"linecolor\": \"white\", \"ticks\": \"\"}, \"baxis\": {\"gridcolor\": \"white\", \"linecolor\": \"white\", \"ticks\": \"\"}, \"bgcolor\": \"#E5ECF6\", \"caxis\": {\"gridcolor\": \"white\", \"linecolor\": \"white\", \"ticks\": \"\"}}, \"title\": {\"x\": 0.05}, \"xaxis\": {\"automargin\": true, \"gridcolor\": \"white\", \"linecolor\": \"white\", \"ticks\": \"\", \"title\": {\"standoff\": 15}, \"zerolinecolor\": \"white\", \"zerolinewidth\": 2}, \"yaxis\": {\"automargin\": true, \"gridcolor\": \"white\", \"linecolor\": \"white\", \"ticks\": \"\", \"title\": {\"standoff\": 15}, \"zerolinecolor\": \"white\", \"zerolinewidth\": 2}}}, \"title\": {\"font\": {\"color\": \"#4D5663\"}}, \"xaxis\": {\"gridcolor\": \"#E1E5ED\", \"showgrid\": true, \"tickfont\": {\"color\": \"#4D5663\"}, \"title\": {\"font\": {\"color\": \"#4D5663\"}, \"text\": \"\"}, \"zerolinecolor\": \"#E1E5ED\"}, \"yaxis\": {\"gridcolor\": \"#E1E5ED\", \"showgrid\": true, \"tickfont\": {\"color\": \"#4D5663\"}, \"title\": {\"font\": {\"color\": \"#4D5663\"}, \"text\": \"\"}, \"zerolinecolor\": \"#E1E5ED\"}},                        {\"showLink\": true, \"linkText\": \"Export to plot.ly\", \"plotlyServerURL\": \"https://plot.ly\", \"responsive\": true}                    ).then(function(){\n",
       "                            \n",
       "var gd = document.getElementById('2e77cc8e-73ea-4772-be39-e5bc720ba979');\n",
       "var x = new MutationObserver(function (mutations, observer) {{\n",
       "        var display = window.getComputedStyle(gd).display;\n",
       "        if (!display || display === 'none') {{\n",
       "            console.log([gd, 'removed!']);\n",
       "            Plotly.purge(gd);\n",
       "            observer.disconnect();\n",
       "        }}\n",
       "}});\n",
       "\n",
       "// Listen for the removal of the full notebook cells\n",
       "var notebookContainer = gd.closest('#notebook-container');\n",
       "if (notebookContainer) {{\n",
       "    x.observe(notebookContainer, {childList: true});\n",
       "}}\n",
       "\n",
       "// Listen for the clearing of the current output cell\n",
       "var outputEl = gd.closest('.output');\n",
       "if (outputEl) {{\n",
       "    x.observe(outputEl, {childList: true});\n",
       "}}\n",
       "\n",
       "                        })                };                });            </script>        </div>"
      ]
     },
     "metadata": {},
     "output_type": "display_data"
    }
   ],
   "source": [
    "df.iplot(kind='box')"
   ]
  },
  {
   "cell_type": "markdown",
   "metadata": {},
   "source": [
    "## 3d Surface"
   ]
  },
  {
   "cell_type": "code",
   "execution_count": 15,
   "metadata": {},
   "outputs": [
    {
     "data": {
      "application/vnd.plotly.v1+json": {
       "config": {
        "linkText": "Export to plot.ly",
        "plotlyServerURL": "https://plot.ly",
        "showLink": true
       },
       "data": [
        {
         "colorscale": [
          [
           0,
           "rgb(165,0,38)"
          ],
          [
           0.1,
           "rgb(215,48,39)"
          ],
          [
           0.2,
           "rgb(244,109,67)"
          ],
          [
           0.3,
           "rgb(253,174,97)"
          ],
          [
           0.4,
           "rgb(254,224,144)"
          ],
          [
           0.5,
           "rgb(255,255,191)"
          ],
          [
           0.6,
           "rgb(224,243,248)"
          ],
          [
           0.7,
           "rgb(171,217,233)"
          ],
          [
           0.8,
           "rgb(116,173,209)"
          ],
          [
           0.9,
           "rgb(69,117,180)"
          ],
          [
           1,
           "rgb(49,54,149)"
          ]
         ],
         "type": "surface",
         "x": [
          0,
          1,
          2,
          3,
          4
         ],
         "y": [
          "x",
          "y",
          "z"
         ],
         "z": [
          [
           1,
           2,
           3,
           4,
           5
          ],
          [
           10,
           20,
           30,
           20,
           10
          ],
          [
           5,
           4,
           3,
           2,
           1
          ]
         ]
        }
       ],
       "layout": {
        "legend": {
         "bgcolor": "#F5F6F9",
         "font": {
          "color": "#4D5663"
         }
        },
        "paper_bgcolor": "#F5F6F9",
        "plot_bgcolor": "#F5F6F9",
        "template": {
         "data": {
          "bar": [
           {
            "error_x": {
             "color": "#2a3f5f"
            },
            "error_y": {
             "color": "#2a3f5f"
            },
            "marker": {
             "line": {
              "color": "#E5ECF6",
              "width": 0.5
             }
            },
            "type": "bar"
           }
          ],
          "barpolar": [
           {
            "marker": {
             "line": {
              "color": "#E5ECF6",
              "width": 0.5
             }
            },
            "type": "barpolar"
           }
          ],
          "carpet": [
           {
            "aaxis": {
             "endlinecolor": "#2a3f5f",
             "gridcolor": "white",
             "linecolor": "white",
             "minorgridcolor": "white",
             "startlinecolor": "#2a3f5f"
            },
            "baxis": {
             "endlinecolor": "#2a3f5f",
             "gridcolor": "white",
             "linecolor": "white",
             "minorgridcolor": "white",
             "startlinecolor": "#2a3f5f"
            },
            "type": "carpet"
           }
          ],
          "choropleth": [
           {
            "colorbar": {
             "outlinewidth": 0,
             "ticks": ""
            },
            "type": "choropleth"
           }
          ],
          "contour": [
           {
            "colorbar": {
             "outlinewidth": 0,
             "ticks": ""
            },
            "colorscale": [
             [
              0,
              "#0d0887"
             ],
             [
              0.1111111111111111,
              "#46039f"
             ],
             [
              0.2222222222222222,
              "#7201a8"
             ],
             [
              0.3333333333333333,
              "#9c179e"
             ],
             [
              0.4444444444444444,
              "#bd3786"
             ],
             [
              0.5555555555555556,
              "#d8576b"
             ],
             [
              0.6666666666666666,
              "#ed7953"
             ],
             [
              0.7777777777777778,
              "#fb9f3a"
             ],
             [
              0.8888888888888888,
              "#fdca26"
             ],
             [
              1,
              "#f0f921"
             ]
            ],
            "type": "contour"
           }
          ],
          "contourcarpet": [
           {
            "colorbar": {
             "outlinewidth": 0,
             "ticks": ""
            },
            "type": "contourcarpet"
           }
          ],
          "heatmap": [
           {
            "colorbar": {
             "outlinewidth": 0,
             "ticks": ""
            },
            "colorscale": [
             [
              0,
              "#0d0887"
             ],
             [
              0.1111111111111111,
              "#46039f"
             ],
             [
              0.2222222222222222,
              "#7201a8"
             ],
             [
              0.3333333333333333,
              "#9c179e"
             ],
             [
              0.4444444444444444,
              "#bd3786"
             ],
             [
              0.5555555555555556,
              "#d8576b"
             ],
             [
              0.6666666666666666,
              "#ed7953"
             ],
             [
              0.7777777777777778,
              "#fb9f3a"
             ],
             [
              0.8888888888888888,
              "#fdca26"
             ],
             [
              1,
              "#f0f921"
             ]
            ],
            "type": "heatmap"
           }
          ],
          "heatmapgl": [
           {
            "colorbar": {
             "outlinewidth": 0,
             "ticks": ""
            },
            "colorscale": [
             [
              0,
              "#0d0887"
             ],
             [
              0.1111111111111111,
              "#46039f"
             ],
             [
              0.2222222222222222,
              "#7201a8"
             ],
             [
              0.3333333333333333,
              "#9c179e"
             ],
             [
              0.4444444444444444,
              "#bd3786"
             ],
             [
              0.5555555555555556,
              "#d8576b"
             ],
             [
              0.6666666666666666,
              "#ed7953"
             ],
             [
              0.7777777777777778,
              "#fb9f3a"
             ],
             [
              0.8888888888888888,
              "#fdca26"
             ],
             [
              1,
              "#f0f921"
             ]
            ],
            "type": "heatmapgl"
           }
          ],
          "histogram": [
           {
            "marker": {
             "colorbar": {
              "outlinewidth": 0,
              "ticks": ""
             }
            },
            "type": "histogram"
           }
          ],
          "histogram2d": [
           {
            "colorbar": {
             "outlinewidth": 0,
             "ticks": ""
            },
            "colorscale": [
             [
              0,
              "#0d0887"
             ],
             [
              0.1111111111111111,
              "#46039f"
             ],
             [
              0.2222222222222222,
              "#7201a8"
             ],
             [
              0.3333333333333333,
              "#9c179e"
             ],
             [
              0.4444444444444444,
              "#bd3786"
             ],
             [
              0.5555555555555556,
              "#d8576b"
             ],
             [
              0.6666666666666666,
              "#ed7953"
             ],
             [
              0.7777777777777778,
              "#fb9f3a"
             ],
             [
              0.8888888888888888,
              "#fdca26"
             ],
             [
              1,
              "#f0f921"
             ]
            ],
            "type": "histogram2d"
           }
          ],
          "histogram2dcontour": [
           {
            "colorbar": {
             "outlinewidth": 0,
             "ticks": ""
            },
            "colorscale": [
             [
              0,
              "#0d0887"
             ],
             [
              0.1111111111111111,
              "#46039f"
             ],
             [
              0.2222222222222222,
              "#7201a8"
             ],
             [
              0.3333333333333333,
              "#9c179e"
             ],
             [
              0.4444444444444444,
              "#bd3786"
             ],
             [
              0.5555555555555556,
              "#d8576b"
             ],
             [
              0.6666666666666666,
              "#ed7953"
             ],
             [
              0.7777777777777778,
              "#fb9f3a"
             ],
             [
              0.8888888888888888,
              "#fdca26"
             ],
             [
              1,
              "#f0f921"
             ]
            ],
            "type": "histogram2dcontour"
           }
          ],
          "mesh3d": [
           {
            "colorbar": {
             "outlinewidth": 0,
             "ticks": ""
            },
            "type": "mesh3d"
           }
          ],
          "parcoords": [
           {
            "line": {
             "colorbar": {
              "outlinewidth": 0,
              "ticks": ""
             }
            },
            "type": "parcoords"
           }
          ],
          "pie": [
           {
            "automargin": true,
            "type": "pie"
           }
          ],
          "scatter": [
           {
            "marker": {
             "colorbar": {
              "outlinewidth": 0,
              "ticks": ""
             }
            },
            "type": "scatter"
           }
          ],
          "scatter3d": [
           {
            "line": {
             "colorbar": {
              "outlinewidth": 0,
              "ticks": ""
             }
            },
            "marker": {
             "colorbar": {
              "outlinewidth": 0,
              "ticks": ""
             }
            },
            "type": "scatter3d"
           }
          ],
          "scattercarpet": [
           {
            "marker": {
             "colorbar": {
              "outlinewidth": 0,
              "ticks": ""
             }
            },
            "type": "scattercarpet"
           }
          ],
          "scattergeo": [
           {
            "marker": {
             "colorbar": {
              "outlinewidth": 0,
              "ticks": ""
             }
            },
            "type": "scattergeo"
           }
          ],
          "scattergl": [
           {
            "marker": {
             "colorbar": {
              "outlinewidth": 0,
              "ticks": ""
             }
            },
            "type": "scattergl"
           }
          ],
          "scattermapbox": [
           {
            "marker": {
             "colorbar": {
              "outlinewidth": 0,
              "ticks": ""
             }
            },
            "type": "scattermapbox"
           }
          ],
          "scatterpolar": [
           {
            "marker": {
             "colorbar": {
              "outlinewidth": 0,
              "ticks": ""
             }
            },
            "type": "scatterpolar"
           }
          ],
          "scatterpolargl": [
           {
            "marker": {
             "colorbar": {
              "outlinewidth": 0,
              "ticks": ""
             }
            },
            "type": "scatterpolargl"
           }
          ],
          "scatterternary": [
           {
            "marker": {
             "colorbar": {
              "outlinewidth": 0,
              "ticks": ""
             }
            },
            "type": "scatterternary"
           }
          ],
          "surface": [
           {
            "colorbar": {
             "outlinewidth": 0,
             "ticks": ""
            },
            "colorscale": [
             [
              0,
              "#0d0887"
             ],
             [
              0.1111111111111111,
              "#46039f"
             ],
             [
              0.2222222222222222,
              "#7201a8"
             ],
             [
              0.3333333333333333,
              "#9c179e"
             ],
             [
              0.4444444444444444,
              "#bd3786"
             ],
             [
              0.5555555555555556,
              "#d8576b"
             ],
             [
              0.6666666666666666,
              "#ed7953"
             ],
             [
              0.7777777777777778,
              "#fb9f3a"
             ],
             [
              0.8888888888888888,
              "#fdca26"
             ],
             [
              1,
              "#f0f921"
             ]
            ],
            "type": "surface"
           }
          ],
          "table": [
           {
            "cells": {
             "fill": {
              "color": "#EBF0F8"
             },
             "line": {
              "color": "white"
             }
            },
            "header": {
             "fill": {
              "color": "#C8D4E3"
             },
             "line": {
              "color": "white"
             }
            },
            "type": "table"
           }
          ]
         },
         "layout": {
          "annotationdefaults": {
           "arrowcolor": "#2a3f5f",
           "arrowhead": 0,
           "arrowwidth": 1
          },
          "autotypenumbers": "strict",
          "coloraxis": {
           "colorbar": {
            "outlinewidth": 0,
            "ticks": ""
           }
          },
          "colorscale": {
           "diverging": [
            [
             0,
             "#8e0152"
            ],
            [
             0.1,
             "#c51b7d"
            ],
            [
             0.2,
             "#de77ae"
            ],
            [
             0.3,
             "#f1b6da"
            ],
            [
             0.4,
             "#fde0ef"
            ],
            [
             0.5,
             "#f7f7f7"
            ],
            [
             0.6,
             "#e6f5d0"
            ],
            [
             0.7,
             "#b8e186"
            ],
            [
             0.8,
             "#7fbc41"
            ],
            [
             0.9,
             "#4d9221"
            ],
            [
             1,
             "#276419"
            ]
           ],
           "sequential": [
            [
             0,
             "#0d0887"
            ],
            [
             0.1111111111111111,
             "#46039f"
            ],
            [
             0.2222222222222222,
             "#7201a8"
            ],
            [
             0.3333333333333333,
             "#9c179e"
            ],
            [
             0.4444444444444444,
             "#bd3786"
            ],
            [
             0.5555555555555556,
             "#d8576b"
            ],
            [
             0.6666666666666666,
             "#ed7953"
            ],
            [
             0.7777777777777778,
             "#fb9f3a"
            ],
            [
             0.8888888888888888,
             "#fdca26"
            ],
            [
             1,
             "#f0f921"
            ]
           ],
           "sequentialminus": [
            [
             0,
             "#0d0887"
            ],
            [
             0.1111111111111111,
             "#46039f"
            ],
            [
             0.2222222222222222,
             "#7201a8"
            ],
            [
             0.3333333333333333,
             "#9c179e"
            ],
            [
             0.4444444444444444,
             "#bd3786"
            ],
            [
             0.5555555555555556,
             "#d8576b"
            ],
            [
             0.6666666666666666,
             "#ed7953"
            ],
            [
             0.7777777777777778,
             "#fb9f3a"
            ],
            [
             0.8888888888888888,
             "#fdca26"
            ],
            [
             1,
             "#f0f921"
            ]
           ]
          },
          "colorway": [
           "#636efa",
           "#EF553B",
           "#00cc96",
           "#ab63fa",
           "#FFA15A",
           "#19d3f3",
           "#FF6692",
           "#B6E880",
           "#FF97FF",
           "#FECB52"
          ],
          "font": {
           "color": "#2a3f5f"
          },
          "geo": {
           "bgcolor": "white",
           "lakecolor": "white",
           "landcolor": "#E5ECF6",
           "showlakes": true,
           "showland": true,
           "subunitcolor": "white"
          },
          "hoverlabel": {
           "align": "left"
          },
          "hovermode": "closest",
          "mapbox": {
           "style": "light"
          },
          "paper_bgcolor": "white",
          "plot_bgcolor": "#E5ECF6",
          "polar": {
           "angularaxis": {
            "gridcolor": "white",
            "linecolor": "white",
            "ticks": ""
           },
           "bgcolor": "#E5ECF6",
           "radialaxis": {
            "gridcolor": "white",
            "linecolor": "white",
            "ticks": ""
           }
          },
          "scene": {
           "xaxis": {
            "backgroundcolor": "#E5ECF6",
            "gridcolor": "white",
            "gridwidth": 2,
            "linecolor": "white",
            "showbackground": true,
            "ticks": "",
            "zerolinecolor": "white"
           },
           "yaxis": {
            "backgroundcolor": "#E5ECF6",
            "gridcolor": "white",
            "gridwidth": 2,
            "linecolor": "white",
            "showbackground": true,
            "ticks": "",
            "zerolinecolor": "white"
           },
           "zaxis": {
            "backgroundcolor": "#E5ECF6",
            "gridcolor": "white",
            "gridwidth": 2,
            "linecolor": "white",
            "showbackground": true,
            "ticks": "",
            "zerolinecolor": "white"
           }
          },
          "shapedefaults": {
           "line": {
            "color": "#2a3f5f"
           }
          },
          "ternary": {
           "aaxis": {
            "gridcolor": "white",
            "linecolor": "white",
            "ticks": ""
           },
           "baxis": {
            "gridcolor": "white",
            "linecolor": "white",
            "ticks": ""
           },
           "bgcolor": "#E5ECF6",
           "caxis": {
            "gridcolor": "white",
            "linecolor": "white",
            "ticks": ""
           }
          },
          "title": {
           "x": 0.05
          },
          "xaxis": {
           "automargin": true,
           "gridcolor": "white",
           "linecolor": "white",
           "ticks": "",
           "title": {
            "standoff": 15
           },
           "zerolinecolor": "white",
           "zerolinewidth": 2
          },
          "yaxis": {
           "automargin": true,
           "gridcolor": "white",
           "linecolor": "white",
           "ticks": "",
           "title": {
            "standoff": 15
           },
           "zerolinecolor": "white",
           "zerolinewidth": 2
          }
         }
        },
        "title": {
         "font": {
          "color": "#4D5663"
         }
        },
        "xaxis": {
         "gridcolor": "#E1E5ED",
         "showgrid": true,
         "tickfont": {
          "color": "#4D5663"
         },
         "title": {
          "font": {
           "color": "#4D5663"
          },
          "text": ""
         },
         "zerolinecolor": "#E1E5ED"
        },
        "yaxis": {
         "gridcolor": "#E1E5ED",
         "showgrid": true,
         "tickfont": {
          "color": "#4D5663"
         },
         "title": {
          "font": {
           "color": "#4D5663"
          },
          "text": ""
         },
         "zerolinecolor": "#E1E5ED"
        }
       }
      },
      "text/html": [
       "<div>                            <div id=\"0882a689-a9a2-4caa-ba0e-439621e05bb9\" class=\"plotly-graph-div\" style=\"height:525px; width:100%;\"></div>            <script type=\"text/javascript\">                require([\"plotly\"], function(Plotly) {                    window.PLOTLYENV=window.PLOTLYENV || {};\n",
       "                    window.PLOTLYENV.BASE_URL='https://plot.ly';                                    if (document.getElementById(\"0882a689-a9a2-4caa-ba0e-439621e05bb9\")) {                    Plotly.newPlot(                        \"0882a689-a9a2-4caa-ba0e-439621e05bb9\",                        [{\"colorscale\": [[0.0, \"rgb(165,0,38)\"], [0.1, \"rgb(215,48,39)\"], [0.2, \"rgb(244,109,67)\"], [0.3, \"rgb(253,174,97)\"], [0.4, \"rgb(254,224,144)\"], [0.5, \"rgb(255,255,191)\"], [0.6, \"rgb(224,243,248)\"], [0.7, \"rgb(171,217,233)\"], [0.8, \"rgb(116,173,209)\"], [0.9, \"rgb(69,117,180)\"], [1.0, \"rgb(49,54,149)\"]], \"type\": \"surface\", \"x\": [0, 1, 2, 3, 4], \"y\": [\"x\", \"y\", \"z\"], \"z\": [[1, 2, 3, 4, 5], [10, 20, 30, 20, 10], [5, 4, 3, 2, 1]]}],                        {\"legend\": {\"bgcolor\": \"#F5F6F9\", \"font\": {\"color\": \"#4D5663\"}}, \"paper_bgcolor\": \"#F5F6F9\", \"plot_bgcolor\": \"#F5F6F9\", \"template\": {\"data\": {\"bar\": [{\"error_x\": {\"color\": \"#2a3f5f\"}, \"error_y\": {\"color\": \"#2a3f5f\"}, \"marker\": {\"line\": {\"color\": \"#E5ECF6\", \"width\": 0.5}}, \"type\": \"bar\"}], \"barpolar\": [{\"marker\": {\"line\": {\"color\": \"#E5ECF6\", \"width\": 0.5}}, \"type\": \"barpolar\"}], \"carpet\": [{\"aaxis\": {\"endlinecolor\": \"#2a3f5f\", \"gridcolor\": \"white\", \"linecolor\": \"white\", \"minorgridcolor\": \"white\", \"startlinecolor\": \"#2a3f5f\"}, \"baxis\": {\"endlinecolor\": \"#2a3f5f\", \"gridcolor\": \"white\", \"linecolor\": \"white\", \"minorgridcolor\": \"white\", \"startlinecolor\": \"#2a3f5f\"}, \"type\": \"carpet\"}], \"choropleth\": [{\"colorbar\": {\"outlinewidth\": 0, \"ticks\": \"\"}, \"type\": \"choropleth\"}], \"contour\": [{\"colorbar\": {\"outlinewidth\": 0, \"ticks\": \"\"}, \"colorscale\": [[0.0, \"#0d0887\"], [0.1111111111111111, \"#46039f\"], [0.2222222222222222, \"#7201a8\"], [0.3333333333333333, \"#9c179e\"], [0.4444444444444444, \"#bd3786\"], [0.5555555555555556, \"#d8576b\"], [0.6666666666666666, \"#ed7953\"], [0.7777777777777778, \"#fb9f3a\"], [0.8888888888888888, \"#fdca26\"], [1.0, \"#f0f921\"]], \"type\": \"contour\"}], \"contourcarpet\": [{\"colorbar\": {\"outlinewidth\": 0, \"ticks\": \"\"}, \"type\": \"contourcarpet\"}], \"heatmap\": [{\"colorbar\": {\"outlinewidth\": 0, \"ticks\": \"\"}, \"colorscale\": [[0.0, \"#0d0887\"], [0.1111111111111111, \"#46039f\"], [0.2222222222222222, \"#7201a8\"], [0.3333333333333333, \"#9c179e\"], [0.4444444444444444, \"#bd3786\"], [0.5555555555555556, \"#d8576b\"], [0.6666666666666666, \"#ed7953\"], [0.7777777777777778, \"#fb9f3a\"], [0.8888888888888888, \"#fdca26\"], [1.0, \"#f0f921\"]], \"type\": \"heatmap\"}], \"heatmapgl\": [{\"colorbar\": {\"outlinewidth\": 0, \"ticks\": \"\"}, \"colorscale\": [[0.0, \"#0d0887\"], [0.1111111111111111, \"#46039f\"], [0.2222222222222222, \"#7201a8\"], [0.3333333333333333, \"#9c179e\"], [0.4444444444444444, \"#bd3786\"], [0.5555555555555556, \"#d8576b\"], [0.6666666666666666, \"#ed7953\"], [0.7777777777777778, \"#fb9f3a\"], [0.8888888888888888, \"#fdca26\"], [1.0, \"#f0f921\"]], \"type\": \"heatmapgl\"}], \"histogram\": [{\"marker\": {\"colorbar\": {\"outlinewidth\": 0, \"ticks\": \"\"}}, \"type\": \"histogram\"}], \"histogram2d\": [{\"colorbar\": {\"outlinewidth\": 0, \"ticks\": \"\"}, \"colorscale\": [[0.0, \"#0d0887\"], [0.1111111111111111, \"#46039f\"], [0.2222222222222222, \"#7201a8\"], [0.3333333333333333, \"#9c179e\"], [0.4444444444444444, \"#bd3786\"], [0.5555555555555556, \"#d8576b\"], [0.6666666666666666, \"#ed7953\"], [0.7777777777777778, \"#fb9f3a\"], [0.8888888888888888, \"#fdca26\"], [1.0, \"#f0f921\"]], \"type\": \"histogram2d\"}], \"histogram2dcontour\": [{\"colorbar\": {\"outlinewidth\": 0, \"ticks\": \"\"}, \"colorscale\": [[0.0, \"#0d0887\"], [0.1111111111111111, \"#46039f\"], [0.2222222222222222, \"#7201a8\"], [0.3333333333333333, \"#9c179e\"], [0.4444444444444444, \"#bd3786\"], [0.5555555555555556, \"#d8576b\"], [0.6666666666666666, \"#ed7953\"], [0.7777777777777778, \"#fb9f3a\"], [0.8888888888888888, \"#fdca26\"], [1.0, \"#f0f921\"]], \"type\": \"histogram2dcontour\"}], \"mesh3d\": [{\"colorbar\": {\"outlinewidth\": 0, \"ticks\": \"\"}, \"type\": \"mesh3d\"}], \"parcoords\": [{\"line\": {\"colorbar\": {\"outlinewidth\": 0, \"ticks\": \"\"}}, \"type\": \"parcoords\"}], \"pie\": [{\"automargin\": true, \"type\": \"pie\"}], \"scatter\": [{\"marker\": {\"colorbar\": {\"outlinewidth\": 0, \"ticks\": \"\"}}, \"type\": \"scatter\"}], \"scatter3d\": [{\"line\": {\"colorbar\": {\"outlinewidth\": 0, \"ticks\": \"\"}}, \"marker\": {\"colorbar\": {\"outlinewidth\": 0, \"ticks\": \"\"}}, \"type\": \"scatter3d\"}], \"scattercarpet\": [{\"marker\": {\"colorbar\": {\"outlinewidth\": 0, \"ticks\": \"\"}}, \"type\": \"scattercarpet\"}], \"scattergeo\": [{\"marker\": {\"colorbar\": {\"outlinewidth\": 0, \"ticks\": \"\"}}, \"type\": \"scattergeo\"}], \"scattergl\": [{\"marker\": {\"colorbar\": {\"outlinewidth\": 0, \"ticks\": \"\"}}, \"type\": \"scattergl\"}], \"scattermapbox\": [{\"marker\": {\"colorbar\": {\"outlinewidth\": 0, \"ticks\": \"\"}}, \"type\": \"scattermapbox\"}], \"scatterpolar\": [{\"marker\": {\"colorbar\": {\"outlinewidth\": 0, \"ticks\": \"\"}}, \"type\": \"scatterpolar\"}], \"scatterpolargl\": [{\"marker\": {\"colorbar\": {\"outlinewidth\": 0, \"ticks\": \"\"}}, \"type\": \"scatterpolargl\"}], \"scatterternary\": [{\"marker\": {\"colorbar\": {\"outlinewidth\": 0, \"ticks\": \"\"}}, \"type\": \"scatterternary\"}], \"surface\": [{\"colorbar\": {\"outlinewidth\": 0, \"ticks\": \"\"}, \"colorscale\": [[0.0, \"#0d0887\"], [0.1111111111111111, \"#46039f\"], [0.2222222222222222, \"#7201a8\"], [0.3333333333333333, \"#9c179e\"], [0.4444444444444444, \"#bd3786\"], [0.5555555555555556, \"#d8576b\"], [0.6666666666666666, \"#ed7953\"], [0.7777777777777778, \"#fb9f3a\"], [0.8888888888888888, \"#fdca26\"], [1.0, \"#f0f921\"]], \"type\": \"surface\"}], \"table\": [{\"cells\": {\"fill\": {\"color\": \"#EBF0F8\"}, \"line\": {\"color\": \"white\"}}, \"header\": {\"fill\": {\"color\": \"#C8D4E3\"}, \"line\": {\"color\": \"white\"}}, \"type\": \"table\"}]}, \"layout\": {\"annotationdefaults\": {\"arrowcolor\": \"#2a3f5f\", \"arrowhead\": 0, \"arrowwidth\": 1}, \"autotypenumbers\": \"strict\", \"coloraxis\": {\"colorbar\": {\"outlinewidth\": 0, \"ticks\": \"\"}}, \"colorscale\": {\"diverging\": [[0, \"#8e0152\"], [0.1, \"#c51b7d\"], [0.2, \"#de77ae\"], [0.3, \"#f1b6da\"], [0.4, \"#fde0ef\"], [0.5, \"#f7f7f7\"], [0.6, \"#e6f5d0\"], [0.7, \"#b8e186\"], [0.8, \"#7fbc41\"], [0.9, \"#4d9221\"], [1, \"#276419\"]], \"sequential\": [[0.0, \"#0d0887\"], [0.1111111111111111, \"#46039f\"], [0.2222222222222222, \"#7201a8\"], [0.3333333333333333, \"#9c179e\"], [0.4444444444444444, \"#bd3786\"], [0.5555555555555556, \"#d8576b\"], [0.6666666666666666, \"#ed7953\"], [0.7777777777777778, \"#fb9f3a\"], [0.8888888888888888, \"#fdca26\"], [1.0, \"#f0f921\"]], \"sequentialminus\": [[0.0, \"#0d0887\"], [0.1111111111111111, \"#46039f\"], [0.2222222222222222, \"#7201a8\"], [0.3333333333333333, \"#9c179e\"], [0.4444444444444444, \"#bd3786\"], [0.5555555555555556, \"#d8576b\"], [0.6666666666666666, \"#ed7953\"], [0.7777777777777778, \"#fb9f3a\"], [0.8888888888888888, \"#fdca26\"], [1.0, \"#f0f921\"]]}, \"colorway\": [\"#636efa\", \"#EF553B\", \"#00cc96\", \"#ab63fa\", \"#FFA15A\", \"#19d3f3\", \"#FF6692\", \"#B6E880\", \"#FF97FF\", \"#FECB52\"], \"font\": {\"color\": \"#2a3f5f\"}, \"geo\": {\"bgcolor\": \"white\", \"lakecolor\": \"white\", \"landcolor\": \"#E5ECF6\", \"showlakes\": true, \"showland\": true, \"subunitcolor\": \"white\"}, \"hoverlabel\": {\"align\": \"left\"}, \"hovermode\": \"closest\", \"mapbox\": {\"style\": \"light\"}, \"paper_bgcolor\": \"white\", \"plot_bgcolor\": \"#E5ECF6\", \"polar\": {\"angularaxis\": {\"gridcolor\": \"white\", \"linecolor\": \"white\", \"ticks\": \"\"}, \"bgcolor\": \"#E5ECF6\", \"radialaxis\": {\"gridcolor\": \"white\", \"linecolor\": \"white\", \"ticks\": \"\"}}, \"scene\": {\"xaxis\": {\"backgroundcolor\": \"#E5ECF6\", \"gridcolor\": \"white\", \"gridwidth\": 2, \"linecolor\": \"white\", \"showbackground\": true, \"ticks\": \"\", \"zerolinecolor\": \"white\"}, \"yaxis\": {\"backgroundcolor\": \"#E5ECF6\", \"gridcolor\": \"white\", \"gridwidth\": 2, \"linecolor\": \"white\", \"showbackground\": true, \"ticks\": \"\", \"zerolinecolor\": \"white\"}, \"zaxis\": {\"backgroundcolor\": \"#E5ECF6\", \"gridcolor\": \"white\", \"gridwidth\": 2, \"linecolor\": \"white\", \"showbackground\": true, \"ticks\": \"\", \"zerolinecolor\": \"white\"}}, \"shapedefaults\": {\"line\": {\"color\": \"#2a3f5f\"}}, \"ternary\": {\"aaxis\": {\"gridcolor\": \"white\", \"linecolor\": \"white\", \"ticks\": \"\"}, \"baxis\": {\"gridcolor\": \"white\", \"linecolor\": \"white\", \"ticks\": \"\"}, \"bgcolor\": \"#E5ECF6\", \"caxis\": {\"gridcolor\": \"white\", \"linecolor\": \"white\", \"ticks\": \"\"}}, \"title\": {\"x\": 0.05}, \"xaxis\": {\"automargin\": true, \"gridcolor\": \"white\", \"linecolor\": \"white\", \"ticks\": \"\", \"title\": {\"standoff\": 15}, \"zerolinecolor\": \"white\", \"zerolinewidth\": 2}, \"yaxis\": {\"automargin\": true, \"gridcolor\": \"white\", \"linecolor\": \"white\", \"ticks\": \"\", \"title\": {\"standoff\": 15}, \"zerolinecolor\": \"white\", \"zerolinewidth\": 2}}}, \"title\": {\"font\": {\"color\": \"#4D5663\"}}, \"xaxis\": {\"gridcolor\": \"#E1E5ED\", \"showgrid\": true, \"tickfont\": {\"color\": \"#4D5663\"}, \"title\": {\"font\": {\"color\": \"#4D5663\"}, \"text\": \"\"}, \"zerolinecolor\": \"#E1E5ED\"}, \"yaxis\": {\"gridcolor\": \"#E1E5ED\", \"showgrid\": true, \"tickfont\": {\"color\": \"#4D5663\"}, \"title\": {\"font\": {\"color\": \"#4D5663\"}, \"text\": \"\"}, \"zerolinecolor\": \"#E1E5ED\"}},                        {\"showLink\": true, \"linkText\": \"Export to plot.ly\", \"plotlyServerURL\": \"https://plot.ly\", \"responsive\": true}                    ).then(function(){\n",
       "                            \n",
       "var gd = document.getElementById('0882a689-a9a2-4caa-ba0e-439621e05bb9');\n",
       "var x = new MutationObserver(function (mutations, observer) {{\n",
       "        var display = window.getComputedStyle(gd).display;\n",
       "        if (!display || display === 'none') {{\n",
       "            console.log([gd, 'removed!']);\n",
       "            Plotly.purge(gd);\n",
       "            observer.disconnect();\n",
       "        }}\n",
       "}});\n",
       "\n",
       "// Listen for the removal of the full notebook cells\n",
       "var notebookContainer = gd.closest('#notebook-container');\n",
       "if (notebookContainer) {{\n",
       "    x.observe(notebookContainer, {childList: true});\n",
       "}}\n",
       "\n",
       "// Listen for the clearing of the current output cell\n",
       "var outputEl = gd.closest('.output');\n",
       "if (outputEl) {{\n",
       "    x.observe(outputEl, {childList: true});\n",
       "}}\n",
       "\n",
       "                        })                };                });            </script>        </div>"
      ]
     },
     "metadata": {},
     "output_type": "display_data"
    }
   ],
   "source": [
    "df3 = pd.DataFrame({'x':[1,2,3,4,5],'y':[10,20,30,20,10],'z':[5,4,3,2,1]})\n",
    "df3.iplot(kind='surface',colorscale='rdylbu')"
   ]
  },
  {
   "cell_type": "markdown",
   "metadata": {},
   "source": [
    "## Spread"
   ]
  },
  {
   "cell_type": "code",
   "execution_count": 16,
   "metadata": {},
   "outputs": [
    {
     "name": "stderr",
     "output_type": "stream",
     "text": [
      "/Library/Frameworks/Python.framework/Versions/3.8/lib/python3.8/site-packages/cufflinks/plotlytools.py:849: FutureWarning:\n",
      "\n",
      "The pandas.np module is deprecated and will be removed from pandas in a future version. Import numpy directly instead\n",
      "\n",
      "/Library/Frameworks/Python.framework/Versions/3.8/lib/python3.8/site-packages/cufflinks/plotlytools.py:850: FutureWarning:\n",
      "\n",
      "The pandas.np module is deprecated and will be removed from pandas in a future version. Import numpy directly instead\n",
      "\n"
     ]
    },
    {
     "data": {
      "application/vnd.plotly.v1+json": {
       "config": {
        "linkText": "Export to plot.ly",
        "plotlyServerURL": "https://plot.ly",
        "showLink": true
       },
       "data": [
        {
         "line": {
          "color": "rgba(255, 153, 51, 1.0)",
          "dash": "solid",
          "shape": "linear",
          "width": 1.3
         },
         "mode": "lines",
         "name": "A",
         "text": "",
         "type": "scatter",
         "x": [
          0,
          1,
          2,
          3,
          4,
          5,
          6,
          7,
          8,
          9,
          10,
          11,
          12,
          13,
          14,
          15,
          16,
          17,
          18,
          19,
          20,
          21,
          22,
          23,
          24,
          25,
          26,
          27,
          28,
          29,
          30,
          31,
          32,
          33,
          34,
          35,
          36,
          37,
          38,
          39,
          40,
          41,
          42,
          43,
          44,
          45,
          46,
          47,
          48,
          49,
          50,
          51,
          52,
          53,
          54,
          55,
          56,
          57,
          58,
          59,
          60,
          61,
          62,
          63,
          64,
          65,
          66,
          67,
          68,
          69,
          70,
          71,
          72,
          73,
          74,
          75,
          76,
          77,
          78,
          79,
          80,
          81,
          82,
          83,
          84,
          85,
          86,
          87,
          88,
          89,
          90,
          91,
          92,
          93,
          94,
          95,
          96,
          97,
          98,
          99
         ],
         "y": [
          -1.3545048514202886,
          -0.27728378291500244,
          0.45496642739072185,
          -0.23107642156544375,
          0.3225381016251746,
          -1.0008187198265743,
          0.9845366396545454,
          -0.50321152657273,
          1.6157058505386503,
          -1.0755409628997235,
          -0.7266925458064639,
          -1.595502047740283,
          0.43015754731259187,
          -0.5023039509792152,
          1.1993891113951063,
          1.5027455883128777,
          -2.0111448778151333,
          0.27904655655280847,
          -0.36670722252928634,
          -1.045321731796316,
          0.10914045660460339,
          -0.6328966222259624,
          1.0225649219030128,
          0.23646366884558706,
          0.41548422719458417,
          -1.0976117676432184,
          -1.3390903914000774,
          -0.4528371511298527,
          -0.42733490165283505,
          0.5754120459853603,
          0.11281268381519279,
          -1.1504102405112058,
          -0.050574871926182784,
          0.6018645063084697,
          -1.4510472945569854,
          -0.21392389795359612,
          0.9380171050066473,
          -0.09438742292598681,
          -0.07053906033576715,
          2.2285687724394343,
          0.19845839839579424,
          1.2131263496243834,
          1.1792006659868235,
          -0.7568736002213788,
          -1.32459048528407,
          -0.6129471634329756,
          -0.4709172661057217,
          -0.7285462902748785,
          -0.25955121913034657,
          0.1555555496229885,
          -1.0067734814821243,
          1.4876681778759002,
          -0.19585676804199598,
          -1.3051812203656723,
          -0.7121109427231624,
          1.4370077967986707,
          0.4538113012220596,
          0.32118719474111324,
          1.9306937024550697,
          -1.0000186636360553,
          1.3538998887923899,
          1.0254565059989138,
          -0.6070225790196295,
          1.7505222400386586,
          1.7797158783195268,
          0.17570637331592434,
          0.1301137572005141,
          -0.4213331565359732,
          0.2879440028531558,
          2.138360358957446,
          1.0890958981482772,
          -0.26490401714714534,
          0.027728903643897698,
          0.40479261158660584,
          0.9083928456027764,
          -0.5899242333379505,
          -0.8616710639476087,
          1.235011144214475,
          1.2773603111730898,
          0.1646548821502208,
          0.19239963499647977,
          -1.3887769224713287,
          0.03482195209693308,
          1.5745439863348998,
          -0.6366925872900931,
          -0.41589432971818063,
          0.3427910975984431,
          0.8366529944437844,
          0.34780611914933296,
          -1.4700076557867081,
          0.38964290131019585,
          -0.7884288396387822,
          -0.9056465667023024,
          0.3399186743690349,
          -0.6477575326386299,
          1.5680595200598508,
          2.269928998581372,
          -1.0404746060192802,
          0.5237456598895535,
          0.9448421163357893
         ]
        },
        {
         "line": {
          "color": "rgba(55, 128, 191, 1.0)",
          "dash": "solid",
          "shape": "linear",
          "width": 1.3
         },
         "mode": "lines",
         "name": "B",
         "text": "",
         "type": "scatter",
         "x": [
          0,
          1,
          2,
          3,
          4,
          5,
          6,
          7,
          8,
          9,
          10,
          11,
          12,
          13,
          14,
          15,
          16,
          17,
          18,
          19,
          20,
          21,
          22,
          23,
          24,
          25,
          26,
          27,
          28,
          29,
          30,
          31,
          32,
          33,
          34,
          35,
          36,
          37,
          38,
          39,
          40,
          41,
          42,
          43,
          44,
          45,
          46,
          47,
          48,
          49,
          50,
          51,
          52,
          53,
          54,
          55,
          56,
          57,
          58,
          59,
          60,
          61,
          62,
          63,
          64,
          65,
          66,
          67,
          68,
          69,
          70,
          71,
          72,
          73,
          74,
          75,
          76,
          77,
          78,
          79,
          80,
          81,
          82,
          83,
          84,
          85,
          86,
          87,
          88,
          89,
          90,
          91,
          92,
          93,
          94,
          95,
          96,
          97,
          98,
          99
         ],
         "y": [
          -0.6370662306345296,
          -0.18779479970184382,
          -0.933271565970044,
          0.9212074612281883,
          0.8936514161808388,
          0.8342227138476731,
          0.8587196320328144,
          0.22881724899518655,
          -0.9180773570599018,
          -0.45142786836483606,
          -0.22248070393362662,
          0.44917113276718723,
          -0.5973156191937276,
          2.1898876198884047,
          -0.4902326025541706,
          -2.018799695983331,
          -1.3633094063854794,
          0.722171910193369,
          1.398112707247513,
          -0.08109011152174196,
          1.2230279514126137,
          -0.21409272975599575,
          0.38937698547166644,
          0.5838286529465544,
          0.8956700723977705,
          0.961281589148261,
          1.7492867643302497,
          -2.0349038968514983,
          0.9622336412524589,
          -1.6031314870782933,
          0.06891589583313582,
          -0.34008733689357995,
          1.4904754639563247,
          -0.6838384992536902,
          0.6019227388150992,
          1.0744944375979761,
          -0.4426583612634076,
          -1.238007017870152,
          -0.23516809680023168,
          0.17849613576372855,
          -1.9737195066421716,
          0.7900923082368406,
          0.12618231219509693,
          -0.6881342409954447,
          1.0740609598702087,
          -2.2292758320157007,
          0.33792269970410865,
          -0.046717796304047564,
          -1.3299347008261175,
          -0.832872352576968,
          -0.02629450649372879,
          -1.3973378150364184,
          2.0597015168262067,
          0.7158707733517314,
          1.538355947800245,
          0.8200805455889011,
          0.06197608346940097,
          -0.30465938188471225,
          -2.791129597868393,
          -0.6640117629558614,
          -0.7395309222045003,
          -1.1692089459454784,
          1.077217332302895,
          -0.687746618866074,
          1.4691428404927873,
          0.8768833279459809,
          0.3599051799630393,
          -0.447137575412363,
          -0.41913677028305696,
          0.5464024743534294,
          0.4307296648098181,
          -1.8466600072649433,
          0.10608219598356404,
          -1.4511218468659515,
          0.4246996885645433,
          1.284557483121074,
          0.12055153420288005,
          1.1349369472971491,
          -0.08792505531674043,
          -1.2616820293829447,
          0.021585833373038835,
          0.433630805405162,
          -0.41834366420211727,
          -1.3449157042759814,
          0.7473410766559658,
          -1.879342304593012,
          0.28080103709289456,
          -0.5157429018677484,
          1.140210489380863,
          1.7292730109199856,
          -0.9166642240809446,
          0.7944208063936056,
          2.302665781556202,
          -1.157887088105418,
          -0.2936987293432595,
          0.18816450281699626,
          0.1508502062472272,
          0.3179360880392077,
          -0.4593359983942544,
          0.27511528779754385
         ]
        },
        {
         "connectgaps": false,
         "fill": "tozeroy",
         "line": {
          "color": "green",
          "dash": "solid",
          "shape": "linear",
          "width": 0.5
         },
         "mode": "lines",
         "name": "Spread",
         "showlegend": false,
         "type": "scatter",
         "x": [
          0,
          1,
          2,
          3,
          4,
          5,
          6,
          7,
          8,
          9,
          10,
          11,
          12,
          13,
          14,
          15,
          16,
          17,
          18,
          19,
          20,
          21,
          22,
          23,
          24,
          25,
          26,
          27,
          28,
          29,
          30,
          31,
          32,
          33,
          34,
          35,
          36,
          37,
          38,
          39,
          40,
          41,
          42,
          43,
          44,
          45,
          46,
          47,
          48,
          49,
          50,
          51,
          52,
          53,
          54,
          55,
          56,
          57,
          58,
          59,
          60,
          61,
          62,
          63,
          64,
          65,
          66,
          67,
          68,
          69,
          70,
          71,
          72,
          73,
          74,
          75,
          76,
          77,
          78,
          79,
          80,
          81,
          82,
          83,
          84,
          85,
          86,
          87,
          88,
          89,
          90,
          91,
          92,
          93,
          94,
          95,
          96,
          97,
          98,
          99
         ],
         "xaxis": "x2",
         "y": [
          "",
          "",
          1.3882379933607658,
          "",
          "",
          "",
          0.12581700762173098,
          "",
          2.5337832075985522,
          "",
          "",
          "",
          1.0274731665063195,
          "",
          1.6896217139492768,
          3.5215452842962085,
          "",
          "",
          "",
          "",
          "",
          "",
          0.6331879364313464,
          "",
          "",
          "",
          "",
          1.5820667457216455,
          "",
          2.1785435330636536,
          0.04389678798205697,
          "",
          "",
          1.2857030055621599,
          "",
          "",
          1.3806754662700549,
          1.1436195949441652,
          0.16462903646446453,
          2.0500726366757056,
          2.172177905037966,
          0.42303404138754275,
          1.0530183537917266,
          "",
          "",
          1.616328668582725,
          "",
          "",
          1.070383481695771,
          0.9884279021999565,
          "",
          2.8850059929123186,
          "",
          "",
          "",
          0.6169272512097697,
          0.3918352177526586,
          0.6258465766258254,
          4.721823300323463,
          "",
          2.09343081099689,
          2.194665451944392,
          "",
          2.4382688589047326,
          0.3105730378267395,
          "",
          "",
          0.02580441887638979,
          0.7070807731362128,
          1.5919578846040165,
          0.6583662333384591,
          1.581755990117798,
          "",
          1.8559144584525573,
          0.4836931570382331,
          "",
          "",
          0.100074196917326,
          1.3652853664898301,
          1.4263369115331654,
          0.17081380162344095,
          "",
          0.45316561629905033,
          2.919459690610881,
          "",
          1.4634479748748315,
          0.06199006050554856,
          1.3523958963115328,
          "",
          "",
          1.3063071253911405,
          "",
          "",
          1.497805762474453,
          "",
          1.3798950172428546,
          2.119078792334145,
          "",
          0.9830816582838078,
          0.6697268285382454
         ],
         "yaxis": "y2"
        },
        {
         "connectgaps": false,
         "fill": "tozeroy",
         "line": {
          "color": "red",
          "dash": "solid",
          "shape": "linear",
          "width": 0.5
         },
         "mode": "lines",
         "name": "Spread",
         "showlegend": false,
         "type": "scatter",
         "x": [
          0,
          1,
          2,
          3,
          4,
          5,
          6,
          7,
          8,
          9,
          10,
          11,
          12,
          13,
          14,
          15,
          16,
          17,
          18,
          19,
          20,
          21,
          22,
          23,
          24,
          25,
          26,
          27,
          28,
          29,
          30,
          31,
          32,
          33,
          34,
          35,
          36,
          37,
          38,
          39,
          40,
          41,
          42,
          43,
          44,
          45,
          46,
          47,
          48,
          49,
          50,
          51,
          52,
          53,
          54,
          55,
          56,
          57,
          58,
          59,
          60,
          61,
          62,
          63,
          64,
          65,
          66,
          67,
          68,
          69,
          70,
          71,
          72,
          73,
          74,
          75,
          76,
          77,
          78,
          79,
          80,
          81,
          82,
          83,
          84,
          85,
          86,
          87,
          88,
          89,
          90,
          91,
          92,
          93,
          94,
          95,
          96,
          97,
          98,
          99
         ],
         "xaxis": "x2",
         "y": [
          -0.717438620785759,
          -0.08948898321315862,
          "",
          -1.1522838827936321,
          -0.5711133145556642,
          -1.8350414336742475,
          "",
          -0.7320287755679166,
          "",
          -0.6241130945348874,
          -0.5042118418728373,
          -2.0446731805074703,
          "",
          -2.69219157086762,
          "",
          "",
          -0.6478354714296539,
          -0.44312535364056055,
          -1.7648199297767992,
          -0.964231620274574,
          -1.1138874948080102,
          -0.4188038924699667,
          "",
          -0.34736498410096733,
          -0.48018584520318636,
          -2.0588933567914793,
          -3.088377155730327,
          "",
          -1.389568542905294,
          "",
          "",
          -0.8103229036176258,
          -1.5410503358825074,
          "",
          -2.052970033372085,
          -1.2884183355515724,
          "",
          "",
          "",
          "",
          "",
          "",
          "",
          -0.0687393592259341,
          -2.398651445154279,
          "",
          -0.8088399658098304,
          -0.6818284939708309,
          "",
          "",
          -0.9804789749883955,
          "",
          -2.2555582848682025,
          -2.021051993717404,
          -2.2504668905234073,
          "",
          "",
          "",
          "",
          -0.3360069006801939,
          "",
          "",
          -1.6842399113225246,
          "",
          "",
          -0.7011769546300566,
          -0.22979142276252518,
          "",
          "",
          "",
          "",
          "",
          -0.07835329233966634,
          "",
          "",
          -1.8744817164590244,
          -0.9822225981504887,
          "",
          "",
          "",
          "",
          -1.8224077278764907,
          "",
          "",
          -1.384033663946059,
          "",
          "",
          "",
          -0.79240437023153,
          -3.1992806667066938,
          "",
          -1.5828496460323878,
          -3.2083123482585045,
          "",
          -0.3540588032953704,
          "",
          "",
          -1.358410694058488,
          "",
          ""
         ],
         "yaxis": "y2"
        }
       ],
       "layout": {
        "hovermode": "x",
        "legend": {
         "bgcolor": "#F5F6F9",
         "font": {
          "color": "#4D5663"
         }
        },
        "paper_bgcolor": "#F5F6F9",
        "plot_bgcolor": "#F5F6F9",
        "template": {
         "data": {
          "bar": [
           {
            "error_x": {
             "color": "#2a3f5f"
            },
            "error_y": {
             "color": "#2a3f5f"
            },
            "marker": {
             "line": {
              "color": "#E5ECF6",
              "width": 0.5
             }
            },
            "type": "bar"
           }
          ],
          "barpolar": [
           {
            "marker": {
             "line": {
              "color": "#E5ECF6",
              "width": 0.5
             }
            },
            "type": "barpolar"
           }
          ],
          "carpet": [
           {
            "aaxis": {
             "endlinecolor": "#2a3f5f",
             "gridcolor": "white",
             "linecolor": "white",
             "minorgridcolor": "white",
             "startlinecolor": "#2a3f5f"
            },
            "baxis": {
             "endlinecolor": "#2a3f5f",
             "gridcolor": "white",
             "linecolor": "white",
             "minorgridcolor": "white",
             "startlinecolor": "#2a3f5f"
            },
            "type": "carpet"
           }
          ],
          "choropleth": [
           {
            "colorbar": {
             "outlinewidth": 0,
             "ticks": ""
            },
            "type": "choropleth"
           }
          ],
          "contour": [
           {
            "colorbar": {
             "outlinewidth": 0,
             "ticks": ""
            },
            "colorscale": [
             [
              0,
              "#0d0887"
             ],
             [
              0.1111111111111111,
              "#46039f"
             ],
             [
              0.2222222222222222,
              "#7201a8"
             ],
             [
              0.3333333333333333,
              "#9c179e"
             ],
             [
              0.4444444444444444,
              "#bd3786"
             ],
             [
              0.5555555555555556,
              "#d8576b"
             ],
             [
              0.6666666666666666,
              "#ed7953"
             ],
             [
              0.7777777777777778,
              "#fb9f3a"
             ],
             [
              0.8888888888888888,
              "#fdca26"
             ],
             [
              1,
              "#f0f921"
             ]
            ],
            "type": "contour"
           }
          ],
          "contourcarpet": [
           {
            "colorbar": {
             "outlinewidth": 0,
             "ticks": ""
            },
            "type": "contourcarpet"
           }
          ],
          "heatmap": [
           {
            "colorbar": {
             "outlinewidth": 0,
             "ticks": ""
            },
            "colorscale": [
             [
              0,
              "#0d0887"
             ],
             [
              0.1111111111111111,
              "#46039f"
             ],
             [
              0.2222222222222222,
              "#7201a8"
             ],
             [
              0.3333333333333333,
              "#9c179e"
             ],
             [
              0.4444444444444444,
              "#bd3786"
             ],
             [
              0.5555555555555556,
              "#d8576b"
             ],
             [
              0.6666666666666666,
              "#ed7953"
             ],
             [
              0.7777777777777778,
              "#fb9f3a"
             ],
             [
              0.8888888888888888,
              "#fdca26"
             ],
             [
              1,
              "#f0f921"
             ]
            ],
            "type": "heatmap"
           }
          ],
          "heatmapgl": [
           {
            "colorbar": {
             "outlinewidth": 0,
             "ticks": ""
            },
            "colorscale": [
             [
              0,
              "#0d0887"
             ],
             [
              0.1111111111111111,
              "#46039f"
             ],
             [
              0.2222222222222222,
              "#7201a8"
             ],
             [
              0.3333333333333333,
              "#9c179e"
             ],
             [
              0.4444444444444444,
              "#bd3786"
             ],
             [
              0.5555555555555556,
              "#d8576b"
             ],
             [
              0.6666666666666666,
              "#ed7953"
             ],
             [
              0.7777777777777778,
              "#fb9f3a"
             ],
             [
              0.8888888888888888,
              "#fdca26"
             ],
             [
              1,
              "#f0f921"
             ]
            ],
            "type": "heatmapgl"
           }
          ],
          "histogram": [
           {
            "marker": {
             "colorbar": {
              "outlinewidth": 0,
              "ticks": ""
             }
            },
            "type": "histogram"
           }
          ],
          "histogram2d": [
           {
            "colorbar": {
             "outlinewidth": 0,
             "ticks": ""
            },
            "colorscale": [
             [
              0,
              "#0d0887"
             ],
             [
              0.1111111111111111,
              "#46039f"
             ],
             [
              0.2222222222222222,
              "#7201a8"
             ],
             [
              0.3333333333333333,
              "#9c179e"
             ],
             [
              0.4444444444444444,
              "#bd3786"
             ],
             [
              0.5555555555555556,
              "#d8576b"
             ],
             [
              0.6666666666666666,
              "#ed7953"
             ],
             [
              0.7777777777777778,
              "#fb9f3a"
             ],
             [
              0.8888888888888888,
              "#fdca26"
             ],
             [
              1,
              "#f0f921"
             ]
            ],
            "type": "histogram2d"
           }
          ],
          "histogram2dcontour": [
           {
            "colorbar": {
             "outlinewidth": 0,
             "ticks": ""
            },
            "colorscale": [
             [
              0,
              "#0d0887"
             ],
             [
              0.1111111111111111,
              "#46039f"
             ],
             [
              0.2222222222222222,
              "#7201a8"
             ],
             [
              0.3333333333333333,
              "#9c179e"
             ],
             [
              0.4444444444444444,
              "#bd3786"
             ],
             [
              0.5555555555555556,
              "#d8576b"
             ],
             [
              0.6666666666666666,
              "#ed7953"
             ],
             [
              0.7777777777777778,
              "#fb9f3a"
             ],
             [
              0.8888888888888888,
              "#fdca26"
             ],
             [
              1,
              "#f0f921"
             ]
            ],
            "type": "histogram2dcontour"
           }
          ],
          "mesh3d": [
           {
            "colorbar": {
             "outlinewidth": 0,
             "ticks": ""
            },
            "type": "mesh3d"
           }
          ],
          "parcoords": [
           {
            "line": {
             "colorbar": {
              "outlinewidth": 0,
              "ticks": ""
             }
            },
            "type": "parcoords"
           }
          ],
          "pie": [
           {
            "automargin": true,
            "type": "pie"
           }
          ],
          "scatter": [
           {
            "marker": {
             "colorbar": {
              "outlinewidth": 0,
              "ticks": ""
             }
            },
            "type": "scatter"
           }
          ],
          "scatter3d": [
           {
            "line": {
             "colorbar": {
              "outlinewidth": 0,
              "ticks": ""
             }
            },
            "marker": {
             "colorbar": {
              "outlinewidth": 0,
              "ticks": ""
             }
            },
            "type": "scatter3d"
           }
          ],
          "scattercarpet": [
           {
            "marker": {
             "colorbar": {
              "outlinewidth": 0,
              "ticks": ""
             }
            },
            "type": "scattercarpet"
           }
          ],
          "scattergeo": [
           {
            "marker": {
             "colorbar": {
              "outlinewidth": 0,
              "ticks": ""
             }
            },
            "type": "scattergeo"
           }
          ],
          "scattergl": [
           {
            "marker": {
             "colorbar": {
              "outlinewidth": 0,
              "ticks": ""
             }
            },
            "type": "scattergl"
           }
          ],
          "scattermapbox": [
           {
            "marker": {
             "colorbar": {
              "outlinewidth": 0,
              "ticks": ""
             }
            },
            "type": "scattermapbox"
           }
          ],
          "scatterpolar": [
           {
            "marker": {
             "colorbar": {
              "outlinewidth": 0,
              "ticks": ""
             }
            },
            "type": "scatterpolar"
           }
          ],
          "scatterpolargl": [
           {
            "marker": {
             "colorbar": {
              "outlinewidth": 0,
              "ticks": ""
             }
            },
            "type": "scatterpolargl"
           }
          ],
          "scatterternary": [
           {
            "marker": {
             "colorbar": {
              "outlinewidth": 0,
              "ticks": ""
             }
            },
            "type": "scatterternary"
           }
          ],
          "surface": [
           {
            "colorbar": {
             "outlinewidth": 0,
             "ticks": ""
            },
            "colorscale": [
             [
              0,
              "#0d0887"
             ],
             [
              0.1111111111111111,
              "#46039f"
             ],
             [
              0.2222222222222222,
              "#7201a8"
             ],
             [
              0.3333333333333333,
              "#9c179e"
             ],
             [
              0.4444444444444444,
              "#bd3786"
             ],
             [
              0.5555555555555556,
              "#d8576b"
             ],
             [
              0.6666666666666666,
              "#ed7953"
             ],
             [
              0.7777777777777778,
              "#fb9f3a"
             ],
             [
              0.8888888888888888,
              "#fdca26"
             ],
             [
              1,
              "#f0f921"
             ]
            ],
            "type": "surface"
           }
          ],
          "table": [
           {
            "cells": {
             "fill": {
              "color": "#EBF0F8"
             },
             "line": {
              "color": "white"
             }
            },
            "header": {
             "fill": {
              "color": "#C8D4E3"
             },
             "line": {
              "color": "white"
             }
            },
            "type": "table"
           }
          ]
         },
         "layout": {
          "annotationdefaults": {
           "arrowcolor": "#2a3f5f",
           "arrowhead": 0,
           "arrowwidth": 1
          },
          "autotypenumbers": "strict",
          "coloraxis": {
           "colorbar": {
            "outlinewidth": 0,
            "ticks": ""
           }
          },
          "colorscale": {
           "diverging": [
            [
             0,
             "#8e0152"
            ],
            [
             0.1,
             "#c51b7d"
            ],
            [
             0.2,
             "#de77ae"
            ],
            [
             0.3,
             "#f1b6da"
            ],
            [
             0.4,
             "#fde0ef"
            ],
            [
             0.5,
             "#f7f7f7"
            ],
            [
             0.6,
             "#e6f5d0"
            ],
            [
             0.7,
             "#b8e186"
            ],
            [
             0.8,
             "#7fbc41"
            ],
            [
             0.9,
             "#4d9221"
            ],
            [
             1,
             "#276419"
            ]
           ],
           "sequential": [
            [
             0,
             "#0d0887"
            ],
            [
             0.1111111111111111,
             "#46039f"
            ],
            [
             0.2222222222222222,
             "#7201a8"
            ],
            [
             0.3333333333333333,
             "#9c179e"
            ],
            [
             0.4444444444444444,
             "#bd3786"
            ],
            [
             0.5555555555555556,
             "#d8576b"
            ],
            [
             0.6666666666666666,
             "#ed7953"
            ],
            [
             0.7777777777777778,
             "#fb9f3a"
            ],
            [
             0.8888888888888888,
             "#fdca26"
            ],
            [
             1,
             "#f0f921"
            ]
           ],
           "sequentialminus": [
            [
             0,
             "#0d0887"
            ],
            [
             0.1111111111111111,
             "#46039f"
            ],
            [
             0.2222222222222222,
             "#7201a8"
            ],
            [
             0.3333333333333333,
             "#9c179e"
            ],
            [
             0.4444444444444444,
             "#bd3786"
            ],
            [
             0.5555555555555556,
             "#d8576b"
            ],
            [
             0.6666666666666666,
             "#ed7953"
            ],
            [
             0.7777777777777778,
             "#fb9f3a"
            ],
            [
             0.8888888888888888,
             "#fdca26"
            ],
            [
             1,
             "#f0f921"
            ]
           ]
          },
          "colorway": [
           "#636efa",
           "#EF553B",
           "#00cc96",
           "#ab63fa",
           "#FFA15A",
           "#19d3f3",
           "#FF6692",
           "#B6E880",
           "#FF97FF",
           "#FECB52"
          ],
          "font": {
           "color": "#2a3f5f"
          },
          "geo": {
           "bgcolor": "white",
           "lakecolor": "white",
           "landcolor": "#E5ECF6",
           "showlakes": true,
           "showland": true,
           "subunitcolor": "white"
          },
          "hoverlabel": {
           "align": "left"
          },
          "hovermode": "closest",
          "mapbox": {
           "style": "light"
          },
          "paper_bgcolor": "white",
          "plot_bgcolor": "#E5ECF6",
          "polar": {
           "angularaxis": {
            "gridcolor": "white",
            "linecolor": "white",
            "ticks": ""
           },
           "bgcolor": "#E5ECF6",
           "radialaxis": {
            "gridcolor": "white",
            "linecolor": "white",
            "ticks": ""
           }
          },
          "scene": {
           "xaxis": {
            "backgroundcolor": "#E5ECF6",
            "gridcolor": "white",
            "gridwidth": 2,
            "linecolor": "white",
            "showbackground": true,
            "ticks": "",
            "zerolinecolor": "white"
           },
           "yaxis": {
            "backgroundcolor": "#E5ECF6",
            "gridcolor": "white",
            "gridwidth": 2,
            "linecolor": "white",
            "showbackground": true,
            "ticks": "",
            "zerolinecolor": "white"
           },
           "zaxis": {
            "backgroundcolor": "#E5ECF6",
            "gridcolor": "white",
            "gridwidth": 2,
            "linecolor": "white",
            "showbackground": true,
            "ticks": "",
            "zerolinecolor": "white"
           }
          },
          "shapedefaults": {
           "line": {
            "color": "#2a3f5f"
           }
          },
          "ternary": {
           "aaxis": {
            "gridcolor": "white",
            "linecolor": "white",
            "ticks": ""
           },
           "baxis": {
            "gridcolor": "white",
            "linecolor": "white",
            "ticks": ""
           },
           "bgcolor": "#E5ECF6",
           "caxis": {
            "gridcolor": "white",
            "linecolor": "white",
            "ticks": ""
           }
          },
          "title": {
           "x": 0.05
          },
          "xaxis": {
           "automargin": true,
           "gridcolor": "white",
           "linecolor": "white",
           "ticks": "",
           "title": {
            "standoff": 15
           },
           "zerolinecolor": "white",
           "zerolinewidth": 2
          },
          "yaxis": {
           "automargin": true,
           "gridcolor": "white",
           "linecolor": "white",
           "ticks": "",
           "title": {
            "standoff": 15
           },
           "zerolinecolor": "white",
           "zerolinewidth": 2
          }
         }
        },
        "title": {
         "font": {
          "color": "#4D5663"
         }
        },
        "xaxis": {
         "gridcolor": "#E1E5ED",
         "showgrid": true,
         "tickfont": {
          "color": "#4D5663"
         },
         "title": {
          "font": {
           "color": "#4D5663"
          },
          "text": ""
         },
         "zerolinecolor": "#E1E5ED"
        },
        "xaxis2": {
         "anchor": "y2",
         "gridcolor": "#E1E5ED",
         "showgrid": true,
         "showticklabels": false,
         "tickfont": {
          "color": "#4D5663"
         },
         "title": {
          "font": {
           "color": "#4D5663"
          },
          "text": ""
         },
         "zerolinecolor": "#E1E5ED"
        },
        "yaxis": {
         "domain": [
          0.3,
          1
         ],
         "gridcolor": "#E1E5ED",
         "showgrid": true,
         "tickfont": {
          "color": "#4D5663"
         },
         "title": {
          "font": {
           "color": "#4D5663"
          },
          "text": ""
         },
         "zerolinecolor": "#E1E5ED"
        },
        "yaxis2": {
         "domain": [
          0,
          0.25
         ],
         "gridcolor": "#E1E5ED",
         "showgrid": true,
         "tickfont": {
          "color": "#4D5663"
         },
         "title": {
          "font": {
           "color": "#4D5663"
          },
          "text": "Spread"
         },
         "zerolinecolor": "#E1E5ED"
        }
       }
      },
      "text/html": [
       "<div>                            <div id=\"d8ac74b0-6104-441b-8312-8e686b3724ee\" class=\"plotly-graph-div\" style=\"height:525px; width:100%;\"></div>            <script type=\"text/javascript\">                require([\"plotly\"], function(Plotly) {                    window.PLOTLYENV=window.PLOTLYENV || {};\n",
       "                    window.PLOTLYENV.BASE_URL='https://plot.ly';                                    if (document.getElementById(\"d8ac74b0-6104-441b-8312-8e686b3724ee\")) {                    Plotly.newPlot(                        \"d8ac74b0-6104-441b-8312-8e686b3724ee\",                        [{\"line\": {\"color\": \"rgba(255, 153, 51, 1.0)\", \"dash\": \"solid\", \"shape\": \"linear\", \"width\": 1.3}, \"mode\": \"lines\", \"name\": \"A\", \"text\": \"\", \"type\": \"scatter\", \"x\": [0, 1, 2, 3, 4, 5, 6, 7, 8, 9, 10, 11, 12, 13, 14, 15, 16, 17, 18, 19, 20, 21, 22, 23, 24, 25, 26, 27, 28, 29, 30, 31, 32, 33, 34, 35, 36, 37, 38, 39, 40, 41, 42, 43, 44, 45, 46, 47, 48, 49, 50, 51, 52, 53, 54, 55, 56, 57, 58, 59, 60, 61, 62, 63, 64, 65, 66, 67, 68, 69, 70, 71, 72, 73, 74, 75, 76, 77, 78, 79, 80, 81, 82, 83, 84, 85, 86, 87, 88, 89, 90, 91, 92, 93, 94, 95, 96, 97, 98, 99], \"y\": [-1.3545048514202886, -0.27728378291500244, 0.45496642739072185, -0.23107642156544375, 0.3225381016251746, -1.0008187198265743, 0.9845366396545454, -0.50321152657273, 1.6157058505386503, -1.0755409628997235, -0.7266925458064639, -1.595502047740283, 0.43015754731259187, -0.5023039509792152, 1.1993891113951063, 1.5027455883128777, -2.0111448778151333, 0.27904655655280847, -0.36670722252928634, -1.045321731796316, 0.10914045660460339, -0.6328966222259624, 1.0225649219030128, 0.23646366884558706, 0.41548422719458417, -1.0976117676432184, -1.3390903914000774, -0.4528371511298527, -0.42733490165283505, 0.5754120459853603, 0.11281268381519279, -1.1504102405112058, -0.050574871926182784, 0.6018645063084697, -1.4510472945569854, -0.21392389795359612, 0.9380171050066473, -0.09438742292598681, -0.07053906033576715, 2.2285687724394343, 0.19845839839579424, 1.2131263496243834, 1.1792006659868235, -0.7568736002213788, -1.32459048528407, -0.6129471634329756, -0.4709172661057217, -0.7285462902748785, -0.25955121913034657, 0.1555555496229885, -1.0067734814821243, 1.4876681778759002, -0.19585676804199598, -1.3051812203656723, -0.7121109427231624, 1.4370077967986707, 0.4538113012220596, 0.32118719474111324, 1.9306937024550697, -1.0000186636360553, 1.3538998887923899, 1.0254565059989138, -0.6070225790196295, 1.7505222400386586, 1.7797158783195268, 0.17570637331592434, 0.1301137572005141, -0.4213331565359732, 0.2879440028531558, 2.138360358957446, 1.0890958981482772, -0.26490401714714534, 0.027728903643897698, 0.40479261158660584, 0.9083928456027764, -0.5899242333379505, -0.8616710639476087, 1.235011144214475, 1.2773603111730898, 0.1646548821502208, 0.19239963499647977, -1.3887769224713287, 0.03482195209693308, 1.5745439863348998, -0.6366925872900931, -0.41589432971818063, 0.3427910975984431, 0.8366529944437844, 0.34780611914933296, -1.4700076557867081, 0.38964290131019585, -0.7884288396387822, -0.9056465667023024, 0.3399186743690349, -0.6477575326386299, 1.5680595200598508, 2.269928998581372, -1.0404746060192802, 0.5237456598895535, 0.9448421163357893]}, {\"line\": {\"color\": \"rgba(55, 128, 191, 1.0)\", \"dash\": \"solid\", \"shape\": \"linear\", \"width\": 1.3}, \"mode\": \"lines\", \"name\": \"B\", \"text\": \"\", \"type\": \"scatter\", \"x\": [0, 1, 2, 3, 4, 5, 6, 7, 8, 9, 10, 11, 12, 13, 14, 15, 16, 17, 18, 19, 20, 21, 22, 23, 24, 25, 26, 27, 28, 29, 30, 31, 32, 33, 34, 35, 36, 37, 38, 39, 40, 41, 42, 43, 44, 45, 46, 47, 48, 49, 50, 51, 52, 53, 54, 55, 56, 57, 58, 59, 60, 61, 62, 63, 64, 65, 66, 67, 68, 69, 70, 71, 72, 73, 74, 75, 76, 77, 78, 79, 80, 81, 82, 83, 84, 85, 86, 87, 88, 89, 90, 91, 92, 93, 94, 95, 96, 97, 98, 99], \"y\": [-0.6370662306345296, -0.18779479970184382, -0.933271565970044, 0.9212074612281883, 0.8936514161808388, 0.8342227138476731, 0.8587196320328144, 0.22881724899518655, -0.9180773570599018, -0.45142786836483606, -0.22248070393362662, 0.44917113276718723, -0.5973156191937276, 2.1898876198884047, -0.4902326025541706, -2.018799695983331, -1.3633094063854794, 0.722171910193369, 1.398112707247513, -0.08109011152174196, 1.2230279514126137, -0.21409272975599575, 0.38937698547166644, 0.5838286529465544, 0.8956700723977705, 0.961281589148261, 1.7492867643302497, -2.0349038968514983, 0.9622336412524589, -1.6031314870782933, 0.06891589583313582, -0.34008733689357995, 1.4904754639563247, -0.6838384992536902, 0.6019227388150992, 1.0744944375979761, -0.4426583612634076, -1.238007017870152, -0.23516809680023168, 0.17849613576372855, -1.9737195066421716, 0.7900923082368406, 0.12618231219509693, -0.6881342409954447, 1.0740609598702087, -2.2292758320157007, 0.33792269970410865, -0.046717796304047564, -1.3299347008261175, -0.832872352576968, -0.02629450649372879, -1.3973378150364184, 2.0597015168262067, 0.7158707733517314, 1.538355947800245, 0.8200805455889011, 0.06197608346940097, -0.30465938188471225, -2.791129597868393, -0.6640117629558614, -0.7395309222045003, -1.1692089459454784, 1.077217332302895, -0.687746618866074, 1.4691428404927873, 0.8768833279459809, 0.3599051799630393, -0.447137575412363, -0.41913677028305696, 0.5464024743534294, 0.4307296648098181, -1.8466600072649433, 0.10608219598356404, -1.4511218468659515, 0.4246996885645433, 1.284557483121074, 0.12055153420288005, 1.1349369472971491, -0.08792505531674043, -1.2616820293829447, 0.021585833373038835, 0.433630805405162, -0.41834366420211727, -1.3449157042759814, 0.7473410766559658, -1.879342304593012, 0.28080103709289456, -0.5157429018677484, 1.140210489380863, 1.7292730109199856, -0.9166642240809446, 0.7944208063936056, 2.302665781556202, -1.157887088105418, -0.2936987293432595, 0.18816450281699626, 0.1508502062472272, 0.3179360880392077, -0.4593359983942544, 0.27511528779754385]}, {\"connectgaps\": false, \"fill\": \"tozeroy\", \"line\": {\"color\": \"green\", \"dash\": \"solid\", \"shape\": \"linear\", \"width\": 0.5}, \"mode\": \"lines\", \"name\": \"Spread\", \"showlegend\": false, \"type\": \"scatter\", \"x\": [0, 1, 2, 3, 4, 5, 6, 7, 8, 9, 10, 11, 12, 13, 14, 15, 16, 17, 18, 19, 20, 21, 22, 23, 24, 25, 26, 27, 28, 29, 30, 31, 32, 33, 34, 35, 36, 37, 38, 39, 40, 41, 42, 43, 44, 45, 46, 47, 48, 49, 50, 51, 52, 53, 54, 55, 56, 57, 58, 59, 60, 61, 62, 63, 64, 65, 66, 67, 68, 69, 70, 71, 72, 73, 74, 75, 76, 77, 78, 79, 80, 81, 82, 83, 84, 85, 86, 87, 88, 89, 90, 91, 92, 93, 94, 95, 96, 97, 98, 99], \"xaxis\": \"x2\", \"y\": [\"\", \"\", 1.3882379933607658, \"\", \"\", \"\", 0.12581700762173098, \"\", 2.5337832075985522, \"\", \"\", \"\", 1.0274731665063195, \"\", 1.6896217139492768, 3.5215452842962085, \"\", \"\", \"\", \"\", \"\", \"\", 0.6331879364313464, \"\", \"\", \"\", \"\", 1.5820667457216455, \"\", 2.1785435330636536, 0.04389678798205697, \"\", \"\", 1.2857030055621599, \"\", \"\", 1.3806754662700549, 1.1436195949441652, 0.16462903646446453, 2.0500726366757056, 2.172177905037966, 0.42303404138754275, 1.0530183537917266, \"\", \"\", 1.616328668582725, \"\", \"\", 1.070383481695771, 0.9884279021999565, \"\", 2.8850059929123186, \"\", \"\", \"\", 0.6169272512097697, 0.3918352177526586, 0.6258465766258254, 4.721823300323463, \"\", 2.09343081099689, 2.194665451944392, \"\", 2.4382688589047326, 0.3105730378267395, \"\", \"\", 0.02580441887638979, 0.7070807731362128, 1.5919578846040165, 0.6583662333384591, 1.581755990117798, \"\", 1.8559144584525573, 0.4836931570382331, \"\", \"\", 0.100074196917326, 1.3652853664898301, 1.4263369115331654, 0.17081380162344095, \"\", 0.45316561629905033, 2.919459690610881, \"\", 1.4634479748748315, 0.06199006050554856, 1.3523958963115328, \"\", \"\", 1.3063071253911405, \"\", \"\", 1.497805762474453, \"\", 1.3798950172428546, 2.119078792334145, \"\", 0.9830816582838078, 0.6697268285382454], \"yaxis\": \"y2\"}, {\"connectgaps\": false, \"fill\": \"tozeroy\", \"line\": {\"color\": \"red\", \"dash\": \"solid\", \"shape\": \"linear\", \"width\": 0.5}, \"mode\": \"lines\", \"name\": \"Spread\", \"showlegend\": false, \"type\": \"scatter\", \"x\": [0, 1, 2, 3, 4, 5, 6, 7, 8, 9, 10, 11, 12, 13, 14, 15, 16, 17, 18, 19, 20, 21, 22, 23, 24, 25, 26, 27, 28, 29, 30, 31, 32, 33, 34, 35, 36, 37, 38, 39, 40, 41, 42, 43, 44, 45, 46, 47, 48, 49, 50, 51, 52, 53, 54, 55, 56, 57, 58, 59, 60, 61, 62, 63, 64, 65, 66, 67, 68, 69, 70, 71, 72, 73, 74, 75, 76, 77, 78, 79, 80, 81, 82, 83, 84, 85, 86, 87, 88, 89, 90, 91, 92, 93, 94, 95, 96, 97, 98, 99], \"xaxis\": \"x2\", \"y\": [-0.717438620785759, -0.08948898321315862, \"\", -1.1522838827936321, -0.5711133145556642, -1.8350414336742475, \"\", -0.7320287755679166, \"\", -0.6241130945348874, -0.5042118418728373, -2.0446731805074703, \"\", -2.69219157086762, \"\", \"\", -0.6478354714296539, -0.44312535364056055, -1.7648199297767992, -0.964231620274574, -1.1138874948080102, -0.4188038924699667, \"\", -0.34736498410096733, -0.48018584520318636, -2.0588933567914793, -3.088377155730327, \"\", -1.389568542905294, \"\", \"\", -0.8103229036176258, -1.5410503358825074, \"\", -2.052970033372085, -1.2884183355515724, \"\", \"\", \"\", \"\", \"\", \"\", \"\", -0.0687393592259341, -2.398651445154279, \"\", -0.8088399658098304, -0.6818284939708309, \"\", \"\", -0.9804789749883955, \"\", -2.2555582848682025, -2.021051993717404, -2.2504668905234073, \"\", \"\", \"\", \"\", -0.3360069006801939, \"\", \"\", -1.6842399113225246, \"\", \"\", -0.7011769546300566, -0.22979142276252518, \"\", \"\", \"\", \"\", \"\", -0.07835329233966634, \"\", \"\", -1.8744817164590244, -0.9822225981504887, \"\", \"\", \"\", \"\", -1.8224077278764907, \"\", \"\", -1.384033663946059, \"\", \"\", \"\", -0.79240437023153, -3.1992806667066938, \"\", -1.5828496460323878, -3.2083123482585045, \"\", -0.3540588032953704, \"\", \"\", -1.358410694058488, \"\", \"\"], \"yaxis\": \"y2\"}],                        {\"hovermode\": \"x\", \"legend\": {\"bgcolor\": \"#F5F6F9\", \"font\": {\"color\": \"#4D5663\"}}, \"paper_bgcolor\": \"#F5F6F9\", \"plot_bgcolor\": \"#F5F6F9\", \"template\": {\"data\": {\"bar\": [{\"error_x\": {\"color\": \"#2a3f5f\"}, \"error_y\": {\"color\": \"#2a3f5f\"}, \"marker\": {\"line\": {\"color\": \"#E5ECF6\", \"width\": 0.5}}, \"type\": \"bar\"}], \"barpolar\": [{\"marker\": {\"line\": {\"color\": \"#E5ECF6\", \"width\": 0.5}}, \"type\": \"barpolar\"}], \"carpet\": [{\"aaxis\": {\"endlinecolor\": \"#2a3f5f\", \"gridcolor\": \"white\", \"linecolor\": \"white\", \"minorgridcolor\": \"white\", \"startlinecolor\": \"#2a3f5f\"}, \"baxis\": {\"endlinecolor\": \"#2a3f5f\", \"gridcolor\": \"white\", \"linecolor\": \"white\", \"minorgridcolor\": \"white\", \"startlinecolor\": \"#2a3f5f\"}, \"type\": \"carpet\"}], \"choropleth\": [{\"colorbar\": {\"outlinewidth\": 0, \"ticks\": \"\"}, \"type\": \"choropleth\"}], \"contour\": [{\"colorbar\": {\"outlinewidth\": 0, \"ticks\": \"\"}, \"colorscale\": [[0.0, \"#0d0887\"], [0.1111111111111111, \"#46039f\"], [0.2222222222222222, \"#7201a8\"], [0.3333333333333333, \"#9c179e\"], [0.4444444444444444, \"#bd3786\"], [0.5555555555555556, \"#d8576b\"], [0.6666666666666666, \"#ed7953\"], [0.7777777777777778, \"#fb9f3a\"], [0.8888888888888888, \"#fdca26\"], [1.0, \"#f0f921\"]], \"type\": \"contour\"}], \"contourcarpet\": [{\"colorbar\": {\"outlinewidth\": 0, \"ticks\": \"\"}, \"type\": \"contourcarpet\"}], \"heatmap\": [{\"colorbar\": {\"outlinewidth\": 0, \"ticks\": \"\"}, \"colorscale\": [[0.0, \"#0d0887\"], [0.1111111111111111, \"#46039f\"], [0.2222222222222222, \"#7201a8\"], [0.3333333333333333, \"#9c179e\"], [0.4444444444444444, \"#bd3786\"], [0.5555555555555556, \"#d8576b\"], [0.6666666666666666, \"#ed7953\"], [0.7777777777777778, \"#fb9f3a\"], [0.8888888888888888, \"#fdca26\"], [1.0, \"#f0f921\"]], \"type\": \"heatmap\"}], \"heatmapgl\": [{\"colorbar\": {\"outlinewidth\": 0, \"ticks\": \"\"}, \"colorscale\": [[0.0, \"#0d0887\"], [0.1111111111111111, \"#46039f\"], [0.2222222222222222, \"#7201a8\"], [0.3333333333333333, \"#9c179e\"], [0.4444444444444444, \"#bd3786\"], [0.5555555555555556, \"#d8576b\"], [0.6666666666666666, \"#ed7953\"], [0.7777777777777778, \"#fb9f3a\"], [0.8888888888888888, \"#fdca26\"], [1.0, \"#f0f921\"]], \"type\": \"heatmapgl\"}], \"histogram\": [{\"marker\": {\"colorbar\": {\"outlinewidth\": 0, \"ticks\": \"\"}}, \"type\": \"histogram\"}], \"histogram2d\": [{\"colorbar\": {\"outlinewidth\": 0, \"ticks\": \"\"}, \"colorscale\": [[0.0, \"#0d0887\"], [0.1111111111111111, \"#46039f\"], [0.2222222222222222, \"#7201a8\"], [0.3333333333333333, \"#9c179e\"], [0.4444444444444444, \"#bd3786\"], [0.5555555555555556, \"#d8576b\"], [0.6666666666666666, \"#ed7953\"], [0.7777777777777778, \"#fb9f3a\"], [0.8888888888888888, \"#fdca26\"], [1.0, \"#f0f921\"]], \"type\": \"histogram2d\"}], \"histogram2dcontour\": [{\"colorbar\": {\"outlinewidth\": 0, \"ticks\": \"\"}, \"colorscale\": [[0.0, \"#0d0887\"], [0.1111111111111111, \"#46039f\"], [0.2222222222222222, \"#7201a8\"], [0.3333333333333333, \"#9c179e\"], [0.4444444444444444, \"#bd3786\"], [0.5555555555555556, \"#d8576b\"], [0.6666666666666666, \"#ed7953\"], [0.7777777777777778, \"#fb9f3a\"], [0.8888888888888888, \"#fdca26\"], [1.0, \"#f0f921\"]], \"type\": \"histogram2dcontour\"}], \"mesh3d\": [{\"colorbar\": {\"outlinewidth\": 0, \"ticks\": \"\"}, \"type\": \"mesh3d\"}], \"parcoords\": [{\"line\": {\"colorbar\": {\"outlinewidth\": 0, \"ticks\": \"\"}}, \"type\": \"parcoords\"}], \"pie\": [{\"automargin\": true, \"type\": \"pie\"}], \"scatter\": [{\"marker\": {\"colorbar\": {\"outlinewidth\": 0, \"ticks\": \"\"}}, \"type\": \"scatter\"}], \"scatter3d\": [{\"line\": {\"colorbar\": {\"outlinewidth\": 0, \"ticks\": \"\"}}, \"marker\": {\"colorbar\": {\"outlinewidth\": 0, \"ticks\": \"\"}}, \"type\": \"scatter3d\"}], \"scattercarpet\": [{\"marker\": {\"colorbar\": {\"outlinewidth\": 0, \"ticks\": \"\"}}, \"type\": \"scattercarpet\"}], \"scattergeo\": [{\"marker\": {\"colorbar\": {\"outlinewidth\": 0, \"ticks\": \"\"}}, \"type\": \"scattergeo\"}], \"scattergl\": [{\"marker\": {\"colorbar\": {\"outlinewidth\": 0, \"ticks\": \"\"}}, \"type\": \"scattergl\"}], \"scattermapbox\": [{\"marker\": {\"colorbar\": {\"outlinewidth\": 0, \"ticks\": \"\"}}, \"type\": \"scattermapbox\"}], \"scatterpolar\": [{\"marker\": {\"colorbar\": {\"outlinewidth\": 0, \"ticks\": \"\"}}, \"type\": \"scatterpolar\"}], \"scatterpolargl\": [{\"marker\": {\"colorbar\": {\"outlinewidth\": 0, \"ticks\": \"\"}}, \"type\": \"scatterpolargl\"}], \"scatterternary\": [{\"marker\": {\"colorbar\": {\"outlinewidth\": 0, \"ticks\": \"\"}}, \"type\": \"scatterternary\"}], \"surface\": [{\"colorbar\": {\"outlinewidth\": 0, \"ticks\": \"\"}, \"colorscale\": [[0.0, \"#0d0887\"], [0.1111111111111111, \"#46039f\"], [0.2222222222222222, \"#7201a8\"], [0.3333333333333333, \"#9c179e\"], [0.4444444444444444, \"#bd3786\"], [0.5555555555555556, \"#d8576b\"], [0.6666666666666666, \"#ed7953\"], [0.7777777777777778, \"#fb9f3a\"], [0.8888888888888888, \"#fdca26\"], [1.0, \"#f0f921\"]], \"type\": \"surface\"}], \"table\": [{\"cells\": {\"fill\": {\"color\": \"#EBF0F8\"}, \"line\": {\"color\": \"white\"}}, \"header\": {\"fill\": {\"color\": \"#C8D4E3\"}, \"line\": {\"color\": \"white\"}}, \"type\": \"table\"}]}, \"layout\": {\"annotationdefaults\": {\"arrowcolor\": \"#2a3f5f\", \"arrowhead\": 0, \"arrowwidth\": 1}, \"autotypenumbers\": \"strict\", \"coloraxis\": {\"colorbar\": {\"outlinewidth\": 0, \"ticks\": \"\"}}, \"colorscale\": {\"diverging\": [[0, \"#8e0152\"], [0.1, \"#c51b7d\"], [0.2, \"#de77ae\"], [0.3, \"#f1b6da\"], [0.4, \"#fde0ef\"], [0.5, \"#f7f7f7\"], [0.6, \"#e6f5d0\"], [0.7, \"#b8e186\"], [0.8, \"#7fbc41\"], [0.9, \"#4d9221\"], [1, \"#276419\"]], \"sequential\": [[0.0, \"#0d0887\"], [0.1111111111111111, \"#46039f\"], [0.2222222222222222, \"#7201a8\"], [0.3333333333333333, \"#9c179e\"], [0.4444444444444444, \"#bd3786\"], [0.5555555555555556, \"#d8576b\"], [0.6666666666666666, \"#ed7953\"], [0.7777777777777778, \"#fb9f3a\"], [0.8888888888888888, \"#fdca26\"], [1.0, \"#f0f921\"]], \"sequentialminus\": [[0.0, \"#0d0887\"], [0.1111111111111111, \"#46039f\"], [0.2222222222222222, \"#7201a8\"], [0.3333333333333333, \"#9c179e\"], [0.4444444444444444, \"#bd3786\"], [0.5555555555555556, \"#d8576b\"], [0.6666666666666666, \"#ed7953\"], [0.7777777777777778, \"#fb9f3a\"], [0.8888888888888888, \"#fdca26\"], [1.0, \"#f0f921\"]]}, \"colorway\": [\"#636efa\", \"#EF553B\", \"#00cc96\", \"#ab63fa\", \"#FFA15A\", \"#19d3f3\", \"#FF6692\", \"#B6E880\", \"#FF97FF\", \"#FECB52\"], \"font\": {\"color\": \"#2a3f5f\"}, \"geo\": {\"bgcolor\": \"white\", \"lakecolor\": \"white\", \"landcolor\": \"#E5ECF6\", \"showlakes\": true, \"showland\": true, \"subunitcolor\": \"white\"}, \"hoverlabel\": {\"align\": \"left\"}, \"hovermode\": \"closest\", \"mapbox\": {\"style\": \"light\"}, \"paper_bgcolor\": \"white\", \"plot_bgcolor\": \"#E5ECF6\", \"polar\": {\"angularaxis\": {\"gridcolor\": \"white\", \"linecolor\": \"white\", \"ticks\": \"\"}, \"bgcolor\": \"#E5ECF6\", \"radialaxis\": {\"gridcolor\": \"white\", \"linecolor\": \"white\", \"ticks\": \"\"}}, \"scene\": {\"xaxis\": {\"backgroundcolor\": \"#E5ECF6\", \"gridcolor\": \"white\", \"gridwidth\": 2, \"linecolor\": \"white\", \"showbackground\": true, \"ticks\": \"\", \"zerolinecolor\": \"white\"}, \"yaxis\": {\"backgroundcolor\": \"#E5ECF6\", \"gridcolor\": \"white\", \"gridwidth\": 2, \"linecolor\": \"white\", \"showbackground\": true, \"ticks\": \"\", \"zerolinecolor\": \"white\"}, \"zaxis\": {\"backgroundcolor\": \"#E5ECF6\", \"gridcolor\": \"white\", \"gridwidth\": 2, \"linecolor\": \"white\", \"showbackground\": true, \"ticks\": \"\", \"zerolinecolor\": \"white\"}}, \"shapedefaults\": {\"line\": {\"color\": \"#2a3f5f\"}}, \"ternary\": {\"aaxis\": {\"gridcolor\": \"white\", \"linecolor\": \"white\", \"ticks\": \"\"}, \"baxis\": {\"gridcolor\": \"white\", \"linecolor\": \"white\", \"ticks\": \"\"}, \"bgcolor\": \"#E5ECF6\", \"caxis\": {\"gridcolor\": \"white\", \"linecolor\": \"white\", \"ticks\": \"\"}}, \"title\": {\"x\": 0.05}, \"xaxis\": {\"automargin\": true, \"gridcolor\": \"white\", \"linecolor\": \"white\", \"ticks\": \"\", \"title\": {\"standoff\": 15}, \"zerolinecolor\": \"white\", \"zerolinewidth\": 2}, \"yaxis\": {\"automargin\": true, \"gridcolor\": \"white\", \"linecolor\": \"white\", \"ticks\": \"\", \"title\": {\"standoff\": 15}, \"zerolinecolor\": \"white\", \"zerolinewidth\": 2}}}, \"title\": {\"font\": {\"color\": \"#4D5663\"}}, \"xaxis\": {\"gridcolor\": \"#E1E5ED\", \"showgrid\": true, \"tickfont\": {\"color\": \"#4D5663\"}, \"title\": {\"font\": {\"color\": \"#4D5663\"}, \"text\": \"\"}, \"zerolinecolor\": \"#E1E5ED\"}, \"xaxis2\": {\"anchor\": \"y2\", \"gridcolor\": \"#E1E5ED\", \"showgrid\": true, \"showticklabels\": false, \"tickfont\": {\"color\": \"#4D5663\"}, \"title\": {\"font\": {\"color\": \"#4D5663\"}, \"text\": \"\"}, \"zerolinecolor\": \"#E1E5ED\"}, \"yaxis\": {\"domain\": [0.3, 1], \"gridcolor\": \"#E1E5ED\", \"showgrid\": true, \"tickfont\": {\"color\": \"#4D5663\"}, \"title\": {\"font\": {\"color\": \"#4D5663\"}, \"text\": \"\"}, \"zerolinecolor\": \"#E1E5ED\"}, \"yaxis2\": {\"domain\": [0, 0.25], \"gridcolor\": \"#E1E5ED\", \"showgrid\": true, \"tickfont\": {\"color\": \"#4D5663\"}, \"title\": {\"font\": {\"color\": \"#4D5663\"}, \"text\": \"Spread\"}, \"zerolinecolor\": \"#E1E5ED\"}},                        {\"showLink\": true, \"linkText\": \"Export to plot.ly\", \"plotlyServerURL\": \"https://plot.ly\", \"responsive\": true}                    ).then(function(){\n",
       "                            \n",
       "var gd = document.getElementById('d8ac74b0-6104-441b-8312-8e686b3724ee');\n",
       "var x = new MutationObserver(function (mutations, observer) {{\n",
       "        var display = window.getComputedStyle(gd).display;\n",
       "        if (!display || display === 'none') {{\n",
       "            console.log([gd, 'removed!']);\n",
       "            Plotly.purge(gd);\n",
       "            observer.disconnect();\n",
       "        }}\n",
       "}});\n",
       "\n",
       "// Listen for the removal of the full notebook cells\n",
       "var notebookContainer = gd.closest('#notebook-container');\n",
       "if (notebookContainer) {{\n",
       "    x.observe(notebookContainer, {childList: true});\n",
       "}}\n",
       "\n",
       "// Listen for the clearing of the current output cell\n",
       "var outputEl = gd.closest('.output');\n",
       "if (outputEl) {{\n",
       "    x.observe(outputEl, {childList: true});\n",
       "}}\n",
       "\n",
       "                        })                };                });            </script>        </div>"
      ]
     },
     "metadata": {},
     "output_type": "display_data"
    }
   ],
   "source": [
    "df[['A','B']].iplot(kind='spread')"
   ]
  },
  {
   "cell_type": "markdown",
   "metadata": {},
   "source": [
    "## histogram"
   ]
  },
  {
   "cell_type": "code",
   "execution_count": 17,
   "metadata": {},
   "outputs": [
    {
     "data": {
      "application/vnd.plotly.v1+json": {
       "config": {
        "linkText": "Export to plot.ly",
        "plotlyServerURL": "https://plot.ly",
        "showLink": true
       },
       "data": [
        {
         "histfunc": "count",
         "histnorm": "",
         "marker": {
          "color": "rgba(255, 153, 51, 1.0)",
          "line": {
           "color": "#4D5663",
           "width": 1.3
          }
         },
         "name": "A",
         "nbinsx": 25,
         "opacity": 0.8,
         "orientation": "v",
         "type": "histogram",
         "x": [
          -1.3545048514202886,
          -0.27728378291500244,
          0.45496642739072185,
          -0.23107642156544375,
          0.3225381016251746,
          -1.0008187198265743,
          0.9845366396545454,
          -0.50321152657273,
          1.6157058505386503,
          -1.0755409628997235,
          -0.7266925458064639,
          -1.595502047740283,
          0.43015754731259187,
          -0.5023039509792152,
          1.1993891113951063,
          1.5027455883128777,
          -2.0111448778151333,
          0.27904655655280847,
          -0.36670722252928634,
          -1.045321731796316,
          0.10914045660460339,
          -0.6328966222259624,
          1.0225649219030128,
          0.23646366884558706,
          0.41548422719458417,
          -1.0976117676432184,
          -1.3390903914000774,
          -0.4528371511298527,
          -0.42733490165283505,
          0.5754120459853603,
          0.11281268381519279,
          -1.1504102405112058,
          -0.050574871926182784,
          0.6018645063084697,
          -1.4510472945569854,
          -0.21392389795359612,
          0.9380171050066473,
          -0.09438742292598681,
          -0.07053906033576715,
          2.2285687724394343,
          0.19845839839579424,
          1.2131263496243834,
          1.1792006659868235,
          -0.7568736002213788,
          -1.32459048528407,
          -0.6129471634329756,
          -0.4709172661057217,
          -0.7285462902748785,
          -0.25955121913034657,
          0.1555555496229885,
          -1.0067734814821243,
          1.4876681778759002,
          -0.19585676804199598,
          -1.3051812203656723,
          -0.7121109427231624,
          1.4370077967986707,
          0.4538113012220596,
          0.32118719474111324,
          1.9306937024550697,
          -1.0000186636360553,
          1.3538998887923899,
          1.0254565059989138,
          -0.6070225790196295,
          1.7505222400386586,
          1.7797158783195268,
          0.17570637331592434,
          0.1301137572005141,
          -0.4213331565359732,
          0.2879440028531558,
          2.138360358957446,
          1.0890958981482772,
          -0.26490401714714534,
          0.027728903643897698,
          0.40479261158660584,
          0.9083928456027764,
          -0.5899242333379505,
          -0.8616710639476087,
          1.235011144214475,
          1.2773603111730898,
          0.1646548821502208,
          0.19239963499647977,
          -1.3887769224713287,
          0.03482195209693308,
          1.5745439863348998,
          -0.6366925872900931,
          -0.41589432971818063,
          0.3427910975984431,
          0.8366529944437844,
          0.34780611914933296,
          -1.4700076557867081,
          0.38964290131019585,
          -0.7884288396387822,
          -0.9056465667023024,
          0.3399186743690349,
          -0.6477575326386299,
          1.5680595200598508,
          2.269928998581372,
          -1.0404746060192802,
          0.5237456598895535,
          0.9448421163357893
         ]
        }
       ],
       "layout": {
        "barmode": "overlay",
        "legend": {
         "bgcolor": "#F5F6F9",
         "font": {
          "color": "#4D5663"
         }
        },
        "paper_bgcolor": "#F5F6F9",
        "plot_bgcolor": "#F5F6F9",
        "template": {
         "data": {
          "bar": [
           {
            "error_x": {
             "color": "#2a3f5f"
            },
            "error_y": {
             "color": "#2a3f5f"
            },
            "marker": {
             "line": {
              "color": "#E5ECF6",
              "width": 0.5
             }
            },
            "type": "bar"
           }
          ],
          "barpolar": [
           {
            "marker": {
             "line": {
              "color": "#E5ECF6",
              "width": 0.5
             }
            },
            "type": "barpolar"
           }
          ],
          "carpet": [
           {
            "aaxis": {
             "endlinecolor": "#2a3f5f",
             "gridcolor": "white",
             "linecolor": "white",
             "minorgridcolor": "white",
             "startlinecolor": "#2a3f5f"
            },
            "baxis": {
             "endlinecolor": "#2a3f5f",
             "gridcolor": "white",
             "linecolor": "white",
             "minorgridcolor": "white",
             "startlinecolor": "#2a3f5f"
            },
            "type": "carpet"
           }
          ],
          "choropleth": [
           {
            "colorbar": {
             "outlinewidth": 0,
             "ticks": ""
            },
            "type": "choropleth"
           }
          ],
          "contour": [
           {
            "colorbar": {
             "outlinewidth": 0,
             "ticks": ""
            },
            "colorscale": [
             [
              0,
              "#0d0887"
             ],
             [
              0.1111111111111111,
              "#46039f"
             ],
             [
              0.2222222222222222,
              "#7201a8"
             ],
             [
              0.3333333333333333,
              "#9c179e"
             ],
             [
              0.4444444444444444,
              "#bd3786"
             ],
             [
              0.5555555555555556,
              "#d8576b"
             ],
             [
              0.6666666666666666,
              "#ed7953"
             ],
             [
              0.7777777777777778,
              "#fb9f3a"
             ],
             [
              0.8888888888888888,
              "#fdca26"
             ],
             [
              1,
              "#f0f921"
             ]
            ],
            "type": "contour"
           }
          ],
          "contourcarpet": [
           {
            "colorbar": {
             "outlinewidth": 0,
             "ticks": ""
            },
            "type": "contourcarpet"
           }
          ],
          "heatmap": [
           {
            "colorbar": {
             "outlinewidth": 0,
             "ticks": ""
            },
            "colorscale": [
             [
              0,
              "#0d0887"
             ],
             [
              0.1111111111111111,
              "#46039f"
             ],
             [
              0.2222222222222222,
              "#7201a8"
             ],
             [
              0.3333333333333333,
              "#9c179e"
             ],
             [
              0.4444444444444444,
              "#bd3786"
             ],
             [
              0.5555555555555556,
              "#d8576b"
             ],
             [
              0.6666666666666666,
              "#ed7953"
             ],
             [
              0.7777777777777778,
              "#fb9f3a"
             ],
             [
              0.8888888888888888,
              "#fdca26"
             ],
             [
              1,
              "#f0f921"
             ]
            ],
            "type": "heatmap"
           }
          ],
          "heatmapgl": [
           {
            "colorbar": {
             "outlinewidth": 0,
             "ticks": ""
            },
            "colorscale": [
             [
              0,
              "#0d0887"
             ],
             [
              0.1111111111111111,
              "#46039f"
             ],
             [
              0.2222222222222222,
              "#7201a8"
             ],
             [
              0.3333333333333333,
              "#9c179e"
             ],
             [
              0.4444444444444444,
              "#bd3786"
             ],
             [
              0.5555555555555556,
              "#d8576b"
             ],
             [
              0.6666666666666666,
              "#ed7953"
             ],
             [
              0.7777777777777778,
              "#fb9f3a"
             ],
             [
              0.8888888888888888,
              "#fdca26"
             ],
             [
              1,
              "#f0f921"
             ]
            ],
            "type": "heatmapgl"
           }
          ],
          "histogram": [
           {
            "marker": {
             "colorbar": {
              "outlinewidth": 0,
              "ticks": ""
             }
            },
            "type": "histogram"
           }
          ],
          "histogram2d": [
           {
            "colorbar": {
             "outlinewidth": 0,
             "ticks": ""
            },
            "colorscale": [
             [
              0,
              "#0d0887"
             ],
             [
              0.1111111111111111,
              "#46039f"
             ],
             [
              0.2222222222222222,
              "#7201a8"
             ],
             [
              0.3333333333333333,
              "#9c179e"
             ],
             [
              0.4444444444444444,
              "#bd3786"
             ],
             [
              0.5555555555555556,
              "#d8576b"
             ],
             [
              0.6666666666666666,
              "#ed7953"
             ],
             [
              0.7777777777777778,
              "#fb9f3a"
             ],
             [
              0.8888888888888888,
              "#fdca26"
             ],
             [
              1,
              "#f0f921"
             ]
            ],
            "type": "histogram2d"
           }
          ],
          "histogram2dcontour": [
           {
            "colorbar": {
             "outlinewidth": 0,
             "ticks": ""
            },
            "colorscale": [
             [
              0,
              "#0d0887"
             ],
             [
              0.1111111111111111,
              "#46039f"
             ],
             [
              0.2222222222222222,
              "#7201a8"
             ],
             [
              0.3333333333333333,
              "#9c179e"
             ],
             [
              0.4444444444444444,
              "#bd3786"
             ],
             [
              0.5555555555555556,
              "#d8576b"
             ],
             [
              0.6666666666666666,
              "#ed7953"
             ],
             [
              0.7777777777777778,
              "#fb9f3a"
             ],
             [
              0.8888888888888888,
              "#fdca26"
             ],
             [
              1,
              "#f0f921"
             ]
            ],
            "type": "histogram2dcontour"
           }
          ],
          "mesh3d": [
           {
            "colorbar": {
             "outlinewidth": 0,
             "ticks": ""
            },
            "type": "mesh3d"
           }
          ],
          "parcoords": [
           {
            "line": {
             "colorbar": {
              "outlinewidth": 0,
              "ticks": ""
             }
            },
            "type": "parcoords"
           }
          ],
          "pie": [
           {
            "automargin": true,
            "type": "pie"
           }
          ],
          "scatter": [
           {
            "marker": {
             "colorbar": {
              "outlinewidth": 0,
              "ticks": ""
             }
            },
            "type": "scatter"
           }
          ],
          "scatter3d": [
           {
            "line": {
             "colorbar": {
              "outlinewidth": 0,
              "ticks": ""
             }
            },
            "marker": {
             "colorbar": {
              "outlinewidth": 0,
              "ticks": ""
             }
            },
            "type": "scatter3d"
           }
          ],
          "scattercarpet": [
           {
            "marker": {
             "colorbar": {
              "outlinewidth": 0,
              "ticks": ""
             }
            },
            "type": "scattercarpet"
           }
          ],
          "scattergeo": [
           {
            "marker": {
             "colorbar": {
              "outlinewidth": 0,
              "ticks": ""
             }
            },
            "type": "scattergeo"
           }
          ],
          "scattergl": [
           {
            "marker": {
             "colorbar": {
              "outlinewidth": 0,
              "ticks": ""
             }
            },
            "type": "scattergl"
           }
          ],
          "scattermapbox": [
           {
            "marker": {
             "colorbar": {
              "outlinewidth": 0,
              "ticks": ""
             }
            },
            "type": "scattermapbox"
           }
          ],
          "scatterpolar": [
           {
            "marker": {
             "colorbar": {
              "outlinewidth": 0,
              "ticks": ""
             }
            },
            "type": "scatterpolar"
           }
          ],
          "scatterpolargl": [
           {
            "marker": {
             "colorbar": {
              "outlinewidth": 0,
              "ticks": ""
             }
            },
            "type": "scatterpolargl"
           }
          ],
          "scatterternary": [
           {
            "marker": {
             "colorbar": {
              "outlinewidth": 0,
              "ticks": ""
             }
            },
            "type": "scatterternary"
           }
          ],
          "surface": [
           {
            "colorbar": {
             "outlinewidth": 0,
             "ticks": ""
            },
            "colorscale": [
             [
              0,
              "#0d0887"
             ],
             [
              0.1111111111111111,
              "#46039f"
             ],
             [
              0.2222222222222222,
              "#7201a8"
             ],
             [
              0.3333333333333333,
              "#9c179e"
             ],
             [
              0.4444444444444444,
              "#bd3786"
             ],
             [
              0.5555555555555556,
              "#d8576b"
             ],
             [
              0.6666666666666666,
              "#ed7953"
             ],
             [
              0.7777777777777778,
              "#fb9f3a"
             ],
             [
              0.8888888888888888,
              "#fdca26"
             ],
             [
              1,
              "#f0f921"
             ]
            ],
            "type": "surface"
           }
          ],
          "table": [
           {
            "cells": {
             "fill": {
              "color": "#EBF0F8"
             },
             "line": {
              "color": "white"
             }
            },
            "header": {
             "fill": {
              "color": "#C8D4E3"
             },
             "line": {
              "color": "white"
             }
            },
            "type": "table"
           }
          ]
         },
         "layout": {
          "annotationdefaults": {
           "arrowcolor": "#2a3f5f",
           "arrowhead": 0,
           "arrowwidth": 1
          },
          "autotypenumbers": "strict",
          "coloraxis": {
           "colorbar": {
            "outlinewidth": 0,
            "ticks": ""
           }
          },
          "colorscale": {
           "diverging": [
            [
             0,
             "#8e0152"
            ],
            [
             0.1,
             "#c51b7d"
            ],
            [
             0.2,
             "#de77ae"
            ],
            [
             0.3,
             "#f1b6da"
            ],
            [
             0.4,
             "#fde0ef"
            ],
            [
             0.5,
             "#f7f7f7"
            ],
            [
             0.6,
             "#e6f5d0"
            ],
            [
             0.7,
             "#b8e186"
            ],
            [
             0.8,
             "#7fbc41"
            ],
            [
             0.9,
             "#4d9221"
            ],
            [
             1,
             "#276419"
            ]
           ],
           "sequential": [
            [
             0,
             "#0d0887"
            ],
            [
             0.1111111111111111,
             "#46039f"
            ],
            [
             0.2222222222222222,
             "#7201a8"
            ],
            [
             0.3333333333333333,
             "#9c179e"
            ],
            [
             0.4444444444444444,
             "#bd3786"
            ],
            [
             0.5555555555555556,
             "#d8576b"
            ],
            [
             0.6666666666666666,
             "#ed7953"
            ],
            [
             0.7777777777777778,
             "#fb9f3a"
            ],
            [
             0.8888888888888888,
             "#fdca26"
            ],
            [
             1,
             "#f0f921"
            ]
           ],
           "sequentialminus": [
            [
             0,
             "#0d0887"
            ],
            [
             0.1111111111111111,
             "#46039f"
            ],
            [
             0.2222222222222222,
             "#7201a8"
            ],
            [
             0.3333333333333333,
             "#9c179e"
            ],
            [
             0.4444444444444444,
             "#bd3786"
            ],
            [
             0.5555555555555556,
             "#d8576b"
            ],
            [
             0.6666666666666666,
             "#ed7953"
            ],
            [
             0.7777777777777778,
             "#fb9f3a"
            ],
            [
             0.8888888888888888,
             "#fdca26"
            ],
            [
             1,
             "#f0f921"
            ]
           ]
          },
          "colorway": [
           "#636efa",
           "#EF553B",
           "#00cc96",
           "#ab63fa",
           "#FFA15A",
           "#19d3f3",
           "#FF6692",
           "#B6E880",
           "#FF97FF",
           "#FECB52"
          ],
          "font": {
           "color": "#2a3f5f"
          },
          "geo": {
           "bgcolor": "white",
           "lakecolor": "white",
           "landcolor": "#E5ECF6",
           "showlakes": true,
           "showland": true,
           "subunitcolor": "white"
          },
          "hoverlabel": {
           "align": "left"
          },
          "hovermode": "closest",
          "mapbox": {
           "style": "light"
          },
          "paper_bgcolor": "white",
          "plot_bgcolor": "#E5ECF6",
          "polar": {
           "angularaxis": {
            "gridcolor": "white",
            "linecolor": "white",
            "ticks": ""
           },
           "bgcolor": "#E5ECF6",
           "radialaxis": {
            "gridcolor": "white",
            "linecolor": "white",
            "ticks": ""
           }
          },
          "scene": {
           "xaxis": {
            "backgroundcolor": "#E5ECF6",
            "gridcolor": "white",
            "gridwidth": 2,
            "linecolor": "white",
            "showbackground": true,
            "ticks": "",
            "zerolinecolor": "white"
           },
           "yaxis": {
            "backgroundcolor": "#E5ECF6",
            "gridcolor": "white",
            "gridwidth": 2,
            "linecolor": "white",
            "showbackground": true,
            "ticks": "",
            "zerolinecolor": "white"
           },
           "zaxis": {
            "backgroundcolor": "#E5ECF6",
            "gridcolor": "white",
            "gridwidth": 2,
            "linecolor": "white",
            "showbackground": true,
            "ticks": "",
            "zerolinecolor": "white"
           }
          },
          "shapedefaults": {
           "line": {
            "color": "#2a3f5f"
           }
          },
          "ternary": {
           "aaxis": {
            "gridcolor": "white",
            "linecolor": "white",
            "ticks": ""
           },
           "baxis": {
            "gridcolor": "white",
            "linecolor": "white",
            "ticks": ""
           },
           "bgcolor": "#E5ECF6",
           "caxis": {
            "gridcolor": "white",
            "linecolor": "white",
            "ticks": ""
           }
          },
          "title": {
           "x": 0.05
          },
          "xaxis": {
           "automargin": true,
           "gridcolor": "white",
           "linecolor": "white",
           "ticks": "",
           "title": {
            "standoff": 15
           },
           "zerolinecolor": "white",
           "zerolinewidth": 2
          },
          "yaxis": {
           "automargin": true,
           "gridcolor": "white",
           "linecolor": "white",
           "ticks": "",
           "title": {
            "standoff": 15
           },
           "zerolinecolor": "white",
           "zerolinewidth": 2
          }
         }
        },
        "title": {
         "font": {
          "color": "#4D5663"
         }
        },
        "xaxis": {
         "gridcolor": "#E1E5ED",
         "showgrid": true,
         "tickfont": {
          "color": "#4D5663"
         },
         "title": {
          "font": {
           "color": "#4D5663"
          },
          "text": ""
         },
         "zerolinecolor": "#E1E5ED"
        },
        "yaxis": {
         "gridcolor": "#E1E5ED",
         "showgrid": true,
         "tickfont": {
          "color": "#4D5663"
         },
         "title": {
          "font": {
           "color": "#4D5663"
          },
          "text": ""
         },
         "zerolinecolor": "#E1E5ED"
        }
       }
      },
      "text/html": [
       "<div>                            <div id=\"54f7e485-d90e-47e4-a0a1-3be16b28714c\" class=\"plotly-graph-div\" style=\"height:525px; width:100%;\"></div>            <script type=\"text/javascript\">                require([\"plotly\"], function(Plotly) {                    window.PLOTLYENV=window.PLOTLYENV || {};\n",
       "                    window.PLOTLYENV.BASE_URL='https://plot.ly';                                    if (document.getElementById(\"54f7e485-d90e-47e4-a0a1-3be16b28714c\")) {                    Plotly.newPlot(                        \"54f7e485-d90e-47e4-a0a1-3be16b28714c\",                        [{\"histfunc\": \"count\", \"histnorm\": \"\", \"marker\": {\"color\": \"rgba(255, 153, 51, 1.0)\", \"line\": {\"color\": \"#4D5663\", \"width\": 1.3}}, \"name\": \"A\", \"nbinsx\": 25, \"opacity\": 0.8, \"orientation\": \"v\", \"type\": \"histogram\", \"x\": [-1.3545048514202886, -0.27728378291500244, 0.45496642739072185, -0.23107642156544375, 0.3225381016251746, -1.0008187198265743, 0.9845366396545454, -0.50321152657273, 1.6157058505386503, -1.0755409628997235, -0.7266925458064639, -1.595502047740283, 0.43015754731259187, -0.5023039509792152, 1.1993891113951063, 1.5027455883128777, -2.0111448778151333, 0.27904655655280847, -0.36670722252928634, -1.045321731796316, 0.10914045660460339, -0.6328966222259624, 1.0225649219030128, 0.23646366884558706, 0.41548422719458417, -1.0976117676432184, -1.3390903914000774, -0.4528371511298527, -0.42733490165283505, 0.5754120459853603, 0.11281268381519279, -1.1504102405112058, -0.050574871926182784, 0.6018645063084697, -1.4510472945569854, -0.21392389795359612, 0.9380171050066473, -0.09438742292598681, -0.07053906033576715, 2.2285687724394343, 0.19845839839579424, 1.2131263496243834, 1.1792006659868235, -0.7568736002213788, -1.32459048528407, -0.6129471634329756, -0.4709172661057217, -0.7285462902748785, -0.25955121913034657, 0.1555555496229885, -1.0067734814821243, 1.4876681778759002, -0.19585676804199598, -1.3051812203656723, -0.7121109427231624, 1.4370077967986707, 0.4538113012220596, 0.32118719474111324, 1.9306937024550697, -1.0000186636360553, 1.3538998887923899, 1.0254565059989138, -0.6070225790196295, 1.7505222400386586, 1.7797158783195268, 0.17570637331592434, 0.1301137572005141, -0.4213331565359732, 0.2879440028531558, 2.138360358957446, 1.0890958981482772, -0.26490401714714534, 0.027728903643897698, 0.40479261158660584, 0.9083928456027764, -0.5899242333379505, -0.8616710639476087, 1.235011144214475, 1.2773603111730898, 0.1646548821502208, 0.19239963499647977, -1.3887769224713287, 0.03482195209693308, 1.5745439863348998, -0.6366925872900931, -0.41589432971818063, 0.3427910975984431, 0.8366529944437844, 0.34780611914933296, -1.4700076557867081, 0.38964290131019585, -0.7884288396387822, -0.9056465667023024, 0.3399186743690349, -0.6477575326386299, 1.5680595200598508, 2.269928998581372, -1.0404746060192802, 0.5237456598895535, 0.9448421163357893]}],                        {\"barmode\": \"overlay\", \"legend\": {\"bgcolor\": \"#F5F6F9\", \"font\": {\"color\": \"#4D5663\"}}, \"paper_bgcolor\": \"#F5F6F9\", \"plot_bgcolor\": \"#F5F6F9\", \"template\": {\"data\": {\"bar\": [{\"error_x\": {\"color\": \"#2a3f5f\"}, \"error_y\": {\"color\": \"#2a3f5f\"}, \"marker\": {\"line\": {\"color\": \"#E5ECF6\", \"width\": 0.5}}, \"type\": \"bar\"}], \"barpolar\": [{\"marker\": {\"line\": {\"color\": \"#E5ECF6\", \"width\": 0.5}}, \"type\": \"barpolar\"}], \"carpet\": [{\"aaxis\": {\"endlinecolor\": \"#2a3f5f\", \"gridcolor\": \"white\", \"linecolor\": \"white\", \"minorgridcolor\": \"white\", \"startlinecolor\": \"#2a3f5f\"}, \"baxis\": {\"endlinecolor\": \"#2a3f5f\", \"gridcolor\": \"white\", \"linecolor\": \"white\", \"minorgridcolor\": \"white\", \"startlinecolor\": \"#2a3f5f\"}, \"type\": \"carpet\"}], \"choropleth\": [{\"colorbar\": {\"outlinewidth\": 0, \"ticks\": \"\"}, \"type\": \"choropleth\"}], \"contour\": [{\"colorbar\": {\"outlinewidth\": 0, \"ticks\": \"\"}, \"colorscale\": [[0.0, \"#0d0887\"], [0.1111111111111111, \"#46039f\"], [0.2222222222222222, \"#7201a8\"], [0.3333333333333333, \"#9c179e\"], [0.4444444444444444, \"#bd3786\"], [0.5555555555555556, \"#d8576b\"], [0.6666666666666666, \"#ed7953\"], [0.7777777777777778, \"#fb9f3a\"], [0.8888888888888888, \"#fdca26\"], [1.0, \"#f0f921\"]], \"type\": \"contour\"}], \"contourcarpet\": [{\"colorbar\": {\"outlinewidth\": 0, \"ticks\": \"\"}, \"type\": \"contourcarpet\"}], \"heatmap\": [{\"colorbar\": {\"outlinewidth\": 0, \"ticks\": \"\"}, \"colorscale\": [[0.0, \"#0d0887\"], [0.1111111111111111, \"#46039f\"], [0.2222222222222222, \"#7201a8\"], [0.3333333333333333, \"#9c179e\"], [0.4444444444444444, \"#bd3786\"], [0.5555555555555556, \"#d8576b\"], [0.6666666666666666, \"#ed7953\"], [0.7777777777777778, \"#fb9f3a\"], [0.8888888888888888, \"#fdca26\"], [1.0, \"#f0f921\"]], \"type\": \"heatmap\"}], \"heatmapgl\": [{\"colorbar\": {\"outlinewidth\": 0, \"ticks\": \"\"}, \"colorscale\": [[0.0, \"#0d0887\"], [0.1111111111111111, \"#46039f\"], [0.2222222222222222, \"#7201a8\"], [0.3333333333333333, \"#9c179e\"], [0.4444444444444444, \"#bd3786\"], [0.5555555555555556, \"#d8576b\"], [0.6666666666666666, \"#ed7953\"], [0.7777777777777778, \"#fb9f3a\"], [0.8888888888888888, \"#fdca26\"], [1.0, \"#f0f921\"]], \"type\": \"heatmapgl\"}], \"histogram\": [{\"marker\": {\"colorbar\": {\"outlinewidth\": 0, \"ticks\": \"\"}}, \"type\": \"histogram\"}], \"histogram2d\": [{\"colorbar\": {\"outlinewidth\": 0, \"ticks\": \"\"}, \"colorscale\": [[0.0, \"#0d0887\"], [0.1111111111111111, \"#46039f\"], [0.2222222222222222, \"#7201a8\"], [0.3333333333333333, \"#9c179e\"], [0.4444444444444444, \"#bd3786\"], [0.5555555555555556, \"#d8576b\"], [0.6666666666666666, \"#ed7953\"], [0.7777777777777778, \"#fb9f3a\"], [0.8888888888888888, \"#fdca26\"], [1.0, \"#f0f921\"]], \"type\": \"histogram2d\"}], \"histogram2dcontour\": [{\"colorbar\": {\"outlinewidth\": 0, \"ticks\": \"\"}, \"colorscale\": [[0.0, \"#0d0887\"], [0.1111111111111111, \"#46039f\"], [0.2222222222222222, \"#7201a8\"], [0.3333333333333333, \"#9c179e\"], [0.4444444444444444, \"#bd3786\"], [0.5555555555555556, \"#d8576b\"], [0.6666666666666666, \"#ed7953\"], [0.7777777777777778, \"#fb9f3a\"], [0.8888888888888888, \"#fdca26\"], [1.0, \"#f0f921\"]], \"type\": \"histogram2dcontour\"}], \"mesh3d\": [{\"colorbar\": {\"outlinewidth\": 0, \"ticks\": \"\"}, \"type\": \"mesh3d\"}], \"parcoords\": [{\"line\": {\"colorbar\": {\"outlinewidth\": 0, \"ticks\": \"\"}}, \"type\": \"parcoords\"}], \"pie\": [{\"automargin\": true, \"type\": \"pie\"}], \"scatter\": [{\"marker\": {\"colorbar\": {\"outlinewidth\": 0, \"ticks\": \"\"}}, \"type\": \"scatter\"}], \"scatter3d\": [{\"line\": {\"colorbar\": {\"outlinewidth\": 0, \"ticks\": \"\"}}, \"marker\": {\"colorbar\": {\"outlinewidth\": 0, \"ticks\": \"\"}}, \"type\": \"scatter3d\"}], \"scattercarpet\": [{\"marker\": {\"colorbar\": {\"outlinewidth\": 0, \"ticks\": \"\"}}, \"type\": \"scattercarpet\"}], \"scattergeo\": [{\"marker\": {\"colorbar\": {\"outlinewidth\": 0, \"ticks\": \"\"}}, \"type\": \"scattergeo\"}], \"scattergl\": [{\"marker\": {\"colorbar\": {\"outlinewidth\": 0, \"ticks\": \"\"}}, \"type\": \"scattergl\"}], \"scattermapbox\": [{\"marker\": {\"colorbar\": {\"outlinewidth\": 0, \"ticks\": \"\"}}, \"type\": \"scattermapbox\"}], \"scatterpolar\": [{\"marker\": {\"colorbar\": {\"outlinewidth\": 0, \"ticks\": \"\"}}, \"type\": \"scatterpolar\"}], \"scatterpolargl\": [{\"marker\": {\"colorbar\": {\"outlinewidth\": 0, \"ticks\": \"\"}}, \"type\": \"scatterpolargl\"}], \"scatterternary\": [{\"marker\": {\"colorbar\": {\"outlinewidth\": 0, \"ticks\": \"\"}}, \"type\": \"scatterternary\"}], \"surface\": [{\"colorbar\": {\"outlinewidth\": 0, \"ticks\": \"\"}, \"colorscale\": [[0.0, \"#0d0887\"], [0.1111111111111111, \"#46039f\"], [0.2222222222222222, \"#7201a8\"], [0.3333333333333333, \"#9c179e\"], [0.4444444444444444, \"#bd3786\"], [0.5555555555555556, \"#d8576b\"], [0.6666666666666666, \"#ed7953\"], [0.7777777777777778, \"#fb9f3a\"], [0.8888888888888888, \"#fdca26\"], [1.0, \"#f0f921\"]], \"type\": \"surface\"}], \"table\": [{\"cells\": {\"fill\": {\"color\": \"#EBF0F8\"}, \"line\": {\"color\": \"white\"}}, \"header\": {\"fill\": {\"color\": \"#C8D4E3\"}, \"line\": {\"color\": \"white\"}}, \"type\": \"table\"}]}, \"layout\": {\"annotationdefaults\": {\"arrowcolor\": \"#2a3f5f\", \"arrowhead\": 0, \"arrowwidth\": 1}, \"autotypenumbers\": \"strict\", \"coloraxis\": {\"colorbar\": {\"outlinewidth\": 0, \"ticks\": \"\"}}, \"colorscale\": {\"diverging\": [[0, \"#8e0152\"], [0.1, \"#c51b7d\"], [0.2, \"#de77ae\"], [0.3, \"#f1b6da\"], [0.4, \"#fde0ef\"], [0.5, \"#f7f7f7\"], [0.6, \"#e6f5d0\"], [0.7, \"#b8e186\"], [0.8, \"#7fbc41\"], [0.9, \"#4d9221\"], [1, \"#276419\"]], \"sequential\": [[0.0, \"#0d0887\"], [0.1111111111111111, \"#46039f\"], [0.2222222222222222, \"#7201a8\"], [0.3333333333333333, \"#9c179e\"], [0.4444444444444444, \"#bd3786\"], [0.5555555555555556, \"#d8576b\"], [0.6666666666666666, \"#ed7953\"], [0.7777777777777778, \"#fb9f3a\"], [0.8888888888888888, \"#fdca26\"], [1.0, \"#f0f921\"]], \"sequentialminus\": [[0.0, \"#0d0887\"], [0.1111111111111111, \"#46039f\"], [0.2222222222222222, \"#7201a8\"], [0.3333333333333333, \"#9c179e\"], [0.4444444444444444, \"#bd3786\"], [0.5555555555555556, \"#d8576b\"], [0.6666666666666666, \"#ed7953\"], [0.7777777777777778, \"#fb9f3a\"], [0.8888888888888888, \"#fdca26\"], [1.0, \"#f0f921\"]]}, \"colorway\": [\"#636efa\", \"#EF553B\", \"#00cc96\", \"#ab63fa\", \"#FFA15A\", \"#19d3f3\", \"#FF6692\", \"#B6E880\", \"#FF97FF\", \"#FECB52\"], \"font\": {\"color\": \"#2a3f5f\"}, \"geo\": {\"bgcolor\": \"white\", \"lakecolor\": \"white\", \"landcolor\": \"#E5ECF6\", \"showlakes\": true, \"showland\": true, \"subunitcolor\": \"white\"}, \"hoverlabel\": {\"align\": \"left\"}, \"hovermode\": \"closest\", \"mapbox\": {\"style\": \"light\"}, \"paper_bgcolor\": \"white\", \"plot_bgcolor\": \"#E5ECF6\", \"polar\": {\"angularaxis\": {\"gridcolor\": \"white\", \"linecolor\": \"white\", \"ticks\": \"\"}, \"bgcolor\": \"#E5ECF6\", \"radialaxis\": {\"gridcolor\": \"white\", \"linecolor\": \"white\", \"ticks\": \"\"}}, \"scene\": {\"xaxis\": {\"backgroundcolor\": \"#E5ECF6\", \"gridcolor\": \"white\", \"gridwidth\": 2, \"linecolor\": \"white\", \"showbackground\": true, \"ticks\": \"\", \"zerolinecolor\": \"white\"}, \"yaxis\": {\"backgroundcolor\": \"#E5ECF6\", \"gridcolor\": \"white\", \"gridwidth\": 2, \"linecolor\": \"white\", \"showbackground\": true, \"ticks\": \"\", \"zerolinecolor\": \"white\"}, \"zaxis\": {\"backgroundcolor\": \"#E5ECF6\", \"gridcolor\": \"white\", \"gridwidth\": 2, \"linecolor\": \"white\", \"showbackground\": true, \"ticks\": \"\", \"zerolinecolor\": \"white\"}}, \"shapedefaults\": {\"line\": {\"color\": \"#2a3f5f\"}}, \"ternary\": {\"aaxis\": {\"gridcolor\": \"white\", \"linecolor\": \"white\", \"ticks\": \"\"}, \"baxis\": {\"gridcolor\": \"white\", \"linecolor\": \"white\", \"ticks\": \"\"}, \"bgcolor\": \"#E5ECF6\", \"caxis\": {\"gridcolor\": \"white\", \"linecolor\": \"white\", \"ticks\": \"\"}}, \"title\": {\"x\": 0.05}, \"xaxis\": {\"automargin\": true, \"gridcolor\": \"white\", \"linecolor\": \"white\", \"ticks\": \"\", \"title\": {\"standoff\": 15}, \"zerolinecolor\": \"white\", \"zerolinewidth\": 2}, \"yaxis\": {\"automargin\": true, \"gridcolor\": \"white\", \"linecolor\": \"white\", \"ticks\": \"\", \"title\": {\"standoff\": 15}, \"zerolinecolor\": \"white\", \"zerolinewidth\": 2}}}, \"title\": {\"font\": {\"color\": \"#4D5663\"}}, \"xaxis\": {\"gridcolor\": \"#E1E5ED\", \"showgrid\": true, \"tickfont\": {\"color\": \"#4D5663\"}, \"title\": {\"font\": {\"color\": \"#4D5663\"}, \"text\": \"\"}, \"zerolinecolor\": \"#E1E5ED\"}, \"yaxis\": {\"gridcolor\": \"#E1E5ED\", \"showgrid\": true, \"tickfont\": {\"color\": \"#4D5663\"}, \"title\": {\"font\": {\"color\": \"#4D5663\"}, \"text\": \"\"}, \"zerolinecolor\": \"#E1E5ED\"}},                        {\"showLink\": true, \"linkText\": \"Export to plot.ly\", \"plotlyServerURL\": \"https://plot.ly\", \"responsive\": true}                    ).then(function(){\n",
       "                            \n",
       "var gd = document.getElementById('54f7e485-d90e-47e4-a0a1-3be16b28714c');\n",
       "var x = new MutationObserver(function (mutations, observer) {{\n",
       "        var display = window.getComputedStyle(gd).display;\n",
       "        if (!display || display === 'none') {{\n",
       "            console.log([gd, 'removed!']);\n",
       "            Plotly.purge(gd);\n",
       "            observer.disconnect();\n",
       "        }}\n",
       "}});\n",
       "\n",
       "// Listen for the removal of the full notebook cells\n",
       "var notebookContainer = gd.closest('#notebook-container');\n",
       "if (notebookContainer) {{\n",
       "    x.observe(notebookContainer, {childList: true});\n",
       "}}\n",
       "\n",
       "// Listen for the clearing of the current output cell\n",
       "var outputEl = gd.closest('.output');\n",
       "if (outputEl) {{\n",
       "    x.observe(outputEl, {childList: true});\n",
       "}}\n",
       "\n",
       "                        })                };                });            </script>        </div>"
      ]
     },
     "metadata": {},
     "output_type": "display_data"
    }
   ],
   "source": [
    "df['A'].iplot(kind='hist',bins=25)"
   ]
  },
  {
   "cell_type": "code",
   "execution_count": 18,
   "metadata": {},
   "outputs": [
    {
     "data": {
      "application/vnd.plotly.v1+json": {
       "config": {
        "linkText": "Export to plot.ly",
        "plotlyServerURL": "https://plot.ly",
        "showLink": true
       },
       "data": [
        {
         "marker": {
          "color": [
           "rgb(255, 153, 51)",
           "rgb(55, 128, 191)",
           "rgb(50, 171, 96)",
           "rgb(128, 0, 128)",
           "rgb(219, 64, 82)",
           "rgb(0, 128, 128)",
           "rgb(255, 255, 51)",
           "rgb(128, 128, 0)",
           "rgb(251, 128, 114)",
           "rgb(128, 177, 211)"
          ],
          "line": {
           "width": 1.3
          },
          "size": [
           62,
           75,
           74,
           62,
           81,
           61,
           69,
           51,
           27,
           76,
           83,
           66,
           53,
           57,
           72,
           47,
           63,
           89,
           12,
           39,
           79,
           83,
           46,
           50,
           74,
           35,
           36,
           82,
           34,
           45,
           66,
           41,
           55,
           37,
           67,
           24,
           56,
           83,
           95,
           37,
           90,
           49,
           67,
           49,
           49,
           37,
           45,
           56,
           57,
           16,
           31,
           41,
           88,
           65,
           85,
           111,
           45,
           88,
           66,
           73,
           53,
           63,
           51,
           17,
           43,
           48,
           43,
           44,
           25,
           79,
           31,
           46,
           42,
           76,
           92,
           58,
           72,
           61,
           57,
           53,
           33,
           46,
           70,
           58,
           57,
           75,
           37,
           82,
           103,
           43,
           60,
           73,
           60,
           71,
           79,
           46,
           79,
           89,
           63,
           112
          ],
          "symbol": "circle"
         },
         "mode": "markers",
         "text": "",
         "type": "scatter",
         "x": [
          -1.3545048514202886,
          -0.27728378291500244,
          0.45496642739072185,
          -0.23107642156544375,
          0.3225381016251746,
          -1.0008187198265743,
          0.9845366396545454,
          -0.50321152657273,
          1.6157058505386503,
          -1.0755409628997235,
          -0.7266925458064639,
          -1.595502047740283,
          0.43015754731259187,
          -0.5023039509792152,
          1.1993891113951063,
          1.5027455883128777,
          -2.0111448778151333,
          0.27904655655280847,
          -0.36670722252928634,
          -1.045321731796316,
          0.10914045660460339,
          -0.6328966222259624,
          1.0225649219030128,
          0.23646366884558706,
          0.41548422719458417,
          -1.0976117676432184,
          -1.3390903914000774,
          -0.4528371511298527,
          -0.42733490165283505,
          0.5754120459853603,
          0.11281268381519279,
          -1.1504102405112058,
          -0.050574871926182784,
          0.6018645063084697,
          -1.4510472945569854,
          -0.21392389795359612,
          0.9380171050066473,
          -0.09438742292598681,
          -0.07053906033576715,
          2.2285687724394343,
          0.19845839839579424,
          1.2131263496243834,
          1.1792006659868235,
          -0.7568736002213788,
          -1.32459048528407,
          -0.6129471634329756,
          -0.4709172661057217,
          -0.7285462902748785,
          -0.25955121913034657,
          0.1555555496229885,
          -1.0067734814821243,
          1.4876681778759002,
          -0.19585676804199598,
          -1.3051812203656723,
          -0.7121109427231624,
          1.4370077967986707,
          0.4538113012220596,
          0.32118719474111324,
          1.9306937024550697,
          -1.0000186636360553,
          1.3538998887923899,
          1.0254565059989138,
          -0.6070225790196295,
          1.7505222400386586,
          1.7797158783195268,
          0.17570637331592434,
          0.1301137572005141,
          -0.4213331565359732,
          0.2879440028531558,
          2.138360358957446,
          1.0890958981482772,
          -0.26490401714714534,
          0.027728903643897698,
          0.40479261158660584,
          0.9083928456027764,
          -0.5899242333379505,
          -0.8616710639476087,
          1.235011144214475,
          1.2773603111730898,
          0.1646548821502208,
          0.19239963499647977,
          -1.3887769224713287,
          0.03482195209693308,
          1.5745439863348998,
          -0.6366925872900931,
          -0.41589432971818063,
          0.3427910975984431,
          0.8366529944437844,
          0.34780611914933296,
          -1.4700076557867081,
          0.38964290131019585,
          -0.7884288396387822,
          -0.9056465667023024,
          0.3399186743690349,
          -0.6477575326386299,
          1.5680595200598508,
          2.269928998581372,
          -1.0404746060192802,
          0.5237456598895535,
          0.9448421163357893
         ],
         "y": [
          -0.6370662306345296,
          -0.18779479970184382,
          -0.933271565970044,
          0.9212074612281883,
          0.8936514161808388,
          0.8342227138476731,
          0.8587196320328144,
          0.22881724899518655,
          -0.9180773570599018,
          -0.45142786836483606,
          -0.22248070393362662,
          0.44917113276718723,
          -0.5973156191937276,
          2.1898876198884047,
          -0.4902326025541706,
          -2.018799695983331,
          -1.3633094063854794,
          0.722171910193369,
          1.398112707247513,
          -0.08109011152174196,
          1.2230279514126137,
          -0.21409272975599575,
          0.38937698547166644,
          0.5838286529465544,
          0.8956700723977705,
          0.961281589148261,
          1.7492867643302497,
          -2.0349038968514983,
          0.9622336412524589,
          -1.6031314870782933,
          0.06891589583313582,
          -0.34008733689357995,
          1.4904754639563247,
          -0.6838384992536902,
          0.6019227388150992,
          1.0744944375979761,
          -0.4426583612634076,
          -1.238007017870152,
          -0.23516809680023168,
          0.17849613576372855,
          -1.9737195066421716,
          0.7900923082368406,
          0.12618231219509693,
          -0.6881342409954447,
          1.0740609598702087,
          -2.2292758320157007,
          0.33792269970410865,
          -0.046717796304047564,
          -1.3299347008261175,
          -0.832872352576968,
          -0.02629450649372879,
          -1.3973378150364184,
          2.0597015168262067,
          0.7158707733517314,
          1.538355947800245,
          0.8200805455889011,
          0.06197608346940097,
          -0.30465938188471225,
          -2.791129597868393,
          -0.6640117629558614,
          -0.7395309222045003,
          -1.1692089459454784,
          1.077217332302895,
          -0.687746618866074,
          1.4691428404927873,
          0.8768833279459809,
          0.3599051799630393,
          -0.447137575412363,
          -0.41913677028305696,
          0.5464024743534294,
          0.4307296648098181,
          -1.8466600072649433,
          0.10608219598356404,
          -1.4511218468659515,
          0.4246996885645433,
          1.284557483121074,
          0.12055153420288005,
          1.1349369472971491,
          -0.08792505531674043,
          -1.2616820293829447,
          0.021585833373038835,
          0.433630805405162,
          -0.41834366420211727,
          -1.3449157042759814,
          0.7473410766559658,
          -1.879342304593012,
          0.28080103709289456,
          -0.5157429018677484,
          1.140210489380863,
          1.7292730109199856,
          -0.9166642240809446,
          0.7944208063936056,
          2.302665781556202,
          -1.157887088105418,
          -0.2936987293432595,
          0.18816450281699626,
          0.1508502062472272,
          0.3179360880392077,
          -0.4593359983942544,
          0.27511528779754385
         ]
        }
       ],
       "layout": {
        "legend": {
         "bgcolor": "#F5F6F9",
         "font": {
          "color": "#4D5663"
         }
        },
        "paper_bgcolor": "#F5F6F9",
        "plot_bgcolor": "#F5F6F9",
        "template": {
         "data": {
          "bar": [
           {
            "error_x": {
             "color": "#2a3f5f"
            },
            "error_y": {
             "color": "#2a3f5f"
            },
            "marker": {
             "line": {
              "color": "#E5ECF6",
              "width": 0.5
             }
            },
            "type": "bar"
           }
          ],
          "barpolar": [
           {
            "marker": {
             "line": {
              "color": "#E5ECF6",
              "width": 0.5
             }
            },
            "type": "barpolar"
           }
          ],
          "carpet": [
           {
            "aaxis": {
             "endlinecolor": "#2a3f5f",
             "gridcolor": "white",
             "linecolor": "white",
             "minorgridcolor": "white",
             "startlinecolor": "#2a3f5f"
            },
            "baxis": {
             "endlinecolor": "#2a3f5f",
             "gridcolor": "white",
             "linecolor": "white",
             "minorgridcolor": "white",
             "startlinecolor": "#2a3f5f"
            },
            "type": "carpet"
           }
          ],
          "choropleth": [
           {
            "colorbar": {
             "outlinewidth": 0,
             "ticks": ""
            },
            "type": "choropleth"
           }
          ],
          "contour": [
           {
            "colorbar": {
             "outlinewidth": 0,
             "ticks": ""
            },
            "colorscale": [
             [
              0,
              "#0d0887"
             ],
             [
              0.1111111111111111,
              "#46039f"
             ],
             [
              0.2222222222222222,
              "#7201a8"
             ],
             [
              0.3333333333333333,
              "#9c179e"
             ],
             [
              0.4444444444444444,
              "#bd3786"
             ],
             [
              0.5555555555555556,
              "#d8576b"
             ],
             [
              0.6666666666666666,
              "#ed7953"
             ],
             [
              0.7777777777777778,
              "#fb9f3a"
             ],
             [
              0.8888888888888888,
              "#fdca26"
             ],
             [
              1,
              "#f0f921"
             ]
            ],
            "type": "contour"
           }
          ],
          "contourcarpet": [
           {
            "colorbar": {
             "outlinewidth": 0,
             "ticks": ""
            },
            "type": "contourcarpet"
           }
          ],
          "heatmap": [
           {
            "colorbar": {
             "outlinewidth": 0,
             "ticks": ""
            },
            "colorscale": [
             [
              0,
              "#0d0887"
             ],
             [
              0.1111111111111111,
              "#46039f"
             ],
             [
              0.2222222222222222,
              "#7201a8"
             ],
             [
              0.3333333333333333,
              "#9c179e"
             ],
             [
              0.4444444444444444,
              "#bd3786"
             ],
             [
              0.5555555555555556,
              "#d8576b"
             ],
             [
              0.6666666666666666,
              "#ed7953"
             ],
             [
              0.7777777777777778,
              "#fb9f3a"
             ],
             [
              0.8888888888888888,
              "#fdca26"
             ],
             [
              1,
              "#f0f921"
             ]
            ],
            "type": "heatmap"
           }
          ],
          "heatmapgl": [
           {
            "colorbar": {
             "outlinewidth": 0,
             "ticks": ""
            },
            "colorscale": [
             [
              0,
              "#0d0887"
             ],
             [
              0.1111111111111111,
              "#46039f"
             ],
             [
              0.2222222222222222,
              "#7201a8"
             ],
             [
              0.3333333333333333,
              "#9c179e"
             ],
             [
              0.4444444444444444,
              "#bd3786"
             ],
             [
              0.5555555555555556,
              "#d8576b"
             ],
             [
              0.6666666666666666,
              "#ed7953"
             ],
             [
              0.7777777777777778,
              "#fb9f3a"
             ],
             [
              0.8888888888888888,
              "#fdca26"
             ],
             [
              1,
              "#f0f921"
             ]
            ],
            "type": "heatmapgl"
           }
          ],
          "histogram": [
           {
            "marker": {
             "colorbar": {
              "outlinewidth": 0,
              "ticks": ""
             }
            },
            "type": "histogram"
           }
          ],
          "histogram2d": [
           {
            "colorbar": {
             "outlinewidth": 0,
             "ticks": ""
            },
            "colorscale": [
             [
              0,
              "#0d0887"
             ],
             [
              0.1111111111111111,
              "#46039f"
             ],
             [
              0.2222222222222222,
              "#7201a8"
             ],
             [
              0.3333333333333333,
              "#9c179e"
             ],
             [
              0.4444444444444444,
              "#bd3786"
             ],
             [
              0.5555555555555556,
              "#d8576b"
             ],
             [
              0.6666666666666666,
              "#ed7953"
             ],
             [
              0.7777777777777778,
              "#fb9f3a"
             ],
             [
              0.8888888888888888,
              "#fdca26"
             ],
             [
              1,
              "#f0f921"
             ]
            ],
            "type": "histogram2d"
           }
          ],
          "histogram2dcontour": [
           {
            "colorbar": {
             "outlinewidth": 0,
             "ticks": ""
            },
            "colorscale": [
             [
              0,
              "#0d0887"
             ],
             [
              0.1111111111111111,
              "#46039f"
             ],
             [
              0.2222222222222222,
              "#7201a8"
             ],
             [
              0.3333333333333333,
              "#9c179e"
             ],
             [
              0.4444444444444444,
              "#bd3786"
             ],
             [
              0.5555555555555556,
              "#d8576b"
             ],
             [
              0.6666666666666666,
              "#ed7953"
             ],
             [
              0.7777777777777778,
              "#fb9f3a"
             ],
             [
              0.8888888888888888,
              "#fdca26"
             ],
             [
              1,
              "#f0f921"
             ]
            ],
            "type": "histogram2dcontour"
           }
          ],
          "mesh3d": [
           {
            "colorbar": {
             "outlinewidth": 0,
             "ticks": ""
            },
            "type": "mesh3d"
           }
          ],
          "parcoords": [
           {
            "line": {
             "colorbar": {
              "outlinewidth": 0,
              "ticks": ""
             }
            },
            "type": "parcoords"
           }
          ],
          "pie": [
           {
            "automargin": true,
            "type": "pie"
           }
          ],
          "scatter": [
           {
            "marker": {
             "colorbar": {
              "outlinewidth": 0,
              "ticks": ""
             }
            },
            "type": "scatter"
           }
          ],
          "scatter3d": [
           {
            "line": {
             "colorbar": {
              "outlinewidth": 0,
              "ticks": ""
             }
            },
            "marker": {
             "colorbar": {
              "outlinewidth": 0,
              "ticks": ""
             }
            },
            "type": "scatter3d"
           }
          ],
          "scattercarpet": [
           {
            "marker": {
             "colorbar": {
              "outlinewidth": 0,
              "ticks": ""
             }
            },
            "type": "scattercarpet"
           }
          ],
          "scattergeo": [
           {
            "marker": {
             "colorbar": {
              "outlinewidth": 0,
              "ticks": ""
             }
            },
            "type": "scattergeo"
           }
          ],
          "scattergl": [
           {
            "marker": {
             "colorbar": {
              "outlinewidth": 0,
              "ticks": ""
             }
            },
            "type": "scattergl"
           }
          ],
          "scattermapbox": [
           {
            "marker": {
             "colorbar": {
              "outlinewidth": 0,
              "ticks": ""
             }
            },
            "type": "scattermapbox"
           }
          ],
          "scatterpolar": [
           {
            "marker": {
             "colorbar": {
              "outlinewidth": 0,
              "ticks": ""
             }
            },
            "type": "scatterpolar"
           }
          ],
          "scatterpolargl": [
           {
            "marker": {
             "colorbar": {
              "outlinewidth": 0,
              "ticks": ""
             }
            },
            "type": "scatterpolargl"
           }
          ],
          "scatterternary": [
           {
            "marker": {
             "colorbar": {
              "outlinewidth": 0,
              "ticks": ""
             }
            },
            "type": "scatterternary"
           }
          ],
          "surface": [
           {
            "colorbar": {
             "outlinewidth": 0,
             "ticks": ""
            },
            "colorscale": [
             [
              0,
              "#0d0887"
             ],
             [
              0.1111111111111111,
              "#46039f"
             ],
             [
              0.2222222222222222,
              "#7201a8"
             ],
             [
              0.3333333333333333,
              "#9c179e"
             ],
             [
              0.4444444444444444,
              "#bd3786"
             ],
             [
              0.5555555555555556,
              "#d8576b"
             ],
             [
              0.6666666666666666,
              "#ed7953"
             ],
             [
              0.7777777777777778,
              "#fb9f3a"
             ],
             [
              0.8888888888888888,
              "#fdca26"
             ],
             [
              1,
              "#f0f921"
             ]
            ],
            "type": "surface"
           }
          ],
          "table": [
           {
            "cells": {
             "fill": {
              "color": "#EBF0F8"
             },
             "line": {
              "color": "white"
             }
            },
            "header": {
             "fill": {
              "color": "#C8D4E3"
             },
             "line": {
              "color": "white"
             }
            },
            "type": "table"
           }
          ]
         },
         "layout": {
          "annotationdefaults": {
           "arrowcolor": "#2a3f5f",
           "arrowhead": 0,
           "arrowwidth": 1
          },
          "autotypenumbers": "strict",
          "coloraxis": {
           "colorbar": {
            "outlinewidth": 0,
            "ticks": ""
           }
          },
          "colorscale": {
           "diverging": [
            [
             0,
             "#8e0152"
            ],
            [
             0.1,
             "#c51b7d"
            ],
            [
             0.2,
             "#de77ae"
            ],
            [
             0.3,
             "#f1b6da"
            ],
            [
             0.4,
             "#fde0ef"
            ],
            [
             0.5,
             "#f7f7f7"
            ],
            [
             0.6,
             "#e6f5d0"
            ],
            [
             0.7,
             "#b8e186"
            ],
            [
             0.8,
             "#7fbc41"
            ],
            [
             0.9,
             "#4d9221"
            ],
            [
             1,
             "#276419"
            ]
           ],
           "sequential": [
            [
             0,
             "#0d0887"
            ],
            [
             0.1111111111111111,
             "#46039f"
            ],
            [
             0.2222222222222222,
             "#7201a8"
            ],
            [
             0.3333333333333333,
             "#9c179e"
            ],
            [
             0.4444444444444444,
             "#bd3786"
            ],
            [
             0.5555555555555556,
             "#d8576b"
            ],
            [
             0.6666666666666666,
             "#ed7953"
            ],
            [
             0.7777777777777778,
             "#fb9f3a"
            ],
            [
             0.8888888888888888,
             "#fdca26"
            ],
            [
             1,
             "#f0f921"
            ]
           ],
           "sequentialminus": [
            [
             0,
             "#0d0887"
            ],
            [
             0.1111111111111111,
             "#46039f"
            ],
            [
             0.2222222222222222,
             "#7201a8"
            ],
            [
             0.3333333333333333,
             "#9c179e"
            ],
            [
             0.4444444444444444,
             "#bd3786"
            ],
            [
             0.5555555555555556,
             "#d8576b"
            ],
            [
             0.6666666666666666,
             "#ed7953"
            ],
            [
             0.7777777777777778,
             "#fb9f3a"
            ],
            [
             0.8888888888888888,
             "#fdca26"
            ],
            [
             1,
             "#f0f921"
            ]
           ]
          },
          "colorway": [
           "#636efa",
           "#EF553B",
           "#00cc96",
           "#ab63fa",
           "#FFA15A",
           "#19d3f3",
           "#FF6692",
           "#B6E880",
           "#FF97FF",
           "#FECB52"
          ],
          "font": {
           "color": "#2a3f5f"
          },
          "geo": {
           "bgcolor": "white",
           "lakecolor": "white",
           "landcolor": "#E5ECF6",
           "showlakes": true,
           "showland": true,
           "subunitcolor": "white"
          },
          "hoverlabel": {
           "align": "left"
          },
          "hovermode": "closest",
          "mapbox": {
           "style": "light"
          },
          "paper_bgcolor": "white",
          "plot_bgcolor": "#E5ECF6",
          "polar": {
           "angularaxis": {
            "gridcolor": "white",
            "linecolor": "white",
            "ticks": ""
           },
           "bgcolor": "#E5ECF6",
           "radialaxis": {
            "gridcolor": "white",
            "linecolor": "white",
            "ticks": ""
           }
          },
          "scene": {
           "xaxis": {
            "backgroundcolor": "#E5ECF6",
            "gridcolor": "white",
            "gridwidth": 2,
            "linecolor": "white",
            "showbackground": true,
            "ticks": "",
            "zerolinecolor": "white"
           },
           "yaxis": {
            "backgroundcolor": "#E5ECF6",
            "gridcolor": "white",
            "gridwidth": 2,
            "linecolor": "white",
            "showbackground": true,
            "ticks": "",
            "zerolinecolor": "white"
           },
           "zaxis": {
            "backgroundcolor": "#E5ECF6",
            "gridcolor": "white",
            "gridwidth": 2,
            "linecolor": "white",
            "showbackground": true,
            "ticks": "",
            "zerolinecolor": "white"
           }
          },
          "shapedefaults": {
           "line": {
            "color": "#2a3f5f"
           }
          },
          "ternary": {
           "aaxis": {
            "gridcolor": "white",
            "linecolor": "white",
            "ticks": ""
           },
           "baxis": {
            "gridcolor": "white",
            "linecolor": "white",
            "ticks": ""
           },
           "bgcolor": "#E5ECF6",
           "caxis": {
            "gridcolor": "white",
            "linecolor": "white",
            "ticks": ""
           }
          },
          "title": {
           "x": 0.05
          },
          "xaxis": {
           "automargin": true,
           "gridcolor": "white",
           "linecolor": "white",
           "ticks": "",
           "title": {
            "standoff": 15
           },
           "zerolinecolor": "white",
           "zerolinewidth": 2
          },
          "yaxis": {
           "automargin": true,
           "gridcolor": "white",
           "linecolor": "white",
           "ticks": "",
           "title": {
            "standoff": 15
           },
           "zerolinecolor": "white",
           "zerolinewidth": 2
          }
         }
        },
        "title": {
         "font": {
          "color": "#4D5663"
         }
        },
        "xaxis": {
         "gridcolor": "#E1E5ED",
         "showgrid": true,
         "tickfont": {
          "color": "#4D5663"
         },
         "title": {
          "font": {
           "color": "#4D5663"
          },
          "text": ""
         },
         "zerolinecolor": "#E1E5ED"
        },
        "yaxis": {
         "gridcolor": "#E1E5ED",
         "showgrid": true,
         "tickfont": {
          "color": "#4D5663"
         },
         "title": {
          "font": {
           "color": "#4D5663"
          },
          "text": ""
         },
         "zerolinecolor": "#E1E5ED"
        }
       }
      },
      "text/html": [
       "<div>                            <div id=\"db110544-d9d5-453a-abf7-6323a2ad08c3\" class=\"plotly-graph-div\" style=\"height:525px; width:100%;\"></div>            <script type=\"text/javascript\">                require([\"plotly\"], function(Plotly) {                    window.PLOTLYENV=window.PLOTLYENV || {};\n",
       "                    window.PLOTLYENV.BASE_URL='https://plot.ly';                                    if (document.getElementById(\"db110544-d9d5-453a-abf7-6323a2ad08c3\")) {                    Plotly.newPlot(                        \"db110544-d9d5-453a-abf7-6323a2ad08c3\",                        [{\"marker\": {\"color\": [\"rgb(255, 153, 51)\", \"rgb(55, 128, 191)\", \"rgb(50, 171, 96)\", \"rgb(128, 0, 128)\", \"rgb(219, 64, 82)\", \"rgb(0, 128, 128)\", \"rgb(255, 255, 51)\", \"rgb(128, 128, 0)\", \"rgb(251, 128, 114)\", \"rgb(128, 177, 211)\"], \"line\": {\"width\": 1.3}, \"size\": [62, 75, 74, 62, 81, 61, 69, 51, 27, 76, 83, 66, 53, 57, 72, 47, 63, 89, 12, 39, 79, 83, 46, 50, 74, 35, 36, 82, 34, 45, 66, 41, 55, 37, 67, 24, 56, 83, 95, 37, 90, 49, 67, 49, 49, 37, 45, 56, 57, 16, 31, 41, 88, 65, 85, 111, 45, 88, 66, 73, 53, 63, 51, 17, 43, 48, 43, 44, 25, 79, 31, 46, 42, 76, 92, 58, 72, 61, 57, 53, 33, 46, 70, 58, 57, 75, 37, 82, 103, 43, 60, 73, 60, 71, 79, 46, 79, 89, 63, 112], \"symbol\": \"circle\"}, \"mode\": \"markers\", \"text\": \"\", \"type\": \"scatter\", \"x\": [-1.3545048514202886, -0.27728378291500244, 0.45496642739072185, -0.23107642156544375, 0.3225381016251746, -1.0008187198265743, 0.9845366396545454, -0.50321152657273, 1.6157058505386503, -1.0755409628997235, -0.7266925458064639, -1.595502047740283, 0.43015754731259187, -0.5023039509792152, 1.1993891113951063, 1.5027455883128777, -2.0111448778151333, 0.27904655655280847, -0.36670722252928634, -1.045321731796316, 0.10914045660460339, -0.6328966222259624, 1.0225649219030128, 0.23646366884558706, 0.41548422719458417, -1.0976117676432184, -1.3390903914000774, -0.4528371511298527, -0.42733490165283505, 0.5754120459853603, 0.11281268381519279, -1.1504102405112058, -0.050574871926182784, 0.6018645063084697, -1.4510472945569854, -0.21392389795359612, 0.9380171050066473, -0.09438742292598681, -0.07053906033576715, 2.2285687724394343, 0.19845839839579424, 1.2131263496243834, 1.1792006659868235, -0.7568736002213788, -1.32459048528407, -0.6129471634329756, -0.4709172661057217, -0.7285462902748785, -0.25955121913034657, 0.1555555496229885, -1.0067734814821243, 1.4876681778759002, -0.19585676804199598, -1.3051812203656723, -0.7121109427231624, 1.4370077967986707, 0.4538113012220596, 0.32118719474111324, 1.9306937024550697, -1.0000186636360553, 1.3538998887923899, 1.0254565059989138, -0.6070225790196295, 1.7505222400386586, 1.7797158783195268, 0.17570637331592434, 0.1301137572005141, -0.4213331565359732, 0.2879440028531558, 2.138360358957446, 1.0890958981482772, -0.26490401714714534, 0.027728903643897698, 0.40479261158660584, 0.9083928456027764, -0.5899242333379505, -0.8616710639476087, 1.235011144214475, 1.2773603111730898, 0.1646548821502208, 0.19239963499647977, -1.3887769224713287, 0.03482195209693308, 1.5745439863348998, -0.6366925872900931, -0.41589432971818063, 0.3427910975984431, 0.8366529944437844, 0.34780611914933296, -1.4700076557867081, 0.38964290131019585, -0.7884288396387822, -0.9056465667023024, 0.3399186743690349, -0.6477575326386299, 1.5680595200598508, 2.269928998581372, -1.0404746060192802, 0.5237456598895535, 0.9448421163357893], \"y\": [-0.6370662306345296, -0.18779479970184382, -0.933271565970044, 0.9212074612281883, 0.8936514161808388, 0.8342227138476731, 0.8587196320328144, 0.22881724899518655, -0.9180773570599018, -0.45142786836483606, -0.22248070393362662, 0.44917113276718723, -0.5973156191937276, 2.1898876198884047, -0.4902326025541706, -2.018799695983331, -1.3633094063854794, 0.722171910193369, 1.398112707247513, -0.08109011152174196, 1.2230279514126137, -0.21409272975599575, 0.38937698547166644, 0.5838286529465544, 0.8956700723977705, 0.961281589148261, 1.7492867643302497, -2.0349038968514983, 0.9622336412524589, -1.6031314870782933, 0.06891589583313582, -0.34008733689357995, 1.4904754639563247, -0.6838384992536902, 0.6019227388150992, 1.0744944375979761, -0.4426583612634076, -1.238007017870152, -0.23516809680023168, 0.17849613576372855, -1.9737195066421716, 0.7900923082368406, 0.12618231219509693, -0.6881342409954447, 1.0740609598702087, -2.2292758320157007, 0.33792269970410865, -0.046717796304047564, -1.3299347008261175, -0.832872352576968, -0.02629450649372879, -1.3973378150364184, 2.0597015168262067, 0.7158707733517314, 1.538355947800245, 0.8200805455889011, 0.06197608346940097, -0.30465938188471225, -2.791129597868393, -0.6640117629558614, -0.7395309222045003, -1.1692089459454784, 1.077217332302895, -0.687746618866074, 1.4691428404927873, 0.8768833279459809, 0.3599051799630393, -0.447137575412363, -0.41913677028305696, 0.5464024743534294, 0.4307296648098181, -1.8466600072649433, 0.10608219598356404, -1.4511218468659515, 0.4246996885645433, 1.284557483121074, 0.12055153420288005, 1.1349369472971491, -0.08792505531674043, -1.2616820293829447, 0.021585833373038835, 0.433630805405162, -0.41834366420211727, -1.3449157042759814, 0.7473410766559658, -1.879342304593012, 0.28080103709289456, -0.5157429018677484, 1.140210489380863, 1.7292730109199856, -0.9166642240809446, 0.7944208063936056, 2.302665781556202, -1.157887088105418, -0.2936987293432595, 0.18816450281699626, 0.1508502062472272, 0.3179360880392077, -0.4593359983942544, 0.27511528779754385]}],                        {\"legend\": {\"bgcolor\": \"#F5F6F9\", \"font\": {\"color\": \"#4D5663\"}}, \"paper_bgcolor\": \"#F5F6F9\", \"plot_bgcolor\": \"#F5F6F9\", \"template\": {\"data\": {\"bar\": [{\"error_x\": {\"color\": \"#2a3f5f\"}, \"error_y\": {\"color\": \"#2a3f5f\"}, \"marker\": {\"line\": {\"color\": \"#E5ECF6\", \"width\": 0.5}}, \"type\": \"bar\"}], \"barpolar\": [{\"marker\": {\"line\": {\"color\": \"#E5ECF6\", \"width\": 0.5}}, \"type\": \"barpolar\"}], \"carpet\": [{\"aaxis\": {\"endlinecolor\": \"#2a3f5f\", \"gridcolor\": \"white\", \"linecolor\": \"white\", \"minorgridcolor\": \"white\", \"startlinecolor\": \"#2a3f5f\"}, \"baxis\": {\"endlinecolor\": \"#2a3f5f\", \"gridcolor\": \"white\", \"linecolor\": \"white\", \"minorgridcolor\": \"white\", \"startlinecolor\": \"#2a3f5f\"}, \"type\": \"carpet\"}], \"choropleth\": [{\"colorbar\": {\"outlinewidth\": 0, \"ticks\": \"\"}, \"type\": \"choropleth\"}], \"contour\": [{\"colorbar\": {\"outlinewidth\": 0, \"ticks\": \"\"}, \"colorscale\": [[0.0, \"#0d0887\"], [0.1111111111111111, \"#46039f\"], [0.2222222222222222, \"#7201a8\"], [0.3333333333333333, \"#9c179e\"], [0.4444444444444444, \"#bd3786\"], [0.5555555555555556, \"#d8576b\"], [0.6666666666666666, \"#ed7953\"], [0.7777777777777778, \"#fb9f3a\"], [0.8888888888888888, \"#fdca26\"], [1.0, \"#f0f921\"]], \"type\": \"contour\"}], \"contourcarpet\": [{\"colorbar\": {\"outlinewidth\": 0, \"ticks\": \"\"}, \"type\": \"contourcarpet\"}], \"heatmap\": [{\"colorbar\": {\"outlinewidth\": 0, \"ticks\": \"\"}, \"colorscale\": [[0.0, \"#0d0887\"], [0.1111111111111111, \"#46039f\"], [0.2222222222222222, \"#7201a8\"], [0.3333333333333333, \"#9c179e\"], [0.4444444444444444, \"#bd3786\"], [0.5555555555555556, \"#d8576b\"], [0.6666666666666666, \"#ed7953\"], [0.7777777777777778, \"#fb9f3a\"], [0.8888888888888888, \"#fdca26\"], [1.0, \"#f0f921\"]], \"type\": \"heatmap\"}], \"heatmapgl\": [{\"colorbar\": {\"outlinewidth\": 0, \"ticks\": \"\"}, \"colorscale\": [[0.0, \"#0d0887\"], [0.1111111111111111, \"#46039f\"], [0.2222222222222222, \"#7201a8\"], [0.3333333333333333, \"#9c179e\"], [0.4444444444444444, \"#bd3786\"], [0.5555555555555556, \"#d8576b\"], [0.6666666666666666, \"#ed7953\"], [0.7777777777777778, \"#fb9f3a\"], [0.8888888888888888, \"#fdca26\"], [1.0, \"#f0f921\"]], \"type\": \"heatmapgl\"}], \"histogram\": [{\"marker\": {\"colorbar\": {\"outlinewidth\": 0, \"ticks\": \"\"}}, \"type\": \"histogram\"}], \"histogram2d\": [{\"colorbar\": {\"outlinewidth\": 0, \"ticks\": \"\"}, \"colorscale\": [[0.0, \"#0d0887\"], [0.1111111111111111, \"#46039f\"], [0.2222222222222222, \"#7201a8\"], [0.3333333333333333, \"#9c179e\"], [0.4444444444444444, \"#bd3786\"], [0.5555555555555556, \"#d8576b\"], [0.6666666666666666, \"#ed7953\"], [0.7777777777777778, \"#fb9f3a\"], [0.8888888888888888, \"#fdca26\"], [1.0, \"#f0f921\"]], \"type\": \"histogram2d\"}], \"histogram2dcontour\": [{\"colorbar\": {\"outlinewidth\": 0, \"ticks\": \"\"}, \"colorscale\": [[0.0, \"#0d0887\"], [0.1111111111111111, \"#46039f\"], [0.2222222222222222, \"#7201a8\"], [0.3333333333333333, \"#9c179e\"], [0.4444444444444444, \"#bd3786\"], [0.5555555555555556, \"#d8576b\"], [0.6666666666666666, \"#ed7953\"], [0.7777777777777778, \"#fb9f3a\"], [0.8888888888888888, \"#fdca26\"], [1.0, \"#f0f921\"]], \"type\": \"histogram2dcontour\"}], \"mesh3d\": [{\"colorbar\": {\"outlinewidth\": 0, \"ticks\": \"\"}, \"type\": \"mesh3d\"}], \"parcoords\": [{\"line\": {\"colorbar\": {\"outlinewidth\": 0, \"ticks\": \"\"}}, \"type\": \"parcoords\"}], \"pie\": [{\"automargin\": true, \"type\": \"pie\"}], \"scatter\": [{\"marker\": {\"colorbar\": {\"outlinewidth\": 0, \"ticks\": \"\"}}, \"type\": \"scatter\"}], \"scatter3d\": [{\"line\": {\"colorbar\": {\"outlinewidth\": 0, \"ticks\": \"\"}}, \"marker\": {\"colorbar\": {\"outlinewidth\": 0, \"ticks\": \"\"}}, \"type\": \"scatter3d\"}], \"scattercarpet\": [{\"marker\": {\"colorbar\": {\"outlinewidth\": 0, \"ticks\": \"\"}}, \"type\": \"scattercarpet\"}], \"scattergeo\": [{\"marker\": {\"colorbar\": {\"outlinewidth\": 0, \"ticks\": \"\"}}, \"type\": \"scattergeo\"}], \"scattergl\": [{\"marker\": {\"colorbar\": {\"outlinewidth\": 0, \"ticks\": \"\"}}, \"type\": \"scattergl\"}], \"scattermapbox\": [{\"marker\": {\"colorbar\": {\"outlinewidth\": 0, \"ticks\": \"\"}}, \"type\": \"scattermapbox\"}], \"scatterpolar\": [{\"marker\": {\"colorbar\": {\"outlinewidth\": 0, \"ticks\": \"\"}}, \"type\": \"scatterpolar\"}], \"scatterpolargl\": [{\"marker\": {\"colorbar\": {\"outlinewidth\": 0, \"ticks\": \"\"}}, \"type\": \"scatterpolargl\"}], \"scatterternary\": [{\"marker\": {\"colorbar\": {\"outlinewidth\": 0, \"ticks\": \"\"}}, \"type\": \"scatterternary\"}], \"surface\": [{\"colorbar\": {\"outlinewidth\": 0, \"ticks\": \"\"}, \"colorscale\": [[0.0, \"#0d0887\"], [0.1111111111111111, \"#46039f\"], [0.2222222222222222, \"#7201a8\"], [0.3333333333333333, \"#9c179e\"], [0.4444444444444444, \"#bd3786\"], [0.5555555555555556, \"#d8576b\"], [0.6666666666666666, \"#ed7953\"], [0.7777777777777778, \"#fb9f3a\"], [0.8888888888888888, \"#fdca26\"], [1.0, \"#f0f921\"]], \"type\": \"surface\"}], \"table\": [{\"cells\": {\"fill\": {\"color\": \"#EBF0F8\"}, \"line\": {\"color\": \"white\"}}, \"header\": {\"fill\": {\"color\": \"#C8D4E3\"}, \"line\": {\"color\": \"white\"}}, \"type\": \"table\"}]}, \"layout\": {\"annotationdefaults\": {\"arrowcolor\": \"#2a3f5f\", \"arrowhead\": 0, \"arrowwidth\": 1}, \"autotypenumbers\": \"strict\", \"coloraxis\": {\"colorbar\": {\"outlinewidth\": 0, \"ticks\": \"\"}}, \"colorscale\": {\"diverging\": [[0, \"#8e0152\"], [0.1, \"#c51b7d\"], [0.2, \"#de77ae\"], [0.3, \"#f1b6da\"], [0.4, \"#fde0ef\"], [0.5, \"#f7f7f7\"], [0.6, \"#e6f5d0\"], [0.7, \"#b8e186\"], [0.8, \"#7fbc41\"], [0.9, \"#4d9221\"], [1, \"#276419\"]], \"sequential\": [[0.0, \"#0d0887\"], [0.1111111111111111, \"#46039f\"], [0.2222222222222222, \"#7201a8\"], [0.3333333333333333, \"#9c179e\"], [0.4444444444444444, \"#bd3786\"], [0.5555555555555556, \"#d8576b\"], [0.6666666666666666, \"#ed7953\"], [0.7777777777777778, \"#fb9f3a\"], [0.8888888888888888, \"#fdca26\"], [1.0, \"#f0f921\"]], \"sequentialminus\": [[0.0, \"#0d0887\"], [0.1111111111111111, \"#46039f\"], [0.2222222222222222, \"#7201a8\"], [0.3333333333333333, \"#9c179e\"], [0.4444444444444444, \"#bd3786\"], [0.5555555555555556, \"#d8576b\"], [0.6666666666666666, \"#ed7953\"], [0.7777777777777778, \"#fb9f3a\"], [0.8888888888888888, \"#fdca26\"], [1.0, \"#f0f921\"]]}, \"colorway\": [\"#636efa\", \"#EF553B\", \"#00cc96\", \"#ab63fa\", \"#FFA15A\", \"#19d3f3\", \"#FF6692\", \"#B6E880\", \"#FF97FF\", \"#FECB52\"], \"font\": {\"color\": \"#2a3f5f\"}, \"geo\": {\"bgcolor\": \"white\", \"lakecolor\": \"white\", \"landcolor\": \"#E5ECF6\", \"showlakes\": true, \"showland\": true, \"subunitcolor\": \"white\"}, \"hoverlabel\": {\"align\": \"left\"}, \"hovermode\": \"closest\", \"mapbox\": {\"style\": \"light\"}, \"paper_bgcolor\": \"white\", \"plot_bgcolor\": \"#E5ECF6\", \"polar\": {\"angularaxis\": {\"gridcolor\": \"white\", \"linecolor\": \"white\", \"ticks\": \"\"}, \"bgcolor\": \"#E5ECF6\", \"radialaxis\": {\"gridcolor\": \"white\", \"linecolor\": \"white\", \"ticks\": \"\"}}, \"scene\": {\"xaxis\": {\"backgroundcolor\": \"#E5ECF6\", \"gridcolor\": \"white\", \"gridwidth\": 2, \"linecolor\": \"white\", \"showbackground\": true, \"ticks\": \"\", \"zerolinecolor\": \"white\"}, \"yaxis\": {\"backgroundcolor\": \"#E5ECF6\", \"gridcolor\": \"white\", \"gridwidth\": 2, \"linecolor\": \"white\", \"showbackground\": true, \"ticks\": \"\", \"zerolinecolor\": \"white\"}, \"zaxis\": {\"backgroundcolor\": \"#E5ECF6\", \"gridcolor\": \"white\", \"gridwidth\": 2, \"linecolor\": \"white\", \"showbackground\": true, \"ticks\": \"\", \"zerolinecolor\": \"white\"}}, \"shapedefaults\": {\"line\": {\"color\": \"#2a3f5f\"}}, \"ternary\": {\"aaxis\": {\"gridcolor\": \"white\", \"linecolor\": \"white\", \"ticks\": \"\"}, \"baxis\": {\"gridcolor\": \"white\", \"linecolor\": \"white\", \"ticks\": \"\"}, \"bgcolor\": \"#E5ECF6\", \"caxis\": {\"gridcolor\": \"white\", \"linecolor\": \"white\", \"ticks\": \"\"}}, \"title\": {\"x\": 0.05}, \"xaxis\": {\"automargin\": true, \"gridcolor\": \"white\", \"linecolor\": \"white\", \"ticks\": \"\", \"title\": {\"standoff\": 15}, \"zerolinecolor\": \"white\", \"zerolinewidth\": 2}, \"yaxis\": {\"automargin\": true, \"gridcolor\": \"white\", \"linecolor\": \"white\", \"ticks\": \"\", \"title\": {\"standoff\": 15}, \"zerolinecolor\": \"white\", \"zerolinewidth\": 2}}}, \"title\": {\"font\": {\"color\": \"#4D5663\"}}, \"xaxis\": {\"gridcolor\": \"#E1E5ED\", \"showgrid\": true, \"tickfont\": {\"color\": \"#4D5663\"}, \"title\": {\"font\": {\"color\": \"#4D5663\"}, \"text\": \"\"}, \"zerolinecolor\": \"#E1E5ED\"}, \"yaxis\": {\"gridcolor\": \"#E1E5ED\", \"showgrid\": true, \"tickfont\": {\"color\": \"#4D5663\"}, \"title\": {\"font\": {\"color\": \"#4D5663\"}, \"text\": \"\"}, \"zerolinecolor\": \"#E1E5ED\"}},                        {\"showLink\": true, \"linkText\": \"Export to plot.ly\", \"plotlyServerURL\": \"https://plot.ly\", \"responsive\": true}                    ).then(function(){\n",
       "                            \n",
       "var gd = document.getElementById('db110544-d9d5-453a-abf7-6323a2ad08c3');\n",
       "var x = new MutationObserver(function (mutations, observer) {{\n",
       "        var display = window.getComputedStyle(gd).display;\n",
       "        if (!display || display === 'none') {{\n",
       "            console.log([gd, 'removed!']);\n",
       "            Plotly.purge(gd);\n",
       "            observer.disconnect();\n",
       "        }}\n",
       "}});\n",
       "\n",
       "// Listen for the removal of the full notebook cells\n",
       "var notebookContainer = gd.closest('#notebook-container');\n",
       "if (notebookContainer) {{\n",
       "    x.observe(notebookContainer, {childList: true});\n",
       "}}\n",
       "\n",
       "// Listen for the clearing of the current output cell\n",
       "var outputEl = gd.closest('.output');\n",
       "if (outputEl) {{\n",
       "    x.observe(outputEl, {childList: true});\n",
       "}}\n",
       "\n",
       "                        })                };                });            </script>        </div>"
      ]
     },
     "metadata": {},
     "output_type": "display_data"
    }
   ],
   "source": [
    "df.iplot(kind='bubble',x='A',y='B',size='C')"
   ]
  },
  {
   "cell_type": "markdown",
   "metadata": {},
   "source": [
    "## scatter_matrix()\n",
    "\n",
    "Similar to sns.pairplot()"
   ]
  },
  {
   "cell_type": "code",
   "execution_count": 19,
   "metadata": {},
   "outputs": [
    {
     "data": {
      "application/vnd.plotly.v1+json": {
       "config": {
        "linkText": "Export to plot.ly",
        "plotlyServerURL": "https://plot.ly",
        "showLink": true
       },
       "data": [
        {
         "histfunc": "count",
         "histnorm": "",
         "marker": {
          "color": "rgba(255, 153, 51, 1.0)",
          "line": {
           "color": "#4D5663",
           "width": 1.3
          }
         },
         "name": "A",
         "nbinsx": 10,
         "opacity": 0.8,
         "orientation": "v",
         "type": "histogram",
         "x": [
          -1.3545048514202886,
          -0.27728378291500244,
          0.45496642739072185,
          -0.23107642156544375,
          0.3225381016251746,
          -1.0008187198265743,
          0.9845366396545454,
          -0.50321152657273,
          1.6157058505386503,
          -1.0755409628997235,
          -0.7266925458064639,
          -1.595502047740283,
          0.43015754731259187,
          -0.5023039509792152,
          1.1993891113951063,
          1.5027455883128777,
          -2.0111448778151333,
          0.27904655655280847,
          -0.36670722252928634,
          -1.045321731796316,
          0.10914045660460339,
          -0.6328966222259624,
          1.0225649219030128,
          0.23646366884558706,
          0.41548422719458417,
          -1.0976117676432184,
          -1.3390903914000774,
          -0.4528371511298527,
          -0.42733490165283505,
          0.5754120459853603,
          0.11281268381519279,
          -1.1504102405112058,
          -0.050574871926182784,
          0.6018645063084697,
          -1.4510472945569854,
          -0.21392389795359612,
          0.9380171050066473,
          -0.09438742292598681,
          -0.07053906033576715,
          2.2285687724394343,
          0.19845839839579424,
          1.2131263496243834,
          1.1792006659868235,
          -0.7568736002213788,
          -1.32459048528407,
          -0.6129471634329756,
          -0.4709172661057217,
          -0.7285462902748785,
          -0.25955121913034657,
          0.1555555496229885,
          -1.0067734814821243,
          1.4876681778759002,
          -0.19585676804199598,
          -1.3051812203656723,
          -0.7121109427231624,
          1.4370077967986707,
          0.4538113012220596,
          0.32118719474111324,
          1.9306937024550697,
          -1.0000186636360553,
          1.3538998887923899,
          1.0254565059989138,
          -0.6070225790196295,
          1.7505222400386586,
          1.7797158783195268,
          0.17570637331592434,
          0.1301137572005141,
          -0.4213331565359732,
          0.2879440028531558,
          2.138360358957446,
          1.0890958981482772,
          -0.26490401714714534,
          0.027728903643897698,
          0.40479261158660584,
          0.9083928456027764,
          -0.5899242333379505,
          -0.8616710639476087,
          1.235011144214475,
          1.2773603111730898,
          0.1646548821502208,
          0.19239963499647977,
          -1.3887769224713287,
          0.03482195209693308,
          1.5745439863348998,
          -0.6366925872900931,
          -0.41589432971818063,
          0.3427910975984431,
          0.8366529944437844,
          0.34780611914933296,
          -1.4700076557867081,
          0.38964290131019585,
          -0.7884288396387822,
          -0.9056465667023024,
          0.3399186743690349,
          -0.6477575326386299,
          1.5680595200598508,
          2.269928998581372,
          -1.0404746060192802,
          0.5237456598895535,
          0.9448421163357893
         ],
         "xaxis": "x",
         "yaxis": "y"
        },
        {
         "line": {
          "color": "rgba(128, 128, 128, 1.0)",
          "dash": "solid",
          "shape": "linear",
          "width": 1.3
         },
         "marker": {
          "size": 2,
          "symbol": "circle"
         },
         "mode": "markers",
         "name": "A",
         "text": "",
         "type": "scatter",
         "x": [
          -0.6370662306345296,
          -0.18779479970184382,
          -0.933271565970044,
          0.9212074612281883,
          0.8936514161808388,
          0.8342227138476731,
          0.8587196320328144,
          0.22881724899518655,
          -0.9180773570599018,
          -0.45142786836483606,
          -0.22248070393362662,
          0.44917113276718723,
          -0.5973156191937276,
          2.1898876198884047,
          -0.4902326025541706,
          -2.018799695983331,
          -1.3633094063854794,
          0.722171910193369,
          1.398112707247513,
          -0.08109011152174196,
          1.2230279514126137,
          -0.21409272975599575,
          0.38937698547166644,
          0.5838286529465544,
          0.8956700723977705,
          0.961281589148261,
          1.7492867643302497,
          -2.0349038968514983,
          0.9622336412524589,
          -1.6031314870782933,
          0.06891589583313582,
          -0.34008733689357995,
          1.4904754639563247,
          -0.6838384992536902,
          0.6019227388150992,
          1.0744944375979761,
          -0.4426583612634076,
          -1.238007017870152,
          -0.23516809680023168,
          0.17849613576372855,
          -1.9737195066421716,
          0.7900923082368406,
          0.12618231219509693,
          -0.6881342409954447,
          1.0740609598702087,
          -2.2292758320157007,
          0.33792269970410865,
          -0.046717796304047564,
          -1.3299347008261175,
          -0.832872352576968,
          -0.02629450649372879,
          -1.3973378150364184,
          2.0597015168262067,
          0.7158707733517314,
          1.538355947800245,
          0.8200805455889011,
          0.06197608346940097,
          -0.30465938188471225,
          -2.791129597868393,
          -0.6640117629558614,
          -0.7395309222045003,
          -1.1692089459454784,
          1.077217332302895,
          -0.687746618866074,
          1.4691428404927873,
          0.8768833279459809,
          0.3599051799630393,
          -0.447137575412363,
          -0.41913677028305696,
          0.5464024743534294,
          0.4307296648098181,
          -1.8466600072649433,
          0.10608219598356404,
          -1.4511218468659515,
          0.4246996885645433,
          1.284557483121074,
          0.12055153420288005,
          1.1349369472971491,
          -0.08792505531674043,
          -1.2616820293829447,
          0.021585833373038835,
          0.433630805405162,
          -0.41834366420211727,
          -1.3449157042759814,
          0.7473410766559658,
          -1.879342304593012,
          0.28080103709289456,
          -0.5157429018677484,
          1.140210489380863,
          1.7292730109199856,
          -0.9166642240809446,
          0.7944208063936056,
          2.302665781556202,
          -1.157887088105418,
          -0.2936987293432595,
          0.18816450281699626,
          0.1508502062472272,
          0.3179360880392077,
          -0.4593359983942544,
          0.27511528779754385
         ],
         "xaxis": "x2",
         "y": [
          -1.3545048514202886,
          -0.27728378291500244,
          0.45496642739072185,
          -0.23107642156544375,
          0.3225381016251746,
          -1.0008187198265743,
          0.9845366396545454,
          -0.50321152657273,
          1.6157058505386503,
          -1.0755409628997235,
          -0.7266925458064639,
          -1.595502047740283,
          0.43015754731259187,
          -0.5023039509792152,
          1.1993891113951063,
          1.5027455883128777,
          -2.0111448778151333,
          0.27904655655280847,
          -0.36670722252928634,
          -1.045321731796316,
          0.10914045660460339,
          -0.6328966222259624,
          1.0225649219030128,
          0.23646366884558706,
          0.41548422719458417,
          -1.0976117676432184,
          -1.3390903914000774,
          -0.4528371511298527,
          -0.42733490165283505,
          0.5754120459853603,
          0.11281268381519279,
          -1.1504102405112058,
          -0.050574871926182784,
          0.6018645063084697,
          -1.4510472945569854,
          -0.21392389795359612,
          0.9380171050066473,
          -0.09438742292598681,
          -0.07053906033576715,
          2.2285687724394343,
          0.19845839839579424,
          1.2131263496243834,
          1.1792006659868235,
          -0.7568736002213788,
          -1.32459048528407,
          -0.6129471634329756,
          -0.4709172661057217,
          -0.7285462902748785,
          -0.25955121913034657,
          0.1555555496229885,
          -1.0067734814821243,
          1.4876681778759002,
          -0.19585676804199598,
          -1.3051812203656723,
          -0.7121109427231624,
          1.4370077967986707,
          0.4538113012220596,
          0.32118719474111324,
          1.9306937024550697,
          -1.0000186636360553,
          1.3538998887923899,
          1.0254565059989138,
          -0.6070225790196295,
          1.7505222400386586,
          1.7797158783195268,
          0.17570637331592434,
          0.1301137572005141,
          -0.4213331565359732,
          0.2879440028531558,
          2.138360358957446,
          1.0890958981482772,
          -0.26490401714714534,
          0.027728903643897698,
          0.40479261158660584,
          0.9083928456027764,
          -0.5899242333379505,
          -0.8616710639476087,
          1.235011144214475,
          1.2773603111730898,
          0.1646548821502208,
          0.19239963499647977,
          -1.3887769224713287,
          0.03482195209693308,
          1.5745439863348998,
          -0.6366925872900931,
          -0.41589432971818063,
          0.3427910975984431,
          0.8366529944437844,
          0.34780611914933296,
          -1.4700076557867081,
          0.38964290131019585,
          -0.7884288396387822,
          -0.9056465667023024,
          0.3399186743690349,
          -0.6477575326386299,
          1.5680595200598508,
          2.269928998581372,
          -1.0404746060192802,
          0.5237456598895535,
          0.9448421163357893
         ],
         "yaxis": "y2"
        },
        {
         "line": {
          "color": "rgba(128, 128, 128, 1.0)",
          "dash": "solid",
          "shape": "linear",
          "width": 1.3
         },
         "marker": {
          "size": 2,
          "symbol": "circle"
         },
         "mode": "markers",
         "name": "A",
         "text": "",
         "type": "scatter",
         "x": [
          0.17727501358339443,
          0.7675790892931331,
          0.7426482326518081,
          0.16995055619755647,
          1.090904635132639,
          0.09387287470099513,
          0.4897155859030093,
          -0.3526003989599885,
          -1.5020324196059973,
          0.8568780172449583,
          1.1888527393378387,
          0.37337033645810563,
          -0.2843089155105719,
          -0.08903682859573299,
          0.659290481180818,
          -0.5702964489673472,
          0.20824190146825128,
          1.477544182228884,
          -2.2663861673596104,
          -0.918190628510219,
          0.9815430754475645,
          1.1963795048605528,
          -0.582471383118007,
          -0.43065020158821765,
          0.7292356248529095,
          -1.1126783561463256,
          -1.0737857923404885,
          1.1249641509208888,
          -1.177887298697572,
          -0.6421378823244043,
          0.36525819243608904,
          -0.8231168304200789,
          -0.15124396419267142,
          -1.059510922713966,
          0.4228394732232688,
          -1.6407190498232147,
          -0.11658503414311217,
          1.1847342796026734,
          1.7603820071727325,
          -1.0323223414552383,
          1.5241292355361828,
          -0.47167319631113175,
          0.41771472595017,
          -0.44257990041265177,
          -0.4457218004962936,
          -1.05606129272087,
          -0.6475117870595651,
          -0.1427949440036624,
          -0.084971064125444,
          -2.031346651843206,
          -1.3417316367420749,
          -0.8436810558824752,
          1.429751141931643,
          0.3073707295814666,
          1.2573071374952731,
          2.5304800624870674,
          -0.6472367543926753,
          1.43746648182174,
          0.3592379585375508,
          0.7179964889696346,
          -0.2634886822238987,
          0.22643012552675823,
          -0.3671468396701537,
          -1.9895520059061513,
          -0.7386934319014247,
          -0.5217806582087279,
          -0.7638054628786506,
          -0.6895070591300198,
          -1.60460561706749,
          0.9729484503670851,
          -1.3479986977665346,
          -0.6281809491935955,
          -0.7965079474327273,
          0.8411742348925145,
          1.613602523630258,
          -0.041787801903583915,
          0.6689088866173973,
          0.1263923177465286,
          -0.08421704177805359,
          -0.26850295575609995,
          -1.2121044098271738,
          -0.6236327447212068,
          0.5342625395512093,
          -0.022718493882598063,
          -0.06121209654978588,
          0.7842935269257469,
          -1.0318400097854954,
          1.1396452886065107,
          2.151607990246248,
          -0.7585179535047096,
          0.06889444726973967,
          0.6813644279190719,
          0.07260826563691085,
          0.5878992331877385,
          0.9942375387594256,
          -0.5811488124902294,
          0.9761751366879855,
          1.4695906294141075,
          0.208004152843283,
          2.549353450852832
         ],
         "xaxis": "x3",
         "y": [
          -1.3545048514202886,
          -0.27728378291500244,
          0.45496642739072185,
          -0.23107642156544375,
          0.3225381016251746,
          -1.0008187198265743,
          0.9845366396545454,
          -0.50321152657273,
          1.6157058505386503,
          -1.0755409628997235,
          -0.7266925458064639,
          -1.595502047740283,
          0.43015754731259187,
          -0.5023039509792152,
          1.1993891113951063,
          1.5027455883128777,
          -2.0111448778151333,
          0.27904655655280847,
          -0.36670722252928634,
          -1.045321731796316,
          0.10914045660460339,
          -0.6328966222259624,
          1.0225649219030128,
          0.23646366884558706,
          0.41548422719458417,
          -1.0976117676432184,
          -1.3390903914000774,
          -0.4528371511298527,
          -0.42733490165283505,
          0.5754120459853603,
          0.11281268381519279,
          -1.1504102405112058,
          -0.050574871926182784,
          0.6018645063084697,
          -1.4510472945569854,
          -0.21392389795359612,
          0.9380171050066473,
          -0.09438742292598681,
          -0.07053906033576715,
          2.2285687724394343,
          0.19845839839579424,
          1.2131263496243834,
          1.1792006659868235,
          -0.7568736002213788,
          -1.32459048528407,
          -0.6129471634329756,
          -0.4709172661057217,
          -0.7285462902748785,
          -0.25955121913034657,
          0.1555555496229885,
          -1.0067734814821243,
          1.4876681778759002,
          -0.19585676804199598,
          -1.3051812203656723,
          -0.7121109427231624,
          1.4370077967986707,
          0.4538113012220596,
          0.32118719474111324,
          1.9306937024550697,
          -1.0000186636360553,
          1.3538998887923899,
          1.0254565059989138,
          -0.6070225790196295,
          1.7505222400386586,
          1.7797158783195268,
          0.17570637331592434,
          0.1301137572005141,
          -0.4213331565359732,
          0.2879440028531558,
          2.138360358957446,
          1.0890958981482772,
          -0.26490401714714534,
          0.027728903643897698,
          0.40479261158660584,
          0.9083928456027764,
          -0.5899242333379505,
          -0.8616710639476087,
          1.235011144214475,
          1.2773603111730898,
          0.1646548821502208,
          0.19239963499647977,
          -1.3887769224713287,
          0.03482195209693308,
          1.5745439863348998,
          -0.6366925872900931,
          -0.41589432971818063,
          0.3427910975984431,
          0.8366529944437844,
          0.34780611914933296,
          -1.4700076557867081,
          0.38964290131019585,
          -0.7884288396387822,
          -0.9056465667023024,
          0.3399186743690349,
          -0.6477575326386299,
          1.5680595200598508,
          2.269928998581372,
          -1.0404746060192802,
          0.5237456598895535,
          0.9448421163357893
         ],
         "yaxis": "y3"
        },
        {
         "line": {
          "color": "rgba(128, 128, 128, 1.0)",
          "dash": "solid",
          "shape": "linear",
          "width": 1.3
         },
         "marker": {
          "size": 2,
          "symbol": "circle"
         },
         "mode": "markers",
         "name": "A",
         "text": "",
         "type": "scatter",
         "x": [
          1.4161269150082703,
          0.9099418545481454,
          -0.1520745902746288,
          -0.6157190447998693,
          0.23501709874065518,
          -0.08954496598170626,
          -1.1069220366777928,
          0.25546001939489116,
          1.123799547148625,
          -0.8427001303265524,
          -0.26936950688912814,
          0.6547787616846491,
          1.4079452260160858,
          -0.14159372719106786,
          1.463574108538233,
          0.30180653498512977,
          0.40996895881869916,
          -0.946143024850983,
          -0.6546722170665688,
          -0.8993130183111181,
          0.6350782269236444,
          1.3953119495101083,
          1.0838071028492255,
          0.8190850242746013,
          -0.7354835095964742,
          -0.008751000129040488,
          -1.4193479974669696,
          0.47861242828808254,
          -0.34913108616056626,
          1.2921485127366013,
          -1.5619203416202032,
          0.4185495336224118,
          2.5059538347855113,
          0.6806423555903528,
          -1.239722282909275,
          0.0027770038867789915,
          -1.2537859007482053,
          0.5298119911939558,
          -1.4569067757208616,
          0.0824867493121816,
          0.06026685610114835,
          -0.7378289996369067,
          0.221919332661049,
          -0.6984265965452328,
          -0.021345969455511298,
          -1.34169281577497,
          0.46093268999588155,
          -0.9878087568125531,
          0.6867087397846777,
          -1.5411316351648023,
          -1.4089701824411427,
          -1.2719090244721443,
          0.916052527276419,
          1.3280183024638061,
          -0.6881957682497584,
          -1.2581706095260712,
          0.4630271601922367,
          -1.0729861460506882,
          -1.8381937323069328,
          -0.32047346022717405,
          0.42593363105180476,
          0.8953812215371134,
          -0.6748231944099274,
          -1.8253583523000774,
          -0.5858419215157434,
          -0.9397708953133883,
          0.8396045753762226,
          -0.6237812963270523,
          0.29618974815684046,
          2.3920364170055954,
          3.2378305047808826,
          0.10932445828346436,
          2.9838926343686523,
          -0.4795835975537721,
          0.44292234405466624,
          2.1595304525086676,
          1.226050593080821,
          -1.612867475051631,
          -0.30812150700596197,
          -1.117804382940929,
          0.04619313208996349,
          -0.23434867295184955,
          -0.19147674398434888,
          -0.14776082711117045,
          -1.4186091957625286,
          -2.178284783117934,
          -0.6829236779712234,
          -0.051276625025758506,
          1.5081177227260016,
          0.6536599137486626,
          0.0028700408535427056,
          -0.4230631530286068,
          0.006696983399884731,
          -1.8938149909057822,
          0.9022364206146153,
          -0.5796345846331413,
          -0.29308018746907694,
          0.8282614923522763,
          0.5582747600276524,
          0.13813326582956842
         ],
         "xaxis": "x4",
         "y": [
          -1.3545048514202886,
          -0.27728378291500244,
          0.45496642739072185,
          -0.23107642156544375,
          0.3225381016251746,
          -1.0008187198265743,
          0.9845366396545454,
          -0.50321152657273,
          1.6157058505386503,
          -1.0755409628997235,
          -0.7266925458064639,
          -1.595502047740283,
          0.43015754731259187,
          -0.5023039509792152,
          1.1993891113951063,
          1.5027455883128777,
          -2.0111448778151333,
          0.27904655655280847,
          -0.36670722252928634,
          -1.045321731796316,
          0.10914045660460339,
          -0.6328966222259624,
          1.0225649219030128,
          0.23646366884558706,
          0.41548422719458417,
          -1.0976117676432184,
          -1.3390903914000774,
          -0.4528371511298527,
          -0.42733490165283505,
          0.5754120459853603,
          0.11281268381519279,
          -1.1504102405112058,
          -0.050574871926182784,
          0.6018645063084697,
          -1.4510472945569854,
          -0.21392389795359612,
          0.9380171050066473,
          -0.09438742292598681,
          -0.07053906033576715,
          2.2285687724394343,
          0.19845839839579424,
          1.2131263496243834,
          1.1792006659868235,
          -0.7568736002213788,
          -1.32459048528407,
          -0.6129471634329756,
          -0.4709172661057217,
          -0.7285462902748785,
          -0.25955121913034657,
          0.1555555496229885,
          -1.0067734814821243,
          1.4876681778759002,
          -0.19585676804199598,
          -1.3051812203656723,
          -0.7121109427231624,
          1.4370077967986707,
          0.4538113012220596,
          0.32118719474111324,
          1.9306937024550697,
          -1.0000186636360553,
          1.3538998887923899,
          1.0254565059989138,
          -0.6070225790196295,
          1.7505222400386586,
          1.7797158783195268,
          0.17570637331592434,
          0.1301137572005141,
          -0.4213331565359732,
          0.2879440028531558,
          2.138360358957446,
          1.0890958981482772,
          -0.26490401714714534,
          0.027728903643897698,
          0.40479261158660584,
          0.9083928456027764,
          -0.5899242333379505,
          -0.8616710639476087,
          1.235011144214475,
          1.2773603111730898,
          0.1646548821502208,
          0.19239963499647977,
          -1.3887769224713287,
          0.03482195209693308,
          1.5745439863348998,
          -0.6366925872900931,
          -0.41589432971818063,
          0.3427910975984431,
          0.8366529944437844,
          0.34780611914933296,
          -1.4700076557867081,
          0.38964290131019585,
          -0.7884288396387822,
          -0.9056465667023024,
          0.3399186743690349,
          -0.6477575326386299,
          1.5680595200598508,
          2.269928998581372,
          -1.0404746060192802,
          0.5237456598895535,
          0.9448421163357893
         ],
         "yaxis": "y4"
        },
        {
         "line": {
          "color": "rgba(128, 128, 128, 1.0)",
          "dash": "solid",
          "shape": "linear",
          "width": 1.3
         },
         "marker": {
          "size": 2,
          "symbol": "circle"
         },
         "mode": "markers",
         "name": "B",
         "text": "",
         "type": "scatter",
         "x": [
          -1.3545048514202886,
          -0.27728378291500244,
          0.45496642739072185,
          -0.23107642156544375,
          0.3225381016251746,
          -1.0008187198265743,
          0.9845366396545454,
          -0.50321152657273,
          1.6157058505386503,
          -1.0755409628997235,
          -0.7266925458064639,
          -1.595502047740283,
          0.43015754731259187,
          -0.5023039509792152,
          1.1993891113951063,
          1.5027455883128777,
          -2.0111448778151333,
          0.27904655655280847,
          -0.36670722252928634,
          -1.045321731796316,
          0.10914045660460339,
          -0.6328966222259624,
          1.0225649219030128,
          0.23646366884558706,
          0.41548422719458417,
          -1.0976117676432184,
          -1.3390903914000774,
          -0.4528371511298527,
          -0.42733490165283505,
          0.5754120459853603,
          0.11281268381519279,
          -1.1504102405112058,
          -0.050574871926182784,
          0.6018645063084697,
          -1.4510472945569854,
          -0.21392389795359612,
          0.9380171050066473,
          -0.09438742292598681,
          -0.07053906033576715,
          2.2285687724394343,
          0.19845839839579424,
          1.2131263496243834,
          1.1792006659868235,
          -0.7568736002213788,
          -1.32459048528407,
          -0.6129471634329756,
          -0.4709172661057217,
          -0.7285462902748785,
          -0.25955121913034657,
          0.1555555496229885,
          -1.0067734814821243,
          1.4876681778759002,
          -0.19585676804199598,
          -1.3051812203656723,
          -0.7121109427231624,
          1.4370077967986707,
          0.4538113012220596,
          0.32118719474111324,
          1.9306937024550697,
          -1.0000186636360553,
          1.3538998887923899,
          1.0254565059989138,
          -0.6070225790196295,
          1.7505222400386586,
          1.7797158783195268,
          0.17570637331592434,
          0.1301137572005141,
          -0.4213331565359732,
          0.2879440028531558,
          2.138360358957446,
          1.0890958981482772,
          -0.26490401714714534,
          0.027728903643897698,
          0.40479261158660584,
          0.9083928456027764,
          -0.5899242333379505,
          -0.8616710639476087,
          1.235011144214475,
          1.2773603111730898,
          0.1646548821502208,
          0.19239963499647977,
          -1.3887769224713287,
          0.03482195209693308,
          1.5745439863348998,
          -0.6366925872900931,
          -0.41589432971818063,
          0.3427910975984431,
          0.8366529944437844,
          0.34780611914933296,
          -1.4700076557867081,
          0.38964290131019585,
          -0.7884288396387822,
          -0.9056465667023024,
          0.3399186743690349,
          -0.6477575326386299,
          1.5680595200598508,
          2.269928998581372,
          -1.0404746060192802,
          0.5237456598895535,
          0.9448421163357893
         ],
         "xaxis": "x5",
         "y": [
          -0.6370662306345296,
          -0.18779479970184382,
          -0.933271565970044,
          0.9212074612281883,
          0.8936514161808388,
          0.8342227138476731,
          0.8587196320328144,
          0.22881724899518655,
          -0.9180773570599018,
          -0.45142786836483606,
          -0.22248070393362662,
          0.44917113276718723,
          -0.5973156191937276,
          2.1898876198884047,
          -0.4902326025541706,
          -2.018799695983331,
          -1.3633094063854794,
          0.722171910193369,
          1.398112707247513,
          -0.08109011152174196,
          1.2230279514126137,
          -0.21409272975599575,
          0.38937698547166644,
          0.5838286529465544,
          0.8956700723977705,
          0.961281589148261,
          1.7492867643302497,
          -2.0349038968514983,
          0.9622336412524589,
          -1.6031314870782933,
          0.06891589583313582,
          -0.34008733689357995,
          1.4904754639563247,
          -0.6838384992536902,
          0.6019227388150992,
          1.0744944375979761,
          -0.4426583612634076,
          -1.238007017870152,
          -0.23516809680023168,
          0.17849613576372855,
          -1.9737195066421716,
          0.7900923082368406,
          0.12618231219509693,
          -0.6881342409954447,
          1.0740609598702087,
          -2.2292758320157007,
          0.33792269970410865,
          -0.046717796304047564,
          -1.3299347008261175,
          -0.832872352576968,
          -0.02629450649372879,
          -1.3973378150364184,
          2.0597015168262067,
          0.7158707733517314,
          1.538355947800245,
          0.8200805455889011,
          0.06197608346940097,
          -0.30465938188471225,
          -2.791129597868393,
          -0.6640117629558614,
          -0.7395309222045003,
          -1.1692089459454784,
          1.077217332302895,
          -0.687746618866074,
          1.4691428404927873,
          0.8768833279459809,
          0.3599051799630393,
          -0.447137575412363,
          -0.41913677028305696,
          0.5464024743534294,
          0.4307296648098181,
          -1.8466600072649433,
          0.10608219598356404,
          -1.4511218468659515,
          0.4246996885645433,
          1.284557483121074,
          0.12055153420288005,
          1.1349369472971491,
          -0.08792505531674043,
          -1.2616820293829447,
          0.021585833373038835,
          0.433630805405162,
          -0.41834366420211727,
          -1.3449157042759814,
          0.7473410766559658,
          -1.879342304593012,
          0.28080103709289456,
          -0.5157429018677484,
          1.140210489380863,
          1.7292730109199856,
          -0.9166642240809446,
          0.7944208063936056,
          2.302665781556202,
          -1.157887088105418,
          -0.2936987293432595,
          0.18816450281699626,
          0.1508502062472272,
          0.3179360880392077,
          -0.4593359983942544,
          0.27511528779754385
         ],
         "yaxis": "y5"
        },
        {
         "histfunc": "count",
         "histnorm": "",
         "marker": {
          "color": "rgba(55, 128, 191, 1.0)",
          "line": {
           "color": "#4D5663",
           "width": 1.3
          }
         },
         "name": "B",
         "nbinsx": 10,
         "opacity": 0.8,
         "orientation": "v",
         "type": "histogram",
         "x": [
          -0.6370662306345296,
          -0.18779479970184382,
          -0.933271565970044,
          0.9212074612281883,
          0.8936514161808388,
          0.8342227138476731,
          0.8587196320328144,
          0.22881724899518655,
          -0.9180773570599018,
          -0.45142786836483606,
          -0.22248070393362662,
          0.44917113276718723,
          -0.5973156191937276,
          2.1898876198884047,
          -0.4902326025541706,
          -2.018799695983331,
          -1.3633094063854794,
          0.722171910193369,
          1.398112707247513,
          -0.08109011152174196,
          1.2230279514126137,
          -0.21409272975599575,
          0.38937698547166644,
          0.5838286529465544,
          0.8956700723977705,
          0.961281589148261,
          1.7492867643302497,
          -2.0349038968514983,
          0.9622336412524589,
          -1.6031314870782933,
          0.06891589583313582,
          -0.34008733689357995,
          1.4904754639563247,
          -0.6838384992536902,
          0.6019227388150992,
          1.0744944375979761,
          -0.4426583612634076,
          -1.238007017870152,
          -0.23516809680023168,
          0.17849613576372855,
          -1.9737195066421716,
          0.7900923082368406,
          0.12618231219509693,
          -0.6881342409954447,
          1.0740609598702087,
          -2.2292758320157007,
          0.33792269970410865,
          -0.046717796304047564,
          -1.3299347008261175,
          -0.832872352576968,
          -0.02629450649372879,
          -1.3973378150364184,
          2.0597015168262067,
          0.7158707733517314,
          1.538355947800245,
          0.8200805455889011,
          0.06197608346940097,
          -0.30465938188471225,
          -2.791129597868393,
          -0.6640117629558614,
          -0.7395309222045003,
          -1.1692089459454784,
          1.077217332302895,
          -0.687746618866074,
          1.4691428404927873,
          0.8768833279459809,
          0.3599051799630393,
          -0.447137575412363,
          -0.41913677028305696,
          0.5464024743534294,
          0.4307296648098181,
          -1.8466600072649433,
          0.10608219598356404,
          -1.4511218468659515,
          0.4246996885645433,
          1.284557483121074,
          0.12055153420288005,
          1.1349369472971491,
          -0.08792505531674043,
          -1.2616820293829447,
          0.021585833373038835,
          0.433630805405162,
          -0.41834366420211727,
          -1.3449157042759814,
          0.7473410766559658,
          -1.879342304593012,
          0.28080103709289456,
          -0.5157429018677484,
          1.140210489380863,
          1.7292730109199856,
          -0.9166642240809446,
          0.7944208063936056,
          2.302665781556202,
          -1.157887088105418,
          -0.2936987293432595,
          0.18816450281699626,
          0.1508502062472272,
          0.3179360880392077,
          -0.4593359983942544,
          0.27511528779754385
         ],
         "xaxis": "x6",
         "yaxis": "y6"
        },
        {
         "line": {
          "color": "rgba(128, 128, 128, 1.0)",
          "dash": "solid",
          "shape": "linear",
          "width": 1.3
         },
         "marker": {
          "size": 2,
          "symbol": "circle"
         },
         "mode": "markers",
         "name": "B",
         "text": "",
         "type": "scatter",
         "x": [
          0.17727501358339443,
          0.7675790892931331,
          0.7426482326518081,
          0.16995055619755647,
          1.090904635132639,
          0.09387287470099513,
          0.4897155859030093,
          -0.3526003989599885,
          -1.5020324196059973,
          0.8568780172449583,
          1.1888527393378387,
          0.37337033645810563,
          -0.2843089155105719,
          -0.08903682859573299,
          0.659290481180818,
          -0.5702964489673472,
          0.20824190146825128,
          1.477544182228884,
          -2.2663861673596104,
          -0.918190628510219,
          0.9815430754475645,
          1.1963795048605528,
          -0.582471383118007,
          -0.43065020158821765,
          0.7292356248529095,
          -1.1126783561463256,
          -1.0737857923404885,
          1.1249641509208888,
          -1.177887298697572,
          -0.6421378823244043,
          0.36525819243608904,
          -0.8231168304200789,
          -0.15124396419267142,
          -1.059510922713966,
          0.4228394732232688,
          -1.6407190498232147,
          -0.11658503414311217,
          1.1847342796026734,
          1.7603820071727325,
          -1.0323223414552383,
          1.5241292355361828,
          -0.47167319631113175,
          0.41771472595017,
          -0.44257990041265177,
          -0.4457218004962936,
          -1.05606129272087,
          -0.6475117870595651,
          -0.1427949440036624,
          -0.084971064125444,
          -2.031346651843206,
          -1.3417316367420749,
          -0.8436810558824752,
          1.429751141931643,
          0.3073707295814666,
          1.2573071374952731,
          2.5304800624870674,
          -0.6472367543926753,
          1.43746648182174,
          0.3592379585375508,
          0.7179964889696346,
          -0.2634886822238987,
          0.22643012552675823,
          -0.3671468396701537,
          -1.9895520059061513,
          -0.7386934319014247,
          -0.5217806582087279,
          -0.7638054628786506,
          -0.6895070591300198,
          -1.60460561706749,
          0.9729484503670851,
          -1.3479986977665346,
          -0.6281809491935955,
          -0.7965079474327273,
          0.8411742348925145,
          1.613602523630258,
          -0.041787801903583915,
          0.6689088866173973,
          0.1263923177465286,
          -0.08421704177805359,
          -0.26850295575609995,
          -1.2121044098271738,
          -0.6236327447212068,
          0.5342625395512093,
          -0.022718493882598063,
          -0.06121209654978588,
          0.7842935269257469,
          -1.0318400097854954,
          1.1396452886065107,
          2.151607990246248,
          -0.7585179535047096,
          0.06889444726973967,
          0.6813644279190719,
          0.07260826563691085,
          0.5878992331877385,
          0.9942375387594256,
          -0.5811488124902294,
          0.9761751366879855,
          1.4695906294141075,
          0.208004152843283,
          2.549353450852832
         ],
         "xaxis": "x7",
         "y": [
          -0.6370662306345296,
          -0.18779479970184382,
          -0.933271565970044,
          0.9212074612281883,
          0.8936514161808388,
          0.8342227138476731,
          0.8587196320328144,
          0.22881724899518655,
          -0.9180773570599018,
          -0.45142786836483606,
          -0.22248070393362662,
          0.44917113276718723,
          -0.5973156191937276,
          2.1898876198884047,
          -0.4902326025541706,
          -2.018799695983331,
          -1.3633094063854794,
          0.722171910193369,
          1.398112707247513,
          -0.08109011152174196,
          1.2230279514126137,
          -0.21409272975599575,
          0.38937698547166644,
          0.5838286529465544,
          0.8956700723977705,
          0.961281589148261,
          1.7492867643302497,
          -2.0349038968514983,
          0.9622336412524589,
          -1.6031314870782933,
          0.06891589583313582,
          -0.34008733689357995,
          1.4904754639563247,
          -0.6838384992536902,
          0.6019227388150992,
          1.0744944375979761,
          -0.4426583612634076,
          -1.238007017870152,
          -0.23516809680023168,
          0.17849613576372855,
          -1.9737195066421716,
          0.7900923082368406,
          0.12618231219509693,
          -0.6881342409954447,
          1.0740609598702087,
          -2.2292758320157007,
          0.33792269970410865,
          -0.046717796304047564,
          -1.3299347008261175,
          -0.832872352576968,
          -0.02629450649372879,
          -1.3973378150364184,
          2.0597015168262067,
          0.7158707733517314,
          1.538355947800245,
          0.8200805455889011,
          0.06197608346940097,
          -0.30465938188471225,
          -2.791129597868393,
          -0.6640117629558614,
          -0.7395309222045003,
          -1.1692089459454784,
          1.077217332302895,
          -0.687746618866074,
          1.4691428404927873,
          0.8768833279459809,
          0.3599051799630393,
          -0.447137575412363,
          -0.41913677028305696,
          0.5464024743534294,
          0.4307296648098181,
          -1.8466600072649433,
          0.10608219598356404,
          -1.4511218468659515,
          0.4246996885645433,
          1.284557483121074,
          0.12055153420288005,
          1.1349369472971491,
          -0.08792505531674043,
          -1.2616820293829447,
          0.021585833373038835,
          0.433630805405162,
          -0.41834366420211727,
          -1.3449157042759814,
          0.7473410766559658,
          -1.879342304593012,
          0.28080103709289456,
          -0.5157429018677484,
          1.140210489380863,
          1.7292730109199856,
          -0.9166642240809446,
          0.7944208063936056,
          2.302665781556202,
          -1.157887088105418,
          -0.2936987293432595,
          0.18816450281699626,
          0.1508502062472272,
          0.3179360880392077,
          -0.4593359983942544,
          0.27511528779754385
         ],
         "yaxis": "y7"
        },
        {
         "line": {
          "color": "rgba(128, 128, 128, 1.0)",
          "dash": "solid",
          "shape": "linear",
          "width": 1.3
         },
         "marker": {
          "size": 2,
          "symbol": "circle"
         },
         "mode": "markers",
         "name": "B",
         "text": "",
         "type": "scatter",
         "x": [
          1.4161269150082703,
          0.9099418545481454,
          -0.1520745902746288,
          -0.6157190447998693,
          0.23501709874065518,
          -0.08954496598170626,
          -1.1069220366777928,
          0.25546001939489116,
          1.123799547148625,
          -0.8427001303265524,
          -0.26936950688912814,
          0.6547787616846491,
          1.4079452260160858,
          -0.14159372719106786,
          1.463574108538233,
          0.30180653498512977,
          0.40996895881869916,
          -0.946143024850983,
          -0.6546722170665688,
          -0.8993130183111181,
          0.6350782269236444,
          1.3953119495101083,
          1.0838071028492255,
          0.8190850242746013,
          -0.7354835095964742,
          -0.008751000129040488,
          -1.4193479974669696,
          0.47861242828808254,
          -0.34913108616056626,
          1.2921485127366013,
          -1.5619203416202032,
          0.4185495336224118,
          2.5059538347855113,
          0.6806423555903528,
          -1.239722282909275,
          0.0027770038867789915,
          -1.2537859007482053,
          0.5298119911939558,
          -1.4569067757208616,
          0.0824867493121816,
          0.06026685610114835,
          -0.7378289996369067,
          0.221919332661049,
          -0.6984265965452328,
          -0.021345969455511298,
          -1.34169281577497,
          0.46093268999588155,
          -0.9878087568125531,
          0.6867087397846777,
          -1.5411316351648023,
          -1.4089701824411427,
          -1.2719090244721443,
          0.916052527276419,
          1.3280183024638061,
          -0.6881957682497584,
          -1.2581706095260712,
          0.4630271601922367,
          -1.0729861460506882,
          -1.8381937323069328,
          -0.32047346022717405,
          0.42593363105180476,
          0.8953812215371134,
          -0.6748231944099274,
          -1.8253583523000774,
          -0.5858419215157434,
          -0.9397708953133883,
          0.8396045753762226,
          -0.6237812963270523,
          0.29618974815684046,
          2.3920364170055954,
          3.2378305047808826,
          0.10932445828346436,
          2.9838926343686523,
          -0.4795835975537721,
          0.44292234405466624,
          2.1595304525086676,
          1.226050593080821,
          -1.612867475051631,
          -0.30812150700596197,
          -1.117804382940929,
          0.04619313208996349,
          -0.23434867295184955,
          -0.19147674398434888,
          -0.14776082711117045,
          -1.4186091957625286,
          -2.178284783117934,
          -0.6829236779712234,
          -0.051276625025758506,
          1.5081177227260016,
          0.6536599137486626,
          0.0028700408535427056,
          -0.4230631530286068,
          0.006696983399884731,
          -1.8938149909057822,
          0.9022364206146153,
          -0.5796345846331413,
          -0.29308018746907694,
          0.8282614923522763,
          0.5582747600276524,
          0.13813326582956842
         ],
         "xaxis": "x8",
         "y": [
          -0.6370662306345296,
          -0.18779479970184382,
          -0.933271565970044,
          0.9212074612281883,
          0.8936514161808388,
          0.8342227138476731,
          0.8587196320328144,
          0.22881724899518655,
          -0.9180773570599018,
          -0.45142786836483606,
          -0.22248070393362662,
          0.44917113276718723,
          -0.5973156191937276,
          2.1898876198884047,
          -0.4902326025541706,
          -2.018799695983331,
          -1.3633094063854794,
          0.722171910193369,
          1.398112707247513,
          -0.08109011152174196,
          1.2230279514126137,
          -0.21409272975599575,
          0.38937698547166644,
          0.5838286529465544,
          0.8956700723977705,
          0.961281589148261,
          1.7492867643302497,
          -2.0349038968514983,
          0.9622336412524589,
          -1.6031314870782933,
          0.06891589583313582,
          -0.34008733689357995,
          1.4904754639563247,
          -0.6838384992536902,
          0.6019227388150992,
          1.0744944375979761,
          -0.4426583612634076,
          -1.238007017870152,
          -0.23516809680023168,
          0.17849613576372855,
          -1.9737195066421716,
          0.7900923082368406,
          0.12618231219509693,
          -0.6881342409954447,
          1.0740609598702087,
          -2.2292758320157007,
          0.33792269970410865,
          -0.046717796304047564,
          -1.3299347008261175,
          -0.832872352576968,
          -0.02629450649372879,
          -1.3973378150364184,
          2.0597015168262067,
          0.7158707733517314,
          1.538355947800245,
          0.8200805455889011,
          0.06197608346940097,
          -0.30465938188471225,
          -2.791129597868393,
          -0.6640117629558614,
          -0.7395309222045003,
          -1.1692089459454784,
          1.077217332302895,
          -0.687746618866074,
          1.4691428404927873,
          0.8768833279459809,
          0.3599051799630393,
          -0.447137575412363,
          -0.41913677028305696,
          0.5464024743534294,
          0.4307296648098181,
          -1.8466600072649433,
          0.10608219598356404,
          -1.4511218468659515,
          0.4246996885645433,
          1.284557483121074,
          0.12055153420288005,
          1.1349369472971491,
          -0.08792505531674043,
          -1.2616820293829447,
          0.021585833373038835,
          0.433630805405162,
          -0.41834366420211727,
          -1.3449157042759814,
          0.7473410766559658,
          -1.879342304593012,
          0.28080103709289456,
          -0.5157429018677484,
          1.140210489380863,
          1.7292730109199856,
          -0.9166642240809446,
          0.7944208063936056,
          2.302665781556202,
          -1.157887088105418,
          -0.2936987293432595,
          0.18816450281699626,
          0.1508502062472272,
          0.3179360880392077,
          -0.4593359983942544,
          0.27511528779754385
         ],
         "yaxis": "y8"
        },
        {
         "line": {
          "color": "rgba(128, 128, 128, 1.0)",
          "dash": "solid",
          "shape": "linear",
          "width": 1.3
         },
         "marker": {
          "size": 2,
          "symbol": "circle"
         },
         "mode": "markers",
         "name": "C",
         "text": "",
         "type": "scatter",
         "x": [
          -1.3545048514202886,
          -0.27728378291500244,
          0.45496642739072185,
          -0.23107642156544375,
          0.3225381016251746,
          -1.0008187198265743,
          0.9845366396545454,
          -0.50321152657273,
          1.6157058505386503,
          -1.0755409628997235,
          -0.7266925458064639,
          -1.595502047740283,
          0.43015754731259187,
          -0.5023039509792152,
          1.1993891113951063,
          1.5027455883128777,
          -2.0111448778151333,
          0.27904655655280847,
          -0.36670722252928634,
          -1.045321731796316,
          0.10914045660460339,
          -0.6328966222259624,
          1.0225649219030128,
          0.23646366884558706,
          0.41548422719458417,
          -1.0976117676432184,
          -1.3390903914000774,
          -0.4528371511298527,
          -0.42733490165283505,
          0.5754120459853603,
          0.11281268381519279,
          -1.1504102405112058,
          -0.050574871926182784,
          0.6018645063084697,
          -1.4510472945569854,
          -0.21392389795359612,
          0.9380171050066473,
          -0.09438742292598681,
          -0.07053906033576715,
          2.2285687724394343,
          0.19845839839579424,
          1.2131263496243834,
          1.1792006659868235,
          -0.7568736002213788,
          -1.32459048528407,
          -0.6129471634329756,
          -0.4709172661057217,
          -0.7285462902748785,
          -0.25955121913034657,
          0.1555555496229885,
          -1.0067734814821243,
          1.4876681778759002,
          -0.19585676804199598,
          -1.3051812203656723,
          -0.7121109427231624,
          1.4370077967986707,
          0.4538113012220596,
          0.32118719474111324,
          1.9306937024550697,
          -1.0000186636360553,
          1.3538998887923899,
          1.0254565059989138,
          -0.6070225790196295,
          1.7505222400386586,
          1.7797158783195268,
          0.17570637331592434,
          0.1301137572005141,
          -0.4213331565359732,
          0.2879440028531558,
          2.138360358957446,
          1.0890958981482772,
          -0.26490401714714534,
          0.027728903643897698,
          0.40479261158660584,
          0.9083928456027764,
          -0.5899242333379505,
          -0.8616710639476087,
          1.235011144214475,
          1.2773603111730898,
          0.1646548821502208,
          0.19239963499647977,
          -1.3887769224713287,
          0.03482195209693308,
          1.5745439863348998,
          -0.6366925872900931,
          -0.41589432971818063,
          0.3427910975984431,
          0.8366529944437844,
          0.34780611914933296,
          -1.4700076557867081,
          0.38964290131019585,
          -0.7884288396387822,
          -0.9056465667023024,
          0.3399186743690349,
          -0.6477575326386299,
          1.5680595200598508,
          2.269928998581372,
          -1.0404746060192802,
          0.5237456598895535,
          0.9448421163357893
         ],
         "xaxis": "x9",
         "y": [
          0.17727501358339443,
          0.7675790892931331,
          0.7426482326518081,
          0.16995055619755647,
          1.090904635132639,
          0.09387287470099513,
          0.4897155859030093,
          -0.3526003989599885,
          -1.5020324196059973,
          0.8568780172449583,
          1.1888527393378387,
          0.37337033645810563,
          -0.2843089155105719,
          -0.08903682859573299,
          0.659290481180818,
          -0.5702964489673472,
          0.20824190146825128,
          1.477544182228884,
          -2.2663861673596104,
          -0.918190628510219,
          0.9815430754475645,
          1.1963795048605528,
          -0.582471383118007,
          -0.43065020158821765,
          0.7292356248529095,
          -1.1126783561463256,
          -1.0737857923404885,
          1.1249641509208888,
          -1.177887298697572,
          -0.6421378823244043,
          0.36525819243608904,
          -0.8231168304200789,
          -0.15124396419267142,
          -1.059510922713966,
          0.4228394732232688,
          -1.6407190498232147,
          -0.11658503414311217,
          1.1847342796026734,
          1.7603820071727325,
          -1.0323223414552383,
          1.5241292355361828,
          -0.47167319631113175,
          0.41771472595017,
          -0.44257990041265177,
          -0.4457218004962936,
          -1.05606129272087,
          -0.6475117870595651,
          -0.1427949440036624,
          -0.084971064125444,
          -2.031346651843206,
          -1.3417316367420749,
          -0.8436810558824752,
          1.429751141931643,
          0.3073707295814666,
          1.2573071374952731,
          2.5304800624870674,
          -0.6472367543926753,
          1.43746648182174,
          0.3592379585375508,
          0.7179964889696346,
          -0.2634886822238987,
          0.22643012552675823,
          -0.3671468396701537,
          -1.9895520059061513,
          -0.7386934319014247,
          -0.5217806582087279,
          -0.7638054628786506,
          -0.6895070591300198,
          -1.60460561706749,
          0.9729484503670851,
          -1.3479986977665346,
          -0.6281809491935955,
          -0.7965079474327273,
          0.8411742348925145,
          1.613602523630258,
          -0.041787801903583915,
          0.6689088866173973,
          0.1263923177465286,
          -0.08421704177805359,
          -0.26850295575609995,
          -1.2121044098271738,
          -0.6236327447212068,
          0.5342625395512093,
          -0.022718493882598063,
          -0.06121209654978588,
          0.7842935269257469,
          -1.0318400097854954,
          1.1396452886065107,
          2.151607990246248,
          -0.7585179535047096,
          0.06889444726973967,
          0.6813644279190719,
          0.07260826563691085,
          0.5878992331877385,
          0.9942375387594256,
          -0.5811488124902294,
          0.9761751366879855,
          1.4695906294141075,
          0.208004152843283,
          2.549353450852832
         ],
         "yaxis": "y9"
        },
        {
         "line": {
          "color": "rgba(128, 128, 128, 1.0)",
          "dash": "solid",
          "shape": "linear",
          "width": 1.3
         },
         "marker": {
          "size": 2,
          "symbol": "circle"
         },
         "mode": "markers",
         "name": "C",
         "text": "",
         "type": "scatter",
         "x": [
          -0.6370662306345296,
          -0.18779479970184382,
          -0.933271565970044,
          0.9212074612281883,
          0.8936514161808388,
          0.8342227138476731,
          0.8587196320328144,
          0.22881724899518655,
          -0.9180773570599018,
          -0.45142786836483606,
          -0.22248070393362662,
          0.44917113276718723,
          -0.5973156191937276,
          2.1898876198884047,
          -0.4902326025541706,
          -2.018799695983331,
          -1.3633094063854794,
          0.722171910193369,
          1.398112707247513,
          -0.08109011152174196,
          1.2230279514126137,
          -0.21409272975599575,
          0.38937698547166644,
          0.5838286529465544,
          0.8956700723977705,
          0.961281589148261,
          1.7492867643302497,
          -2.0349038968514983,
          0.9622336412524589,
          -1.6031314870782933,
          0.06891589583313582,
          -0.34008733689357995,
          1.4904754639563247,
          -0.6838384992536902,
          0.6019227388150992,
          1.0744944375979761,
          -0.4426583612634076,
          -1.238007017870152,
          -0.23516809680023168,
          0.17849613576372855,
          -1.9737195066421716,
          0.7900923082368406,
          0.12618231219509693,
          -0.6881342409954447,
          1.0740609598702087,
          -2.2292758320157007,
          0.33792269970410865,
          -0.046717796304047564,
          -1.3299347008261175,
          -0.832872352576968,
          -0.02629450649372879,
          -1.3973378150364184,
          2.0597015168262067,
          0.7158707733517314,
          1.538355947800245,
          0.8200805455889011,
          0.06197608346940097,
          -0.30465938188471225,
          -2.791129597868393,
          -0.6640117629558614,
          -0.7395309222045003,
          -1.1692089459454784,
          1.077217332302895,
          -0.687746618866074,
          1.4691428404927873,
          0.8768833279459809,
          0.3599051799630393,
          -0.447137575412363,
          -0.41913677028305696,
          0.5464024743534294,
          0.4307296648098181,
          -1.8466600072649433,
          0.10608219598356404,
          -1.4511218468659515,
          0.4246996885645433,
          1.284557483121074,
          0.12055153420288005,
          1.1349369472971491,
          -0.08792505531674043,
          -1.2616820293829447,
          0.021585833373038835,
          0.433630805405162,
          -0.41834366420211727,
          -1.3449157042759814,
          0.7473410766559658,
          -1.879342304593012,
          0.28080103709289456,
          -0.5157429018677484,
          1.140210489380863,
          1.7292730109199856,
          -0.9166642240809446,
          0.7944208063936056,
          2.302665781556202,
          -1.157887088105418,
          -0.2936987293432595,
          0.18816450281699626,
          0.1508502062472272,
          0.3179360880392077,
          -0.4593359983942544,
          0.27511528779754385
         ],
         "xaxis": "x10",
         "y": [
          0.17727501358339443,
          0.7675790892931331,
          0.7426482326518081,
          0.16995055619755647,
          1.090904635132639,
          0.09387287470099513,
          0.4897155859030093,
          -0.3526003989599885,
          -1.5020324196059973,
          0.8568780172449583,
          1.1888527393378387,
          0.37337033645810563,
          -0.2843089155105719,
          -0.08903682859573299,
          0.659290481180818,
          -0.5702964489673472,
          0.20824190146825128,
          1.477544182228884,
          -2.2663861673596104,
          -0.918190628510219,
          0.9815430754475645,
          1.1963795048605528,
          -0.582471383118007,
          -0.43065020158821765,
          0.7292356248529095,
          -1.1126783561463256,
          -1.0737857923404885,
          1.1249641509208888,
          -1.177887298697572,
          -0.6421378823244043,
          0.36525819243608904,
          -0.8231168304200789,
          -0.15124396419267142,
          -1.059510922713966,
          0.4228394732232688,
          -1.6407190498232147,
          -0.11658503414311217,
          1.1847342796026734,
          1.7603820071727325,
          -1.0323223414552383,
          1.5241292355361828,
          -0.47167319631113175,
          0.41771472595017,
          -0.44257990041265177,
          -0.4457218004962936,
          -1.05606129272087,
          -0.6475117870595651,
          -0.1427949440036624,
          -0.084971064125444,
          -2.031346651843206,
          -1.3417316367420749,
          -0.8436810558824752,
          1.429751141931643,
          0.3073707295814666,
          1.2573071374952731,
          2.5304800624870674,
          -0.6472367543926753,
          1.43746648182174,
          0.3592379585375508,
          0.7179964889696346,
          -0.2634886822238987,
          0.22643012552675823,
          -0.3671468396701537,
          -1.9895520059061513,
          -0.7386934319014247,
          -0.5217806582087279,
          -0.7638054628786506,
          -0.6895070591300198,
          -1.60460561706749,
          0.9729484503670851,
          -1.3479986977665346,
          -0.6281809491935955,
          -0.7965079474327273,
          0.8411742348925145,
          1.613602523630258,
          -0.041787801903583915,
          0.6689088866173973,
          0.1263923177465286,
          -0.08421704177805359,
          -0.26850295575609995,
          -1.2121044098271738,
          -0.6236327447212068,
          0.5342625395512093,
          -0.022718493882598063,
          -0.06121209654978588,
          0.7842935269257469,
          -1.0318400097854954,
          1.1396452886065107,
          2.151607990246248,
          -0.7585179535047096,
          0.06889444726973967,
          0.6813644279190719,
          0.07260826563691085,
          0.5878992331877385,
          0.9942375387594256,
          -0.5811488124902294,
          0.9761751366879855,
          1.4695906294141075,
          0.208004152843283,
          2.549353450852832
         ],
         "yaxis": "y10"
        },
        {
         "histfunc": "count",
         "histnorm": "",
         "marker": {
          "color": "rgba(50, 171, 96, 1.0)",
          "line": {
           "color": "#4D5663",
           "width": 1.3
          }
         },
         "name": "C",
         "nbinsx": 10,
         "opacity": 0.8,
         "orientation": "v",
         "type": "histogram",
         "x": [
          0.17727501358339443,
          0.7675790892931331,
          0.7426482326518081,
          0.16995055619755647,
          1.090904635132639,
          0.09387287470099513,
          0.4897155859030093,
          -0.3526003989599885,
          -1.5020324196059973,
          0.8568780172449583,
          1.1888527393378387,
          0.37337033645810563,
          -0.2843089155105719,
          -0.08903682859573299,
          0.659290481180818,
          -0.5702964489673472,
          0.20824190146825128,
          1.477544182228884,
          -2.2663861673596104,
          -0.918190628510219,
          0.9815430754475645,
          1.1963795048605528,
          -0.582471383118007,
          -0.43065020158821765,
          0.7292356248529095,
          -1.1126783561463256,
          -1.0737857923404885,
          1.1249641509208888,
          -1.177887298697572,
          -0.6421378823244043,
          0.36525819243608904,
          -0.8231168304200789,
          -0.15124396419267142,
          -1.059510922713966,
          0.4228394732232688,
          -1.6407190498232147,
          -0.11658503414311217,
          1.1847342796026734,
          1.7603820071727325,
          -1.0323223414552383,
          1.5241292355361828,
          -0.47167319631113175,
          0.41771472595017,
          -0.44257990041265177,
          -0.4457218004962936,
          -1.05606129272087,
          -0.6475117870595651,
          -0.1427949440036624,
          -0.084971064125444,
          -2.031346651843206,
          -1.3417316367420749,
          -0.8436810558824752,
          1.429751141931643,
          0.3073707295814666,
          1.2573071374952731,
          2.5304800624870674,
          -0.6472367543926753,
          1.43746648182174,
          0.3592379585375508,
          0.7179964889696346,
          -0.2634886822238987,
          0.22643012552675823,
          -0.3671468396701537,
          -1.9895520059061513,
          -0.7386934319014247,
          -0.5217806582087279,
          -0.7638054628786506,
          -0.6895070591300198,
          -1.60460561706749,
          0.9729484503670851,
          -1.3479986977665346,
          -0.6281809491935955,
          -0.7965079474327273,
          0.8411742348925145,
          1.613602523630258,
          -0.041787801903583915,
          0.6689088866173973,
          0.1263923177465286,
          -0.08421704177805359,
          -0.26850295575609995,
          -1.2121044098271738,
          -0.6236327447212068,
          0.5342625395512093,
          -0.022718493882598063,
          -0.06121209654978588,
          0.7842935269257469,
          -1.0318400097854954,
          1.1396452886065107,
          2.151607990246248,
          -0.7585179535047096,
          0.06889444726973967,
          0.6813644279190719,
          0.07260826563691085,
          0.5878992331877385,
          0.9942375387594256,
          -0.5811488124902294,
          0.9761751366879855,
          1.4695906294141075,
          0.208004152843283,
          2.549353450852832
         ],
         "xaxis": "x11",
         "yaxis": "y11"
        },
        {
         "line": {
          "color": "rgba(128, 128, 128, 1.0)",
          "dash": "solid",
          "shape": "linear",
          "width": 1.3
         },
         "marker": {
          "size": 2,
          "symbol": "circle"
         },
         "mode": "markers",
         "name": "C",
         "text": "",
         "type": "scatter",
         "x": [
          1.4161269150082703,
          0.9099418545481454,
          -0.1520745902746288,
          -0.6157190447998693,
          0.23501709874065518,
          -0.08954496598170626,
          -1.1069220366777928,
          0.25546001939489116,
          1.123799547148625,
          -0.8427001303265524,
          -0.26936950688912814,
          0.6547787616846491,
          1.4079452260160858,
          -0.14159372719106786,
          1.463574108538233,
          0.30180653498512977,
          0.40996895881869916,
          -0.946143024850983,
          -0.6546722170665688,
          -0.8993130183111181,
          0.6350782269236444,
          1.3953119495101083,
          1.0838071028492255,
          0.8190850242746013,
          -0.7354835095964742,
          -0.008751000129040488,
          -1.4193479974669696,
          0.47861242828808254,
          -0.34913108616056626,
          1.2921485127366013,
          -1.5619203416202032,
          0.4185495336224118,
          2.5059538347855113,
          0.6806423555903528,
          -1.239722282909275,
          0.0027770038867789915,
          -1.2537859007482053,
          0.5298119911939558,
          -1.4569067757208616,
          0.0824867493121816,
          0.06026685610114835,
          -0.7378289996369067,
          0.221919332661049,
          -0.6984265965452328,
          -0.021345969455511298,
          -1.34169281577497,
          0.46093268999588155,
          -0.9878087568125531,
          0.6867087397846777,
          -1.5411316351648023,
          -1.4089701824411427,
          -1.2719090244721443,
          0.916052527276419,
          1.3280183024638061,
          -0.6881957682497584,
          -1.2581706095260712,
          0.4630271601922367,
          -1.0729861460506882,
          -1.8381937323069328,
          -0.32047346022717405,
          0.42593363105180476,
          0.8953812215371134,
          -0.6748231944099274,
          -1.8253583523000774,
          -0.5858419215157434,
          -0.9397708953133883,
          0.8396045753762226,
          -0.6237812963270523,
          0.29618974815684046,
          2.3920364170055954,
          3.2378305047808826,
          0.10932445828346436,
          2.9838926343686523,
          -0.4795835975537721,
          0.44292234405466624,
          2.1595304525086676,
          1.226050593080821,
          -1.612867475051631,
          -0.30812150700596197,
          -1.117804382940929,
          0.04619313208996349,
          -0.23434867295184955,
          -0.19147674398434888,
          -0.14776082711117045,
          -1.4186091957625286,
          -2.178284783117934,
          -0.6829236779712234,
          -0.051276625025758506,
          1.5081177227260016,
          0.6536599137486626,
          0.0028700408535427056,
          -0.4230631530286068,
          0.006696983399884731,
          -1.8938149909057822,
          0.9022364206146153,
          -0.5796345846331413,
          -0.29308018746907694,
          0.8282614923522763,
          0.5582747600276524,
          0.13813326582956842
         ],
         "xaxis": "x12",
         "y": [
          0.17727501358339443,
          0.7675790892931331,
          0.7426482326518081,
          0.16995055619755647,
          1.090904635132639,
          0.09387287470099513,
          0.4897155859030093,
          -0.3526003989599885,
          -1.5020324196059973,
          0.8568780172449583,
          1.1888527393378387,
          0.37337033645810563,
          -0.2843089155105719,
          -0.08903682859573299,
          0.659290481180818,
          -0.5702964489673472,
          0.20824190146825128,
          1.477544182228884,
          -2.2663861673596104,
          -0.918190628510219,
          0.9815430754475645,
          1.1963795048605528,
          -0.582471383118007,
          -0.43065020158821765,
          0.7292356248529095,
          -1.1126783561463256,
          -1.0737857923404885,
          1.1249641509208888,
          -1.177887298697572,
          -0.6421378823244043,
          0.36525819243608904,
          -0.8231168304200789,
          -0.15124396419267142,
          -1.059510922713966,
          0.4228394732232688,
          -1.6407190498232147,
          -0.11658503414311217,
          1.1847342796026734,
          1.7603820071727325,
          -1.0323223414552383,
          1.5241292355361828,
          -0.47167319631113175,
          0.41771472595017,
          -0.44257990041265177,
          -0.4457218004962936,
          -1.05606129272087,
          -0.6475117870595651,
          -0.1427949440036624,
          -0.084971064125444,
          -2.031346651843206,
          -1.3417316367420749,
          -0.8436810558824752,
          1.429751141931643,
          0.3073707295814666,
          1.2573071374952731,
          2.5304800624870674,
          -0.6472367543926753,
          1.43746648182174,
          0.3592379585375508,
          0.7179964889696346,
          -0.2634886822238987,
          0.22643012552675823,
          -0.3671468396701537,
          -1.9895520059061513,
          -0.7386934319014247,
          -0.5217806582087279,
          -0.7638054628786506,
          -0.6895070591300198,
          -1.60460561706749,
          0.9729484503670851,
          -1.3479986977665346,
          -0.6281809491935955,
          -0.7965079474327273,
          0.8411742348925145,
          1.613602523630258,
          -0.041787801903583915,
          0.6689088866173973,
          0.1263923177465286,
          -0.08421704177805359,
          -0.26850295575609995,
          -1.2121044098271738,
          -0.6236327447212068,
          0.5342625395512093,
          -0.022718493882598063,
          -0.06121209654978588,
          0.7842935269257469,
          -1.0318400097854954,
          1.1396452886065107,
          2.151607990246248,
          -0.7585179535047096,
          0.06889444726973967,
          0.6813644279190719,
          0.07260826563691085,
          0.5878992331877385,
          0.9942375387594256,
          -0.5811488124902294,
          0.9761751366879855,
          1.4695906294141075,
          0.208004152843283,
          2.549353450852832
         ],
         "yaxis": "y12"
        },
        {
         "line": {
          "color": "rgba(128, 128, 128, 1.0)",
          "dash": "solid",
          "shape": "linear",
          "width": 1.3
         },
         "marker": {
          "size": 2,
          "symbol": "circle"
         },
         "mode": "markers",
         "name": "D",
         "text": "",
         "type": "scatter",
         "x": [
          -1.3545048514202886,
          -0.27728378291500244,
          0.45496642739072185,
          -0.23107642156544375,
          0.3225381016251746,
          -1.0008187198265743,
          0.9845366396545454,
          -0.50321152657273,
          1.6157058505386503,
          -1.0755409628997235,
          -0.7266925458064639,
          -1.595502047740283,
          0.43015754731259187,
          -0.5023039509792152,
          1.1993891113951063,
          1.5027455883128777,
          -2.0111448778151333,
          0.27904655655280847,
          -0.36670722252928634,
          -1.045321731796316,
          0.10914045660460339,
          -0.6328966222259624,
          1.0225649219030128,
          0.23646366884558706,
          0.41548422719458417,
          -1.0976117676432184,
          -1.3390903914000774,
          -0.4528371511298527,
          -0.42733490165283505,
          0.5754120459853603,
          0.11281268381519279,
          -1.1504102405112058,
          -0.050574871926182784,
          0.6018645063084697,
          -1.4510472945569854,
          -0.21392389795359612,
          0.9380171050066473,
          -0.09438742292598681,
          -0.07053906033576715,
          2.2285687724394343,
          0.19845839839579424,
          1.2131263496243834,
          1.1792006659868235,
          -0.7568736002213788,
          -1.32459048528407,
          -0.6129471634329756,
          -0.4709172661057217,
          -0.7285462902748785,
          -0.25955121913034657,
          0.1555555496229885,
          -1.0067734814821243,
          1.4876681778759002,
          -0.19585676804199598,
          -1.3051812203656723,
          -0.7121109427231624,
          1.4370077967986707,
          0.4538113012220596,
          0.32118719474111324,
          1.9306937024550697,
          -1.0000186636360553,
          1.3538998887923899,
          1.0254565059989138,
          -0.6070225790196295,
          1.7505222400386586,
          1.7797158783195268,
          0.17570637331592434,
          0.1301137572005141,
          -0.4213331565359732,
          0.2879440028531558,
          2.138360358957446,
          1.0890958981482772,
          -0.26490401714714534,
          0.027728903643897698,
          0.40479261158660584,
          0.9083928456027764,
          -0.5899242333379505,
          -0.8616710639476087,
          1.235011144214475,
          1.2773603111730898,
          0.1646548821502208,
          0.19239963499647977,
          -1.3887769224713287,
          0.03482195209693308,
          1.5745439863348998,
          -0.6366925872900931,
          -0.41589432971818063,
          0.3427910975984431,
          0.8366529944437844,
          0.34780611914933296,
          -1.4700076557867081,
          0.38964290131019585,
          -0.7884288396387822,
          -0.9056465667023024,
          0.3399186743690349,
          -0.6477575326386299,
          1.5680595200598508,
          2.269928998581372,
          -1.0404746060192802,
          0.5237456598895535,
          0.9448421163357893
         ],
         "xaxis": "x13",
         "y": [
          1.4161269150082703,
          0.9099418545481454,
          -0.1520745902746288,
          -0.6157190447998693,
          0.23501709874065518,
          -0.08954496598170626,
          -1.1069220366777928,
          0.25546001939489116,
          1.123799547148625,
          -0.8427001303265524,
          -0.26936950688912814,
          0.6547787616846491,
          1.4079452260160858,
          -0.14159372719106786,
          1.463574108538233,
          0.30180653498512977,
          0.40996895881869916,
          -0.946143024850983,
          -0.6546722170665688,
          -0.8993130183111181,
          0.6350782269236444,
          1.3953119495101083,
          1.0838071028492255,
          0.8190850242746013,
          -0.7354835095964742,
          -0.008751000129040488,
          -1.4193479974669696,
          0.47861242828808254,
          -0.34913108616056626,
          1.2921485127366013,
          -1.5619203416202032,
          0.4185495336224118,
          2.5059538347855113,
          0.6806423555903528,
          -1.239722282909275,
          0.0027770038867789915,
          -1.2537859007482053,
          0.5298119911939558,
          -1.4569067757208616,
          0.0824867493121816,
          0.06026685610114835,
          -0.7378289996369067,
          0.221919332661049,
          -0.6984265965452328,
          -0.021345969455511298,
          -1.34169281577497,
          0.46093268999588155,
          -0.9878087568125531,
          0.6867087397846777,
          -1.5411316351648023,
          -1.4089701824411427,
          -1.2719090244721443,
          0.916052527276419,
          1.3280183024638061,
          -0.6881957682497584,
          -1.2581706095260712,
          0.4630271601922367,
          -1.0729861460506882,
          -1.8381937323069328,
          -0.32047346022717405,
          0.42593363105180476,
          0.8953812215371134,
          -0.6748231944099274,
          -1.8253583523000774,
          -0.5858419215157434,
          -0.9397708953133883,
          0.8396045753762226,
          -0.6237812963270523,
          0.29618974815684046,
          2.3920364170055954,
          3.2378305047808826,
          0.10932445828346436,
          2.9838926343686523,
          -0.4795835975537721,
          0.44292234405466624,
          2.1595304525086676,
          1.226050593080821,
          -1.612867475051631,
          -0.30812150700596197,
          -1.117804382940929,
          0.04619313208996349,
          -0.23434867295184955,
          -0.19147674398434888,
          -0.14776082711117045,
          -1.4186091957625286,
          -2.178284783117934,
          -0.6829236779712234,
          -0.051276625025758506,
          1.5081177227260016,
          0.6536599137486626,
          0.0028700408535427056,
          -0.4230631530286068,
          0.006696983399884731,
          -1.8938149909057822,
          0.9022364206146153,
          -0.5796345846331413,
          -0.29308018746907694,
          0.8282614923522763,
          0.5582747600276524,
          0.13813326582956842
         ],
         "yaxis": "y13"
        },
        {
         "line": {
          "color": "rgba(128, 128, 128, 1.0)",
          "dash": "solid",
          "shape": "linear",
          "width": 1.3
         },
         "marker": {
          "size": 2,
          "symbol": "circle"
         },
         "mode": "markers",
         "name": "D",
         "text": "",
         "type": "scatter",
         "x": [
          -0.6370662306345296,
          -0.18779479970184382,
          -0.933271565970044,
          0.9212074612281883,
          0.8936514161808388,
          0.8342227138476731,
          0.8587196320328144,
          0.22881724899518655,
          -0.9180773570599018,
          -0.45142786836483606,
          -0.22248070393362662,
          0.44917113276718723,
          -0.5973156191937276,
          2.1898876198884047,
          -0.4902326025541706,
          -2.018799695983331,
          -1.3633094063854794,
          0.722171910193369,
          1.398112707247513,
          -0.08109011152174196,
          1.2230279514126137,
          -0.21409272975599575,
          0.38937698547166644,
          0.5838286529465544,
          0.8956700723977705,
          0.961281589148261,
          1.7492867643302497,
          -2.0349038968514983,
          0.9622336412524589,
          -1.6031314870782933,
          0.06891589583313582,
          -0.34008733689357995,
          1.4904754639563247,
          -0.6838384992536902,
          0.6019227388150992,
          1.0744944375979761,
          -0.4426583612634076,
          -1.238007017870152,
          -0.23516809680023168,
          0.17849613576372855,
          -1.9737195066421716,
          0.7900923082368406,
          0.12618231219509693,
          -0.6881342409954447,
          1.0740609598702087,
          -2.2292758320157007,
          0.33792269970410865,
          -0.046717796304047564,
          -1.3299347008261175,
          -0.832872352576968,
          -0.02629450649372879,
          -1.3973378150364184,
          2.0597015168262067,
          0.7158707733517314,
          1.538355947800245,
          0.8200805455889011,
          0.06197608346940097,
          -0.30465938188471225,
          -2.791129597868393,
          -0.6640117629558614,
          -0.7395309222045003,
          -1.1692089459454784,
          1.077217332302895,
          -0.687746618866074,
          1.4691428404927873,
          0.8768833279459809,
          0.3599051799630393,
          -0.447137575412363,
          -0.41913677028305696,
          0.5464024743534294,
          0.4307296648098181,
          -1.8466600072649433,
          0.10608219598356404,
          -1.4511218468659515,
          0.4246996885645433,
          1.284557483121074,
          0.12055153420288005,
          1.1349369472971491,
          -0.08792505531674043,
          -1.2616820293829447,
          0.021585833373038835,
          0.433630805405162,
          -0.41834366420211727,
          -1.3449157042759814,
          0.7473410766559658,
          -1.879342304593012,
          0.28080103709289456,
          -0.5157429018677484,
          1.140210489380863,
          1.7292730109199856,
          -0.9166642240809446,
          0.7944208063936056,
          2.302665781556202,
          -1.157887088105418,
          -0.2936987293432595,
          0.18816450281699626,
          0.1508502062472272,
          0.3179360880392077,
          -0.4593359983942544,
          0.27511528779754385
         ],
         "xaxis": "x14",
         "y": [
          1.4161269150082703,
          0.9099418545481454,
          -0.1520745902746288,
          -0.6157190447998693,
          0.23501709874065518,
          -0.08954496598170626,
          -1.1069220366777928,
          0.25546001939489116,
          1.123799547148625,
          -0.8427001303265524,
          -0.26936950688912814,
          0.6547787616846491,
          1.4079452260160858,
          -0.14159372719106786,
          1.463574108538233,
          0.30180653498512977,
          0.40996895881869916,
          -0.946143024850983,
          -0.6546722170665688,
          -0.8993130183111181,
          0.6350782269236444,
          1.3953119495101083,
          1.0838071028492255,
          0.8190850242746013,
          -0.7354835095964742,
          -0.008751000129040488,
          -1.4193479974669696,
          0.47861242828808254,
          -0.34913108616056626,
          1.2921485127366013,
          -1.5619203416202032,
          0.4185495336224118,
          2.5059538347855113,
          0.6806423555903528,
          -1.239722282909275,
          0.0027770038867789915,
          -1.2537859007482053,
          0.5298119911939558,
          -1.4569067757208616,
          0.0824867493121816,
          0.06026685610114835,
          -0.7378289996369067,
          0.221919332661049,
          -0.6984265965452328,
          -0.021345969455511298,
          -1.34169281577497,
          0.46093268999588155,
          -0.9878087568125531,
          0.6867087397846777,
          -1.5411316351648023,
          -1.4089701824411427,
          -1.2719090244721443,
          0.916052527276419,
          1.3280183024638061,
          -0.6881957682497584,
          -1.2581706095260712,
          0.4630271601922367,
          -1.0729861460506882,
          -1.8381937323069328,
          -0.32047346022717405,
          0.42593363105180476,
          0.8953812215371134,
          -0.6748231944099274,
          -1.8253583523000774,
          -0.5858419215157434,
          -0.9397708953133883,
          0.8396045753762226,
          -0.6237812963270523,
          0.29618974815684046,
          2.3920364170055954,
          3.2378305047808826,
          0.10932445828346436,
          2.9838926343686523,
          -0.4795835975537721,
          0.44292234405466624,
          2.1595304525086676,
          1.226050593080821,
          -1.612867475051631,
          -0.30812150700596197,
          -1.117804382940929,
          0.04619313208996349,
          -0.23434867295184955,
          -0.19147674398434888,
          -0.14776082711117045,
          -1.4186091957625286,
          -2.178284783117934,
          -0.6829236779712234,
          -0.051276625025758506,
          1.5081177227260016,
          0.6536599137486626,
          0.0028700408535427056,
          -0.4230631530286068,
          0.006696983399884731,
          -1.8938149909057822,
          0.9022364206146153,
          -0.5796345846331413,
          -0.29308018746907694,
          0.8282614923522763,
          0.5582747600276524,
          0.13813326582956842
         ],
         "yaxis": "y14"
        },
        {
         "line": {
          "color": "rgba(128, 128, 128, 1.0)",
          "dash": "solid",
          "shape": "linear",
          "width": 1.3
         },
         "marker": {
          "size": 2,
          "symbol": "circle"
         },
         "mode": "markers",
         "name": "D",
         "text": "",
         "type": "scatter",
         "x": [
          0.17727501358339443,
          0.7675790892931331,
          0.7426482326518081,
          0.16995055619755647,
          1.090904635132639,
          0.09387287470099513,
          0.4897155859030093,
          -0.3526003989599885,
          -1.5020324196059973,
          0.8568780172449583,
          1.1888527393378387,
          0.37337033645810563,
          -0.2843089155105719,
          -0.08903682859573299,
          0.659290481180818,
          -0.5702964489673472,
          0.20824190146825128,
          1.477544182228884,
          -2.2663861673596104,
          -0.918190628510219,
          0.9815430754475645,
          1.1963795048605528,
          -0.582471383118007,
          -0.43065020158821765,
          0.7292356248529095,
          -1.1126783561463256,
          -1.0737857923404885,
          1.1249641509208888,
          -1.177887298697572,
          -0.6421378823244043,
          0.36525819243608904,
          -0.8231168304200789,
          -0.15124396419267142,
          -1.059510922713966,
          0.4228394732232688,
          -1.6407190498232147,
          -0.11658503414311217,
          1.1847342796026734,
          1.7603820071727325,
          -1.0323223414552383,
          1.5241292355361828,
          -0.47167319631113175,
          0.41771472595017,
          -0.44257990041265177,
          -0.4457218004962936,
          -1.05606129272087,
          -0.6475117870595651,
          -0.1427949440036624,
          -0.084971064125444,
          -2.031346651843206,
          -1.3417316367420749,
          -0.8436810558824752,
          1.429751141931643,
          0.3073707295814666,
          1.2573071374952731,
          2.5304800624870674,
          -0.6472367543926753,
          1.43746648182174,
          0.3592379585375508,
          0.7179964889696346,
          -0.2634886822238987,
          0.22643012552675823,
          -0.3671468396701537,
          -1.9895520059061513,
          -0.7386934319014247,
          -0.5217806582087279,
          -0.7638054628786506,
          -0.6895070591300198,
          -1.60460561706749,
          0.9729484503670851,
          -1.3479986977665346,
          -0.6281809491935955,
          -0.7965079474327273,
          0.8411742348925145,
          1.613602523630258,
          -0.041787801903583915,
          0.6689088866173973,
          0.1263923177465286,
          -0.08421704177805359,
          -0.26850295575609995,
          -1.2121044098271738,
          -0.6236327447212068,
          0.5342625395512093,
          -0.022718493882598063,
          -0.06121209654978588,
          0.7842935269257469,
          -1.0318400097854954,
          1.1396452886065107,
          2.151607990246248,
          -0.7585179535047096,
          0.06889444726973967,
          0.6813644279190719,
          0.07260826563691085,
          0.5878992331877385,
          0.9942375387594256,
          -0.5811488124902294,
          0.9761751366879855,
          1.4695906294141075,
          0.208004152843283,
          2.549353450852832
         ],
         "xaxis": "x15",
         "y": [
          1.4161269150082703,
          0.9099418545481454,
          -0.1520745902746288,
          -0.6157190447998693,
          0.23501709874065518,
          -0.08954496598170626,
          -1.1069220366777928,
          0.25546001939489116,
          1.123799547148625,
          -0.8427001303265524,
          -0.26936950688912814,
          0.6547787616846491,
          1.4079452260160858,
          -0.14159372719106786,
          1.463574108538233,
          0.30180653498512977,
          0.40996895881869916,
          -0.946143024850983,
          -0.6546722170665688,
          -0.8993130183111181,
          0.6350782269236444,
          1.3953119495101083,
          1.0838071028492255,
          0.8190850242746013,
          -0.7354835095964742,
          -0.008751000129040488,
          -1.4193479974669696,
          0.47861242828808254,
          -0.34913108616056626,
          1.2921485127366013,
          -1.5619203416202032,
          0.4185495336224118,
          2.5059538347855113,
          0.6806423555903528,
          -1.239722282909275,
          0.0027770038867789915,
          -1.2537859007482053,
          0.5298119911939558,
          -1.4569067757208616,
          0.0824867493121816,
          0.06026685610114835,
          -0.7378289996369067,
          0.221919332661049,
          -0.6984265965452328,
          -0.021345969455511298,
          -1.34169281577497,
          0.46093268999588155,
          -0.9878087568125531,
          0.6867087397846777,
          -1.5411316351648023,
          -1.4089701824411427,
          -1.2719090244721443,
          0.916052527276419,
          1.3280183024638061,
          -0.6881957682497584,
          -1.2581706095260712,
          0.4630271601922367,
          -1.0729861460506882,
          -1.8381937323069328,
          -0.32047346022717405,
          0.42593363105180476,
          0.8953812215371134,
          -0.6748231944099274,
          -1.8253583523000774,
          -0.5858419215157434,
          -0.9397708953133883,
          0.8396045753762226,
          -0.6237812963270523,
          0.29618974815684046,
          2.3920364170055954,
          3.2378305047808826,
          0.10932445828346436,
          2.9838926343686523,
          -0.4795835975537721,
          0.44292234405466624,
          2.1595304525086676,
          1.226050593080821,
          -1.612867475051631,
          -0.30812150700596197,
          -1.117804382940929,
          0.04619313208996349,
          -0.23434867295184955,
          -0.19147674398434888,
          -0.14776082711117045,
          -1.4186091957625286,
          -2.178284783117934,
          -0.6829236779712234,
          -0.051276625025758506,
          1.5081177227260016,
          0.6536599137486626,
          0.0028700408535427056,
          -0.4230631530286068,
          0.006696983399884731,
          -1.8938149909057822,
          0.9022364206146153,
          -0.5796345846331413,
          -0.29308018746907694,
          0.8282614923522763,
          0.5582747600276524,
          0.13813326582956842
         ],
         "yaxis": "y15"
        },
        {
         "histfunc": "count",
         "histnorm": "",
         "marker": {
          "color": "rgba(128, 0, 128, 1.0)",
          "line": {
           "color": "#4D5663",
           "width": 1.3
          }
         },
         "name": "D",
         "nbinsx": 10,
         "opacity": 0.8,
         "orientation": "v",
         "type": "histogram",
         "x": [
          1.4161269150082703,
          0.9099418545481454,
          -0.1520745902746288,
          -0.6157190447998693,
          0.23501709874065518,
          -0.08954496598170626,
          -1.1069220366777928,
          0.25546001939489116,
          1.123799547148625,
          -0.8427001303265524,
          -0.26936950688912814,
          0.6547787616846491,
          1.4079452260160858,
          -0.14159372719106786,
          1.463574108538233,
          0.30180653498512977,
          0.40996895881869916,
          -0.946143024850983,
          -0.6546722170665688,
          -0.8993130183111181,
          0.6350782269236444,
          1.3953119495101083,
          1.0838071028492255,
          0.8190850242746013,
          -0.7354835095964742,
          -0.008751000129040488,
          -1.4193479974669696,
          0.47861242828808254,
          -0.34913108616056626,
          1.2921485127366013,
          -1.5619203416202032,
          0.4185495336224118,
          2.5059538347855113,
          0.6806423555903528,
          -1.239722282909275,
          0.0027770038867789915,
          -1.2537859007482053,
          0.5298119911939558,
          -1.4569067757208616,
          0.0824867493121816,
          0.06026685610114835,
          -0.7378289996369067,
          0.221919332661049,
          -0.6984265965452328,
          -0.021345969455511298,
          -1.34169281577497,
          0.46093268999588155,
          -0.9878087568125531,
          0.6867087397846777,
          -1.5411316351648023,
          -1.4089701824411427,
          -1.2719090244721443,
          0.916052527276419,
          1.3280183024638061,
          -0.6881957682497584,
          -1.2581706095260712,
          0.4630271601922367,
          -1.0729861460506882,
          -1.8381937323069328,
          -0.32047346022717405,
          0.42593363105180476,
          0.8953812215371134,
          -0.6748231944099274,
          -1.8253583523000774,
          -0.5858419215157434,
          -0.9397708953133883,
          0.8396045753762226,
          -0.6237812963270523,
          0.29618974815684046,
          2.3920364170055954,
          3.2378305047808826,
          0.10932445828346436,
          2.9838926343686523,
          -0.4795835975537721,
          0.44292234405466624,
          2.1595304525086676,
          1.226050593080821,
          -1.612867475051631,
          -0.30812150700596197,
          -1.117804382940929,
          0.04619313208996349,
          -0.23434867295184955,
          -0.19147674398434888,
          -0.14776082711117045,
          -1.4186091957625286,
          -2.178284783117934,
          -0.6829236779712234,
          -0.051276625025758506,
          1.5081177227260016,
          0.6536599137486626,
          0.0028700408535427056,
          -0.4230631530286068,
          0.006696983399884731,
          -1.8938149909057822,
          0.9022364206146153,
          -0.5796345846331413,
          -0.29308018746907694,
          0.8282614923522763,
          0.5582747600276524,
          0.13813326582956842
         ],
         "xaxis": "x16",
         "yaxis": "y16"
        }
       ],
       "layout": {
        "bargap": 0.02,
        "legend": {
         "bgcolor": "#F5F6F9",
         "font": {
          "color": "#4D5663"
         }
        },
        "paper_bgcolor": "#F5F6F9",
        "plot_bgcolor": "#F5F6F9",
        "showlegend": false,
        "template": {
         "data": {
          "bar": [
           {
            "error_x": {
             "color": "#2a3f5f"
            },
            "error_y": {
             "color": "#2a3f5f"
            },
            "marker": {
             "line": {
              "color": "#E5ECF6",
              "width": 0.5
             }
            },
            "type": "bar"
           }
          ],
          "barpolar": [
           {
            "marker": {
             "line": {
              "color": "#E5ECF6",
              "width": 0.5
             }
            },
            "type": "barpolar"
           }
          ],
          "carpet": [
           {
            "aaxis": {
             "endlinecolor": "#2a3f5f",
             "gridcolor": "white",
             "linecolor": "white",
             "minorgridcolor": "white",
             "startlinecolor": "#2a3f5f"
            },
            "baxis": {
             "endlinecolor": "#2a3f5f",
             "gridcolor": "white",
             "linecolor": "white",
             "minorgridcolor": "white",
             "startlinecolor": "#2a3f5f"
            },
            "type": "carpet"
           }
          ],
          "choropleth": [
           {
            "colorbar": {
             "outlinewidth": 0,
             "ticks": ""
            },
            "type": "choropleth"
           }
          ],
          "contour": [
           {
            "colorbar": {
             "outlinewidth": 0,
             "ticks": ""
            },
            "colorscale": [
             [
              0,
              "#0d0887"
             ],
             [
              0.1111111111111111,
              "#46039f"
             ],
             [
              0.2222222222222222,
              "#7201a8"
             ],
             [
              0.3333333333333333,
              "#9c179e"
             ],
             [
              0.4444444444444444,
              "#bd3786"
             ],
             [
              0.5555555555555556,
              "#d8576b"
             ],
             [
              0.6666666666666666,
              "#ed7953"
             ],
             [
              0.7777777777777778,
              "#fb9f3a"
             ],
             [
              0.8888888888888888,
              "#fdca26"
             ],
             [
              1,
              "#f0f921"
             ]
            ],
            "type": "contour"
           }
          ],
          "contourcarpet": [
           {
            "colorbar": {
             "outlinewidth": 0,
             "ticks": ""
            },
            "type": "contourcarpet"
           }
          ],
          "heatmap": [
           {
            "colorbar": {
             "outlinewidth": 0,
             "ticks": ""
            },
            "colorscale": [
             [
              0,
              "#0d0887"
             ],
             [
              0.1111111111111111,
              "#46039f"
             ],
             [
              0.2222222222222222,
              "#7201a8"
             ],
             [
              0.3333333333333333,
              "#9c179e"
             ],
             [
              0.4444444444444444,
              "#bd3786"
             ],
             [
              0.5555555555555556,
              "#d8576b"
             ],
             [
              0.6666666666666666,
              "#ed7953"
             ],
             [
              0.7777777777777778,
              "#fb9f3a"
             ],
             [
              0.8888888888888888,
              "#fdca26"
             ],
             [
              1,
              "#f0f921"
             ]
            ],
            "type": "heatmap"
           }
          ],
          "heatmapgl": [
           {
            "colorbar": {
             "outlinewidth": 0,
             "ticks": ""
            },
            "colorscale": [
             [
              0,
              "#0d0887"
             ],
             [
              0.1111111111111111,
              "#46039f"
             ],
             [
              0.2222222222222222,
              "#7201a8"
             ],
             [
              0.3333333333333333,
              "#9c179e"
             ],
             [
              0.4444444444444444,
              "#bd3786"
             ],
             [
              0.5555555555555556,
              "#d8576b"
             ],
             [
              0.6666666666666666,
              "#ed7953"
             ],
             [
              0.7777777777777778,
              "#fb9f3a"
             ],
             [
              0.8888888888888888,
              "#fdca26"
             ],
             [
              1,
              "#f0f921"
             ]
            ],
            "type": "heatmapgl"
           }
          ],
          "histogram": [
           {
            "marker": {
             "colorbar": {
              "outlinewidth": 0,
              "ticks": ""
             }
            },
            "type": "histogram"
           }
          ],
          "histogram2d": [
           {
            "colorbar": {
             "outlinewidth": 0,
             "ticks": ""
            },
            "colorscale": [
             [
              0,
              "#0d0887"
             ],
             [
              0.1111111111111111,
              "#46039f"
             ],
             [
              0.2222222222222222,
              "#7201a8"
             ],
             [
              0.3333333333333333,
              "#9c179e"
             ],
             [
              0.4444444444444444,
              "#bd3786"
             ],
             [
              0.5555555555555556,
              "#d8576b"
             ],
             [
              0.6666666666666666,
              "#ed7953"
             ],
             [
              0.7777777777777778,
              "#fb9f3a"
             ],
             [
              0.8888888888888888,
              "#fdca26"
             ],
             [
              1,
              "#f0f921"
             ]
            ],
            "type": "histogram2d"
           }
          ],
          "histogram2dcontour": [
           {
            "colorbar": {
             "outlinewidth": 0,
             "ticks": ""
            },
            "colorscale": [
             [
              0,
              "#0d0887"
             ],
             [
              0.1111111111111111,
              "#46039f"
             ],
             [
              0.2222222222222222,
              "#7201a8"
             ],
             [
              0.3333333333333333,
              "#9c179e"
             ],
             [
              0.4444444444444444,
              "#bd3786"
             ],
             [
              0.5555555555555556,
              "#d8576b"
             ],
             [
              0.6666666666666666,
              "#ed7953"
             ],
             [
              0.7777777777777778,
              "#fb9f3a"
             ],
             [
              0.8888888888888888,
              "#fdca26"
             ],
             [
              1,
              "#f0f921"
             ]
            ],
            "type": "histogram2dcontour"
           }
          ],
          "mesh3d": [
           {
            "colorbar": {
             "outlinewidth": 0,
             "ticks": ""
            },
            "type": "mesh3d"
           }
          ],
          "parcoords": [
           {
            "line": {
             "colorbar": {
              "outlinewidth": 0,
              "ticks": ""
             }
            },
            "type": "parcoords"
           }
          ],
          "pie": [
           {
            "automargin": true,
            "type": "pie"
           }
          ],
          "scatter": [
           {
            "marker": {
             "colorbar": {
              "outlinewidth": 0,
              "ticks": ""
             }
            },
            "type": "scatter"
           }
          ],
          "scatter3d": [
           {
            "line": {
             "colorbar": {
              "outlinewidth": 0,
              "ticks": ""
             }
            },
            "marker": {
             "colorbar": {
              "outlinewidth": 0,
              "ticks": ""
             }
            },
            "type": "scatter3d"
           }
          ],
          "scattercarpet": [
           {
            "marker": {
             "colorbar": {
              "outlinewidth": 0,
              "ticks": ""
             }
            },
            "type": "scattercarpet"
           }
          ],
          "scattergeo": [
           {
            "marker": {
             "colorbar": {
              "outlinewidth": 0,
              "ticks": ""
             }
            },
            "type": "scattergeo"
           }
          ],
          "scattergl": [
           {
            "marker": {
             "colorbar": {
              "outlinewidth": 0,
              "ticks": ""
             }
            },
            "type": "scattergl"
           }
          ],
          "scattermapbox": [
           {
            "marker": {
             "colorbar": {
              "outlinewidth": 0,
              "ticks": ""
             }
            },
            "type": "scattermapbox"
           }
          ],
          "scatterpolar": [
           {
            "marker": {
             "colorbar": {
              "outlinewidth": 0,
              "ticks": ""
             }
            },
            "type": "scatterpolar"
           }
          ],
          "scatterpolargl": [
           {
            "marker": {
             "colorbar": {
              "outlinewidth": 0,
              "ticks": ""
             }
            },
            "type": "scatterpolargl"
           }
          ],
          "scatterternary": [
           {
            "marker": {
             "colorbar": {
              "outlinewidth": 0,
              "ticks": ""
             }
            },
            "type": "scatterternary"
           }
          ],
          "surface": [
           {
            "colorbar": {
             "outlinewidth": 0,
             "ticks": ""
            },
            "colorscale": [
             [
              0,
              "#0d0887"
             ],
             [
              0.1111111111111111,
              "#46039f"
             ],
             [
              0.2222222222222222,
              "#7201a8"
             ],
             [
              0.3333333333333333,
              "#9c179e"
             ],
             [
              0.4444444444444444,
              "#bd3786"
             ],
             [
              0.5555555555555556,
              "#d8576b"
             ],
             [
              0.6666666666666666,
              "#ed7953"
             ],
             [
              0.7777777777777778,
              "#fb9f3a"
             ],
             [
              0.8888888888888888,
              "#fdca26"
             ],
             [
              1,
              "#f0f921"
             ]
            ],
            "type": "surface"
           }
          ],
          "table": [
           {
            "cells": {
             "fill": {
              "color": "#EBF0F8"
             },
             "line": {
              "color": "white"
             }
            },
            "header": {
             "fill": {
              "color": "#C8D4E3"
             },
             "line": {
              "color": "white"
             }
            },
            "type": "table"
           }
          ]
         },
         "layout": {
          "annotationdefaults": {
           "arrowcolor": "#2a3f5f",
           "arrowhead": 0,
           "arrowwidth": 1
          },
          "autotypenumbers": "strict",
          "coloraxis": {
           "colorbar": {
            "outlinewidth": 0,
            "ticks": ""
           }
          },
          "colorscale": {
           "diverging": [
            [
             0,
             "#8e0152"
            ],
            [
             0.1,
             "#c51b7d"
            ],
            [
             0.2,
             "#de77ae"
            ],
            [
             0.3,
             "#f1b6da"
            ],
            [
             0.4,
             "#fde0ef"
            ],
            [
             0.5,
             "#f7f7f7"
            ],
            [
             0.6,
             "#e6f5d0"
            ],
            [
             0.7,
             "#b8e186"
            ],
            [
             0.8,
             "#7fbc41"
            ],
            [
             0.9,
             "#4d9221"
            ],
            [
             1,
             "#276419"
            ]
           ],
           "sequential": [
            [
             0,
             "#0d0887"
            ],
            [
             0.1111111111111111,
             "#46039f"
            ],
            [
             0.2222222222222222,
             "#7201a8"
            ],
            [
             0.3333333333333333,
             "#9c179e"
            ],
            [
             0.4444444444444444,
             "#bd3786"
            ],
            [
             0.5555555555555556,
             "#d8576b"
            ],
            [
             0.6666666666666666,
             "#ed7953"
            ],
            [
             0.7777777777777778,
             "#fb9f3a"
            ],
            [
             0.8888888888888888,
             "#fdca26"
            ],
            [
             1,
             "#f0f921"
            ]
           ],
           "sequentialminus": [
            [
             0,
             "#0d0887"
            ],
            [
             0.1111111111111111,
             "#46039f"
            ],
            [
             0.2222222222222222,
             "#7201a8"
            ],
            [
             0.3333333333333333,
             "#9c179e"
            ],
            [
             0.4444444444444444,
             "#bd3786"
            ],
            [
             0.5555555555555556,
             "#d8576b"
            ],
            [
             0.6666666666666666,
             "#ed7953"
            ],
            [
             0.7777777777777778,
             "#fb9f3a"
            ],
            [
             0.8888888888888888,
             "#fdca26"
            ],
            [
             1,
             "#f0f921"
            ]
           ]
          },
          "colorway": [
           "#636efa",
           "#EF553B",
           "#00cc96",
           "#ab63fa",
           "#FFA15A",
           "#19d3f3",
           "#FF6692",
           "#B6E880",
           "#FF97FF",
           "#FECB52"
          ],
          "font": {
           "color": "#2a3f5f"
          },
          "geo": {
           "bgcolor": "white",
           "lakecolor": "white",
           "landcolor": "#E5ECF6",
           "showlakes": true,
           "showland": true,
           "subunitcolor": "white"
          },
          "hoverlabel": {
           "align": "left"
          },
          "hovermode": "closest",
          "mapbox": {
           "style": "light"
          },
          "paper_bgcolor": "white",
          "plot_bgcolor": "#E5ECF6",
          "polar": {
           "angularaxis": {
            "gridcolor": "white",
            "linecolor": "white",
            "ticks": ""
           },
           "bgcolor": "#E5ECF6",
           "radialaxis": {
            "gridcolor": "white",
            "linecolor": "white",
            "ticks": ""
           }
          },
          "scene": {
           "xaxis": {
            "backgroundcolor": "#E5ECF6",
            "gridcolor": "white",
            "gridwidth": 2,
            "linecolor": "white",
            "showbackground": true,
            "ticks": "",
            "zerolinecolor": "white"
           },
           "yaxis": {
            "backgroundcolor": "#E5ECF6",
            "gridcolor": "white",
            "gridwidth": 2,
            "linecolor": "white",
            "showbackground": true,
            "ticks": "",
            "zerolinecolor": "white"
           },
           "zaxis": {
            "backgroundcolor": "#E5ECF6",
            "gridcolor": "white",
            "gridwidth": 2,
            "linecolor": "white",
            "showbackground": true,
            "ticks": "",
            "zerolinecolor": "white"
           }
          },
          "shapedefaults": {
           "line": {
            "color": "#2a3f5f"
           }
          },
          "ternary": {
           "aaxis": {
            "gridcolor": "white",
            "linecolor": "white",
            "ticks": ""
           },
           "baxis": {
            "gridcolor": "white",
            "linecolor": "white",
            "ticks": ""
           },
           "bgcolor": "#E5ECF6",
           "caxis": {
            "gridcolor": "white",
            "linecolor": "white",
            "ticks": ""
           }
          },
          "title": {
           "x": 0.05
          },
          "xaxis": {
           "automargin": true,
           "gridcolor": "white",
           "linecolor": "white",
           "ticks": "",
           "title": {
            "standoff": 15
           },
           "zerolinecolor": "white",
           "zerolinewidth": 2
          },
          "yaxis": {
           "automargin": true,
           "gridcolor": "white",
           "linecolor": "white",
           "ticks": "",
           "title": {
            "standoff": 15
           },
           "zerolinecolor": "white",
           "zerolinewidth": 2
          }
         }
        },
        "title": {
         "font": {
          "color": "#4D5663"
         }
        },
        "xaxis": {
         "anchor": "y",
         "domain": [
          0,
          0.2125
         ],
         "gridcolor": "#E1E5ED",
         "showgrid": false,
         "tickfont": {
          "color": "#4D5663"
         },
         "title": {
          "font": {
           "color": "#4D5663"
          },
          "text": ""
         },
         "zerolinecolor": "#E1E5ED"
        },
        "xaxis10": {
         "anchor": "y10",
         "domain": [
          0.2625,
          0.475
         ],
         "gridcolor": "#E1E5ED",
         "showgrid": false,
         "tickfont": {
          "color": "#4D5663"
         },
         "title": {
          "font": {
           "color": "#4D5663"
          },
          "text": ""
         },
         "zerolinecolor": "#E1E5ED"
        },
        "xaxis11": {
         "anchor": "y11",
         "domain": [
          0.525,
          0.7375
         ],
         "gridcolor": "#E1E5ED",
         "showgrid": false,
         "tickfont": {
          "color": "#4D5663"
         },
         "title": {
          "font": {
           "color": "#4D5663"
          },
          "text": ""
         },
         "zerolinecolor": "#E1E5ED"
        },
        "xaxis12": {
         "anchor": "y12",
         "domain": [
          0.7875,
          1
         ],
         "gridcolor": "#E1E5ED",
         "showgrid": false,
         "tickfont": {
          "color": "#4D5663"
         },
         "title": {
          "font": {
           "color": "#4D5663"
          },
          "text": ""
         },
         "zerolinecolor": "#E1E5ED"
        },
        "xaxis13": {
         "anchor": "y13",
         "domain": [
          0,
          0.2125
         ],
         "gridcolor": "#E1E5ED",
         "showgrid": false,
         "tickfont": {
          "color": "#4D5663"
         },
         "title": {
          "font": {
           "color": "#4D5663"
          },
          "text": ""
         },
         "zerolinecolor": "#E1E5ED"
        },
        "xaxis14": {
         "anchor": "y14",
         "domain": [
          0.2625,
          0.475
         ],
         "gridcolor": "#E1E5ED",
         "showgrid": false,
         "tickfont": {
          "color": "#4D5663"
         },
         "title": {
          "font": {
           "color": "#4D5663"
          },
          "text": ""
         },
         "zerolinecolor": "#E1E5ED"
        },
        "xaxis15": {
         "anchor": "y15",
         "domain": [
          0.525,
          0.7375
         ],
         "gridcolor": "#E1E5ED",
         "showgrid": false,
         "tickfont": {
          "color": "#4D5663"
         },
         "title": {
          "font": {
           "color": "#4D5663"
          },
          "text": ""
         },
         "zerolinecolor": "#E1E5ED"
        },
        "xaxis16": {
         "anchor": "y16",
         "domain": [
          0.7875,
          1
         ],
         "gridcolor": "#E1E5ED",
         "showgrid": false,
         "tickfont": {
          "color": "#4D5663"
         },
         "title": {
          "font": {
           "color": "#4D5663"
          },
          "text": ""
         },
         "zerolinecolor": "#E1E5ED"
        },
        "xaxis2": {
         "anchor": "y2",
         "domain": [
          0.2625,
          0.475
         ],
         "gridcolor": "#E1E5ED",
         "showgrid": false,
         "tickfont": {
          "color": "#4D5663"
         },
         "title": {
          "font": {
           "color": "#4D5663"
          },
          "text": ""
         },
         "zerolinecolor": "#E1E5ED"
        },
        "xaxis3": {
         "anchor": "y3",
         "domain": [
          0.525,
          0.7375
         ],
         "gridcolor": "#E1E5ED",
         "showgrid": false,
         "tickfont": {
          "color": "#4D5663"
         },
         "title": {
          "font": {
           "color": "#4D5663"
          },
          "text": ""
         },
         "zerolinecolor": "#E1E5ED"
        },
        "xaxis4": {
         "anchor": "y4",
         "domain": [
          0.7875,
          1
         ],
         "gridcolor": "#E1E5ED",
         "showgrid": false,
         "tickfont": {
          "color": "#4D5663"
         },
         "title": {
          "font": {
           "color": "#4D5663"
          },
          "text": ""
         },
         "zerolinecolor": "#E1E5ED"
        },
        "xaxis5": {
         "anchor": "y5",
         "domain": [
          0,
          0.2125
         ],
         "gridcolor": "#E1E5ED",
         "showgrid": false,
         "tickfont": {
          "color": "#4D5663"
         },
         "title": {
          "font": {
           "color": "#4D5663"
          },
          "text": ""
         },
         "zerolinecolor": "#E1E5ED"
        },
        "xaxis6": {
         "anchor": "y6",
         "domain": [
          0.2625,
          0.475
         ],
         "gridcolor": "#E1E5ED",
         "showgrid": false,
         "tickfont": {
          "color": "#4D5663"
         },
         "title": {
          "font": {
           "color": "#4D5663"
          },
          "text": ""
         },
         "zerolinecolor": "#E1E5ED"
        },
        "xaxis7": {
         "anchor": "y7",
         "domain": [
          0.525,
          0.7375
         ],
         "gridcolor": "#E1E5ED",
         "showgrid": false,
         "tickfont": {
          "color": "#4D5663"
         },
         "title": {
          "font": {
           "color": "#4D5663"
          },
          "text": ""
         },
         "zerolinecolor": "#E1E5ED"
        },
        "xaxis8": {
         "anchor": "y8",
         "domain": [
          0.7875,
          1
         ],
         "gridcolor": "#E1E5ED",
         "showgrid": false,
         "tickfont": {
          "color": "#4D5663"
         },
         "title": {
          "font": {
           "color": "#4D5663"
          },
          "text": ""
         },
         "zerolinecolor": "#E1E5ED"
        },
        "xaxis9": {
         "anchor": "y9",
         "domain": [
          0,
          0.2125
         ],
         "gridcolor": "#E1E5ED",
         "showgrid": false,
         "tickfont": {
          "color": "#4D5663"
         },
         "title": {
          "font": {
           "color": "#4D5663"
          },
          "text": ""
         },
         "zerolinecolor": "#E1E5ED"
        },
        "yaxis": {
         "anchor": "x",
         "domain": [
          0.8025,
          1
         ],
         "gridcolor": "#E1E5ED",
         "showgrid": false,
         "tickfont": {
          "color": "#4D5663"
         },
         "title": {
          "font": {
           "color": "#4D5663"
          },
          "text": ""
         },
         "zerolinecolor": "#E1E5ED"
        },
        "yaxis10": {
         "anchor": "x10",
         "domain": [
          0.2675,
          0.465
         ],
         "gridcolor": "#E1E5ED",
         "showgrid": false,
         "tickfont": {
          "color": "#4D5663"
         },
         "title": {
          "font": {
           "color": "#4D5663"
          },
          "text": ""
         },
         "zerolinecolor": "#E1E5ED"
        },
        "yaxis11": {
         "anchor": "x11",
         "domain": [
          0.2675,
          0.465
         ],
         "gridcolor": "#E1E5ED",
         "showgrid": false,
         "tickfont": {
          "color": "#4D5663"
         },
         "title": {
          "font": {
           "color": "#4D5663"
          },
          "text": ""
         },
         "zerolinecolor": "#E1E5ED"
        },
        "yaxis12": {
         "anchor": "x12",
         "domain": [
          0.2675,
          0.465
         ],
         "gridcolor": "#E1E5ED",
         "showgrid": false,
         "tickfont": {
          "color": "#4D5663"
         },
         "title": {
          "font": {
           "color": "#4D5663"
          },
          "text": ""
         },
         "zerolinecolor": "#E1E5ED"
        },
        "yaxis13": {
         "anchor": "x13",
         "domain": [
          0,
          0.1975
         ],
         "gridcolor": "#E1E5ED",
         "showgrid": false,
         "tickfont": {
          "color": "#4D5663"
         },
         "title": {
          "font": {
           "color": "#4D5663"
          },
          "text": ""
         },
         "zerolinecolor": "#E1E5ED"
        },
        "yaxis14": {
         "anchor": "x14",
         "domain": [
          0,
          0.1975
         ],
         "gridcolor": "#E1E5ED",
         "showgrid": false,
         "tickfont": {
          "color": "#4D5663"
         },
         "title": {
          "font": {
           "color": "#4D5663"
          },
          "text": ""
         },
         "zerolinecolor": "#E1E5ED"
        },
        "yaxis15": {
         "anchor": "x15",
         "domain": [
          0,
          0.1975
         ],
         "gridcolor": "#E1E5ED",
         "showgrid": false,
         "tickfont": {
          "color": "#4D5663"
         },
         "title": {
          "font": {
           "color": "#4D5663"
          },
          "text": ""
         },
         "zerolinecolor": "#E1E5ED"
        },
        "yaxis16": {
         "anchor": "x16",
         "domain": [
          0,
          0.1975
         ],
         "gridcolor": "#E1E5ED",
         "showgrid": false,
         "tickfont": {
          "color": "#4D5663"
         },
         "title": {
          "font": {
           "color": "#4D5663"
          },
          "text": ""
         },
         "zerolinecolor": "#E1E5ED"
        },
        "yaxis2": {
         "anchor": "x2",
         "domain": [
          0.8025,
          1
         ],
         "gridcolor": "#E1E5ED",
         "showgrid": false,
         "tickfont": {
          "color": "#4D5663"
         },
         "title": {
          "font": {
           "color": "#4D5663"
          },
          "text": ""
         },
         "zerolinecolor": "#E1E5ED"
        },
        "yaxis3": {
         "anchor": "x3",
         "domain": [
          0.8025,
          1
         ],
         "gridcolor": "#E1E5ED",
         "showgrid": false,
         "tickfont": {
          "color": "#4D5663"
         },
         "title": {
          "font": {
           "color": "#4D5663"
          },
          "text": ""
         },
         "zerolinecolor": "#E1E5ED"
        },
        "yaxis4": {
         "anchor": "x4",
         "domain": [
          0.8025,
          1
         ],
         "gridcolor": "#E1E5ED",
         "showgrid": false,
         "tickfont": {
          "color": "#4D5663"
         },
         "title": {
          "font": {
           "color": "#4D5663"
          },
          "text": ""
         },
         "zerolinecolor": "#E1E5ED"
        },
        "yaxis5": {
         "anchor": "x5",
         "domain": [
          0.535,
          0.7325
         ],
         "gridcolor": "#E1E5ED",
         "showgrid": false,
         "tickfont": {
          "color": "#4D5663"
         },
         "title": {
          "font": {
           "color": "#4D5663"
          },
          "text": ""
         },
         "zerolinecolor": "#E1E5ED"
        },
        "yaxis6": {
         "anchor": "x6",
         "domain": [
          0.535,
          0.7325
         ],
         "gridcolor": "#E1E5ED",
         "showgrid": false,
         "tickfont": {
          "color": "#4D5663"
         },
         "title": {
          "font": {
           "color": "#4D5663"
          },
          "text": ""
         },
         "zerolinecolor": "#E1E5ED"
        },
        "yaxis7": {
         "anchor": "x7",
         "domain": [
          0.535,
          0.7325
         ],
         "gridcolor": "#E1E5ED",
         "showgrid": false,
         "tickfont": {
          "color": "#4D5663"
         },
         "title": {
          "font": {
           "color": "#4D5663"
          },
          "text": ""
         },
         "zerolinecolor": "#E1E5ED"
        },
        "yaxis8": {
         "anchor": "x8",
         "domain": [
          0.535,
          0.7325
         ],
         "gridcolor": "#E1E5ED",
         "showgrid": false,
         "tickfont": {
          "color": "#4D5663"
         },
         "title": {
          "font": {
           "color": "#4D5663"
          },
          "text": ""
         },
         "zerolinecolor": "#E1E5ED"
        },
        "yaxis9": {
         "anchor": "x9",
         "domain": [
          0.2675,
          0.465
         ],
         "gridcolor": "#E1E5ED",
         "showgrid": false,
         "tickfont": {
          "color": "#4D5663"
         },
         "title": {
          "font": {
           "color": "#4D5663"
          },
          "text": ""
         },
         "zerolinecolor": "#E1E5ED"
        }
       }
      },
      "text/html": [
       "<div>                            <div id=\"4bbb3b1f-6bb4-46a1-bc82-8c6b9c2034ca\" class=\"plotly-graph-div\" style=\"height:525px; width:100%;\"></div>            <script type=\"text/javascript\">                require([\"plotly\"], function(Plotly) {                    window.PLOTLYENV=window.PLOTLYENV || {};\n",
       "                    window.PLOTLYENV.BASE_URL='https://plot.ly';                                    if (document.getElementById(\"4bbb3b1f-6bb4-46a1-bc82-8c6b9c2034ca\")) {                    Plotly.newPlot(                        \"4bbb3b1f-6bb4-46a1-bc82-8c6b9c2034ca\",                        [{\"histfunc\": \"count\", \"histnorm\": \"\", \"marker\": {\"color\": \"rgba(255, 153, 51, 1.0)\", \"line\": {\"color\": \"#4D5663\", \"width\": 1.3}}, \"name\": \"A\", \"nbinsx\": 10, \"opacity\": 0.8, \"orientation\": \"v\", \"type\": \"histogram\", \"x\": [-1.3545048514202886, -0.27728378291500244, 0.45496642739072185, -0.23107642156544375, 0.3225381016251746, -1.0008187198265743, 0.9845366396545454, -0.50321152657273, 1.6157058505386503, -1.0755409628997235, -0.7266925458064639, -1.595502047740283, 0.43015754731259187, -0.5023039509792152, 1.1993891113951063, 1.5027455883128777, -2.0111448778151333, 0.27904655655280847, -0.36670722252928634, -1.045321731796316, 0.10914045660460339, -0.6328966222259624, 1.0225649219030128, 0.23646366884558706, 0.41548422719458417, -1.0976117676432184, -1.3390903914000774, -0.4528371511298527, -0.42733490165283505, 0.5754120459853603, 0.11281268381519279, -1.1504102405112058, -0.050574871926182784, 0.6018645063084697, -1.4510472945569854, -0.21392389795359612, 0.9380171050066473, -0.09438742292598681, -0.07053906033576715, 2.2285687724394343, 0.19845839839579424, 1.2131263496243834, 1.1792006659868235, -0.7568736002213788, -1.32459048528407, -0.6129471634329756, -0.4709172661057217, -0.7285462902748785, -0.25955121913034657, 0.1555555496229885, -1.0067734814821243, 1.4876681778759002, -0.19585676804199598, -1.3051812203656723, -0.7121109427231624, 1.4370077967986707, 0.4538113012220596, 0.32118719474111324, 1.9306937024550697, -1.0000186636360553, 1.3538998887923899, 1.0254565059989138, -0.6070225790196295, 1.7505222400386586, 1.7797158783195268, 0.17570637331592434, 0.1301137572005141, -0.4213331565359732, 0.2879440028531558, 2.138360358957446, 1.0890958981482772, -0.26490401714714534, 0.027728903643897698, 0.40479261158660584, 0.9083928456027764, -0.5899242333379505, -0.8616710639476087, 1.235011144214475, 1.2773603111730898, 0.1646548821502208, 0.19239963499647977, -1.3887769224713287, 0.03482195209693308, 1.5745439863348998, -0.6366925872900931, -0.41589432971818063, 0.3427910975984431, 0.8366529944437844, 0.34780611914933296, -1.4700076557867081, 0.38964290131019585, -0.7884288396387822, -0.9056465667023024, 0.3399186743690349, -0.6477575326386299, 1.5680595200598508, 2.269928998581372, -1.0404746060192802, 0.5237456598895535, 0.9448421163357893], \"xaxis\": \"x\", \"yaxis\": \"y\"}, {\"line\": {\"color\": \"rgba(128, 128, 128, 1.0)\", \"dash\": \"solid\", \"shape\": \"linear\", \"width\": 1.3}, \"marker\": {\"size\": 2, \"symbol\": \"circle\"}, \"mode\": \"markers\", \"name\": \"A\", \"text\": \"\", \"type\": \"scatter\", \"x\": [-0.6370662306345296, -0.18779479970184382, -0.933271565970044, 0.9212074612281883, 0.8936514161808388, 0.8342227138476731, 0.8587196320328144, 0.22881724899518655, -0.9180773570599018, -0.45142786836483606, -0.22248070393362662, 0.44917113276718723, -0.5973156191937276, 2.1898876198884047, -0.4902326025541706, -2.018799695983331, -1.3633094063854794, 0.722171910193369, 1.398112707247513, -0.08109011152174196, 1.2230279514126137, -0.21409272975599575, 0.38937698547166644, 0.5838286529465544, 0.8956700723977705, 0.961281589148261, 1.7492867643302497, -2.0349038968514983, 0.9622336412524589, -1.6031314870782933, 0.06891589583313582, -0.34008733689357995, 1.4904754639563247, -0.6838384992536902, 0.6019227388150992, 1.0744944375979761, -0.4426583612634076, -1.238007017870152, -0.23516809680023168, 0.17849613576372855, -1.9737195066421716, 0.7900923082368406, 0.12618231219509693, -0.6881342409954447, 1.0740609598702087, -2.2292758320157007, 0.33792269970410865, -0.046717796304047564, -1.3299347008261175, -0.832872352576968, -0.02629450649372879, -1.3973378150364184, 2.0597015168262067, 0.7158707733517314, 1.538355947800245, 0.8200805455889011, 0.06197608346940097, -0.30465938188471225, -2.791129597868393, -0.6640117629558614, -0.7395309222045003, -1.1692089459454784, 1.077217332302895, -0.687746618866074, 1.4691428404927873, 0.8768833279459809, 0.3599051799630393, -0.447137575412363, -0.41913677028305696, 0.5464024743534294, 0.4307296648098181, -1.8466600072649433, 0.10608219598356404, -1.4511218468659515, 0.4246996885645433, 1.284557483121074, 0.12055153420288005, 1.1349369472971491, -0.08792505531674043, -1.2616820293829447, 0.021585833373038835, 0.433630805405162, -0.41834366420211727, -1.3449157042759814, 0.7473410766559658, -1.879342304593012, 0.28080103709289456, -0.5157429018677484, 1.140210489380863, 1.7292730109199856, -0.9166642240809446, 0.7944208063936056, 2.302665781556202, -1.157887088105418, -0.2936987293432595, 0.18816450281699626, 0.1508502062472272, 0.3179360880392077, -0.4593359983942544, 0.27511528779754385], \"xaxis\": \"x2\", \"y\": [-1.3545048514202886, -0.27728378291500244, 0.45496642739072185, -0.23107642156544375, 0.3225381016251746, -1.0008187198265743, 0.9845366396545454, -0.50321152657273, 1.6157058505386503, -1.0755409628997235, -0.7266925458064639, -1.595502047740283, 0.43015754731259187, -0.5023039509792152, 1.1993891113951063, 1.5027455883128777, -2.0111448778151333, 0.27904655655280847, -0.36670722252928634, -1.045321731796316, 0.10914045660460339, -0.6328966222259624, 1.0225649219030128, 0.23646366884558706, 0.41548422719458417, -1.0976117676432184, -1.3390903914000774, -0.4528371511298527, -0.42733490165283505, 0.5754120459853603, 0.11281268381519279, -1.1504102405112058, -0.050574871926182784, 0.6018645063084697, -1.4510472945569854, -0.21392389795359612, 0.9380171050066473, -0.09438742292598681, -0.07053906033576715, 2.2285687724394343, 0.19845839839579424, 1.2131263496243834, 1.1792006659868235, -0.7568736002213788, -1.32459048528407, -0.6129471634329756, -0.4709172661057217, -0.7285462902748785, -0.25955121913034657, 0.1555555496229885, -1.0067734814821243, 1.4876681778759002, -0.19585676804199598, -1.3051812203656723, -0.7121109427231624, 1.4370077967986707, 0.4538113012220596, 0.32118719474111324, 1.9306937024550697, -1.0000186636360553, 1.3538998887923899, 1.0254565059989138, -0.6070225790196295, 1.7505222400386586, 1.7797158783195268, 0.17570637331592434, 0.1301137572005141, -0.4213331565359732, 0.2879440028531558, 2.138360358957446, 1.0890958981482772, -0.26490401714714534, 0.027728903643897698, 0.40479261158660584, 0.9083928456027764, -0.5899242333379505, -0.8616710639476087, 1.235011144214475, 1.2773603111730898, 0.1646548821502208, 0.19239963499647977, -1.3887769224713287, 0.03482195209693308, 1.5745439863348998, -0.6366925872900931, -0.41589432971818063, 0.3427910975984431, 0.8366529944437844, 0.34780611914933296, -1.4700076557867081, 0.38964290131019585, -0.7884288396387822, -0.9056465667023024, 0.3399186743690349, -0.6477575326386299, 1.5680595200598508, 2.269928998581372, -1.0404746060192802, 0.5237456598895535, 0.9448421163357893], \"yaxis\": \"y2\"}, {\"line\": {\"color\": \"rgba(128, 128, 128, 1.0)\", \"dash\": \"solid\", \"shape\": \"linear\", \"width\": 1.3}, \"marker\": {\"size\": 2, \"symbol\": \"circle\"}, \"mode\": \"markers\", \"name\": \"A\", \"text\": \"\", \"type\": \"scatter\", \"x\": [0.17727501358339443, 0.7675790892931331, 0.7426482326518081, 0.16995055619755647, 1.090904635132639, 0.09387287470099513, 0.4897155859030093, -0.3526003989599885, -1.5020324196059973, 0.8568780172449583, 1.1888527393378387, 0.37337033645810563, -0.2843089155105719, -0.08903682859573299, 0.659290481180818, -0.5702964489673472, 0.20824190146825128, 1.477544182228884, -2.2663861673596104, -0.918190628510219, 0.9815430754475645, 1.1963795048605528, -0.582471383118007, -0.43065020158821765, 0.7292356248529095, -1.1126783561463256, -1.0737857923404885, 1.1249641509208888, -1.177887298697572, -0.6421378823244043, 0.36525819243608904, -0.8231168304200789, -0.15124396419267142, -1.059510922713966, 0.4228394732232688, -1.6407190498232147, -0.11658503414311217, 1.1847342796026734, 1.7603820071727325, -1.0323223414552383, 1.5241292355361828, -0.47167319631113175, 0.41771472595017, -0.44257990041265177, -0.4457218004962936, -1.05606129272087, -0.6475117870595651, -0.1427949440036624, -0.084971064125444, -2.031346651843206, -1.3417316367420749, -0.8436810558824752, 1.429751141931643, 0.3073707295814666, 1.2573071374952731, 2.5304800624870674, -0.6472367543926753, 1.43746648182174, 0.3592379585375508, 0.7179964889696346, -0.2634886822238987, 0.22643012552675823, -0.3671468396701537, -1.9895520059061513, -0.7386934319014247, -0.5217806582087279, -0.7638054628786506, -0.6895070591300198, -1.60460561706749, 0.9729484503670851, -1.3479986977665346, -0.6281809491935955, -0.7965079474327273, 0.8411742348925145, 1.613602523630258, -0.041787801903583915, 0.6689088866173973, 0.1263923177465286, -0.08421704177805359, -0.26850295575609995, -1.2121044098271738, -0.6236327447212068, 0.5342625395512093, -0.022718493882598063, -0.06121209654978588, 0.7842935269257469, -1.0318400097854954, 1.1396452886065107, 2.151607990246248, -0.7585179535047096, 0.06889444726973967, 0.6813644279190719, 0.07260826563691085, 0.5878992331877385, 0.9942375387594256, -0.5811488124902294, 0.9761751366879855, 1.4695906294141075, 0.208004152843283, 2.549353450852832], \"xaxis\": \"x3\", \"y\": [-1.3545048514202886, -0.27728378291500244, 0.45496642739072185, -0.23107642156544375, 0.3225381016251746, -1.0008187198265743, 0.9845366396545454, -0.50321152657273, 1.6157058505386503, -1.0755409628997235, -0.7266925458064639, -1.595502047740283, 0.43015754731259187, -0.5023039509792152, 1.1993891113951063, 1.5027455883128777, -2.0111448778151333, 0.27904655655280847, -0.36670722252928634, -1.045321731796316, 0.10914045660460339, -0.6328966222259624, 1.0225649219030128, 0.23646366884558706, 0.41548422719458417, -1.0976117676432184, -1.3390903914000774, -0.4528371511298527, -0.42733490165283505, 0.5754120459853603, 0.11281268381519279, -1.1504102405112058, -0.050574871926182784, 0.6018645063084697, -1.4510472945569854, -0.21392389795359612, 0.9380171050066473, -0.09438742292598681, -0.07053906033576715, 2.2285687724394343, 0.19845839839579424, 1.2131263496243834, 1.1792006659868235, -0.7568736002213788, -1.32459048528407, -0.6129471634329756, -0.4709172661057217, -0.7285462902748785, -0.25955121913034657, 0.1555555496229885, -1.0067734814821243, 1.4876681778759002, -0.19585676804199598, -1.3051812203656723, -0.7121109427231624, 1.4370077967986707, 0.4538113012220596, 0.32118719474111324, 1.9306937024550697, -1.0000186636360553, 1.3538998887923899, 1.0254565059989138, -0.6070225790196295, 1.7505222400386586, 1.7797158783195268, 0.17570637331592434, 0.1301137572005141, -0.4213331565359732, 0.2879440028531558, 2.138360358957446, 1.0890958981482772, -0.26490401714714534, 0.027728903643897698, 0.40479261158660584, 0.9083928456027764, -0.5899242333379505, -0.8616710639476087, 1.235011144214475, 1.2773603111730898, 0.1646548821502208, 0.19239963499647977, -1.3887769224713287, 0.03482195209693308, 1.5745439863348998, -0.6366925872900931, -0.41589432971818063, 0.3427910975984431, 0.8366529944437844, 0.34780611914933296, -1.4700076557867081, 0.38964290131019585, -0.7884288396387822, -0.9056465667023024, 0.3399186743690349, -0.6477575326386299, 1.5680595200598508, 2.269928998581372, -1.0404746060192802, 0.5237456598895535, 0.9448421163357893], \"yaxis\": \"y3\"}, {\"line\": {\"color\": \"rgba(128, 128, 128, 1.0)\", \"dash\": \"solid\", \"shape\": \"linear\", \"width\": 1.3}, \"marker\": {\"size\": 2, \"symbol\": \"circle\"}, \"mode\": \"markers\", \"name\": \"A\", \"text\": \"\", \"type\": \"scatter\", \"x\": [1.4161269150082703, 0.9099418545481454, -0.1520745902746288, -0.6157190447998693, 0.23501709874065518, -0.08954496598170626, -1.1069220366777928, 0.25546001939489116, 1.123799547148625, -0.8427001303265524, -0.26936950688912814, 0.6547787616846491, 1.4079452260160858, -0.14159372719106786, 1.463574108538233, 0.30180653498512977, 0.40996895881869916, -0.946143024850983, -0.6546722170665688, -0.8993130183111181, 0.6350782269236444, 1.3953119495101083, 1.0838071028492255, 0.8190850242746013, -0.7354835095964742, -0.008751000129040488, -1.4193479974669696, 0.47861242828808254, -0.34913108616056626, 1.2921485127366013, -1.5619203416202032, 0.4185495336224118, 2.5059538347855113, 0.6806423555903528, -1.239722282909275, 0.0027770038867789915, -1.2537859007482053, 0.5298119911939558, -1.4569067757208616, 0.0824867493121816, 0.06026685610114835, -0.7378289996369067, 0.221919332661049, -0.6984265965452328, -0.021345969455511298, -1.34169281577497, 0.46093268999588155, -0.9878087568125531, 0.6867087397846777, -1.5411316351648023, -1.4089701824411427, -1.2719090244721443, 0.916052527276419, 1.3280183024638061, -0.6881957682497584, -1.2581706095260712, 0.4630271601922367, -1.0729861460506882, -1.8381937323069328, -0.32047346022717405, 0.42593363105180476, 0.8953812215371134, -0.6748231944099274, -1.8253583523000774, -0.5858419215157434, -0.9397708953133883, 0.8396045753762226, -0.6237812963270523, 0.29618974815684046, 2.3920364170055954, 3.2378305047808826, 0.10932445828346436, 2.9838926343686523, -0.4795835975537721, 0.44292234405466624, 2.1595304525086676, 1.226050593080821, -1.612867475051631, -0.30812150700596197, -1.117804382940929, 0.04619313208996349, -0.23434867295184955, -0.19147674398434888, -0.14776082711117045, -1.4186091957625286, -2.178284783117934, -0.6829236779712234, -0.051276625025758506, 1.5081177227260016, 0.6536599137486626, 0.0028700408535427056, -0.4230631530286068, 0.006696983399884731, -1.8938149909057822, 0.9022364206146153, -0.5796345846331413, -0.29308018746907694, 0.8282614923522763, 0.5582747600276524, 0.13813326582956842], \"xaxis\": \"x4\", \"y\": [-1.3545048514202886, -0.27728378291500244, 0.45496642739072185, -0.23107642156544375, 0.3225381016251746, -1.0008187198265743, 0.9845366396545454, -0.50321152657273, 1.6157058505386503, -1.0755409628997235, -0.7266925458064639, -1.595502047740283, 0.43015754731259187, -0.5023039509792152, 1.1993891113951063, 1.5027455883128777, -2.0111448778151333, 0.27904655655280847, -0.36670722252928634, -1.045321731796316, 0.10914045660460339, -0.6328966222259624, 1.0225649219030128, 0.23646366884558706, 0.41548422719458417, -1.0976117676432184, -1.3390903914000774, -0.4528371511298527, -0.42733490165283505, 0.5754120459853603, 0.11281268381519279, -1.1504102405112058, -0.050574871926182784, 0.6018645063084697, -1.4510472945569854, -0.21392389795359612, 0.9380171050066473, -0.09438742292598681, -0.07053906033576715, 2.2285687724394343, 0.19845839839579424, 1.2131263496243834, 1.1792006659868235, -0.7568736002213788, -1.32459048528407, -0.6129471634329756, -0.4709172661057217, -0.7285462902748785, -0.25955121913034657, 0.1555555496229885, -1.0067734814821243, 1.4876681778759002, -0.19585676804199598, -1.3051812203656723, -0.7121109427231624, 1.4370077967986707, 0.4538113012220596, 0.32118719474111324, 1.9306937024550697, -1.0000186636360553, 1.3538998887923899, 1.0254565059989138, -0.6070225790196295, 1.7505222400386586, 1.7797158783195268, 0.17570637331592434, 0.1301137572005141, -0.4213331565359732, 0.2879440028531558, 2.138360358957446, 1.0890958981482772, -0.26490401714714534, 0.027728903643897698, 0.40479261158660584, 0.9083928456027764, -0.5899242333379505, -0.8616710639476087, 1.235011144214475, 1.2773603111730898, 0.1646548821502208, 0.19239963499647977, -1.3887769224713287, 0.03482195209693308, 1.5745439863348998, -0.6366925872900931, -0.41589432971818063, 0.3427910975984431, 0.8366529944437844, 0.34780611914933296, -1.4700076557867081, 0.38964290131019585, -0.7884288396387822, -0.9056465667023024, 0.3399186743690349, -0.6477575326386299, 1.5680595200598508, 2.269928998581372, -1.0404746060192802, 0.5237456598895535, 0.9448421163357893], \"yaxis\": \"y4\"}, {\"line\": {\"color\": \"rgba(128, 128, 128, 1.0)\", \"dash\": \"solid\", \"shape\": \"linear\", \"width\": 1.3}, \"marker\": {\"size\": 2, \"symbol\": \"circle\"}, \"mode\": \"markers\", \"name\": \"B\", \"text\": \"\", \"type\": \"scatter\", \"x\": [-1.3545048514202886, -0.27728378291500244, 0.45496642739072185, -0.23107642156544375, 0.3225381016251746, -1.0008187198265743, 0.9845366396545454, -0.50321152657273, 1.6157058505386503, -1.0755409628997235, -0.7266925458064639, -1.595502047740283, 0.43015754731259187, -0.5023039509792152, 1.1993891113951063, 1.5027455883128777, -2.0111448778151333, 0.27904655655280847, -0.36670722252928634, -1.045321731796316, 0.10914045660460339, -0.6328966222259624, 1.0225649219030128, 0.23646366884558706, 0.41548422719458417, -1.0976117676432184, -1.3390903914000774, -0.4528371511298527, -0.42733490165283505, 0.5754120459853603, 0.11281268381519279, -1.1504102405112058, -0.050574871926182784, 0.6018645063084697, -1.4510472945569854, -0.21392389795359612, 0.9380171050066473, -0.09438742292598681, -0.07053906033576715, 2.2285687724394343, 0.19845839839579424, 1.2131263496243834, 1.1792006659868235, -0.7568736002213788, -1.32459048528407, -0.6129471634329756, -0.4709172661057217, -0.7285462902748785, -0.25955121913034657, 0.1555555496229885, -1.0067734814821243, 1.4876681778759002, -0.19585676804199598, -1.3051812203656723, -0.7121109427231624, 1.4370077967986707, 0.4538113012220596, 0.32118719474111324, 1.9306937024550697, -1.0000186636360553, 1.3538998887923899, 1.0254565059989138, -0.6070225790196295, 1.7505222400386586, 1.7797158783195268, 0.17570637331592434, 0.1301137572005141, -0.4213331565359732, 0.2879440028531558, 2.138360358957446, 1.0890958981482772, -0.26490401714714534, 0.027728903643897698, 0.40479261158660584, 0.9083928456027764, -0.5899242333379505, -0.8616710639476087, 1.235011144214475, 1.2773603111730898, 0.1646548821502208, 0.19239963499647977, -1.3887769224713287, 0.03482195209693308, 1.5745439863348998, -0.6366925872900931, -0.41589432971818063, 0.3427910975984431, 0.8366529944437844, 0.34780611914933296, -1.4700076557867081, 0.38964290131019585, -0.7884288396387822, -0.9056465667023024, 0.3399186743690349, -0.6477575326386299, 1.5680595200598508, 2.269928998581372, -1.0404746060192802, 0.5237456598895535, 0.9448421163357893], \"xaxis\": \"x5\", \"y\": [-0.6370662306345296, -0.18779479970184382, -0.933271565970044, 0.9212074612281883, 0.8936514161808388, 0.8342227138476731, 0.8587196320328144, 0.22881724899518655, -0.9180773570599018, -0.45142786836483606, -0.22248070393362662, 0.44917113276718723, -0.5973156191937276, 2.1898876198884047, -0.4902326025541706, -2.018799695983331, -1.3633094063854794, 0.722171910193369, 1.398112707247513, -0.08109011152174196, 1.2230279514126137, -0.21409272975599575, 0.38937698547166644, 0.5838286529465544, 0.8956700723977705, 0.961281589148261, 1.7492867643302497, -2.0349038968514983, 0.9622336412524589, -1.6031314870782933, 0.06891589583313582, -0.34008733689357995, 1.4904754639563247, -0.6838384992536902, 0.6019227388150992, 1.0744944375979761, -0.4426583612634076, -1.238007017870152, -0.23516809680023168, 0.17849613576372855, -1.9737195066421716, 0.7900923082368406, 0.12618231219509693, -0.6881342409954447, 1.0740609598702087, -2.2292758320157007, 0.33792269970410865, -0.046717796304047564, -1.3299347008261175, -0.832872352576968, -0.02629450649372879, -1.3973378150364184, 2.0597015168262067, 0.7158707733517314, 1.538355947800245, 0.8200805455889011, 0.06197608346940097, -0.30465938188471225, -2.791129597868393, -0.6640117629558614, -0.7395309222045003, -1.1692089459454784, 1.077217332302895, -0.687746618866074, 1.4691428404927873, 0.8768833279459809, 0.3599051799630393, -0.447137575412363, -0.41913677028305696, 0.5464024743534294, 0.4307296648098181, -1.8466600072649433, 0.10608219598356404, -1.4511218468659515, 0.4246996885645433, 1.284557483121074, 0.12055153420288005, 1.1349369472971491, -0.08792505531674043, -1.2616820293829447, 0.021585833373038835, 0.433630805405162, -0.41834366420211727, -1.3449157042759814, 0.7473410766559658, -1.879342304593012, 0.28080103709289456, -0.5157429018677484, 1.140210489380863, 1.7292730109199856, -0.9166642240809446, 0.7944208063936056, 2.302665781556202, -1.157887088105418, -0.2936987293432595, 0.18816450281699626, 0.1508502062472272, 0.3179360880392077, -0.4593359983942544, 0.27511528779754385], \"yaxis\": \"y5\"}, {\"histfunc\": \"count\", \"histnorm\": \"\", \"marker\": {\"color\": \"rgba(55, 128, 191, 1.0)\", \"line\": {\"color\": \"#4D5663\", \"width\": 1.3}}, \"name\": \"B\", \"nbinsx\": 10, \"opacity\": 0.8, \"orientation\": \"v\", \"type\": \"histogram\", \"x\": [-0.6370662306345296, -0.18779479970184382, -0.933271565970044, 0.9212074612281883, 0.8936514161808388, 0.8342227138476731, 0.8587196320328144, 0.22881724899518655, -0.9180773570599018, -0.45142786836483606, -0.22248070393362662, 0.44917113276718723, -0.5973156191937276, 2.1898876198884047, -0.4902326025541706, -2.018799695983331, -1.3633094063854794, 0.722171910193369, 1.398112707247513, -0.08109011152174196, 1.2230279514126137, -0.21409272975599575, 0.38937698547166644, 0.5838286529465544, 0.8956700723977705, 0.961281589148261, 1.7492867643302497, -2.0349038968514983, 0.9622336412524589, -1.6031314870782933, 0.06891589583313582, -0.34008733689357995, 1.4904754639563247, -0.6838384992536902, 0.6019227388150992, 1.0744944375979761, -0.4426583612634076, -1.238007017870152, -0.23516809680023168, 0.17849613576372855, -1.9737195066421716, 0.7900923082368406, 0.12618231219509693, -0.6881342409954447, 1.0740609598702087, -2.2292758320157007, 0.33792269970410865, -0.046717796304047564, -1.3299347008261175, -0.832872352576968, -0.02629450649372879, -1.3973378150364184, 2.0597015168262067, 0.7158707733517314, 1.538355947800245, 0.8200805455889011, 0.06197608346940097, -0.30465938188471225, -2.791129597868393, -0.6640117629558614, -0.7395309222045003, -1.1692089459454784, 1.077217332302895, -0.687746618866074, 1.4691428404927873, 0.8768833279459809, 0.3599051799630393, -0.447137575412363, -0.41913677028305696, 0.5464024743534294, 0.4307296648098181, -1.8466600072649433, 0.10608219598356404, -1.4511218468659515, 0.4246996885645433, 1.284557483121074, 0.12055153420288005, 1.1349369472971491, -0.08792505531674043, -1.2616820293829447, 0.021585833373038835, 0.433630805405162, -0.41834366420211727, -1.3449157042759814, 0.7473410766559658, -1.879342304593012, 0.28080103709289456, -0.5157429018677484, 1.140210489380863, 1.7292730109199856, -0.9166642240809446, 0.7944208063936056, 2.302665781556202, -1.157887088105418, -0.2936987293432595, 0.18816450281699626, 0.1508502062472272, 0.3179360880392077, -0.4593359983942544, 0.27511528779754385], \"xaxis\": \"x6\", \"yaxis\": \"y6\"}, {\"line\": {\"color\": \"rgba(128, 128, 128, 1.0)\", \"dash\": \"solid\", \"shape\": \"linear\", \"width\": 1.3}, \"marker\": {\"size\": 2, \"symbol\": \"circle\"}, \"mode\": \"markers\", \"name\": \"B\", \"text\": \"\", \"type\": \"scatter\", \"x\": [0.17727501358339443, 0.7675790892931331, 0.7426482326518081, 0.16995055619755647, 1.090904635132639, 0.09387287470099513, 0.4897155859030093, -0.3526003989599885, -1.5020324196059973, 0.8568780172449583, 1.1888527393378387, 0.37337033645810563, -0.2843089155105719, -0.08903682859573299, 0.659290481180818, -0.5702964489673472, 0.20824190146825128, 1.477544182228884, -2.2663861673596104, -0.918190628510219, 0.9815430754475645, 1.1963795048605528, -0.582471383118007, -0.43065020158821765, 0.7292356248529095, -1.1126783561463256, -1.0737857923404885, 1.1249641509208888, -1.177887298697572, -0.6421378823244043, 0.36525819243608904, -0.8231168304200789, -0.15124396419267142, -1.059510922713966, 0.4228394732232688, -1.6407190498232147, -0.11658503414311217, 1.1847342796026734, 1.7603820071727325, -1.0323223414552383, 1.5241292355361828, -0.47167319631113175, 0.41771472595017, -0.44257990041265177, -0.4457218004962936, -1.05606129272087, -0.6475117870595651, -0.1427949440036624, -0.084971064125444, -2.031346651843206, -1.3417316367420749, -0.8436810558824752, 1.429751141931643, 0.3073707295814666, 1.2573071374952731, 2.5304800624870674, -0.6472367543926753, 1.43746648182174, 0.3592379585375508, 0.7179964889696346, -0.2634886822238987, 0.22643012552675823, -0.3671468396701537, -1.9895520059061513, -0.7386934319014247, -0.5217806582087279, -0.7638054628786506, -0.6895070591300198, -1.60460561706749, 0.9729484503670851, -1.3479986977665346, -0.6281809491935955, -0.7965079474327273, 0.8411742348925145, 1.613602523630258, -0.041787801903583915, 0.6689088866173973, 0.1263923177465286, -0.08421704177805359, -0.26850295575609995, -1.2121044098271738, -0.6236327447212068, 0.5342625395512093, -0.022718493882598063, -0.06121209654978588, 0.7842935269257469, -1.0318400097854954, 1.1396452886065107, 2.151607990246248, -0.7585179535047096, 0.06889444726973967, 0.6813644279190719, 0.07260826563691085, 0.5878992331877385, 0.9942375387594256, -0.5811488124902294, 0.9761751366879855, 1.4695906294141075, 0.208004152843283, 2.549353450852832], \"xaxis\": \"x7\", \"y\": [-0.6370662306345296, -0.18779479970184382, -0.933271565970044, 0.9212074612281883, 0.8936514161808388, 0.8342227138476731, 0.8587196320328144, 0.22881724899518655, -0.9180773570599018, -0.45142786836483606, -0.22248070393362662, 0.44917113276718723, -0.5973156191937276, 2.1898876198884047, -0.4902326025541706, -2.018799695983331, -1.3633094063854794, 0.722171910193369, 1.398112707247513, -0.08109011152174196, 1.2230279514126137, -0.21409272975599575, 0.38937698547166644, 0.5838286529465544, 0.8956700723977705, 0.961281589148261, 1.7492867643302497, -2.0349038968514983, 0.9622336412524589, -1.6031314870782933, 0.06891589583313582, -0.34008733689357995, 1.4904754639563247, -0.6838384992536902, 0.6019227388150992, 1.0744944375979761, -0.4426583612634076, -1.238007017870152, -0.23516809680023168, 0.17849613576372855, -1.9737195066421716, 0.7900923082368406, 0.12618231219509693, -0.6881342409954447, 1.0740609598702087, -2.2292758320157007, 0.33792269970410865, -0.046717796304047564, -1.3299347008261175, -0.832872352576968, -0.02629450649372879, -1.3973378150364184, 2.0597015168262067, 0.7158707733517314, 1.538355947800245, 0.8200805455889011, 0.06197608346940097, -0.30465938188471225, -2.791129597868393, -0.6640117629558614, -0.7395309222045003, -1.1692089459454784, 1.077217332302895, -0.687746618866074, 1.4691428404927873, 0.8768833279459809, 0.3599051799630393, -0.447137575412363, -0.41913677028305696, 0.5464024743534294, 0.4307296648098181, -1.8466600072649433, 0.10608219598356404, -1.4511218468659515, 0.4246996885645433, 1.284557483121074, 0.12055153420288005, 1.1349369472971491, -0.08792505531674043, -1.2616820293829447, 0.021585833373038835, 0.433630805405162, -0.41834366420211727, -1.3449157042759814, 0.7473410766559658, -1.879342304593012, 0.28080103709289456, -0.5157429018677484, 1.140210489380863, 1.7292730109199856, -0.9166642240809446, 0.7944208063936056, 2.302665781556202, -1.157887088105418, -0.2936987293432595, 0.18816450281699626, 0.1508502062472272, 0.3179360880392077, -0.4593359983942544, 0.27511528779754385], \"yaxis\": \"y7\"}, {\"line\": {\"color\": \"rgba(128, 128, 128, 1.0)\", \"dash\": \"solid\", \"shape\": \"linear\", \"width\": 1.3}, \"marker\": {\"size\": 2, \"symbol\": \"circle\"}, \"mode\": \"markers\", \"name\": \"B\", \"text\": \"\", \"type\": \"scatter\", \"x\": [1.4161269150082703, 0.9099418545481454, -0.1520745902746288, -0.6157190447998693, 0.23501709874065518, -0.08954496598170626, -1.1069220366777928, 0.25546001939489116, 1.123799547148625, -0.8427001303265524, -0.26936950688912814, 0.6547787616846491, 1.4079452260160858, -0.14159372719106786, 1.463574108538233, 0.30180653498512977, 0.40996895881869916, -0.946143024850983, -0.6546722170665688, -0.8993130183111181, 0.6350782269236444, 1.3953119495101083, 1.0838071028492255, 0.8190850242746013, -0.7354835095964742, -0.008751000129040488, -1.4193479974669696, 0.47861242828808254, -0.34913108616056626, 1.2921485127366013, -1.5619203416202032, 0.4185495336224118, 2.5059538347855113, 0.6806423555903528, -1.239722282909275, 0.0027770038867789915, -1.2537859007482053, 0.5298119911939558, -1.4569067757208616, 0.0824867493121816, 0.06026685610114835, -0.7378289996369067, 0.221919332661049, -0.6984265965452328, -0.021345969455511298, -1.34169281577497, 0.46093268999588155, -0.9878087568125531, 0.6867087397846777, -1.5411316351648023, -1.4089701824411427, -1.2719090244721443, 0.916052527276419, 1.3280183024638061, -0.6881957682497584, -1.2581706095260712, 0.4630271601922367, -1.0729861460506882, -1.8381937323069328, -0.32047346022717405, 0.42593363105180476, 0.8953812215371134, -0.6748231944099274, -1.8253583523000774, -0.5858419215157434, -0.9397708953133883, 0.8396045753762226, -0.6237812963270523, 0.29618974815684046, 2.3920364170055954, 3.2378305047808826, 0.10932445828346436, 2.9838926343686523, -0.4795835975537721, 0.44292234405466624, 2.1595304525086676, 1.226050593080821, -1.612867475051631, -0.30812150700596197, -1.117804382940929, 0.04619313208996349, -0.23434867295184955, -0.19147674398434888, -0.14776082711117045, -1.4186091957625286, -2.178284783117934, -0.6829236779712234, -0.051276625025758506, 1.5081177227260016, 0.6536599137486626, 0.0028700408535427056, -0.4230631530286068, 0.006696983399884731, -1.8938149909057822, 0.9022364206146153, -0.5796345846331413, -0.29308018746907694, 0.8282614923522763, 0.5582747600276524, 0.13813326582956842], \"xaxis\": \"x8\", \"y\": [-0.6370662306345296, -0.18779479970184382, -0.933271565970044, 0.9212074612281883, 0.8936514161808388, 0.8342227138476731, 0.8587196320328144, 0.22881724899518655, -0.9180773570599018, -0.45142786836483606, -0.22248070393362662, 0.44917113276718723, -0.5973156191937276, 2.1898876198884047, -0.4902326025541706, -2.018799695983331, -1.3633094063854794, 0.722171910193369, 1.398112707247513, -0.08109011152174196, 1.2230279514126137, -0.21409272975599575, 0.38937698547166644, 0.5838286529465544, 0.8956700723977705, 0.961281589148261, 1.7492867643302497, -2.0349038968514983, 0.9622336412524589, -1.6031314870782933, 0.06891589583313582, -0.34008733689357995, 1.4904754639563247, -0.6838384992536902, 0.6019227388150992, 1.0744944375979761, -0.4426583612634076, -1.238007017870152, -0.23516809680023168, 0.17849613576372855, -1.9737195066421716, 0.7900923082368406, 0.12618231219509693, -0.6881342409954447, 1.0740609598702087, -2.2292758320157007, 0.33792269970410865, -0.046717796304047564, -1.3299347008261175, -0.832872352576968, -0.02629450649372879, -1.3973378150364184, 2.0597015168262067, 0.7158707733517314, 1.538355947800245, 0.8200805455889011, 0.06197608346940097, -0.30465938188471225, -2.791129597868393, -0.6640117629558614, -0.7395309222045003, -1.1692089459454784, 1.077217332302895, -0.687746618866074, 1.4691428404927873, 0.8768833279459809, 0.3599051799630393, -0.447137575412363, -0.41913677028305696, 0.5464024743534294, 0.4307296648098181, -1.8466600072649433, 0.10608219598356404, -1.4511218468659515, 0.4246996885645433, 1.284557483121074, 0.12055153420288005, 1.1349369472971491, -0.08792505531674043, -1.2616820293829447, 0.021585833373038835, 0.433630805405162, -0.41834366420211727, -1.3449157042759814, 0.7473410766559658, -1.879342304593012, 0.28080103709289456, -0.5157429018677484, 1.140210489380863, 1.7292730109199856, -0.9166642240809446, 0.7944208063936056, 2.302665781556202, -1.157887088105418, -0.2936987293432595, 0.18816450281699626, 0.1508502062472272, 0.3179360880392077, -0.4593359983942544, 0.27511528779754385], \"yaxis\": \"y8\"}, {\"line\": {\"color\": \"rgba(128, 128, 128, 1.0)\", \"dash\": \"solid\", \"shape\": \"linear\", \"width\": 1.3}, \"marker\": {\"size\": 2, \"symbol\": \"circle\"}, \"mode\": \"markers\", \"name\": \"C\", \"text\": \"\", \"type\": \"scatter\", \"x\": [-1.3545048514202886, -0.27728378291500244, 0.45496642739072185, -0.23107642156544375, 0.3225381016251746, -1.0008187198265743, 0.9845366396545454, -0.50321152657273, 1.6157058505386503, -1.0755409628997235, -0.7266925458064639, -1.595502047740283, 0.43015754731259187, -0.5023039509792152, 1.1993891113951063, 1.5027455883128777, -2.0111448778151333, 0.27904655655280847, -0.36670722252928634, -1.045321731796316, 0.10914045660460339, -0.6328966222259624, 1.0225649219030128, 0.23646366884558706, 0.41548422719458417, -1.0976117676432184, -1.3390903914000774, -0.4528371511298527, -0.42733490165283505, 0.5754120459853603, 0.11281268381519279, -1.1504102405112058, -0.050574871926182784, 0.6018645063084697, -1.4510472945569854, -0.21392389795359612, 0.9380171050066473, -0.09438742292598681, -0.07053906033576715, 2.2285687724394343, 0.19845839839579424, 1.2131263496243834, 1.1792006659868235, -0.7568736002213788, -1.32459048528407, -0.6129471634329756, -0.4709172661057217, -0.7285462902748785, -0.25955121913034657, 0.1555555496229885, -1.0067734814821243, 1.4876681778759002, -0.19585676804199598, -1.3051812203656723, -0.7121109427231624, 1.4370077967986707, 0.4538113012220596, 0.32118719474111324, 1.9306937024550697, -1.0000186636360553, 1.3538998887923899, 1.0254565059989138, -0.6070225790196295, 1.7505222400386586, 1.7797158783195268, 0.17570637331592434, 0.1301137572005141, -0.4213331565359732, 0.2879440028531558, 2.138360358957446, 1.0890958981482772, -0.26490401714714534, 0.027728903643897698, 0.40479261158660584, 0.9083928456027764, -0.5899242333379505, -0.8616710639476087, 1.235011144214475, 1.2773603111730898, 0.1646548821502208, 0.19239963499647977, -1.3887769224713287, 0.03482195209693308, 1.5745439863348998, -0.6366925872900931, -0.41589432971818063, 0.3427910975984431, 0.8366529944437844, 0.34780611914933296, -1.4700076557867081, 0.38964290131019585, -0.7884288396387822, -0.9056465667023024, 0.3399186743690349, -0.6477575326386299, 1.5680595200598508, 2.269928998581372, -1.0404746060192802, 0.5237456598895535, 0.9448421163357893], \"xaxis\": \"x9\", \"y\": [0.17727501358339443, 0.7675790892931331, 0.7426482326518081, 0.16995055619755647, 1.090904635132639, 0.09387287470099513, 0.4897155859030093, -0.3526003989599885, -1.5020324196059973, 0.8568780172449583, 1.1888527393378387, 0.37337033645810563, -0.2843089155105719, -0.08903682859573299, 0.659290481180818, -0.5702964489673472, 0.20824190146825128, 1.477544182228884, -2.2663861673596104, -0.918190628510219, 0.9815430754475645, 1.1963795048605528, -0.582471383118007, -0.43065020158821765, 0.7292356248529095, -1.1126783561463256, -1.0737857923404885, 1.1249641509208888, -1.177887298697572, -0.6421378823244043, 0.36525819243608904, -0.8231168304200789, -0.15124396419267142, -1.059510922713966, 0.4228394732232688, -1.6407190498232147, -0.11658503414311217, 1.1847342796026734, 1.7603820071727325, -1.0323223414552383, 1.5241292355361828, -0.47167319631113175, 0.41771472595017, -0.44257990041265177, -0.4457218004962936, -1.05606129272087, -0.6475117870595651, -0.1427949440036624, -0.084971064125444, -2.031346651843206, -1.3417316367420749, -0.8436810558824752, 1.429751141931643, 0.3073707295814666, 1.2573071374952731, 2.5304800624870674, -0.6472367543926753, 1.43746648182174, 0.3592379585375508, 0.7179964889696346, -0.2634886822238987, 0.22643012552675823, -0.3671468396701537, -1.9895520059061513, -0.7386934319014247, -0.5217806582087279, -0.7638054628786506, -0.6895070591300198, -1.60460561706749, 0.9729484503670851, -1.3479986977665346, -0.6281809491935955, -0.7965079474327273, 0.8411742348925145, 1.613602523630258, -0.041787801903583915, 0.6689088866173973, 0.1263923177465286, -0.08421704177805359, -0.26850295575609995, -1.2121044098271738, -0.6236327447212068, 0.5342625395512093, -0.022718493882598063, -0.06121209654978588, 0.7842935269257469, -1.0318400097854954, 1.1396452886065107, 2.151607990246248, -0.7585179535047096, 0.06889444726973967, 0.6813644279190719, 0.07260826563691085, 0.5878992331877385, 0.9942375387594256, -0.5811488124902294, 0.9761751366879855, 1.4695906294141075, 0.208004152843283, 2.549353450852832], \"yaxis\": \"y9\"}, {\"line\": {\"color\": \"rgba(128, 128, 128, 1.0)\", \"dash\": \"solid\", \"shape\": \"linear\", \"width\": 1.3}, \"marker\": {\"size\": 2, \"symbol\": \"circle\"}, \"mode\": \"markers\", \"name\": \"C\", \"text\": \"\", \"type\": \"scatter\", \"x\": [-0.6370662306345296, -0.18779479970184382, -0.933271565970044, 0.9212074612281883, 0.8936514161808388, 0.8342227138476731, 0.8587196320328144, 0.22881724899518655, -0.9180773570599018, -0.45142786836483606, -0.22248070393362662, 0.44917113276718723, -0.5973156191937276, 2.1898876198884047, -0.4902326025541706, -2.018799695983331, -1.3633094063854794, 0.722171910193369, 1.398112707247513, -0.08109011152174196, 1.2230279514126137, -0.21409272975599575, 0.38937698547166644, 0.5838286529465544, 0.8956700723977705, 0.961281589148261, 1.7492867643302497, -2.0349038968514983, 0.9622336412524589, -1.6031314870782933, 0.06891589583313582, -0.34008733689357995, 1.4904754639563247, -0.6838384992536902, 0.6019227388150992, 1.0744944375979761, -0.4426583612634076, -1.238007017870152, -0.23516809680023168, 0.17849613576372855, -1.9737195066421716, 0.7900923082368406, 0.12618231219509693, -0.6881342409954447, 1.0740609598702087, -2.2292758320157007, 0.33792269970410865, -0.046717796304047564, -1.3299347008261175, -0.832872352576968, -0.02629450649372879, -1.3973378150364184, 2.0597015168262067, 0.7158707733517314, 1.538355947800245, 0.8200805455889011, 0.06197608346940097, -0.30465938188471225, -2.791129597868393, -0.6640117629558614, -0.7395309222045003, -1.1692089459454784, 1.077217332302895, -0.687746618866074, 1.4691428404927873, 0.8768833279459809, 0.3599051799630393, -0.447137575412363, -0.41913677028305696, 0.5464024743534294, 0.4307296648098181, -1.8466600072649433, 0.10608219598356404, -1.4511218468659515, 0.4246996885645433, 1.284557483121074, 0.12055153420288005, 1.1349369472971491, -0.08792505531674043, -1.2616820293829447, 0.021585833373038835, 0.433630805405162, -0.41834366420211727, -1.3449157042759814, 0.7473410766559658, -1.879342304593012, 0.28080103709289456, -0.5157429018677484, 1.140210489380863, 1.7292730109199856, -0.9166642240809446, 0.7944208063936056, 2.302665781556202, -1.157887088105418, -0.2936987293432595, 0.18816450281699626, 0.1508502062472272, 0.3179360880392077, -0.4593359983942544, 0.27511528779754385], \"xaxis\": \"x10\", \"y\": [0.17727501358339443, 0.7675790892931331, 0.7426482326518081, 0.16995055619755647, 1.090904635132639, 0.09387287470099513, 0.4897155859030093, -0.3526003989599885, -1.5020324196059973, 0.8568780172449583, 1.1888527393378387, 0.37337033645810563, -0.2843089155105719, -0.08903682859573299, 0.659290481180818, -0.5702964489673472, 0.20824190146825128, 1.477544182228884, -2.2663861673596104, -0.918190628510219, 0.9815430754475645, 1.1963795048605528, -0.582471383118007, -0.43065020158821765, 0.7292356248529095, -1.1126783561463256, -1.0737857923404885, 1.1249641509208888, -1.177887298697572, -0.6421378823244043, 0.36525819243608904, -0.8231168304200789, -0.15124396419267142, -1.059510922713966, 0.4228394732232688, -1.6407190498232147, -0.11658503414311217, 1.1847342796026734, 1.7603820071727325, -1.0323223414552383, 1.5241292355361828, -0.47167319631113175, 0.41771472595017, -0.44257990041265177, -0.4457218004962936, -1.05606129272087, -0.6475117870595651, -0.1427949440036624, -0.084971064125444, -2.031346651843206, -1.3417316367420749, -0.8436810558824752, 1.429751141931643, 0.3073707295814666, 1.2573071374952731, 2.5304800624870674, -0.6472367543926753, 1.43746648182174, 0.3592379585375508, 0.7179964889696346, -0.2634886822238987, 0.22643012552675823, -0.3671468396701537, -1.9895520059061513, -0.7386934319014247, -0.5217806582087279, -0.7638054628786506, -0.6895070591300198, -1.60460561706749, 0.9729484503670851, -1.3479986977665346, -0.6281809491935955, -0.7965079474327273, 0.8411742348925145, 1.613602523630258, -0.041787801903583915, 0.6689088866173973, 0.1263923177465286, -0.08421704177805359, -0.26850295575609995, -1.2121044098271738, -0.6236327447212068, 0.5342625395512093, -0.022718493882598063, -0.06121209654978588, 0.7842935269257469, -1.0318400097854954, 1.1396452886065107, 2.151607990246248, -0.7585179535047096, 0.06889444726973967, 0.6813644279190719, 0.07260826563691085, 0.5878992331877385, 0.9942375387594256, -0.5811488124902294, 0.9761751366879855, 1.4695906294141075, 0.208004152843283, 2.549353450852832], \"yaxis\": \"y10\"}, {\"histfunc\": \"count\", \"histnorm\": \"\", \"marker\": {\"color\": \"rgba(50, 171, 96, 1.0)\", \"line\": {\"color\": \"#4D5663\", \"width\": 1.3}}, \"name\": \"C\", \"nbinsx\": 10, \"opacity\": 0.8, \"orientation\": \"v\", \"type\": \"histogram\", \"x\": [0.17727501358339443, 0.7675790892931331, 0.7426482326518081, 0.16995055619755647, 1.090904635132639, 0.09387287470099513, 0.4897155859030093, -0.3526003989599885, -1.5020324196059973, 0.8568780172449583, 1.1888527393378387, 0.37337033645810563, -0.2843089155105719, -0.08903682859573299, 0.659290481180818, -0.5702964489673472, 0.20824190146825128, 1.477544182228884, -2.2663861673596104, -0.918190628510219, 0.9815430754475645, 1.1963795048605528, -0.582471383118007, -0.43065020158821765, 0.7292356248529095, -1.1126783561463256, -1.0737857923404885, 1.1249641509208888, -1.177887298697572, -0.6421378823244043, 0.36525819243608904, -0.8231168304200789, -0.15124396419267142, -1.059510922713966, 0.4228394732232688, -1.6407190498232147, -0.11658503414311217, 1.1847342796026734, 1.7603820071727325, -1.0323223414552383, 1.5241292355361828, -0.47167319631113175, 0.41771472595017, -0.44257990041265177, -0.4457218004962936, -1.05606129272087, -0.6475117870595651, -0.1427949440036624, -0.084971064125444, -2.031346651843206, -1.3417316367420749, -0.8436810558824752, 1.429751141931643, 0.3073707295814666, 1.2573071374952731, 2.5304800624870674, -0.6472367543926753, 1.43746648182174, 0.3592379585375508, 0.7179964889696346, -0.2634886822238987, 0.22643012552675823, -0.3671468396701537, -1.9895520059061513, -0.7386934319014247, -0.5217806582087279, -0.7638054628786506, -0.6895070591300198, -1.60460561706749, 0.9729484503670851, -1.3479986977665346, -0.6281809491935955, -0.7965079474327273, 0.8411742348925145, 1.613602523630258, -0.041787801903583915, 0.6689088866173973, 0.1263923177465286, -0.08421704177805359, -0.26850295575609995, -1.2121044098271738, -0.6236327447212068, 0.5342625395512093, -0.022718493882598063, -0.06121209654978588, 0.7842935269257469, -1.0318400097854954, 1.1396452886065107, 2.151607990246248, -0.7585179535047096, 0.06889444726973967, 0.6813644279190719, 0.07260826563691085, 0.5878992331877385, 0.9942375387594256, -0.5811488124902294, 0.9761751366879855, 1.4695906294141075, 0.208004152843283, 2.549353450852832], \"xaxis\": \"x11\", \"yaxis\": \"y11\"}, {\"line\": {\"color\": \"rgba(128, 128, 128, 1.0)\", \"dash\": \"solid\", \"shape\": \"linear\", \"width\": 1.3}, \"marker\": {\"size\": 2, \"symbol\": \"circle\"}, \"mode\": \"markers\", \"name\": \"C\", \"text\": \"\", \"type\": \"scatter\", \"x\": [1.4161269150082703, 0.9099418545481454, -0.1520745902746288, -0.6157190447998693, 0.23501709874065518, -0.08954496598170626, -1.1069220366777928, 0.25546001939489116, 1.123799547148625, -0.8427001303265524, -0.26936950688912814, 0.6547787616846491, 1.4079452260160858, -0.14159372719106786, 1.463574108538233, 0.30180653498512977, 0.40996895881869916, -0.946143024850983, -0.6546722170665688, -0.8993130183111181, 0.6350782269236444, 1.3953119495101083, 1.0838071028492255, 0.8190850242746013, -0.7354835095964742, -0.008751000129040488, -1.4193479974669696, 0.47861242828808254, -0.34913108616056626, 1.2921485127366013, -1.5619203416202032, 0.4185495336224118, 2.5059538347855113, 0.6806423555903528, -1.239722282909275, 0.0027770038867789915, -1.2537859007482053, 0.5298119911939558, -1.4569067757208616, 0.0824867493121816, 0.06026685610114835, -0.7378289996369067, 0.221919332661049, -0.6984265965452328, -0.021345969455511298, -1.34169281577497, 0.46093268999588155, -0.9878087568125531, 0.6867087397846777, -1.5411316351648023, -1.4089701824411427, -1.2719090244721443, 0.916052527276419, 1.3280183024638061, -0.6881957682497584, -1.2581706095260712, 0.4630271601922367, -1.0729861460506882, -1.8381937323069328, -0.32047346022717405, 0.42593363105180476, 0.8953812215371134, -0.6748231944099274, -1.8253583523000774, -0.5858419215157434, -0.9397708953133883, 0.8396045753762226, -0.6237812963270523, 0.29618974815684046, 2.3920364170055954, 3.2378305047808826, 0.10932445828346436, 2.9838926343686523, -0.4795835975537721, 0.44292234405466624, 2.1595304525086676, 1.226050593080821, -1.612867475051631, -0.30812150700596197, -1.117804382940929, 0.04619313208996349, -0.23434867295184955, -0.19147674398434888, -0.14776082711117045, -1.4186091957625286, -2.178284783117934, -0.6829236779712234, -0.051276625025758506, 1.5081177227260016, 0.6536599137486626, 0.0028700408535427056, -0.4230631530286068, 0.006696983399884731, -1.8938149909057822, 0.9022364206146153, -0.5796345846331413, -0.29308018746907694, 0.8282614923522763, 0.5582747600276524, 0.13813326582956842], \"xaxis\": \"x12\", \"y\": [0.17727501358339443, 0.7675790892931331, 0.7426482326518081, 0.16995055619755647, 1.090904635132639, 0.09387287470099513, 0.4897155859030093, -0.3526003989599885, -1.5020324196059973, 0.8568780172449583, 1.1888527393378387, 0.37337033645810563, -0.2843089155105719, -0.08903682859573299, 0.659290481180818, -0.5702964489673472, 0.20824190146825128, 1.477544182228884, -2.2663861673596104, -0.918190628510219, 0.9815430754475645, 1.1963795048605528, -0.582471383118007, -0.43065020158821765, 0.7292356248529095, -1.1126783561463256, -1.0737857923404885, 1.1249641509208888, -1.177887298697572, -0.6421378823244043, 0.36525819243608904, -0.8231168304200789, -0.15124396419267142, -1.059510922713966, 0.4228394732232688, -1.6407190498232147, -0.11658503414311217, 1.1847342796026734, 1.7603820071727325, -1.0323223414552383, 1.5241292355361828, -0.47167319631113175, 0.41771472595017, -0.44257990041265177, -0.4457218004962936, -1.05606129272087, -0.6475117870595651, -0.1427949440036624, -0.084971064125444, -2.031346651843206, -1.3417316367420749, -0.8436810558824752, 1.429751141931643, 0.3073707295814666, 1.2573071374952731, 2.5304800624870674, -0.6472367543926753, 1.43746648182174, 0.3592379585375508, 0.7179964889696346, -0.2634886822238987, 0.22643012552675823, -0.3671468396701537, -1.9895520059061513, -0.7386934319014247, -0.5217806582087279, -0.7638054628786506, -0.6895070591300198, -1.60460561706749, 0.9729484503670851, -1.3479986977665346, -0.6281809491935955, -0.7965079474327273, 0.8411742348925145, 1.613602523630258, -0.041787801903583915, 0.6689088866173973, 0.1263923177465286, -0.08421704177805359, -0.26850295575609995, -1.2121044098271738, -0.6236327447212068, 0.5342625395512093, -0.022718493882598063, -0.06121209654978588, 0.7842935269257469, -1.0318400097854954, 1.1396452886065107, 2.151607990246248, -0.7585179535047096, 0.06889444726973967, 0.6813644279190719, 0.07260826563691085, 0.5878992331877385, 0.9942375387594256, -0.5811488124902294, 0.9761751366879855, 1.4695906294141075, 0.208004152843283, 2.549353450852832], \"yaxis\": \"y12\"}, {\"line\": {\"color\": \"rgba(128, 128, 128, 1.0)\", \"dash\": \"solid\", \"shape\": \"linear\", \"width\": 1.3}, \"marker\": {\"size\": 2, \"symbol\": \"circle\"}, \"mode\": \"markers\", \"name\": \"D\", \"text\": \"\", \"type\": \"scatter\", \"x\": [-1.3545048514202886, -0.27728378291500244, 0.45496642739072185, -0.23107642156544375, 0.3225381016251746, -1.0008187198265743, 0.9845366396545454, -0.50321152657273, 1.6157058505386503, -1.0755409628997235, -0.7266925458064639, -1.595502047740283, 0.43015754731259187, -0.5023039509792152, 1.1993891113951063, 1.5027455883128777, -2.0111448778151333, 0.27904655655280847, -0.36670722252928634, -1.045321731796316, 0.10914045660460339, -0.6328966222259624, 1.0225649219030128, 0.23646366884558706, 0.41548422719458417, -1.0976117676432184, -1.3390903914000774, -0.4528371511298527, -0.42733490165283505, 0.5754120459853603, 0.11281268381519279, -1.1504102405112058, -0.050574871926182784, 0.6018645063084697, -1.4510472945569854, -0.21392389795359612, 0.9380171050066473, -0.09438742292598681, -0.07053906033576715, 2.2285687724394343, 0.19845839839579424, 1.2131263496243834, 1.1792006659868235, -0.7568736002213788, -1.32459048528407, -0.6129471634329756, -0.4709172661057217, -0.7285462902748785, -0.25955121913034657, 0.1555555496229885, -1.0067734814821243, 1.4876681778759002, -0.19585676804199598, -1.3051812203656723, -0.7121109427231624, 1.4370077967986707, 0.4538113012220596, 0.32118719474111324, 1.9306937024550697, -1.0000186636360553, 1.3538998887923899, 1.0254565059989138, -0.6070225790196295, 1.7505222400386586, 1.7797158783195268, 0.17570637331592434, 0.1301137572005141, -0.4213331565359732, 0.2879440028531558, 2.138360358957446, 1.0890958981482772, -0.26490401714714534, 0.027728903643897698, 0.40479261158660584, 0.9083928456027764, -0.5899242333379505, -0.8616710639476087, 1.235011144214475, 1.2773603111730898, 0.1646548821502208, 0.19239963499647977, -1.3887769224713287, 0.03482195209693308, 1.5745439863348998, -0.6366925872900931, -0.41589432971818063, 0.3427910975984431, 0.8366529944437844, 0.34780611914933296, -1.4700076557867081, 0.38964290131019585, -0.7884288396387822, -0.9056465667023024, 0.3399186743690349, -0.6477575326386299, 1.5680595200598508, 2.269928998581372, -1.0404746060192802, 0.5237456598895535, 0.9448421163357893], \"xaxis\": \"x13\", \"y\": [1.4161269150082703, 0.9099418545481454, -0.1520745902746288, -0.6157190447998693, 0.23501709874065518, -0.08954496598170626, -1.1069220366777928, 0.25546001939489116, 1.123799547148625, -0.8427001303265524, -0.26936950688912814, 0.6547787616846491, 1.4079452260160858, -0.14159372719106786, 1.463574108538233, 0.30180653498512977, 0.40996895881869916, -0.946143024850983, -0.6546722170665688, -0.8993130183111181, 0.6350782269236444, 1.3953119495101083, 1.0838071028492255, 0.8190850242746013, -0.7354835095964742, -0.008751000129040488, -1.4193479974669696, 0.47861242828808254, -0.34913108616056626, 1.2921485127366013, -1.5619203416202032, 0.4185495336224118, 2.5059538347855113, 0.6806423555903528, -1.239722282909275, 0.0027770038867789915, -1.2537859007482053, 0.5298119911939558, -1.4569067757208616, 0.0824867493121816, 0.06026685610114835, -0.7378289996369067, 0.221919332661049, -0.6984265965452328, -0.021345969455511298, -1.34169281577497, 0.46093268999588155, -0.9878087568125531, 0.6867087397846777, -1.5411316351648023, -1.4089701824411427, -1.2719090244721443, 0.916052527276419, 1.3280183024638061, -0.6881957682497584, -1.2581706095260712, 0.4630271601922367, -1.0729861460506882, -1.8381937323069328, -0.32047346022717405, 0.42593363105180476, 0.8953812215371134, -0.6748231944099274, -1.8253583523000774, -0.5858419215157434, -0.9397708953133883, 0.8396045753762226, -0.6237812963270523, 0.29618974815684046, 2.3920364170055954, 3.2378305047808826, 0.10932445828346436, 2.9838926343686523, -0.4795835975537721, 0.44292234405466624, 2.1595304525086676, 1.226050593080821, -1.612867475051631, -0.30812150700596197, -1.117804382940929, 0.04619313208996349, -0.23434867295184955, -0.19147674398434888, -0.14776082711117045, -1.4186091957625286, -2.178284783117934, -0.6829236779712234, -0.051276625025758506, 1.5081177227260016, 0.6536599137486626, 0.0028700408535427056, -0.4230631530286068, 0.006696983399884731, -1.8938149909057822, 0.9022364206146153, -0.5796345846331413, -0.29308018746907694, 0.8282614923522763, 0.5582747600276524, 0.13813326582956842], \"yaxis\": \"y13\"}, {\"line\": {\"color\": \"rgba(128, 128, 128, 1.0)\", \"dash\": \"solid\", \"shape\": \"linear\", \"width\": 1.3}, \"marker\": {\"size\": 2, \"symbol\": \"circle\"}, \"mode\": \"markers\", \"name\": \"D\", \"text\": \"\", \"type\": \"scatter\", \"x\": [-0.6370662306345296, -0.18779479970184382, -0.933271565970044, 0.9212074612281883, 0.8936514161808388, 0.8342227138476731, 0.8587196320328144, 0.22881724899518655, -0.9180773570599018, -0.45142786836483606, -0.22248070393362662, 0.44917113276718723, -0.5973156191937276, 2.1898876198884047, -0.4902326025541706, -2.018799695983331, -1.3633094063854794, 0.722171910193369, 1.398112707247513, -0.08109011152174196, 1.2230279514126137, -0.21409272975599575, 0.38937698547166644, 0.5838286529465544, 0.8956700723977705, 0.961281589148261, 1.7492867643302497, -2.0349038968514983, 0.9622336412524589, -1.6031314870782933, 0.06891589583313582, -0.34008733689357995, 1.4904754639563247, -0.6838384992536902, 0.6019227388150992, 1.0744944375979761, -0.4426583612634076, -1.238007017870152, -0.23516809680023168, 0.17849613576372855, -1.9737195066421716, 0.7900923082368406, 0.12618231219509693, -0.6881342409954447, 1.0740609598702087, -2.2292758320157007, 0.33792269970410865, -0.046717796304047564, -1.3299347008261175, -0.832872352576968, -0.02629450649372879, -1.3973378150364184, 2.0597015168262067, 0.7158707733517314, 1.538355947800245, 0.8200805455889011, 0.06197608346940097, -0.30465938188471225, -2.791129597868393, -0.6640117629558614, -0.7395309222045003, -1.1692089459454784, 1.077217332302895, -0.687746618866074, 1.4691428404927873, 0.8768833279459809, 0.3599051799630393, -0.447137575412363, -0.41913677028305696, 0.5464024743534294, 0.4307296648098181, -1.8466600072649433, 0.10608219598356404, -1.4511218468659515, 0.4246996885645433, 1.284557483121074, 0.12055153420288005, 1.1349369472971491, -0.08792505531674043, -1.2616820293829447, 0.021585833373038835, 0.433630805405162, -0.41834366420211727, -1.3449157042759814, 0.7473410766559658, -1.879342304593012, 0.28080103709289456, -0.5157429018677484, 1.140210489380863, 1.7292730109199856, -0.9166642240809446, 0.7944208063936056, 2.302665781556202, -1.157887088105418, -0.2936987293432595, 0.18816450281699626, 0.1508502062472272, 0.3179360880392077, -0.4593359983942544, 0.27511528779754385], \"xaxis\": \"x14\", \"y\": [1.4161269150082703, 0.9099418545481454, -0.1520745902746288, -0.6157190447998693, 0.23501709874065518, -0.08954496598170626, -1.1069220366777928, 0.25546001939489116, 1.123799547148625, -0.8427001303265524, -0.26936950688912814, 0.6547787616846491, 1.4079452260160858, -0.14159372719106786, 1.463574108538233, 0.30180653498512977, 0.40996895881869916, -0.946143024850983, -0.6546722170665688, -0.8993130183111181, 0.6350782269236444, 1.3953119495101083, 1.0838071028492255, 0.8190850242746013, -0.7354835095964742, -0.008751000129040488, -1.4193479974669696, 0.47861242828808254, -0.34913108616056626, 1.2921485127366013, -1.5619203416202032, 0.4185495336224118, 2.5059538347855113, 0.6806423555903528, -1.239722282909275, 0.0027770038867789915, -1.2537859007482053, 0.5298119911939558, -1.4569067757208616, 0.0824867493121816, 0.06026685610114835, -0.7378289996369067, 0.221919332661049, -0.6984265965452328, -0.021345969455511298, -1.34169281577497, 0.46093268999588155, -0.9878087568125531, 0.6867087397846777, -1.5411316351648023, -1.4089701824411427, -1.2719090244721443, 0.916052527276419, 1.3280183024638061, -0.6881957682497584, -1.2581706095260712, 0.4630271601922367, -1.0729861460506882, -1.8381937323069328, -0.32047346022717405, 0.42593363105180476, 0.8953812215371134, -0.6748231944099274, -1.8253583523000774, -0.5858419215157434, -0.9397708953133883, 0.8396045753762226, -0.6237812963270523, 0.29618974815684046, 2.3920364170055954, 3.2378305047808826, 0.10932445828346436, 2.9838926343686523, -0.4795835975537721, 0.44292234405466624, 2.1595304525086676, 1.226050593080821, -1.612867475051631, -0.30812150700596197, -1.117804382940929, 0.04619313208996349, -0.23434867295184955, -0.19147674398434888, -0.14776082711117045, -1.4186091957625286, -2.178284783117934, -0.6829236779712234, -0.051276625025758506, 1.5081177227260016, 0.6536599137486626, 0.0028700408535427056, -0.4230631530286068, 0.006696983399884731, -1.8938149909057822, 0.9022364206146153, -0.5796345846331413, -0.29308018746907694, 0.8282614923522763, 0.5582747600276524, 0.13813326582956842], \"yaxis\": \"y14\"}, {\"line\": {\"color\": \"rgba(128, 128, 128, 1.0)\", \"dash\": \"solid\", \"shape\": \"linear\", \"width\": 1.3}, \"marker\": {\"size\": 2, \"symbol\": \"circle\"}, \"mode\": \"markers\", \"name\": \"D\", \"text\": \"\", \"type\": \"scatter\", \"x\": [0.17727501358339443, 0.7675790892931331, 0.7426482326518081, 0.16995055619755647, 1.090904635132639, 0.09387287470099513, 0.4897155859030093, -0.3526003989599885, -1.5020324196059973, 0.8568780172449583, 1.1888527393378387, 0.37337033645810563, -0.2843089155105719, -0.08903682859573299, 0.659290481180818, -0.5702964489673472, 0.20824190146825128, 1.477544182228884, -2.2663861673596104, -0.918190628510219, 0.9815430754475645, 1.1963795048605528, -0.582471383118007, -0.43065020158821765, 0.7292356248529095, -1.1126783561463256, -1.0737857923404885, 1.1249641509208888, -1.177887298697572, -0.6421378823244043, 0.36525819243608904, -0.8231168304200789, -0.15124396419267142, -1.059510922713966, 0.4228394732232688, -1.6407190498232147, -0.11658503414311217, 1.1847342796026734, 1.7603820071727325, -1.0323223414552383, 1.5241292355361828, -0.47167319631113175, 0.41771472595017, -0.44257990041265177, -0.4457218004962936, -1.05606129272087, -0.6475117870595651, -0.1427949440036624, -0.084971064125444, -2.031346651843206, -1.3417316367420749, -0.8436810558824752, 1.429751141931643, 0.3073707295814666, 1.2573071374952731, 2.5304800624870674, -0.6472367543926753, 1.43746648182174, 0.3592379585375508, 0.7179964889696346, -0.2634886822238987, 0.22643012552675823, -0.3671468396701537, -1.9895520059061513, -0.7386934319014247, -0.5217806582087279, -0.7638054628786506, -0.6895070591300198, -1.60460561706749, 0.9729484503670851, -1.3479986977665346, -0.6281809491935955, -0.7965079474327273, 0.8411742348925145, 1.613602523630258, -0.041787801903583915, 0.6689088866173973, 0.1263923177465286, -0.08421704177805359, -0.26850295575609995, -1.2121044098271738, -0.6236327447212068, 0.5342625395512093, -0.022718493882598063, -0.06121209654978588, 0.7842935269257469, -1.0318400097854954, 1.1396452886065107, 2.151607990246248, -0.7585179535047096, 0.06889444726973967, 0.6813644279190719, 0.07260826563691085, 0.5878992331877385, 0.9942375387594256, -0.5811488124902294, 0.9761751366879855, 1.4695906294141075, 0.208004152843283, 2.549353450852832], \"xaxis\": \"x15\", \"y\": [1.4161269150082703, 0.9099418545481454, -0.1520745902746288, -0.6157190447998693, 0.23501709874065518, -0.08954496598170626, -1.1069220366777928, 0.25546001939489116, 1.123799547148625, -0.8427001303265524, -0.26936950688912814, 0.6547787616846491, 1.4079452260160858, -0.14159372719106786, 1.463574108538233, 0.30180653498512977, 0.40996895881869916, -0.946143024850983, -0.6546722170665688, -0.8993130183111181, 0.6350782269236444, 1.3953119495101083, 1.0838071028492255, 0.8190850242746013, -0.7354835095964742, -0.008751000129040488, -1.4193479974669696, 0.47861242828808254, -0.34913108616056626, 1.2921485127366013, -1.5619203416202032, 0.4185495336224118, 2.5059538347855113, 0.6806423555903528, -1.239722282909275, 0.0027770038867789915, -1.2537859007482053, 0.5298119911939558, -1.4569067757208616, 0.0824867493121816, 0.06026685610114835, -0.7378289996369067, 0.221919332661049, -0.6984265965452328, -0.021345969455511298, -1.34169281577497, 0.46093268999588155, -0.9878087568125531, 0.6867087397846777, -1.5411316351648023, -1.4089701824411427, -1.2719090244721443, 0.916052527276419, 1.3280183024638061, -0.6881957682497584, -1.2581706095260712, 0.4630271601922367, -1.0729861460506882, -1.8381937323069328, -0.32047346022717405, 0.42593363105180476, 0.8953812215371134, -0.6748231944099274, -1.8253583523000774, -0.5858419215157434, -0.9397708953133883, 0.8396045753762226, -0.6237812963270523, 0.29618974815684046, 2.3920364170055954, 3.2378305047808826, 0.10932445828346436, 2.9838926343686523, -0.4795835975537721, 0.44292234405466624, 2.1595304525086676, 1.226050593080821, -1.612867475051631, -0.30812150700596197, -1.117804382940929, 0.04619313208996349, -0.23434867295184955, -0.19147674398434888, -0.14776082711117045, -1.4186091957625286, -2.178284783117934, -0.6829236779712234, -0.051276625025758506, 1.5081177227260016, 0.6536599137486626, 0.0028700408535427056, -0.4230631530286068, 0.006696983399884731, -1.8938149909057822, 0.9022364206146153, -0.5796345846331413, -0.29308018746907694, 0.8282614923522763, 0.5582747600276524, 0.13813326582956842], \"yaxis\": \"y15\"}, {\"histfunc\": \"count\", \"histnorm\": \"\", \"marker\": {\"color\": \"rgba(128, 0, 128, 1.0)\", \"line\": {\"color\": \"#4D5663\", \"width\": 1.3}}, \"name\": \"D\", \"nbinsx\": 10, \"opacity\": 0.8, \"orientation\": \"v\", \"type\": \"histogram\", \"x\": [1.4161269150082703, 0.9099418545481454, -0.1520745902746288, -0.6157190447998693, 0.23501709874065518, -0.08954496598170626, -1.1069220366777928, 0.25546001939489116, 1.123799547148625, -0.8427001303265524, -0.26936950688912814, 0.6547787616846491, 1.4079452260160858, -0.14159372719106786, 1.463574108538233, 0.30180653498512977, 0.40996895881869916, -0.946143024850983, -0.6546722170665688, -0.8993130183111181, 0.6350782269236444, 1.3953119495101083, 1.0838071028492255, 0.8190850242746013, -0.7354835095964742, -0.008751000129040488, -1.4193479974669696, 0.47861242828808254, -0.34913108616056626, 1.2921485127366013, -1.5619203416202032, 0.4185495336224118, 2.5059538347855113, 0.6806423555903528, -1.239722282909275, 0.0027770038867789915, -1.2537859007482053, 0.5298119911939558, -1.4569067757208616, 0.0824867493121816, 0.06026685610114835, -0.7378289996369067, 0.221919332661049, -0.6984265965452328, -0.021345969455511298, -1.34169281577497, 0.46093268999588155, -0.9878087568125531, 0.6867087397846777, -1.5411316351648023, -1.4089701824411427, -1.2719090244721443, 0.916052527276419, 1.3280183024638061, -0.6881957682497584, -1.2581706095260712, 0.4630271601922367, -1.0729861460506882, -1.8381937323069328, -0.32047346022717405, 0.42593363105180476, 0.8953812215371134, -0.6748231944099274, -1.8253583523000774, -0.5858419215157434, -0.9397708953133883, 0.8396045753762226, -0.6237812963270523, 0.29618974815684046, 2.3920364170055954, 3.2378305047808826, 0.10932445828346436, 2.9838926343686523, -0.4795835975537721, 0.44292234405466624, 2.1595304525086676, 1.226050593080821, -1.612867475051631, -0.30812150700596197, -1.117804382940929, 0.04619313208996349, -0.23434867295184955, -0.19147674398434888, -0.14776082711117045, -1.4186091957625286, -2.178284783117934, -0.6829236779712234, -0.051276625025758506, 1.5081177227260016, 0.6536599137486626, 0.0028700408535427056, -0.4230631530286068, 0.006696983399884731, -1.8938149909057822, 0.9022364206146153, -0.5796345846331413, -0.29308018746907694, 0.8282614923522763, 0.5582747600276524, 0.13813326582956842], \"xaxis\": \"x16\", \"yaxis\": \"y16\"}],                        {\"bargap\": 0.02, \"legend\": {\"bgcolor\": \"#F5F6F9\", \"font\": {\"color\": \"#4D5663\"}}, \"paper_bgcolor\": \"#F5F6F9\", \"plot_bgcolor\": \"#F5F6F9\", \"showlegend\": false, \"template\": {\"data\": {\"bar\": [{\"error_x\": {\"color\": \"#2a3f5f\"}, \"error_y\": {\"color\": \"#2a3f5f\"}, \"marker\": {\"line\": {\"color\": \"#E5ECF6\", \"width\": 0.5}}, \"type\": \"bar\"}], \"barpolar\": [{\"marker\": {\"line\": {\"color\": \"#E5ECF6\", \"width\": 0.5}}, \"type\": \"barpolar\"}], \"carpet\": [{\"aaxis\": {\"endlinecolor\": \"#2a3f5f\", \"gridcolor\": \"white\", \"linecolor\": \"white\", \"minorgridcolor\": \"white\", \"startlinecolor\": \"#2a3f5f\"}, \"baxis\": {\"endlinecolor\": \"#2a3f5f\", \"gridcolor\": \"white\", \"linecolor\": \"white\", \"minorgridcolor\": \"white\", \"startlinecolor\": \"#2a3f5f\"}, \"type\": \"carpet\"}], \"choropleth\": [{\"colorbar\": {\"outlinewidth\": 0, \"ticks\": \"\"}, \"type\": \"choropleth\"}], \"contour\": [{\"colorbar\": {\"outlinewidth\": 0, \"ticks\": \"\"}, \"colorscale\": [[0.0, \"#0d0887\"], [0.1111111111111111, \"#46039f\"], [0.2222222222222222, \"#7201a8\"], [0.3333333333333333, \"#9c179e\"], [0.4444444444444444, \"#bd3786\"], [0.5555555555555556, \"#d8576b\"], [0.6666666666666666, \"#ed7953\"], [0.7777777777777778, \"#fb9f3a\"], [0.8888888888888888, \"#fdca26\"], [1.0, \"#f0f921\"]], \"type\": \"contour\"}], \"contourcarpet\": [{\"colorbar\": {\"outlinewidth\": 0, \"ticks\": \"\"}, \"type\": \"contourcarpet\"}], \"heatmap\": [{\"colorbar\": {\"outlinewidth\": 0, \"ticks\": \"\"}, \"colorscale\": [[0.0, \"#0d0887\"], [0.1111111111111111, \"#46039f\"], [0.2222222222222222, \"#7201a8\"], [0.3333333333333333, \"#9c179e\"], [0.4444444444444444, \"#bd3786\"], [0.5555555555555556, \"#d8576b\"], [0.6666666666666666, \"#ed7953\"], [0.7777777777777778, \"#fb9f3a\"], [0.8888888888888888, \"#fdca26\"], [1.0, \"#f0f921\"]], \"type\": \"heatmap\"}], \"heatmapgl\": [{\"colorbar\": {\"outlinewidth\": 0, \"ticks\": \"\"}, \"colorscale\": [[0.0, \"#0d0887\"], [0.1111111111111111, \"#46039f\"], [0.2222222222222222, \"#7201a8\"], [0.3333333333333333, \"#9c179e\"], [0.4444444444444444, \"#bd3786\"], [0.5555555555555556, \"#d8576b\"], [0.6666666666666666, \"#ed7953\"], [0.7777777777777778, \"#fb9f3a\"], [0.8888888888888888, \"#fdca26\"], [1.0, \"#f0f921\"]], \"type\": \"heatmapgl\"}], \"histogram\": [{\"marker\": {\"colorbar\": {\"outlinewidth\": 0, \"ticks\": \"\"}}, \"type\": \"histogram\"}], \"histogram2d\": [{\"colorbar\": {\"outlinewidth\": 0, \"ticks\": \"\"}, \"colorscale\": [[0.0, \"#0d0887\"], [0.1111111111111111, \"#46039f\"], [0.2222222222222222, \"#7201a8\"], [0.3333333333333333, \"#9c179e\"], [0.4444444444444444, \"#bd3786\"], [0.5555555555555556, \"#d8576b\"], [0.6666666666666666, \"#ed7953\"], [0.7777777777777778, \"#fb9f3a\"], [0.8888888888888888, \"#fdca26\"], [1.0, \"#f0f921\"]], \"type\": \"histogram2d\"}], \"histogram2dcontour\": [{\"colorbar\": {\"outlinewidth\": 0, \"ticks\": \"\"}, \"colorscale\": [[0.0, \"#0d0887\"], [0.1111111111111111, \"#46039f\"], [0.2222222222222222, \"#7201a8\"], [0.3333333333333333, \"#9c179e\"], [0.4444444444444444, \"#bd3786\"], [0.5555555555555556, \"#d8576b\"], [0.6666666666666666, \"#ed7953\"], [0.7777777777777778, \"#fb9f3a\"], [0.8888888888888888, \"#fdca26\"], [1.0, \"#f0f921\"]], \"type\": \"histogram2dcontour\"}], \"mesh3d\": [{\"colorbar\": {\"outlinewidth\": 0, \"ticks\": \"\"}, \"type\": \"mesh3d\"}], \"parcoords\": [{\"line\": {\"colorbar\": {\"outlinewidth\": 0, \"ticks\": \"\"}}, \"type\": \"parcoords\"}], \"pie\": [{\"automargin\": true, \"type\": \"pie\"}], \"scatter\": [{\"marker\": {\"colorbar\": {\"outlinewidth\": 0, \"ticks\": \"\"}}, \"type\": \"scatter\"}], \"scatter3d\": [{\"line\": {\"colorbar\": {\"outlinewidth\": 0, \"ticks\": \"\"}}, \"marker\": {\"colorbar\": {\"outlinewidth\": 0, \"ticks\": \"\"}}, \"type\": \"scatter3d\"}], \"scattercarpet\": [{\"marker\": {\"colorbar\": {\"outlinewidth\": 0, \"ticks\": \"\"}}, \"type\": \"scattercarpet\"}], \"scattergeo\": [{\"marker\": {\"colorbar\": {\"outlinewidth\": 0, \"ticks\": \"\"}}, \"type\": \"scattergeo\"}], \"scattergl\": [{\"marker\": {\"colorbar\": {\"outlinewidth\": 0, \"ticks\": \"\"}}, \"type\": \"scattergl\"}], \"scattermapbox\": [{\"marker\": {\"colorbar\": {\"outlinewidth\": 0, \"ticks\": \"\"}}, \"type\": \"scattermapbox\"}], \"scatterpolar\": [{\"marker\": {\"colorbar\": {\"outlinewidth\": 0, \"ticks\": \"\"}}, \"type\": \"scatterpolar\"}], \"scatterpolargl\": [{\"marker\": {\"colorbar\": {\"outlinewidth\": 0, \"ticks\": \"\"}}, \"type\": \"scatterpolargl\"}], \"scatterternary\": [{\"marker\": {\"colorbar\": {\"outlinewidth\": 0, \"ticks\": \"\"}}, \"type\": \"scatterternary\"}], \"surface\": [{\"colorbar\": {\"outlinewidth\": 0, \"ticks\": \"\"}, \"colorscale\": [[0.0, \"#0d0887\"], [0.1111111111111111, \"#46039f\"], [0.2222222222222222, \"#7201a8\"], [0.3333333333333333, \"#9c179e\"], [0.4444444444444444, \"#bd3786\"], [0.5555555555555556, \"#d8576b\"], [0.6666666666666666, \"#ed7953\"], [0.7777777777777778, \"#fb9f3a\"], [0.8888888888888888, \"#fdca26\"], [1.0, \"#f0f921\"]], \"type\": \"surface\"}], \"table\": [{\"cells\": {\"fill\": {\"color\": \"#EBF0F8\"}, \"line\": {\"color\": \"white\"}}, \"header\": {\"fill\": {\"color\": \"#C8D4E3\"}, \"line\": {\"color\": \"white\"}}, \"type\": \"table\"}]}, \"layout\": {\"annotationdefaults\": {\"arrowcolor\": \"#2a3f5f\", \"arrowhead\": 0, \"arrowwidth\": 1}, \"autotypenumbers\": \"strict\", \"coloraxis\": {\"colorbar\": {\"outlinewidth\": 0, \"ticks\": \"\"}}, \"colorscale\": {\"diverging\": [[0, \"#8e0152\"], [0.1, \"#c51b7d\"], [0.2, \"#de77ae\"], [0.3, \"#f1b6da\"], [0.4, \"#fde0ef\"], [0.5, \"#f7f7f7\"], [0.6, \"#e6f5d0\"], [0.7, \"#b8e186\"], [0.8, \"#7fbc41\"], [0.9, \"#4d9221\"], [1, \"#276419\"]], \"sequential\": [[0.0, \"#0d0887\"], [0.1111111111111111, \"#46039f\"], [0.2222222222222222, \"#7201a8\"], [0.3333333333333333, \"#9c179e\"], [0.4444444444444444, \"#bd3786\"], [0.5555555555555556, \"#d8576b\"], [0.6666666666666666, \"#ed7953\"], [0.7777777777777778, \"#fb9f3a\"], [0.8888888888888888, \"#fdca26\"], [1.0, \"#f0f921\"]], \"sequentialminus\": [[0.0, \"#0d0887\"], [0.1111111111111111, \"#46039f\"], [0.2222222222222222, \"#7201a8\"], [0.3333333333333333, \"#9c179e\"], [0.4444444444444444, \"#bd3786\"], [0.5555555555555556, \"#d8576b\"], [0.6666666666666666, \"#ed7953\"], [0.7777777777777778, \"#fb9f3a\"], [0.8888888888888888, \"#fdca26\"], [1.0, \"#f0f921\"]]}, \"colorway\": [\"#636efa\", \"#EF553B\", \"#00cc96\", \"#ab63fa\", \"#FFA15A\", \"#19d3f3\", \"#FF6692\", \"#B6E880\", \"#FF97FF\", \"#FECB52\"], \"font\": {\"color\": \"#2a3f5f\"}, \"geo\": {\"bgcolor\": \"white\", \"lakecolor\": \"white\", \"landcolor\": \"#E5ECF6\", \"showlakes\": true, \"showland\": true, \"subunitcolor\": \"white\"}, \"hoverlabel\": {\"align\": \"left\"}, \"hovermode\": \"closest\", \"mapbox\": {\"style\": \"light\"}, \"paper_bgcolor\": \"white\", \"plot_bgcolor\": \"#E5ECF6\", \"polar\": {\"angularaxis\": {\"gridcolor\": \"white\", \"linecolor\": \"white\", \"ticks\": \"\"}, \"bgcolor\": \"#E5ECF6\", \"radialaxis\": {\"gridcolor\": \"white\", \"linecolor\": \"white\", \"ticks\": \"\"}}, \"scene\": {\"xaxis\": {\"backgroundcolor\": \"#E5ECF6\", \"gridcolor\": \"white\", \"gridwidth\": 2, \"linecolor\": \"white\", \"showbackground\": true, \"ticks\": \"\", \"zerolinecolor\": \"white\"}, \"yaxis\": {\"backgroundcolor\": \"#E5ECF6\", \"gridcolor\": \"white\", \"gridwidth\": 2, \"linecolor\": \"white\", \"showbackground\": true, \"ticks\": \"\", \"zerolinecolor\": \"white\"}, \"zaxis\": {\"backgroundcolor\": \"#E5ECF6\", \"gridcolor\": \"white\", \"gridwidth\": 2, \"linecolor\": \"white\", \"showbackground\": true, \"ticks\": \"\", \"zerolinecolor\": \"white\"}}, \"shapedefaults\": {\"line\": {\"color\": \"#2a3f5f\"}}, \"ternary\": {\"aaxis\": {\"gridcolor\": \"white\", \"linecolor\": \"white\", \"ticks\": \"\"}, \"baxis\": {\"gridcolor\": \"white\", \"linecolor\": \"white\", \"ticks\": \"\"}, \"bgcolor\": \"#E5ECF6\", \"caxis\": {\"gridcolor\": \"white\", \"linecolor\": \"white\", \"ticks\": \"\"}}, \"title\": {\"x\": 0.05}, \"xaxis\": {\"automargin\": true, \"gridcolor\": \"white\", \"linecolor\": \"white\", \"ticks\": \"\", \"title\": {\"standoff\": 15}, \"zerolinecolor\": \"white\", \"zerolinewidth\": 2}, \"yaxis\": {\"automargin\": true, \"gridcolor\": \"white\", \"linecolor\": \"white\", \"ticks\": \"\", \"title\": {\"standoff\": 15}, \"zerolinecolor\": \"white\", \"zerolinewidth\": 2}}}, \"title\": {\"font\": {\"color\": \"#4D5663\"}}, \"xaxis\": {\"anchor\": \"y\", \"domain\": [0.0, 0.2125], \"gridcolor\": \"#E1E5ED\", \"showgrid\": false, \"tickfont\": {\"color\": \"#4D5663\"}, \"title\": {\"font\": {\"color\": \"#4D5663\"}, \"text\": \"\"}, \"zerolinecolor\": \"#E1E5ED\"}, \"xaxis10\": {\"anchor\": \"y10\", \"domain\": [0.2625, 0.475], \"gridcolor\": \"#E1E5ED\", \"showgrid\": false, \"tickfont\": {\"color\": \"#4D5663\"}, \"title\": {\"font\": {\"color\": \"#4D5663\"}, \"text\": \"\"}, \"zerolinecolor\": \"#E1E5ED\"}, \"xaxis11\": {\"anchor\": \"y11\", \"domain\": [0.525, 0.7375], \"gridcolor\": \"#E1E5ED\", \"showgrid\": false, \"tickfont\": {\"color\": \"#4D5663\"}, \"title\": {\"font\": {\"color\": \"#4D5663\"}, \"text\": \"\"}, \"zerolinecolor\": \"#E1E5ED\"}, \"xaxis12\": {\"anchor\": \"y12\", \"domain\": [0.7875, 1.0], \"gridcolor\": \"#E1E5ED\", \"showgrid\": false, \"tickfont\": {\"color\": \"#4D5663\"}, \"title\": {\"font\": {\"color\": \"#4D5663\"}, \"text\": \"\"}, \"zerolinecolor\": \"#E1E5ED\"}, \"xaxis13\": {\"anchor\": \"y13\", \"domain\": [0.0, 0.2125], \"gridcolor\": \"#E1E5ED\", \"showgrid\": false, \"tickfont\": {\"color\": \"#4D5663\"}, \"title\": {\"font\": {\"color\": \"#4D5663\"}, \"text\": \"\"}, \"zerolinecolor\": \"#E1E5ED\"}, \"xaxis14\": {\"anchor\": \"y14\", \"domain\": [0.2625, 0.475], \"gridcolor\": \"#E1E5ED\", \"showgrid\": false, \"tickfont\": {\"color\": \"#4D5663\"}, \"title\": {\"font\": {\"color\": \"#4D5663\"}, \"text\": \"\"}, \"zerolinecolor\": \"#E1E5ED\"}, \"xaxis15\": {\"anchor\": \"y15\", \"domain\": [0.525, 0.7375], \"gridcolor\": \"#E1E5ED\", \"showgrid\": false, \"tickfont\": {\"color\": \"#4D5663\"}, \"title\": {\"font\": {\"color\": \"#4D5663\"}, \"text\": \"\"}, \"zerolinecolor\": \"#E1E5ED\"}, \"xaxis16\": {\"anchor\": \"y16\", \"domain\": [0.7875, 1.0], \"gridcolor\": \"#E1E5ED\", \"showgrid\": false, \"tickfont\": {\"color\": \"#4D5663\"}, \"title\": {\"font\": {\"color\": \"#4D5663\"}, \"text\": \"\"}, \"zerolinecolor\": \"#E1E5ED\"}, \"xaxis2\": {\"anchor\": \"y2\", \"domain\": [0.2625, 0.475], \"gridcolor\": \"#E1E5ED\", \"showgrid\": false, \"tickfont\": {\"color\": \"#4D5663\"}, \"title\": {\"font\": {\"color\": \"#4D5663\"}, \"text\": \"\"}, \"zerolinecolor\": \"#E1E5ED\"}, \"xaxis3\": {\"anchor\": \"y3\", \"domain\": [0.525, 0.7375], \"gridcolor\": \"#E1E5ED\", \"showgrid\": false, \"tickfont\": {\"color\": \"#4D5663\"}, \"title\": {\"font\": {\"color\": \"#4D5663\"}, \"text\": \"\"}, \"zerolinecolor\": \"#E1E5ED\"}, \"xaxis4\": {\"anchor\": \"y4\", \"domain\": [0.7875, 1.0], \"gridcolor\": \"#E1E5ED\", \"showgrid\": false, \"tickfont\": {\"color\": \"#4D5663\"}, \"title\": {\"font\": {\"color\": \"#4D5663\"}, \"text\": \"\"}, \"zerolinecolor\": \"#E1E5ED\"}, \"xaxis5\": {\"anchor\": \"y5\", \"domain\": [0.0, 0.2125], \"gridcolor\": \"#E1E5ED\", \"showgrid\": false, \"tickfont\": {\"color\": \"#4D5663\"}, \"title\": {\"font\": {\"color\": \"#4D5663\"}, \"text\": \"\"}, \"zerolinecolor\": \"#E1E5ED\"}, \"xaxis6\": {\"anchor\": \"y6\", \"domain\": [0.2625, 0.475], \"gridcolor\": \"#E1E5ED\", \"showgrid\": false, \"tickfont\": {\"color\": \"#4D5663\"}, \"title\": {\"font\": {\"color\": \"#4D5663\"}, \"text\": \"\"}, \"zerolinecolor\": \"#E1E5ED\"}, \"xaxis7\": {\"anchor\": \"y7\", \"domain\": [0.525, 0.7375], \"gridcolor\": \"#E1E5ED\", \"showgrid\": false, \"tickfont\": {\"color\": \"#4D5663\"}, \"title\": {\"font\": {\"color\": \"#4D5663\"}, \"text\": \"\"}, \"zerolinecolor\": \"#E1E5ED\"}, \"xaxis8\": {\"anchor\": \"y8\", \"domain\": [0.7875, 1.0], \"gridcolor\": \"#E1E5ED\", \"showgrid\": false, \"tickfont\": {\"color\": \"#4D5663\"}, \"title\": {\"font\": {\"color\": \"#4D5663\"}, \"text\": \"\"}, \"zerolinecolor\": \"#E1E5ED\"}, \"xaxis9\": {\"anchor\": \"y9\", \"domain\": [0.0, 0.2125], \"gridcolor\": \"#E1E5ED\", \"showgrid\": false, \"tickfont\": {\"color\": \"#4D5663\"}, \"title\": {\"font\": {\"color\": \"#4D5663\"}, \"text\": \"\"}, \"zerolinecolor\": \"#E1E5ED\"}, \"yaxis\": {\"anchor\": \"x\", \"domain\": [0.8025, 1.0], \"gridcolor\": \"#E1E5ED\", \"showgrid\": false, \"tickfont\": {\"color\": \"#4D5663\"}, \"title\": {\"font\": {\"color\": \"#4D5663\"}, \"text\": \"\"}, \"zerolinecolor\": \"#E1E5ED\"}, \"yaxis10\": {\"anchor\": \"x10\", \"domain\": [0.2675, 0.465], \"gridcolor\": \"#E1E5ED\", \"showgrid\": false, \"tickfont\": {\"color\": \"#4D5663\"}, \"title\": {\"font\": {\"color\": \"#4D5663\"}, \"text\": \"\"}, \"zerolinecolor\": \"#E1E5ED\"}, \"yaxis11\": {\"anchor\": \"x11\", \"domain\": [0.2675, 0.465], \"gridcolor\": \"#E1E5ED\", \"showgrid\": false, \"tickfont\": {\"color\": \"#4D5663\"}, \"title\": {\"font\": {\"color\": \"#4D5663\"}, \"text\": \"\"}, \"zerolinecolor\": \"#E1E5ED\"}, \"yaxis12\": {\"anchor\": \"x12\", \"domain\": [0.2675, 0.465], \"gridcolor\": \"#E1E5ED\", \"showgrid\": false, \"tickfont\": {\"color\": \"#4D5663\"}, \"title\": {\"font\": {\"color\": \"#4D5663\"}, \"text\": \"\"}, \"zerolinecolor\": \"#E1E5ED\"}, \"yaxis13\": {\"anchor\": \"x13\", \"domain\": [0.0, 0.1975], \"gridcolor\": \"#E1E5ED\", \"showgrid\": false, \"tickfont\": {\"color\": \"#4D5663\"}, \"title\": {\"font\": {\"color\": \"#4D5663\"}, \"text\": \"\"}, \"zerolinecolor\": \"#E1E5ED\"}, \"yaxis14\": {\"anchor\": \"x14\", \"domain\": [0.0, 0.1975], \"gridcolor\": \"#E1E5ED\", \"showgrid\": false, \"tickfont\": {\"color\": \"#4D5663\"}, \"title\": {\"font\": {\"color\": \"#4D5663\"}, \"text\": \"\"}, \"zerolinecolor\": \"#E1E5ED\"}, \"yaxis15\": {\"anchor\": \"x15\", \"domain\": [0.0, 0.1975], \"gridcolor\": \"#E1E5ED\", \"showgrid\": false, \"tickfont\": {\"color\": \"#4D5663\"}, \"title\": {\"font\": {\"color\": \"#4D5663\"}, \"text\": \"\"}, \"zerolinecolor\": \"#E1E5ED\"}, \"yaxis16\": {\"anchor\": \"x16\", \"domain\": [0.0, 0.1975], \"gridcolor\": \"#E1E5ED\", \"showgrid\": false, \"tickfont\": {\"color\": \"#4D5663\"}, \"title\": {\"font\": {\"color\": \"#4D5663\"}, \"text\": \"\"}, \"zerolinecolor\": \"#E1E5ED\"}, \"yaxis2\": {\"anchor\": \"x2\", \"domain\": [0.8025, 1.0], \"gridcolor\": \"#E1E5ED\", \"showgrid\": false, \"tickfont\": {\"color\": \"#4D5663\"}, \"title\": {\"font\": {\"color\": \"#4D5663\"}, \"text\": \"\"}, \"zerolinecolor\": \"#E1E5ED\"}, \"yaxis3\": {\"anchor\": \"x3\", \"domain\": [0.8025, 1.0], \"gridcolor\": \"#E1E5ED\", \"showgrid\": false, \"tickfont\": {\"color\": \"#4D5663\"}, \"title\": {\"font\": {\"color\": \"#4D5663\"}, \"text\": \"\"}, \"zerolinecolor\": \"#E1E5ED\"}, \"yaxis4\": {\"anchor\": \"x4\", \"domain\": [0.8025, 1.0], \"gridcolor\": \"#E1E5ED\", \"showgrid\": false, \"tickfont\": {\"color\": \"#4D5663\"}, \"title\": {\"font\": {\"color\": \"#4D5663\"}, \"text\": \"\"}, \"zerolinecolor\": \"#E1E5ED\"}, \"yaxis5\": {\"anchor\": \"x5\", \"domain\": [0.535, 0.7325], \"gridcolor\": \"#E1E5ED\", \"showgrid\": false, \"tickfont\": {\"color\": \"#4D5663\"}, \"title\": {\"font\": {\"color\": \"#4D5663\"}, \"text\": \"\"}, \"zerolinecolor\": \"#E1E5ED\"}, \"yaxis6\": {\"anchor\": \"x6\", \"domain\": [0.535, 0.7325], \"gridcolor\": \"#E1E5ED\", \"showgrid\": false, \"tickfont\": {\"color\": \"#4D5663\"}, \"title\": {\"font\": {\"color\": \"#4D5663\"}, \"text\": \"\"}, \"zerolinecolor\": \"#E1E5ED\"}, \"yaxis7\": {\"anchor\": \"x7\", \"domain\": [0.535, 0.7325], \"gridcolor\": \"#E1E5ED\", \"showgrid\": false, \"tickfont\": {\"color\": \"#4D5663\"}, \"title\": {\"font\": {\"color\": \"#4D5663\"}, \"text\": \"\"}, \"zerolinecolor\": \"#E1E5ED\"}, \"yaxis8\": {\"anchor\": \"x8\", \"domain\": [0.535, 0.7325], \"gridcolor\": \"#E1E5ED\", \"showgrid\": false, \"tickfont\": {\"color\": \"#4D5663\"}, \"title\": {\"font\": {\"color\": \"#4D5663\"}, \"text\": \"\"}, \"zerolinecolor\": \"#E1E5ED\"}, \"yaxis9\": {\"anchor\": \"x9\", \"domain\": [0.2675, 0.465], \"gridcolor\": \"#E1E5ED\", \"showgrid\": false, \"tickfont\": {\"color\": \"#4D5663\"}, \"title\": {\"font\": {\"color\": \"#4D5663\"}, \"text\": \"\"}, \"zerolinecolor\": \"#E1E5ED\"}},                        {\"showLink\": true, \"linkText\": \"Export to plot.ly\", \"plotlyServerURL\": \"https://plot.ly\", \"responsive\": true}                    ).then(function(){\n",
       "                            \n",
       "var gd = document.getElementById('4bbb3b1f-6bb4-46a1-bc82-8c6b9c2034ca');\n",
       "var x = new MutationObserver(function (mutations, observer) {{\n",
       "        var display = window.getComputedStyle(gd).display;\n",
       "        if (!display || display === 'none') {{\n",
       "            console.log([gd, 'removed!']);\n",
       "            Plotly.purge(gd);\n",
       "            observer.disconnect();\n",
       "        }}\n",
       "}});\n",
       "\n",
       "// Listen for the removal of the full notebook cells\n",
       "var notebookContainer = gd.closest('#notebook-container');\n",
       "if (notebookContainer) {{\n",
       "    x.observe(notebookContainer, {childList: true});\n",
       "}}\n",
       "\n",
       "// Listen for the clearing of the current output cell\n",
       "var outputEl = gd.closest('.output');\n",
       "if (outputEl) {{\n",
       "    x.observe(outputEl, {childList: true});\n",
       "}}\n",
       "\n",
       "                        })                };                });            </script>        </div>"
      ]
     },
     "metadata": {},
     "output_type": "display_data"
    }
   ],
   "source": [
    "df.scatter_matrix()"
   ]
  }
 ],
 "metadata": {
  "kernelspec": {
   "display_name": "Python 3",
   "language": "python",
   "name": "python3"
  },
  "language_info": {
   "codemirror_mode": {
    "name": "ipython",
    "version": 3
   },
   "file_extension": ".py",
   "mimetype": "text/x-python",
   "name": "python",
   "nbconvert_exporter": "python",
   "pygments_lexer": "ipython3",
   "version": "3.8.3"
  }
 },
 "nbformat": 4,
 "nbformat_minor": 1
}
