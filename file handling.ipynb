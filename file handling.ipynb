{
 "cells": [
  {
   "cell_type": "markdown",
   "metadata": {},
   "source": [
    "## File Handling\n",
    "\n",
    "file = open(filename, mode)"
   ]
  },
  {
   "cell_type": "markdown",
   "metadata": {},
   "source": [
    "**Modes:**\n",
    "\n",
    "* read - read only mode\n",
    "* write - creates a new file or overwrites an existing one\n",
    "* append - adds new content to the end of the file"
   ]
  },
  {
   "cell_type": "code",
   "execution_count": 13,
   "metadata": {},
   "outputs": [],
   "source": [
    "#VacationSpots = [\"London\", \"Paris\", \"New York\", \"Iceland\", \"Los Angeles\"]\n",
    "vacationSpots = [\"Ludhiana\", \"Delhi\", \"Mumbai\", \"Kolkata\", \"Manali\"]\n",
    "\n",
    "#Write mode\n",
    "vacationFile = open(\"Vacation Spots.txt\", \"w\")\n",
    "\n",
    "for spots in vacationSpots:\n",
    "    vacationFile.write(spots + \"\\n\")\n",
    "    \n",
    "vacationFile.close()\n",
    "\n",
    "#Append mode\n",
    "vacationFile = open(\"Vacation Spots.txt\", \"a\")\n",
    "vacationFile.write(\"Jaipur\")\n",
    "vacationFile.close()"
   ]
  },
  {
   "cell_type": "code",
   "execution_count": 17,
   "metadata": {},
   "outputs": [
    {
     "name": "stdout",
     "output_type": "stream",
     "text": [
      "Ludhiana\n",
      "Delhi\n",
      "Mumbai\n",
      "Kolkata\n",
      "Manali\n",
      "Jaipur\n",
      "Pondicherry\n"
     ]
    }
   ],
   "source": [
    "#Read mode\n",
    "vacationFile = open(\"Vacation Spots.txt\", \"r\")\n",
    "\n",
    "contentsOfFile = vacationFile.read()\n",
    "print(contentsOfFile)\n",
    "\n",
    "vacationFile.close()"
   ]
  },
  {
   "cell_type": "code",
   "execution_count": 19,
   "metadata": {},
   "outputs": [
    {
     "name": "stdout",
     "output_type": "stream",
     "text": [
      "1. Ludhiana\n",
      "2. Delhi\n",
      "3. Mumbai\n",
      "4. Kolkata\n",
      "5. Manali\n",
      "6. Jaipur\n",
      "7. Pondicherry"
     ]
    }
   ],
   "source": [
    "vacationFile = open(\"Vacation Spots.txt\", \"r\")\n",
    "\n",
    "i = 1\n",
    "for line in vacationFile:\n",
    "    print(\"{}. {}\".format(i, line), end=\"\")\n",
    "    i += 1\n",
    "\n",
    "vacationFile.close()"
   ]
  },
  {
   "cell_type": "code",
   "execution_count": 20,
   "metadata": {},
   "outputs": [
    {
     "name": "stdout",
     "output_type": "stream",
     "text": [
      "Ludhiana\n",
      "\n",
      "Delhi\n",
      "\n",
      "Mumbai\n",
      "\n",
      "Kolkata\n",
      "\n",
      "Manali\n",
      "\n",
      "Jaipur\n",
      "\n",
      "Pondicherry\n"
     ]
    }
   ],
   "source": [
    "with open(\"Vacation Spots.txt\", \"r\") as vacationFile:\n",
    "    for line in vacationFile:\n",
    "        print(line)"
   ]
  },
  {
   "cell_type": "code",
   "execution_count": 21,
   "metadata": {},
   "outputs": [
    {
     "name": "stdout",
     "output_type": "stream",
     "text": [
      "class Age\n",
      "{\n",
      "\tpublic static void main(String[] args)\n",
      "\t{\n",
      "\t\tint age = 15;\n",
      "\t\tif (age>17)\n",
      "\t\t{\n",
      "\t\t\tSystem.out.println(\"You are eligible to vote\");\n",
      "\t\t}\n",
      "\n",
      "\t\telse if (age == 15)\n",
      "\t\t{\n",
      "\t\t\tSystem.out.println(\"You are almost eligible to vote\");\n",
      "\t\t}\n",
      "\n",
      "\t\telse\n",
      "\t\t{\n",
      "\t\t\tSystem.out.println(\"You are not eligible to vote\");\n",
      "\t\t}\n",
      "\t}\n",
      "}\n"
     ]
    }
   ],
   "source": [
    "javaFile = open(\"/Users/kritixblaze/Desktop/work/java230/Age.java\", \"r\")\n",
    "\n",
    "print(javaFile.read())\n",
    "\n",
    "javaFile.close()"
   ]
  },
  {
   "cell_type": "markdown",
   "metadata": {},
   "source": [
    "* Take filename from the user\n",
    "* Choose: 1. Read 2. Write 3. Append\n",
    "\n",
    "Note 1: Note here\n",
    "\n",
    "Note 2: Note here"
   ]
  }
 ],
 "metadata": {
  "kernelspec": {
   "display_name": "Python 3",
   "language": "python",
   "name": "python3"
  },
  "language_info": {
   "codemirror_mode": {
    "name": "ipython",
    "version": 3
   },
   "file_extension": ".py",
   "mimetype": "text/x-python",
   "name": "python",
   "nbconvert_exporter": "python",
   "pygments_lexer": "ipython3",
   "version": "3.8.2"
  }
 },
 "nbformat": 4,
 "nbformat_minor": 4
}
